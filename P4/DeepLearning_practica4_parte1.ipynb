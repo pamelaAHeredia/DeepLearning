{
  "nbformat": 4,
  "nbformat_minor": 0,
  "metadata": {
    "colab": {
      "provenance": []
    },
    "kernelspec": {
      "name": "python3",
      "display_name": "Python 3"
    },
    "language_info": {
      "name": "python"
    }
  },
  "cells": [
    {
      "cell_type": "markdown",
      "source": [
        "# Práctica 4 - Multiperceptrón\n",
        "\n",
        "##Objetivos\n",
        "El objetivo de esta práctica es comprender el funcionamiento del multiperceptrón.\n",
        "\n",
        "##Temas\n",
        "\n",
        "* Métricas: precision, recall, F1-Score\n",
        "* Multiperceptrón\n",
        "\n",
        "##Lectura\n",
        "Material de Lectura: Capítulos 2 y 3 del libro Neural Networks and Deep Learning."
      ],
      "metadata": {
        "id": "dGKbJPh5Q2VZ"
      }
    },
    {
      "cell_type": "markdown",
      "source": [
        "# Imports"
      ],
      "metadata": {
        "id": "i-1hWvn9SsoB"
      }
    },
    {
      "cell_type": "code",
      "execution_count": 1,
      "metadata": {
        "colab": {
          "base_uri": "https://localhost:8080/"
        },
        "id": "ibIfMsL9K2fj",
        "outputId": "0821017b-285a-4d83-e27e-b2d5675752b5"
      },
      "outputs": [
        {
          "output_type": "stream",
          "name": "stdout",
          "text": [
            "Mounted at /content/drive/\n"
          ]
        }
      ],
      "source": [
        "from google.colab import drive\n",
        "drive.mount('/content/drive/')\n",
        "\n",
        "FUENTES_DIR = '/content/drive/MyDrive/DeepLearning-colab/Fuentes-20240901'\n",
        "DATOS_DIR = '/content/drive/MyDrive/DeepLearning-colab/Datos-20240901'\n",
        "\n",
        "import sys\n",
        "sys.path.append(FUENTES_DIR)"
      ]
    },
    {
      "cell_type": "code",
      "source": [
        "import pandas as pd\n",
        "import numpy as np\n",
        "import matplotlib.pyplot as plt\n",
        "import chardet\n",
        "from sklearn import preprocessing\n",
        "from sklearn.neural_network import MLPClassifier\n",
        "from sklearn.model_selection import train_test_split\n",
        "from sklearn.metrics import ConfusionMatrixDisplay\n"
      ],
      "metadata": {
        "id": "WdOjFdA4UEhu"
      },
      "execution_count": 80,
      "outputs": []
    },
    {
      "cell_type": "markdown",
      "source": [
        "# Parte 1 - Multiperceptrón con SciKit-Learn"
      ],
      "metadata": {
        "id": "scyr6NC0Uetv"
      }
    },
    {
      "cell_type": "markdown",
      "source": [
        "# Ejercicio 1\n",
        "\n",
        "Se entrenó una red neuronal multiperceptrón para resolver un problema de clasificación y al medir su desempeño sobre el conjunto de datos de entrenamiento se obtuvo la siguiente matriz de confusión:\n",
        "\n",
        "|10|0|1|0|1|\n",
        "|--|-|-|-|-|\n",
        "|0|12|0|0|0|\n",
        "|0|0|12|0|0|\n",
        "|2|0|0|38|0|\n",
        "|0|8|0|0|61|\n",
        "\n",
        "<ol type='a'>\n",
        "  <li> <strong>En base a esta información, indique:</strong></li>\n",
        "  <ul type='*'>\n",
        "  <li><strong>Cuántos ejemplos se utilizaron en el entrenamiento.</strong>\n",
        "\n",
        "  <p>Es la cantidad total de ejemplos que contiene la matriz. Contando por columnas:\n",
        "  <br> <strong>Total = </strong>12 + 20 + 13 + 39 + 62 = 146\n",
        "  </p>\n",
        "  </li>\n",
        "  <li><strong>Cuántas clases puede reconocer este multiperceptrón.</strong>\n",
        "  <p> Puede reconocer <strong>5 clases</strong>, que es la cantidad de columnas.</p>\n",
        "  </li>\n",
        "  <li><strong>Cuál es la precisión (accuracy) de la red sobre el conjunto de ejemplos completo.</strong>\n",
        "  <p>El accuracy es la cantidad de ejemplos correctamente clasificados (diagonal) sobre el total de ejemplos:\n",
        "  <br> <strong> Accuracy = </strong> 121/146 = 0.8288 * 100 = 82.88%\n",
        "  </p>\n",
        "  </li>\n",
        "  <li><strong>Cuáles son los valores de precisión de la red al responder por cada uno de los valores de clase.</strong>\n",
        "\n",
        "  <p> La precisión es la cantidad de predicciones correctas (elementos sobre la diagonal) sobre cantidad de incorrectas (fuera de la diagonal) por cada clase. Entonces: </p>\n",
        "  <br><strong>Precisión c1 = </strong> 10/12 = 0.83\n",
        "  <br><strong>Precisión c2 = </strong> 12/20 = 0.6\n",
        "  <br><strong>Precisión c3 = </strong> 12/3 = 0.33\n",
        "  <br><strong>Precisión c4 = </strong> 38/38 = 1\n",
        "  <br><strong>Precisión c5 = </strong> 61/62 = 0.98\n",
        "  <br>\n",
        "  </li>\n",
        "  <li><strong>Cuáles son los valores de sensibilidad de la red al responder por cada uno de los valores de clase (recall).</strong>\n",
        "  <p>Son los ejemplos de una clase correctamente clasificados:\n",
        "  <br><strong>Clase 1 = </strong> 10/12 = 0.83\n",
        "  <br><strong>Clase 2 = </strong> 12/12 = 1\n",
        "  <br><strong>Clase 3 = </strong> 12/12 = 1\n",
        "  <br><strong>Clase 4 = </strong> 30/40 = 0.75\n",
        "  <br><strong>Clase 5 = </strong> 61/69 = 0.88\n",
        "  </p>\n",
        "  </li>\n",
        "  </ul>\n",
        "  <li>Identifique la clase con el mejor valor de F1-score</li>\n",
        "  <p><strong>F1 score:</strong> resume la precisión y sensibilidad en una sola métrica. Por ello es de gran utilidad cuando la distribución de las clases es desigual, por ejemplo cuando el número de elementos de una clase del 15% y el otro es 85%.\n",
        "  \n",
        "  Se calcula como: F1 = (2* precisión * sensibilidad)/ (precisión + sensibilidad)\n",
        "\n",
        "  <br><strong>Clase 1 = </strong> (2*0.83*0.83)/(0.83+0.83) = 0.83\n",
        "  <br><strong>Clase 2 = </strong> (2*0.6*1)/(0.6+1) = 0.75\n",
        "  <br><strong>Clase 3 = </strong> (2*0.33*1)/(0.33+1) = 0.49\n",
        "  <br><strong>Clase 4 = </strong> (2*1*0.75)/(0.75+1) = 0.85\n",
        "  <br><strong>Clase 5 = </strong> (2*0.6*1)/(0.6+1) = 0.75\n",
        "  \n",
        "  La clase 4 tiene el mejor valor de F1\n",
        "  </p>\n",
        "  \n",
        "</ol>"
      ],
      "metadata": {
        "id": "YcBYfzIIUnU7"
      }
    },
    {
      "cell_type": "markdown",
      "source": [
        "# Ejercicio 2\n",
        "\n",
        "Se desea utilizar una red multiperceptrón para reconocer muestras de tres variedades diferentes de trigo: Kama, Rosa y Canadiense. Para entrenarla se utilizará una parte de los ejemplos del archivo **SEMILLAS.CSV.**\n",
        "\n",
        "Fuente de datos: Seeds Data Set - https://archive.ics.uci.edu/ml/datasets/seeds\n",
        "\n",
        "<ol type='a'>\n",
        "<li>Con respecto a la arquitectura, indique:\n",
        "<ul>\n",
        "<li>La cantidad de neuronas de la capa de entrada.\n",
        "<br> <strong>Respuesta:</strong>Es la cantidad de atributos a ingresar a la red: 7\n",
        "</li>\n",
        "<li>La cantidad de neuronas de la capa de salida.\n",
        "<br><strong>Respuesta:</strong> Es la cantidad de valores diferentes que tiene la variable target: 3\n",
        "</li>\n",
        "<li>La cantidad de pesos (arcos) que tiene la red si se utiliza una única capa oculta formada por 4 neuronas.\n",
        "<br><strong>Respuesta:</strong> Serían 4 neuronas de la capa oculta, cada una conectada a cada neurona de la capa de entrada y a la capa de salida:\n",
        "<br>7 atributos * 4 neuronas de la capa oculta + 4 neuronas de la capa oculta * 3 neuronas de la capa de salida\n",
        "<br>= 7*4+4*3\n",
        "<br>= 28+12\n",
        "<br>= 40 arcos\n",
        "</ul>\n",
        "</li>\n",
        "<li>La arquitectura del multiperceptrón utilizado para predecir los 3 tipos de semillas está formada por 3 capas: la capa de entrada, una única capa oculta de 4 neuronas y la capa de salida. Las funciones de activación para las capas oculta y de salida son “tanh” y “sigmoid” respectivamente. Indique cuáles de los siguientes factores inciden en la dirección de cambio (signo de la modificación) de los pesos de la red:\n",
        "<ul>\n",
        "<li>El error cometido en la predicción.</li>\n",
        "<li>El valor de la derivada de la función de activación.</li>\n",
        "<li>Los valores anteriores de los pesos de la red.</li>\n",
        "</ul>\n",
        "</li>\n",
        "<li>Luego de ingresar una muestra de semilla a la red se obtiene como salida (0.78, 0, 0). Utilizando la arquitectura descripta en b), indique cuántos pesos de la red serán modificados sabiendo que la respuesta esperada es (1, 0, 0).</li>\n",
        "</ol>\n"
      ],
      "metadata": {
        "id": "GcW8HWo5WbIB"
      }
    },
    {
      "cell_type": "code",
      "source": [
        "semillas = pd.read_csv('/content/drive/MyDrive/DeepLearning-colab/Datos-20240901/Semillas.csv')"
      ],
      "metadata": {
        "id": "KSHfeRB22qSD"
      },
      "execution_count": null,
      "outputs": []
    },
    {
      "cell_type": "code",
      "source": [
        "semillas.head()"
      ],
      "metadata": {
        "colab": {
          "base_uri": "https://localhost:8080/",
          "height": 206
        },
        "id": "hZ2NnUoX3T29",
        "outputId": "481c66a9-9aa8-4e4f-ade8-b8b14fe672fb"
      },
      "execution_count": null,
      "outputs": [
        {
          "output_type": "execute_result",
          "data": {
            "text/plain": [
              "    Area  Perimetro  Compacidad  LongNucleo  AnchoNucleo  Asimetria  \\\n",
              "0  15.26      14.84      0.8710       5.763        3.312      2.221   \n",
              "1  14.88      14.57      0.8811       5.554        3.333      1.018   \n",
              "2  14.29      14.09      0.9050       5.291        3.337      2.699   \n",
              "3  13.84      13.94      0.8955       5.324        3.379      2.259   \n",
              "4  16.14      14.99      0.9034       5.658        3.562      1.355   \n",
              "\n",
              "   LongSurco  Clase  \n",
              "0      5.220  Tipo1  \n",
              "1      4.956  Tipo1  \n",
              "2      4.825  Tipo1  \n",
              "3      4.805  Tipo1  \n",
              "4      5.175  Tipo1  "
            ],
            "text/html": [
              "\n",
              "  <div id=\"df-273061f2-6fd7-4d20-812b-8b2ca6192ea8\" class=\"colab-df-container\">\n",
              "    <div>\n",
              "<style scoped>\n",
              "    .dataframe tbody tr th:only-of-type {\n",
              "        vertical-align: middle;\n",
              "    }\n",
              "\n",
              "    .dataframe tbody tr th {\n",
              "        vertical-align: top;\n",
              "    }\n",
              "\n",
              "    .dataframe thead th {\n",
              "        text-align: right;\n",
              "    }\n",
              "</style>\n",
              "<table border=\"1\" class=\"dataframe\">\n",
              "  <thead>\n",
              "    <tr style=\"text-align: right;\">\n",
              "      <th></th>\n",
              "      <th>Area</th>\n",
              "      <th>Perimetro</th>\n",
              "      <th>Compacidad</th>\n",
              "      <th>LongNucleo</th>\n",
              "      <th>AnchoNucleo</th>\n",
              "      <th>Asimetria</th>\n",
              "      <th>LongSurco</th>\n",
              "      <th>Clase</th>\n",
              "    </tr>\n",
              "  </thead>\n",
              "  <tbody>\n",
              "    <tr>\n",
              "      <th>0</th>\n",
              "      <td>15.26</td>\n",
              "      <td>14.84</td>\n",
              "      <td>0.8710</td>\n",
              "      <td>5.763</td>\n",
              "      <td>3.312</td>\n",
              "      <td>2.221</td>\n",
              "      <td>5.220</td>\n",
              "      <td>Tipo1</td>\n",
              "    </tr>\n",
              "    <tr>\n",
              "      <th>1</th>\n",
              "      <td>14.88</td>\n",
              "      <td>14.57</td>\n",
              "      <td>0.8811</td>\n",
              "      <td>5.554</td>\n",
              "      <td>3.333</td>\n",
              "      <td>1.018</td>\n",
              "      <td>4.956</td>\n",
              "      <td>Tipo1</td>\n",
              "    </tr>\n",
              "    <tr>\n",
              "      <th>2</th>\n",
              "      <td>14.29</td>\n",
              "      <td>14.09</td>\n",
              "      <td>0.9050</td>\n",
              "      <td>5.291</td>\n",
              "      <td>3.337</td>\n",
              "      <td>2.699</td>\n",
              "      <td>4.825</td>\n",
              "      <td>Tipo1</td>\n",
              "    </tr>\n",
              "    <tr>\n",
              "      <th>3</th>\n",
              "      <td>13.84</td>\n",
              "      <td>13.94</td>\n",
              "      <td>0.8955</td>\n",
              "      <td>5.324</td>\n",
              "      <td>3.379</td>\n",
              "      <td>2.259</td>\n",
              "      <td>4.805</td>\n",
              "      <td>Tipo1</td>\n",
              "    </tr>\n",
              "    <tr>\n",
              "      <th>4</th>\n",
              "      <td>16.14</td>\n",
              "      <td>14.99</td>\n",
              "      <td>0.9034</td>\n",
              "      <td>5.658</td>\n",
              "      <td>3.562</td>\n",
              "      <td>1.355</td>\n",
              "      <td>5.175</td>\n",
              "      <td>Tipo1</td>\n",
              "    </tr>\n",
              "  </tbody>\n",
              "</table>\n",
              "</div>\n",
              "    <div class=\"colab-df-buttons\">\n",
              "\n",
              "  <div class=\"colab-df-container\">\n",
              "    <button class=\"colab-df-convert\" onclick=\"convertToInteractive('df-273061f2-6fd7-4d20-812b-8b2ca6192ea8')\"\n",
              "            title=\"Convert this dataframe to an interactive table.\"\n",
              "            style=\"display:none;\">\n",
              "\n",
              "  <svg xmlns=\"http://www.w3.org/2000/svg\" height=\"24px\" viewBox=\"0 -960 960 960\">\n",
              "    <path d=\"M120-120v-720h720v720H120Zm60-500h600v-160H180v160Zm220 220h160v-160H400v160Zm0 220h160v-160H400v160ZM180-400h160v-160H180v160Zm440 0h160v-160H620v160ZM180-180h160v-160H180v160Zm440 0h160v-160H620v160Z\"/>\n",
              "  </svg>\n",
              "    </button>\n",
              "\n",
              "  <style>\n",
              "    .colab-df-container {\n",
              "      display:flex;\n",
              "      gap: 12px;\n",
              "    }\n",
              "\n",
              "    .colab-df-convert {\n",
              "      background-color: #E8F0FE;\n",
              "      border: none;\n",
              "      border-radius: 50%;\n",
              "      cursor: pointer;\n",
              "      display: none;\n",
              "      fill: #1967D2;\n",
              "      height: 32px;\n",
              "      padding: 0 0 0 0;\n",
              "      width: 32px;\n",
              "    }\n",
              "\n",
              "    .colab-df-convert:hover {\n",
              "      background-color: #E2EBFA;\n",
              "      box-shadow: 0px 1px 2px rgba(60, 64, 67, 0.3), 0px 1px 3px 1px rgba(60, 64, 67, 0.15);\n",
              "      fill: #174EA6;\n",
              "    }\n",
              "\n",
              "    .colab-df-buttons div {\n",
              "      margin-bottom: 4px;\n",
              "    }\n",
              "\n",
              "    [theme=dark] .colab-df-convert {\n",
              "      background-color: #3B4455;\n",
              "      fill: #D2E3FC;\n",
              "    }\n",
              "\n",
              "    [theme=dark] .colab-df-convert:hover {\n",
              "      background-color: #434B5C;\n",
              "      box-shadow: 0px 1px 3px 1px rgba(0, 0, 0, 0.15);\n",
              "      filter: drop-shadow(0px 1px 2px rgba(0, 0, 0, 0.3));\n",
              "      fill: #FFFFFF;\n",
              "    }\n",
              "  </style>\n",
              "\n",
              "    <script>\n",
              "      const buttonEl =\n",
              "        document.querySelector('#df-273061f2-6fd7-4d20-812b-8b2ca6192ea8 button.colab-df-convert');\n",
              "      buttonEl.style.display =\n",
              "        google.colab.kernel.accessAllowed ? 'block' : 'none';\n",
              "\n",
              "      async function convertToInteractive(key) {\n",
              "        const element = document.querySelector('#df-273061f2-6fd7-4d20-812b-8b2ca6192ea8');\n",
              "        const dataTable =\n",
              "          await google.colab.kernel.invokeFunction('convertToInteractive',\n",
              "                                                    [key], {});\n",
              "        if (!dataTable) return;\n",
              "\n",
              "        const docLinkHtml = 'Like what you see? Visit the ' +\n",
              "          '<a target=\"_blank\" href=https://colab.research.google.com/notebooks/data_table.ipynb>data table notebook</a>'\n",
              "          + ' to learn more about interactive tables.';\n",
              "        element.innerHTML = '';\n",
              "        dataTable['output_type'] = 'display_data';\n",
              "        await google.colab.output.renderOutput(dataTable, element);\n",
              "        const docLink = document.createElement('div');\n",
              "        docLink.innerHTML = docLinkHtml;\n",
              "        element.appendChild(docLink);\n",
              "      }\n",
              "    </script>\n",
              "  </div>\n",
              "\n",
              "\n",
              "<div id=\"df-fa4e3ac6-50b2-44fd-b126-7ec754ea9c22\">\n",
              "  <button class=\"colab-df-quickchart\" onclick=\"quickchart('df-fa4e3ac6-50b2-44fd-b126-7ec754ea9c22')\"\n",
              "            title=\"Suggest charts\"\n",
              "            style=\"display:none;\">\n",
              "\n",
              "<svg xmlns=\"http://www.w3.org/2000/svg\" height=\"24px\"viewBox=\"0 0 24 24\"\n",
              "     width=\"24px\">\n",
              "    <g>\n",
              "        <path d=\"M19 3H5c-1.1 0-2 .9-2 2v14c0 1.1.9 2 2 2h14c1.1 0 2-.9 2-2V5c0-1.1-.9-2-2-2zM9 17H7v-7h2v7zm4 0h-2V7h2v10zm4 0h-2v-4h2v4z\"/>\n",
              "    </g>\n",
              "</svg>\n",
              "  </button>\n",
              "\n",
              "<style>\n",
              "  .colab-df-quickchart {\n",
              "      --bg-color: #E8F0FE;\n",
              "      --fill-color: #1967D2;\n",
              "      --hover-bg-color: #E2EBFA;\n",
              "      --hover-fill-color: #174EA6;\n",
              "      --disabled-fill-color: #AAA;\n",
              "      --disabled-bg-color: #DDD;\n",
              "  }\n",
              "\n",
              "  [theme=dark] .colab-df-quickchart {\n",
              "      --bg-color: #3B4455;\n",
              "      --fill-color: #D2E3FC;\n",
              "      --hover-bg-color: #434B5C;\n",
              "      --hover-fill-color: #FFFFFF;\n",
              "      --disabled-bg-color: #3B4455;\n",
              "      --disabled-fill-color: #666;\n",
              "  }\n",
              "\n",
              "  .colab-df-quickchart {\n",
              "    background-color: var(--bg-color);\n",
              "    border: none;\n",
              "    border-radius: 50%;\n",
              "    cursor: pointer;\n",
              "    display: none;\n",
              "    fill: var(--fill-color);\n",
              "    height: 32px;\n",
              "    padding: 0;\n",
              "    width: 32px;\n",
              "  }\n",
              "\n",
              "  .colab-df-quickchart:hover {\n",
              "    background-color: var(--hover-bg-color);\n",
              "    box-shadow: 0 1px 2px rgba(60, 64, 67, 0.3), 0 1px 3px 1px rgba(60, 64, 67, 0.15);\n",
              "    fill: var(--button-hover-fill-color);\n",
              "  }\n",
              "\n",
              "  .colab-df-quickchart-complete:disabled,\n",
              "  .colab-df-quickchart-complete:disabled:hover {\n",
              "    background-color: var(--disabled-bg-color);\n",
              "    fill: var(--disabled-fill-color);\n",
              "    box-shadow: none;\n",
              "  }\n",
              "\n",
              "  .colab-df-spinner {\n",
              "    border: 2px solid var(--fill-color);\n",
              "    border-color: transparent;\n",
              "    border-bottom-color: var(--fill-color);\n",
              "    animation:\n",
              "      spin 1s steps(1) infinite;\n",
              "  }\n",
              "\n",
              "  @keyframes spin {\n",
              "    0% {\n",
              "      border-color: transparent;\n",
              "      border-bottom-color: var(--fill-color);\n",
              "      border-left-color: var(--fill-color);\n",
              "    }\n",
              "    20% {\n",
              "      border-color: transparent;\n",
              "      border-left-color: var(--fill-color);\n",
              "      border-top-color: var(--fill-color);\n",
              "    }\n",
              "    30% {\n",
              "      border-color: transparent;\n",
              "      border-left-color: var(--fill-color);\n",
              "      border-top-color: var(--fill-color);\n",
              "      border-right-color: var(--fill-color);\n",
              "    }\n",
              "    40% {\n",
              "      border-color: transparent;\n",
              "      border-right-color: var(--fill-color);\n",
              "      border-top-color: var(--fill-color);\n",
              "    }\n",
              "    60% {\n",
              "      border-color: transparent;\n",
              "      border-right-color: var(--fill-color);\n",
              "    }\n",
              "    80% {\n",
              "      border-color: transparent;\n",
              "      border-right-color: var(--fill-color);\n",
              "      border-bottom-color: var(--fill-color);\n",
              "    }\n",
              "    90% {\n",
              "      border-color: transparent;\n",
              "      border-bottom-color: var(--fill-color);\n",
              "    }\n",
              "  }\n",
              "</style>\n",
              "\n",
              "  <script>\n",
              "    async function quickchart(key) {\n",
              "      const quickchartButtonEl =\n",
              "        document.querySelector('#' + key + ' button');\n",
              "      quickchartButtonEl.disabled = true;  // To prevent multiple clicks.\n",
              "      quickchartButtonEl.classList.add('colab-df-spinner');\n",
              "      try {\n",
              "        const charts = await google.colab.kernel.invokeFunction(\n",
              "            'suggestCharts', [key], {});\n",
              "      } catch (error) {\n",
              "        console.error('Error during call to suggestCharts:', error);\n",
              "      }\n",
              "      quickchartButtonEl.classList.remove('colab-df-spinner');\n",
              "      quickchartButtonEl.classList.add('colab-df-quickchart-complete');\n",
              "    }\n",
              "    (() => {\n",
              "      let quickchartButtonEl =\n",
              "        document.querySelector('#df-fa4e3ac6-50b2-44fd-b126-7ec754ea9c22 button');\n",
              "      quickchartButtonEl.style.display =\n",
              "        google.colab.kernel.accessAllowed ? 'block' : 'none';\n",
              "    })();\n",
              "  </script>\n",
              "</div>\n",
              "\n",
              "    </div>\n",
              "  </div>\n"
            ],
            "application/vnd.google.colaboratory.intrinsic+json": {
              "type": "dataframe",
              "variable_name": "semillas",
              "summary": "{\n  \"name\": \"semillas\",\n  \"rows\": 210,\n  \"fields\": [\n    {\n      \"column\": \"Area\",\n      \"properties\": {\n        \"dtype\": \"number\",\n        \"std\": 2.909699430687361,\n        \"min\": 10.59,\n        \"max\": 21.18,\n        \"num_unique_values\": 193,\n        \"samples\": [\n          14.86,\n          12.49,\n          16.53\n        ],\n        \"semantic_type\": \"\",\n        \"description\": \"\"\n      }\n    },\n    {\n      \"column\": \"Perimetro\",\n      \"properties\": {\n        \"dtype\": \"number\",\n        \"std\": 1.305958726564022,\n        \"min\": 12.41,\n        \"max\": 17.25,\n        \"num_unique_values\": 170,\n        \"samples\": [\n          13.45,\n          14.41,\n          13.92\n        ],\n        \"semantic_type\": \"\",\n        \"description\": \"\"\n      }\n    },\n    {\n      \"column\": \"Compacidad\",\n      \"properties\": {\n        \"dtype\": \"number\",\n        \"std\": 0.023629416583846496,\n        \"min\": 0.8081,\n        \"max\": 0.9183,\n        \"num_unique_values\": 186,\n        \"samples\": [\n          0.9064,\n          0.856,\n          0.8372\n        ],\n        \"semantic_type\": \"\",\n        \"description\": \"\"\n      }\n    },\n    {\n      \"column\": \"LongNucleo\",\n      \"properties\": {\n        \"dtype\": \"number\",\n        \"std\": 0.4430634777264493,\n        \"min\": 4.899,\n        \"max\": 6.675,\n        \"num_unique_values\": 188,\n        \"samples\": [\n          5.183,\n          5.186,\n          5.205\n        ],\n        \"semantic_type\": \"\",\n        \"description\": \"\"\n      }\n    },\n    {\n      \"column\": \"AnchoNucleo\",\n      \"properties\": {\n        \"dtype\": \"number\",\n        \"std\": 0.37771444490658734,\n        \"min\": 2.63,\n        \"max\": 4.033,\n        \"num_unique_values\": 184,\n        \"samples\": [\n          3.168,\n          3.393,\n          2.641\n        ],\n        \"semantic_type\": \"\",\n        \"description\": \"\"\n      }\n    },\n    {\n      \"column\": \"Asimetria\",\n      \"properties\": {\n        \"dtype\": \"number\",\n        \"std\": 1.5035571308217794,\n        \"min\": 0.7651,\n        \"max\": 8.456,\n        \"num_unique_values\": 207,\n        \"samples\": [\n          6.388,\n          4.185,\n          4.92\n        ],\n        \"semantic_type\": \"\",\n        \"description\": \"\"\n      }\n    },\n    {\n      \"column\": \"LongSurco\",\n      \"properties\": {\n        \"dtype\": \"number\",\n        \"std\": 0.4914804991024052,\n        \"min\": 4.519,\n        \"max\": 6.55,\n        \"num_unique_values\": 148,\n        \"samples\": [\n          5.308,\n          4.703,\n          4.957\n        ],\n        \"semantic_type\": \"\",\n        \"description\": \"\"\n      }\n    },\n    {\n      \"column\": \"Clase\",\n      \"properties\": {\n        \"dtype\": \"category\",\n        \"num_unique_values\": 3,\n        \"samples\": [\n          \"Tipo1\",\n          \"Tipo2\",\n          \"Tipo3\"\n        ],\n        \"semantic_type\": \"\",\n        \"description\": \"\"\n      }\n    }\n  ]\n}"
            }
          },
          "metadata": {},
          "execution_count": 4
        }
      ]
    },
    {
      "cell_type": "code",
      "source": [
        "target = 'Clase'\n",
        "atributos = semillas.drop(columns=target).columns\n",
        "print(f'Cantidad de atributos a ingresar a la red: {len(atributos)}')"
      ],
      "metadata": {
        "colab": {
          "base_uri": "https://localhost:8080/"
        },
        "id": "SupXXio43cTH",
        "outputId": "26a276df-9d03-4de3-9781-25871c326a14"
      },
      "execution_count": null,
      "outputs": [
        {
          "output_type": "stream",
          "name": "stdout",
          "text": [
            "Cantidad de atributos a ingresar a la red: 7\n"
          ]
        }
      ]
    },
    {
      "cell_type": "code",
      "source": [
        "clases = semillas[target].unique()\n",
        "print(f'Cantidad de neuronas de salida: {len(clases)}')"
      ],
      "metadata": {
        "colab": {
          "base_uri": "https://localhost:8080/"
        },
        "id": "OWkoowTx45xr",
        "outputId": "26c16167-c6ed-4463-ac87-68af2cca90f1"
      },
      "execution_count": null,
      "outputs": [
        {
          "output_type": "stream",
          "name": "stdout",
          "text": [
            "Cantidad de neuronas de salida: 3\n"
          ]
        }
      ]
    },
    {
      "cell_type": "markdown",
      "source": [
        "# Ejercicio 3\n",
        "\n",
        "El archivo Vinos.csv tiene información referida a 13 características químicas y/o visuales de varias muestras de vinos pertenecientes a 3 clases distintas.\n",
        "Utilice el 80% de los ejemplos del archivo Vinos.csv para entrenar un multiperceptrón que sea capaz que distinguir entre las 3 clases de vinos.\n",
        "\n",
        "Observe la tasa de acierto obtenida sobre el 20% restante.\n",
        "\n",
        "Fuente de datos: Wine Data Set - https://archive.ics.uci.edu/ml/datasets/wine"
      ],
      "metadata": {
        "id": "RkWLilh5LPhl"
      }
    },
    {
      "cell_type": "code",
      "source": [
        "vinos = pd.read_csv('/content/drive/MyDrive/DeepLearning-colab/Datos-20240901/Vinos.csv', delimiter= ';')"
      ],
      "metadata": {
        "id": "7ZfDZfm3LZVC"
      },
      "execution_count": 5,
      "outputs": []
    },
    {
      "cell_type": "code",
      "source": [
        "vinos.info()"
      ],
      "metadata": {
        "colab": {
          "base_uri": "https://localhost:8080/"
        },
        "id": "uuDoNGRyKG_i",
        "outputId": "8eba4a6d-c8f2-4403-b03c-c44d13d7a125"
      },
      "execution_count": 6,
      "outputs": [
        {
          "output_type": "stream",
          "name": "stdout",
          "text": [
            "<class 'pandas.core.frame.DataFrame'>\n",
            "RangeIndex: 178 entries, 0 to 177\n",
            "Data columns (total 14 columns):\n",
            " #   Column                Non-Null Count  Dtype  \n",
            "---  ------                --------------  -----  \n",
            " 0   Class                 178 non-null    int64  \n",
            " 1   Alcohol               178 non-null    float64\n",
            " 2   Malic acid            178 non-null    float64\n",
            " 3   Ash                   178 non-null    float64\n",
            " 4   Alcalinity of ash     178 non-null    float64\n",
            " 5   Magnesium             178 non-null    int64  \n",
            " 6   Total phenols         178 non-null    float64\n",
            " 7   Flavanoids            178 non-null    float64\n",
            " 8   Nonflavanoid phenols  178 non-null    float64\n",
            " 9   Proanthocyanins       178 non-null    float64\n",
            " 10  Color intensity       178 non-null    float64\n",
            " 11  Hue                   178 non-null    float64\n",
            " 12  OD280/OD315           178 non-null    float64\n",
            " 13  Proline               178 non-null    int64  \n",
            "dtypes: float64(11), int64(3)\n",
            "memory usage: 19.6 KB\n"
          ]
        }
      ]
    },
    {
      "cell_type": "code",
      "source": [
        "vinos.isnull().sum()"
      ],
      "metadata": {
        "colab": {
          "base_uri": "https://localhost:8080/",
          "height": 523
        },
        "id": "Zb1R1CmfLBQ6",
        "outputId": "3f845997-b899-4682-90c6-8762453d7b94"
      },
      "execution_count": 7,
      "outputs": [
        {
          "output_type": "execute_result",
          "data": {
            "text/plain": [
              "Class                   0\n",
              "Alcohol                 0\n",
              "Malic acid              0\n",
              "Ash                     0\n",
              "Alcalinity of ash       0\n",
              "Magnesium               0\n",
              "Total phenols           0\n",
              "Flavanoids              0\n",
              "Nonflavanoid phenols    0\n",
              "Proanthocyanins         0\n",
              "Color intensity         0\n",
              "Hue                     0\n",
              "OD280/OD315             0\n",
              "Proline                 0\n",
              "dtype: int64"
            ],
            "text/html": [
              "<div>\n",
              "<style scoped>\n",
              "    .dataframe tbody tr th:only-of-type {\n",
              "        vertical-align: middle;\n",
              "    }\n",
              "\n",
              "    .dataframe tbody tr th {\n",
              "        vertical-align: top;\n",
              "    }\n",
              "\n",
              "    .dataframe thead th {\n",
              "        text-align: right;\n",
              "    }\n",
              "</style>\n",
              "<table border=\"1\" class=\"dataframe\">\n",
              "  <thead>\n",
              "    <tr style=\"text-align: right;\">\n",
              "      <th></th>\n",
              "      <th>0</th>\n",
              "    </tr>\n",
              "  </thead>\n",
              "  <tbody>\n",
              "    <tr>\n",
              "      <th>Class</th>\n",
              "      <td>0</td>\n",
              "    </tr>\n",
              "    <tr>\n",
              "      <th>Alcohol</th>\n",
              "      <td>0</td>\n",
              "    </tr>\n",
              "    <tr>\n",
              "      <th>Malic acid</th>\n",
              "      <td>0</td>\n",
              "    </tr>\n",
              "    <tr>\n",
              "      <th>Ash</th>\n",
              "      <td>0</td>\n",
              "    </tr>\n",
              "    <tr>\n",
              "      <th>Alcalinity of ash</th>\n",
              "      <td>0</td>\n",
              "    </tr>\n",
              "    <tr>\n",
              "      <th>Magnesium</th>\n",
              "      <td>0</td>\n",
              "    </tr>\n",
              "    <tr>\n",
              "      <th>Total phenols</th>\n",
              "      <td>0</td>\n",
              "    </tr>\n",
              "    <tr>\n",
              "      <th>Flavanoids</th>\n",
              "      <td>0</td>\n",
              "    </tr>\n",
              "    <tr>\n",
              "      <th>Nonflavanoid phenols</th>\n",
              "      <td>0</td>\n",
              "    </tr>\n",
              "    <tr>\n",
              "      <th>Proanthocyanins</th>\n",
              "      <td>0</td>\n",
              "    </tr>\n",
              "    <tr>\n",
              "      <th>Color intensity</th>\n",
              "      <td>0</td>\n",
              "    </tr>\n",
              "    <tr>\n",
              "      <th>Hue</th>\n",
              "      <td>0</td>\n",
              "    </tr>\n",
              "    <tr>\n",
              "      <th>OD280/OD315</th>\n",
              "      <td>0</td>\n",
              "    </tr>\n",
              "    <tr>\n",
              "      <th>Proline</th>\n",
              "      <td>0</td>\n",
              "    </tr>\n",
              "  </tbody>\n",
              "</table>\n",
              "</div><br><label><b>dtype:</b> int64</label>"
            ]
          },
          "metadata": {},
          "execution_count": 7
        }
      ]
    },
    {
      "cell_type": "code",
      "source": [
        "# separar los datos\n",
        "\n",
        "target = 'Class'\n",
        "X = vinos.drop(columns=target)\n",
        "y = vinos[target]\n",
        "\n",
        "X_train, X_test, y_train, y_test = train_test_split(X, y, test_size = 0.2, random_state=0)"
      ],
      "metadata": {
        "id": "9zfm5hC8LxNn"
      },
      "execution_count": 10,
      "outputs": []
    },
    {
      "cell_type": "code",
      "source": [
        "print(f'Cantidad de atributos de entrada: {len(X.columns)}')\n",
        "print(f'Cantidad de clases de vinos: {len(y.unique())}')"
      ],
      "metadata": {
        "colab": {
          "base_uri": "https://localhost:8080/"
        },
        "id": "wAE9PzksUeHS",
        "outputId": "0b6d0b36-a427-425b-d3f8-4c400e42a3fc"
      },
      "execution_count": 21,
      "outputs": [
        {
          "output_type": "stream",
          "name": "stdout",
          "text": [
            "Cantidad de atributos de entrada: 13\n",
            "Cantidad de clases de vinos: 3\n"
          ]
        }
      ]
    },
    {
      "cell_type": "code",
      "source": [
        "# normalizar\n",
        "\n",
        "normalizador = preprocessing.StandardScaler()\n",
        "X_train = normalizador.fit_transform(X_train)\n",
        "X_test = normalizador.transform(X_test)"
      ],
      "metadata": {
        "id": "E0XZZzROPyoI"
      },
      "execution_count": 11,
      "outputs": []
    },
    {
      "cell_type": "code",
      "source": [
        "# Hiperparáms y modelo\n",
        "\n",
        "solver = 'sgd'\n",
        "alpha = 0.03\n",
        "max_iter = 500\n",
        "cota_error = 1e-07\n",
        "activation_fun = 'tanh'\n",
        "\n",
        "classifier = MLPClassifier(solver = solver,\n",
        "                           learning_rate_init = alpha,\n",
        "                           hidden_layer_sizes=(4),\n",
        "                           max_iter= max_iter,\n",
        "                           tol= cota_error,\n",
        "                           activation = activation_fun)\n",
        "\n",
        "classifier.fit(X_train, y_train)\n",
        "\n",
        "print(f'Score del modelo sobre los datos de entrenamiento: {classifier.score(X_train, y_train)}')\n",
        "print(f'Score del modelo sobre los datos de test: {classifier.score(X_test, y_test)}')"
      ],
      "metadata": {
        "colab": {
          "base_uri": "https://localhost:8080/"
        },
        "id": "W0GW_GVGQETJ",
        "outputId": "4d68cc53-3c8a-49bc-f8d4-af7ac52a785a"
      },
      "execution_count": 35,
      "outputs": [
        {
          "output_type": "stream",
          "name": "stdout",
          "text": [
            "Score del modelo sobre los datos de entrenamiento: 0.9859154929577465\n",
            "Score del modelo sobre los datos de test: 0.9722222222222222\n"
          ]
        },
        {
          "output_type": "stream",
          "name": "stderr",
          "text": [
            "/usr/local/lib/python3.10/dist-packages/sklearn/neural_network/_multilayer_perceptron.py:690: ConvergenceWarning: Stochastic Optimizer: Maximum iterations (500) reached and the optimization hasn't converged yet.\n",
            "  warnings.warn(\n"
          ]
        }
      ]
    },
    {
      "cell_type": "markdown",
      "source": [
        "* El score del modelo es de 97.2%, pero a las 500 iteraciones con un alfa de 0.03 aún no alcanzó la convergencia.\n",
        "* Con 5000 iteraciones aún no alcanzó la convergencia, aunque su score es del 100% sobre los datos de entrenamiento."
      ],
      "metadata": {
        "id": "nNfboGJ1RZBB"
      }
    },
    {
      "cell_type": "code",
      "source": [
        "print(f'Test: {classifier.predict(X_test)} \\nTags: {y_test.values.reshape(1,-1)}')"
      ],
      "metadata": {
        "colab": {
          "base_uri": "https://localhost:8080/"
        },
        "id": "2HIzMSUvVEVO",
        "outputId": "0673b6b2-7259-45c9-fc9f-170893cd227f"
      },
      "execution_count": 27,
      "outputs": [
        {
          "output_type": "stream",
          "name": "stdout",
          "text": [
            "Test: [1 3 2 1 2 2 1 3 2 2 2 3 1 2 3 2 1 1 2 1 2 1 1 2 2 2 2 2 2 3 1 1 3 1 1 1] \n",
            "Tags: [[1 3 2 1 2 2 1 3 2 2 3 3 1 2 3 2 1 1 2 1 2 1 1 2 2 2 2 2 2 3 1 1 3 1 1 1]]\n"
          ]
        }
      ]
    },
    {
      "cell_type": "code",
      "source": [
        "titles_options = [\n",
        "    (\"Confusion matrix, without normalization\", None)\n",
        "]\n",
        "class_names = y.unique()\n",
        "\n",
        "for title, normalize in titles_options:\n",
        "    disp = ConfusionMatrixDisplay.from_estimator(\n",
        "        classifier,\n",
        "        X_test,\n",
        "        y_test,\n",
        "        display_labels=class_names,\n",
        "        cmap=plt.cm.Blues,\n",
        "        normalize=normalize,\n",
        "    )\n",
        "    disp.ax_.set_title(title)\n",
        "\n",
        "    print(title)\n",
        "    print(disp.confusion_matrix)\n",
        "\n",
        "plt.show()"
      ],
      "metadata": {
        "colab": {
          "base_uri": "https://localhost:8080/",
          "height": 541
        },
        "id": "UUvOHH6fXY1S",
        "outputId": "1f78d1ef-9f7a-4f5f-9c16-a716dc2b5c41"
      },
      "execution_count": 32,
      "outputs": [
        {
          "output_type": "stream",
          "name": "stdout",
          "text": [
            "Confusion matrix, without normalization\n",
            "[[14  0  0]\n",
            " [ 0 15  0]\n",
            " [ 0  1  6]]\n"
          ]
        },
        {
          "output_type": "display_data",
          "data": {
            "text/plain": [
              "<Figure size 640x480 with 2 Axes>"
            ],
            "image/png": "[encoded data removed]"
          },
          "metadata": {}
        }
      ]
    },
    {
      "cell_type": "markdown",
      "source": [
        "# Ejercicio 4\n",
        "\n",
        "El archivo Balance.csv tiene información sobre un experimento psicológico realizado para evaluar el aprendizaje en los niños. Cada fila de la tabla tiene las características de una balanza, referidas a la longitud de los brazos izquierdo y derecho de la balanza y al peso que hay en cada brazo, y un atributo que indica si la balanza se inclina al lado izquierdo (L), derecho (R), o está balanceada (B).\n",
        "\n",
        "Utilice una parte de los ejemplos para entrenar un multiperceptrón que sea capaz que predecir si la balanza está inclinada a derecha, a izquierda o si está balanceada. Analice la precisión de la red sobre los ejemplos de entrenamiento y sobre los de testeo.\n",
        "\n",
        "Fuente: Balance Scale Data Set - https://archive.ics.uci.edu/ml/datasets/Balance+Scale"
      ],
      "metadata": {
        "id": "D7v2q5zQaIQH"
      }
    },
    {
      "cell_type": "code",
      "source": [
        "balance = pd.read_csv('/content/drive/MyDrive/DeepLearning-colab/Datos-20240901/Balance.csv')"
      ],
      "metadata": {
        "id": "zUTMSBEzbihr"
      },
      "execution_count": 36,
      "outputs": []
    },
    {
      "cell_type": "code",
      "source": [
        "balance.info()"
      ],
      "metadata": {
        "colab": {
          "base_uri": "https://localhost:8080/"
        },
        "id": "zb9ekUM5bw9h",
        "outputId": "a0ad4861-3723-4b0e-a4aa-8c8d31f43e0d"
      },
      "execution_count": 37,
      "outputs": [
        {
          "output_type": "stream",
          "name": "stdout",
          "text": [
            "<class 'pandas.core.frame.DataFrame'>\n",
            "RangeIndex: 625 entries, 0 to 624\n",
            "Data columns (total 5 columns):\n",
            " #   Column       Non-Null Count  Dtype \n",
            "---  ------       --------------  ----- \n",
            " 0   Balance      625 non-null    object\n",
            " 1   LeftWeight   625 non-null    int64 \n",
            " 2   LeftDist     625 non-null    int64 \n",
            " 3   RightWeight  625 non-null    int64 \n",
            " 4   RightDist    625 non-null    int64 \n",
            "dtypes: int64(4), object(1)\n",
            "memory usage: 24.5+ KB\n"
          ]
        }
      ]
    },
    {
      "cell_type": "code",
      "source": [
        "balance.isnull().sum()"
      ],
      "metadata": {
        "colab": {
          "base_uri": "https://localhost:8080/",
          "height": 241
        },
        "id": "1G5KkaKZdFL3",
        "outputId": "2c22e90d-c309-4477-ea51-831d5e90d1dd"
      },
      "execution_count": 39,
      "outputs": [
        {
          "output_type": "execute_result",
          "data": {
            "text/plain": [
              "Balance        0\n",
              "LeftWeight     0\n",
              "LeftDist       0\n",
              "RightWeight    0\n",
              "RightDist      0\n",
              "dtype: int64"
            ],
            "text/html": [
              "<div>\n",
              "<style scoped>\n",
              "    .dataframe tbody tr th:only-of-type {\n",
              "        vertical-align: middle;\n",
              "    }\n",
              "\n",
              "    .dataframe tbody tr th {\n",
              "        vertical-align: top;\n",
              "    }\n",
              "\n",
              "    .dataframe thead th {\n",
              "        text-align: right;\n",
              "    }\n",
              "</style>\n",
              "<table border=\"1\" class=\"dataframe\">\n",
              "  <thead>\n",
              "    <tr style=\"text-align: right;\">\n",
              "      <th></th>\n",
              "      <th>0</th>\n",
              "    </tr>\n",
              "  </thead>\n",
              "  <tbody>\n",
              "    <tr>\n",
              "      <th>Balance</th>\n",
              "      <td>0</td>\n",
              "    </tr>\n",
              "    <tr>\n",
              "      <th>LeftWeight</th>\n",
              "      <td>0</td>\n",
              "    </tr>\n",
              "    <tr>\n",
              "      <th>LeftDist</th>\n",
              "      <td>0</td>\n",
              "    </tr>\n",
              "    <tr>\n",
              "      <th>RightWeight</th>\n",
              "      <td>0</td>\n",
              "    </tr>\n",
              "    <tr>\n",
              "      <th>RightDist</th>\n",
              "      <td>0</td>\n",
              "    </tr>\n",
              "  </tbody>\n",
              "</table>\n",
              "</div><br><label><b>dtype:</b> int64</label>"
            ]
          },
          "metadata": {},
          "execution_count": 39
        }
      ]
    },
    {
      "cell_type": "code",
      "source": [
        "balance.Balance.hist(bins=3)"
      ],
      "metadata": {
        "colab": {
          "base_uri": "https://localhost:8080/",
          "height": 449
        },
        "id": "sBoNmFkG6Pvz",
        "outputId": "f557a6b6-e23c-4db0-9ccd-9c0fa0d2319b"
      },
      "execution_count": 67,
      "outputs": [
        {
          "output_type": "execute_result",
          "data": {
            "text/plain": [
              "<Axes: >"
            ]
          },
          "metadata": {},
          "execution_count": 67
        },
        {
          "output_type": "display_data",
          "data": {
            "text/plain": [
              "<Figure size 640x480 with 1 Axes>"
            ],
            "image/png": "[encoded data removed]"
          },
          "metadata": {}
        }
      ]
    },
    {
      "cell_type": "code",
      "source": [
        "# Separación de datos\n",
        "target = 'Balance'\n",
        "\n",
        "X = balance.drop(columns=target)\n",
        "y = balance[target]\n",
        "\n",
        "# Binarizador para convertir el nombre de la clase en one hot encoding\n",
        "binarizer = preprocessing.LabelBinarizer()\n",
        "y = binarizer.fit_transform(y)\n",
        "\n",
        "# Entrenamiento y testeo\n",
        "X_train, X_test, y_train, y_test = train_test_split(X,y, test_size= 0.2, random_state=0)"
      ],
      "metadata": {
        "id": "boXuSiMSdN2m"
      },
      "execution_count": 69,
      "outputs": []
    },
    {
      "cell_type": "code",
      "source": [
        "# Normalizar\n",
        "X_train = normalizador.fit_transform(X_train)\n",
        "X_test = normalizador.transform(X_test)"
      ],
      "metadata": {
        "id": "QKGJX3EGeaKV"
      },
      "execution_count": 70,
      "outputs": []
    },
    {
      "cell_type": "code",
      "source": [
        "# Hiperparams\n",
        "alfa = 0.005\n",
        "iter = 2500\n",
        "cota = 1e-5\n",
        "activation_fun = 'tanh'\n",
        "solver = 'sgd'\n",
        "ocultas = 8\n",
        "\n",
        "classifier = MLPClassifier(solver = solver,\n",
        "                           max_iter = iter,\n",
        "                           hidden_layer_sizes=(ocultas),\n",
        "                           tol = cota,\n",
        "                           activation = activation_fun,\n",
        "                           learning_rate_init = alfa).fit(X_train, y_train)\n",
        "\n",
        "# Softmax en la capa de salida\n",
        "classifier.out_activation_ = 'softmax'\n",
        "\n",
        "# Medir el entrenamiento\n",
        "y_pred = classifier.predict(X_train)\n",
        "score = classifier.score(X_train, y_train)\n",
        "\n",
        "# 'Desbinarizar' para poder ver las clases\n",
        "y_inv = binarizer.inverse_transform(y_train)\n",
        "y_pred_inv = binarizer.inverse_transform(y_pred)\n",
        "\n",
        "# Cálculo accuracy:\n",
        "\n",
        "efectividad = 100*(y_pred_inv == y_inv).sum() / len(y_inv)\n",
        "score = classifier.score(X_train, y_train)\n",
        "\n",
        "print(f'Efectividad: {efectividad}')\n",
        "print(f'Score: {score}')"
      ],
      "metadata": {
        "colab": {
          "base_uri": "https://localhost:8080/"
        },
        "id": "X8Y1sY4ZeaAf",
        "outputId": "d7b0eb49-742b-4682-dbd8-1f0313439f4b"
      },
      "execution_count": 77,
      "outputs": [
        {
          "output_type": "stream",
          "name": "stdout",
          "text": [
            "Efectividad: 98.0\n",
            "Score: 0.978\n"
          ]
        },
        {
          "output_type": "stream",
          "name": "stderr",
          "text": [
            "/usr/local/lib/python3.10/dist-packages/sklearn/neural_network/_multilayer_perceptron.py:690: ConvergenceWarning: Stochastic Optimizer: Maximum iterations (2500) reached and the optimization hasn't converged yet.\n",
            "  warnings.warn(\n"
          ]
        }
      ]
    },
    {
      "cell_type": "code",
      "source": [
        "# Medir el testeo\n",
        "y_pred = classifier.predict(X_test)\n",
        "score = classifier.score(X_test, y_test)\n",
        "\n",
        "# 'Desbinarizar' para poder ver las clases\n",
        "y_inv = binarizer.inverse_transform(y_test)\n",
        "y_pred_inv = binarizer.inverse_transform(y_pred)\n",
        "\n",
        "# Cálculo accuracy:\n",
        "\n",
        "efectividad = 100*(y_pred_inv == y_inv).sum() / len(y_inv)\n",
        "score = classifier.score(X_test, y_test)\n",
        "\n",
        "print(f'Efectividad: {efectividad}')\n",
        "print(f'Score: {score}')"
      ],
      "metadata": {
        "colab": {
          "base_uri": "https://localhost:8080/"
        },
        "id": "H4ilIti6AO-A",
        "outputId": "b16deb8c-d4da-4733-bf3d-566d11573b29"
      },
      "execution_count": 78,
      "outputs": [
        {
          "output_type": "stream",
          "name": "stdout",
          "text": [
            "Efectividad: 97.6\n",
            "Score: 0.968\n"
          ]
        }
      ]
    },
    {
      "cell_type": "markdown",
      "source": [
        "# Ejercicio 5\n",
        "\n",
        "El archivo ZOO.csv contiene información de 101 animales caracterizados por los siguientes atributos:\n",
        "\n",
        "1. Nombre del animal\n",
        "2. Tiene Pelo\n",
        "3. Plumas\n",
        "4. Huevos\n",
        "5. Leche\n",
        "6. Vuela\n",
        "7. Acuático\n",
        "8. Depredador\n",
        "9. Dentado\n",
        "10. Vertebrado\n",
        "11. Branquias\n",
        "12. Venenoso\n",
        "13. Aletas\n",
        "14. Patas\n",
        "15. Cola\n",
        "16. Domestico\n",
        "17. Tamaño gato\n",
        "18. Clase\n",
        "\n",
        "Salvo los atributos 1 y 18 que contienen texto y el 14 que contiene el número de patas del animal, el resto toma el valor 1 si el animal posee la característica y 0 si no. Hay 7 valores de clase posible (atributo 18):\n",
        "mamífero, ave, pez, invertebrado, insecto, reptil y anfibio.\n",
        "\n",
        "Entrene un multiperceptrón que sea capaz de clasificar un animal en una de las 7 clases. Utilice el 70% de los ejemplos para entrenar y el 30% para realizar el testeo. Realice al menos 10 ejecuciones independientes de la configuración seleccionada para respaldar sus afirmaciones referidas a la performance del modelo.\n",
        "\n",
        "Fuente de Datos: Zoo Data Set - https://archive.ics.uci.edu/ml/datasets/zoo"
      ],
      "metadata": {
        "id": "5K7c-6kElbum"
      }
    },
    {
      "cell_type": "code",
      "source": [
        "url = '/content/drive/MyDrive/DeepLearning-colab/Datos-20240901/zoo.csv'\n",
        "with open(url, 'rb') as f:\n",
        "    result = chardet.detect(f.read())  # or readline if the file is large\n",
        "\n",
        "zoo_df = pd.read_csv(url, encoding=result['encoding'])"
      ],
      "metadata": {
        "id": "Wxq4mNFkBZx3"
      },
      "execution_count": 87,
      "outputs": []
    },
    {
      "cell_type": "code",
      "source": [
        "zoo_df.info()"
      ],
      "metadata": {
        "colab": {
          "base_uri": "https://localhost:8080/"
        },
        "id": "115yoXqlCtB7",
        "outputId": "f9717fb8-fcfd-458f-a192-9e03ad17a8a3"
      },
      "execution_count": 88,
      "outputs": [
        {
          "output_type": "stream",
          "name": "stdout",
          "text": [
            "<class 'pandas.core.frame.DataFrame'>\n",
            "RangeIndex: 101 entries, 0 to 100\n",
            "Data columns (total 18 columns):\n",
            " #   Column         Non-Null Count  Dtype \n",
            "---  ------         --------------  ----- \n",
            " 0   animal         101 non-null    object\n",
            " 1   Tiene_Pelo     101 non-null    int64 \n",
            " 2   Tiene_Plumas   101 non-null    int64 \n",
            " 3   Nace_de_huevo  101 non-null    int64 \n",
            " 4   Toma_Leche     101 non-null    int64 \n",
            " 5   Vuela          101 non-null    int64 \n",
            " 6   Acuatico       101 non-null    int64 \n",
            " 7   Depredador     101 non-null    int64 \n",
            " 8   Dentado        101 non-null    int64 \n",
            " 9   Vertebrado     101 non-null    int64 \n",
            " 10  Respira        101 non-null    int64 \n",
            " 11  Venenoso       101 non-null    int64 \n",
            " 12  Tiene_Aletas   101 non-null    int64 \n",
            " 13  Cant_Patas     101 non-null    int64 \n",
            " 14  Tiene_Cola     101 non-null    int64 \n",
            " 15  Domestico      101 non-null    int64 \n",
            " 16  Tamano_Gato    101 non-null    int64 \n",
            " 17  Clase          101 non-null    object\n",
            "dtypes: int64(16), object(2)\n",
            "memory usage: 14.3+ KB\n"
          ]
        }
      ]
    },
    {
      "cell_type": "code",
      "source": [
        "zoo = zoo_df.drop(columns= 'animal')\n",
        "zoo.columns"
      ],
      "metadata": {
        "colab": {
          "base_uri": "https://localhost:8080/"
        },
        "id": "6-O0LDY3C8Pi",
        "outputId": "340c2590-e418-4feb-aef5-43a2b454d152"
      },
      "execution_count": 90,
      "outputs": [
        {
          "output_type": "execute_result",
          "data": {
            "text/plain": [
              "Index(['Tiene_Pelo', 'Tiene_Plumas', 'Nace_de_huevo', 'Toma_Leche', 'Vuela',\n",
              "       'Acuatico', 'Depredador', 'Dentado', 'Vertebrado', 'Respira',\n",
              "       'Venenoso', 'Tiene_Aletas', 'Cant_Patas', 'Tiene_Cola', 'Domestico',\n",
              "       'Tamano_Gato', 'Clase'],\n",
              "      dtype='object')"
            ]
          },
          "metadata": {},
          "execution_count": 90
        }
      ]
    },
    {
      "cell_type": "code",
      "source": [
        "zoo.Clase.hist(bins=zoo.Clase.unique())"
      ],
      "metadata": {
        "colab": {
          "base_uri": "https://localhost:8080/",
          "height": 447
        },
        "id": "QkOYl0lHZlji",
        "outputId": "3235771a-74d1-44df-a80a-cb87c469e45b"
      },
      "execution_count": 150,
      "outputs": [
        {
          "output_type": "execute_result",
          "data": {
            "text/plain": [
              "<Axes: >"
            ]
          },
          "metadata": {},
          "execution_count": 150
        },
        {
          "output_type": "display_data",
          "data": {
            "text/plain": [
              "<Figure size 640x480 with 1 Axes>"
            ],
            "image/png": "[encoded data removed]"
          },
          "metadata": {}
        }
      ]
    },
    {
      "cell_type": "code",
      "source": [
        "# Separar datos\n",
        "target = 'Clase'\n",
        "\n",
        "X = zoo.drop(columns=target)\n",
        "y = zoo[target]\n",
        "\n",
        "# Binarizar la etiqueta\n",
        "y = binarizer.fit_transform(y)\n",
        "\n",
        "# train/test split\n",
        "X_train, X_test, y_train, y_test = train_test_split(X, y, test_size=0.3)"
      ],
      "metadata": {
        "id": "hcrjjh3SDXFm"
      },
      "execution_count": 93,
      "outputs": []
    },
    {
      "cell_type": "code",
      "source": [
        "# Normalizar\n",
        "X_train = normalizador.fit_transform(X_train)\n",
        "X_test = normalizador.transform(X_test)"
      ],
      "metadata": {
        "id": "Gk4VwpHvFusG"
      },
      "execution_count": 94,
      "outputs": []
    },
    {
      "cell_type": "code",
      "source": [
        "# Hiperparams y modelo\n",
        "alfa = 0.001\n",
        "iter =5000\n",
        "cota = 1e-7\n",
        "activation_fun = 'tanh'\n",
        "solver = 'sgd'\n",
        "ocultas = 5\n",
        "\n",
        "modelo_5 = MLPClassifier(solver=solver,\n",
        "                         learning_rate_init=alfa,\n",
        "                         max_iter=iter,\n",
        "                         tol=cota,\n",
        "                         activation=activation_fun,\n",
        "                         hidden_layer_sizes=(ocultas),\n",
        "                         verbose=False).fit(X_train,y_train)\n",
        "\n",
        "modelo_5.out_activation= 'softmax'\n"
      ],
      "metadata": {
        "colab": {
          "base_uri": "https://localhost:8080/"
        },
        "id": "zr3PMdSJF7sF",
        "outputId": "bf375eed-8df3-4338-968b-b7a1f39dd0eb"
      },
      "execution_count": 147,
      "outputs": [
        {
          "output_type": "stream",
          "name": "stderr",
          "text": [
            "/usr/local/lib/python3.10/dist-packages/sklearn/neural_network/_multilayer_perceptron.py:690: ConvergenceWarning: Stochastic Optimizer: Maximum iterations (5000) reached and the optimization hasn't converged yet.\n",
            "  warnings.warn(\n"
          ]
        }
      ]
    },
    {
      "cell_type": "code",
      "source": [
        "# Medir entrenamiento y test\n",
        "y_it_train = binarizer.inverse_transform(y_train)\n",
        "y_it_test = binarizer.inverse_transform(y_test)\n",
        "\n",
        "total_score_train = 0\n",
        "total_score_test = 0\n",
        "\n",
        "efectividad_train = 0\n",
        "efectividad_test = 0\n",
        "\n",
        "for i in range(10):\n",
        "  total_score_train += modelo_5.score(X_train, y_train)\n",
        "  total_score_test += modelo_5.score(X_test, y_test)\n",
        "\n",
        "  # efectividad\n",
        "  y_pred_train = modelo_5.predict(X_train)\n",
        "  y_pred_test = modelo_5.predict(X_test)\n",
        "\n",
        "  y_pred_test_it = binarizer.inverse_transform(y_pred_test)\n",
        "  y_pred_train_it = binarizer.inverse_transform(y_pred_train)\n",
        "\n",
        "  efectividad_train += 100*(y_pred_train_it == y_it_train).sum() / len(y_it_train)\n",
        "  efectividad_test += 100*(y_pred_test_it == y_it_test).sum() / len(y_it_test)\n",
        "\n",
        "print('**** Promedios de 10 iteraciones: *****')\n",
        "print(f'Efectividad train: {efectividad_train/10}')\n",
        "print(f'Train score_train: {total_score_train/10}')\n",
        "print('-'*40)\n",
        "print(f'Efectividad test: {efectividad_test/10}')\n",
        "print(f'Train score_test: {total_score_test/10}')"
      ],
      "metadata": {
        "colab": {
          "base_uri": "https://localhost:8080/"
        },
        "id": "4PfVWOzKJ3a0",
        "outputId": "dcf076e5-2522-4aa1-9031-e45cebdd0127"
      },
      "execution_count": 148,
      "outputs": [
        {
          "output_type": "stream",
          "name": "stdout",
          "text": [
            "**** Promedios de 10 iteraciones: *****\n",
            "Efectividad train: 97.14285714285712\n",
            "Train score_train: 0.9428571428571428\n",
            "----------------------------------------\n",
            "Efectividad test: 87.0967741935484\n",
            "Train score_test: 0.8064516129032258\n"
          ]
        }
      ]
    },
    {
      "cell_type": "code",
      "source": [
        "plt.plot(modelo_5.loss_curve_)"
      ],
      "metadata": {
        "colab": {
          "base_uri": "https://localhost:8080/",
          "height": 447
        },
        "id": "AMBQemNBN1f9",
        "outputId": "b06c91d7-513f-48e9-d861-26a09d742e4f"
      },
      "execution_count": 149,
      "outputs": [
        {
          "output_type": "execute_result",
          "data": {
            "text/plain": [
              "[<matplotlib.lines.Line2D at 0x7d9f3aff8eb0>]"
            ]
          },
          "metadata": {},
          "execution_count": 149
        },
        {
          "output_type": "display_data",
          "data": {
            "text/plain": [
              "<Figure size 640x480 with 1 Axes>"
            ],
            "image/png": "[encoded data removed]"
          },
          "metadata": {}
        }
      ]
    },
    {
      "cell_type": "markdown",
      "source": [
        "# Ejercicio 6\n",
        "\n",
        "Los archivos Segment_Train.csv y Segment_Test.csv contienen información referida a regiones de 3x3 pixeles pertenecientes a 7 imágenes distintas. Cada una corresponde a uno de los siguientes tipos de superficie: ladrillo, cielo, follaje, cemento, ventana, camino y pasto.\n",
        "\n",
        "Cada región de 3x3 ha sido caracterizada por 19 atributos numéricos:\n",
        "1. region-centroid-col: la columna del pixel central de la región.\n",
        "2. region-centroid-row: la fila del pixel central de la región.\n",
        "3. region-pixel-count: el número de pixeles de la región = 9.\n",
        "4. short-line-density-5: el resultado de un algoritmo de extracción de líneas que cuenta la cantidad de líneas de bajo contraste que atraviesan la región.\n",
        "5. short-line-density-2: ídem anterior para líneas de alto contraste.\n",
        "6. vedge-mean: medida del contraste entre pixeles adyacentes. Este atributo contiene el valor promedio y el siguiente la desviación. Estas medidas sirven para detectar la presencia de un eje vertical.\n",
        "7. vegde-sd: (ver 6)\n",
        "8. hedge-mean: ídem 6 para eje horizontal. Contiene el valor medio y el siguiente la desviación.\n",
        "9. hedge-sd: (ver 8).\n",
        "10. intensity-mean: El promedio calculado sobre la región de la forma (R + G + B)/3\n",
        "11. rawred-mean: el promedio sobre la región de los valores R.\n",
        "12. rawblue-mean: el promedio sobre la región de los valores B.\n",
        "13. rawgreen-mean: el promedio sobre la región de los valores G.\n",
        "14. exred-mean: Medida de exceso de color rojo: (2R - (G + B))\n",
        "15. exblue-mean: Medida de exceso de color azul: (2B - (G + R))\n",
        "16. exgreen-mean: Medida de exceso de color verde: (2G - (R + B))\n",
        "17. value-mean: Transformación no lineal 3D de RGB.\n",
        "18. saturatoin-mean: (ver 17)\n",
        "19. hue-mean: ver 17)\n",
        "\n",
        "El atributo 20 corresponde al número de imagen de la cual fue extraída la región de 3x3. Sus valores son:\n",
        "\n",
        "1 (ladrillo), 2 (cemento), 3(follaje), 4 (pasto), 5 (camino), 6 (cielo), 7 (ventana).\n",
        "\n",
        "Entrene una red neuronal multiperceptrón para que dada una región de 3x3, representada a través de los 19 atributos indicados anteriormente, sea capaz de identificar a cuál de las 7 imágenes corresponde.\n",
        "\n",
        "Utilice los ejemplos del archivo Segment_Train.csv para entrenar y los del archivo Segment_Test.csv para realizar el testeo.\n",
        "\n",
        "Realice al menos 10 ejecuciones independientes de la configuración seleccionada para respaldar sus afirmaciones referidas a la performance del modelo.\n",
        "Fuente: Image Segmentation Data Set: https://archive.ics.uci.edu/ml/datasets/Image+Segmentation"
      ],
      "metadata": {
        "id": "RZ6irU8vWbIC"
      }
    },
    {
      "cell_type": "code",
      "source": [
        "segment_train = pd.read_csv('/content/drive/MyDrive/DeepLearning-colab/Datos-20240901/Segment_Train.csv')\n",
        "segment_test = pd.read_csv('/content/drive/MyDrive/DeepLearning-colab/Datos-20240901/Segment_Test.csv')"
      ],
      "metadata": {
        "id": "bkL3ehgMZbsc"
      },
      "execution_count": 201,
      "outputs": []
    },
    {
      "cell_type": "code",
      "source": [
        "segment_train.head()"
      ],
      "metadata": {
        "colab": {
          "base_uri": "https://localhost:8080/",
          "height": 261
        },
        "id": "hyp_c8b1bIWh",
        "outputId": "0684fd50-cafa-4ac2-d069-81aef3ed9df5"
      },
      "execution_count": 202,
      "outputs": [
        {
          "output_type": "execute_result",
          "data": {
            "text/plain": [
              "       REGION-CENTROID-COL  REGION-CENTROID-ROW  REGION-PIXEL-COUNT  \\\n",
              "GRASS                110.0                189.0                   9   \n",
              "GRASS                 86.0                187.0                   9   \n",
              "GRASS                225.0                244.0                   9   \n",
              "GRASS                 47.0                232.0                   9   \n",
              "GRASS                 97.0                186.0                   9   \n",
              "\n",
              "       SHORT-LINE-DENSITY-5  SHORT-LINE-DENSITY-2  VEDGE-MEAN  VEDGE-SD  \\\n",
              "GRASS                   0.0                   0.0    1.000000  0.666667   \n",
              "GRASS                   0.0                   0.0    1.111111  0.720082   \n",
              "GRASS                   0.0                   0.0    3.388889  2.195113   \n",
              "GRASS                   0.0                   0.0    1.277778  1.254621   \n",
              "GRASS                   0.0                   0.0    1.166667  0.691215   \n",
              "\n",
              "       HEDGE-MEAN  HEDGE-SD  INTENSITY-MEAN  RAWRED-MEAN  RAWBLUE-MEAN  \\\n",
              "GRASS    1.222222  1.186342       12.925926    10.888889      9.222222   \n",
              "GRASS    1.444444  0.750309       13.740741    11.666667     10.333334   \n",
              "GRASS    3.000000  1.520234       12.259259    10.333334      9.333334   \n",
              "GRASS    1.000000  0.894427       12.703704    11.000000      9.000000   \n",
              "GRASS    1.166667  1.005540       15.592592    13.888889     11.777778   \n",
              "\n",
              "       RAWGREEN-MEAN  EXRED-MEAN  EXBLUE-MEAN  EXGREEN-MEAN  VALUE-MEAN  \\\n",
              "GRASS      18.666668   -6.111111   -11.111111     17.222221   18.666668   \n",
              "GRASS      19.222221   -6.222222   -10.222222     16.444445   19.222221   \n",
              "GRASS      17.111110   -5.777778    -8.777778     14.555555   17.111110   \n",
              "GRASS      18.111110   -5.111111   -11.111111     16.222221   18.111110   \n",
              "GRASS      21.111110   -5.111111   -11.444445     16.555555   21.111110   \n",
              "\n",
              "       SATURATION-MEAN  HUE-MEAN  \n",
              "GRASS         0.508139  1.910864  \n",
              "GRASS         0.463329  1.941465  \n",
              "GRASS         0.480149  1.987902  \n",
              "GRASS         0.500966  1.875362  \n",
              "GRASS         0.442661  1.863654  "
            ],
            "text/html": [
              "\n",
              "  <div id=\"df-04bc2263-2fb1-4866-9d19-238e67fb1389\" class=\"colab-df-container\">\n",
              "    <div>\n",
              "<style scoped>\n",
              "    .dataframe tbody tr th:only-of-type {\n",
              "        vertical-align: middle;\n",
              "    }\n",
              "\n",
              "    .dataframe tbody tr th {\n",
              "        vertical-align: top;\n",
              "    }\n",
              "\n",
              "    .dataframe thead th {\n",
              "        text-align: right;\n",
              "    }\n",
              "</style>\n",
              "<table border=\"1\" class=\"dataframe\">\n",
              "  <thead>\n",
              "    <tr style=\"text-align: right;\">\n",
              "      <th></th>\n",
              "      <th>REGION-CENTROID-COL</th>\n",
              "      <th>REGION-CENTROID-ROW</th>\n",
              "      <th>REGION-PIXEL-COUNT</th>\n",
              "      <th>SHORT-LINE-DENSITY-5</th>\n",
              "      <th>SHORT-LINE-DENSITY-2</th>\n",
              "      <th>VEDGE-MEAN</th>\n",
              "      <th>VEDGE-SD</th>\n",
              "      <th>HEDGE-MEAN</th>\n",
              "      <th>HEDGE-SD</th>\n",
              "      <th>INTENSITY-MEAN</th>\n",
              "      <th>RAWRED-MEAN</th>\n",
              "      <th>RAWBLUE-MEAN</th>\n",
              "      <th>RAWGREEN-MEAN</th>\n",
              "      <th>EXRED-MEAN</th>\n",
              "      <th>EXBLUE-MEAN</th>\n",
              "      <th>EXGREEN-MEAN</th>\n",
              "      <th>VALUE-MEAN</th>\n",
              "      <th>SATURATION-MEAN</th>\n",
              "      <th>HUE-MEAN</th>\n",
              "    </tr>\n",
              "  </thead>\n",
              "  <tbody>\n",
              "    <tr>\n",
              "      <th>GRASS</th>\n",
              "      <td>110.0</td>\n",
              "      <td>189.0</td>\n",
              "      <td>9</td>\n",
              "      <td>0.0</td>\n",
              "      <td>0.0</td>\n",
              "      <td>1.000000</td>\n",
              "      <td>0.666667</td>\n",
              "      <td>1.222222</td>\n",
              "      <td>1.186342</td>\n",
              "      <td>12.925926</td>\n",
              "      <td>10.888889</td>\n",
              "      <td>9.222222</td>\n",
              "      <td>18.666668</td>\n",
              "      <td>-6.111111</td>\n",
              "      <td>-11.111111</td>\n",
              "      <td>17.222221</td>\n",
              "      <td>18.666668</td>\n",
              "      <td>0.508139</td>\n",
              "      <td>1.910864</td>\n",
              "    </tr>\n",
              "    <tr>\n",
              "      <th>GRASS</th>\n",
              "      <td>86.0</td>\n",
              "      <td>187.0</td>\n",
              "      <td>9</td>\n",
              "      <td>0.0</td>\n",
              "      <td>0.0</td>\n",
              "      <td>1.111111</td>\n",
              "      <td>0.720082</td>\n",
              "      <td>1.444444</td>\n",
              "      <td>0.750309</td>\n",
              "      <td>13.740741</td>\n",
              "      <td>11.666667</td>\n",
              "      <td>10.333334</td>\n",
              "      <td>19.222221</td>\n",
              "      <td>-6.222222</td>\n",
              "      <td>-10.222222</td>\n",
              "      <td>16.444445</td>\n",
              "      <td>19.222221</td>\n",
              "      <td>0.463329</td>\n",
              "      <td>1.941465</td>\n",
              "    </tr>\n",
              "    <tr>\n",
              "      <th>GRASS</th>\n",
              "      <td>225.0</td>\n",
              "      <td>244.0</td>\n",
              "      <td>9</td>\n",
              "      <td>0.0</td>\n",
              "      <td>0.0</td>\n",
              "      <td>3.388889</td>\n",
              "      <td>2.195113</td>\n",
              "      <td>3.000000</td>\n",
              "      <td>1.520234</td>\n",
              "      <td>12.259259</td>\n",
              "      <td>10.333334</td>\n",
              "      <td>9.333334</td>\n",
              "      <td>17.111110</td>\n",
              "      <td>-5.777778</td>\n",
              "      <td>-8.777778</td>\n",
              "      <td>14.555555</td>\n",
              "      <td>17.111110</td>\n",
              "      <td>0.480149</td>\n",
              "      <td>1.987902</td>\n",
              "    </tr>\n",
              "    <tr>\n",
              "      <th>GRASS</th>\n",
              "      <td>47.0</td>\n",
              "      <td>232.0</td>\n",
              "      <td>9</td>\n",
              "      <td>0.0</td>\n",
              "      <td>0.0</td>\n",
              "      <td>1.277778</td>\n",
              "      <td>1.254621</td>\n",
              "      <td>1.000000</td>\n",
              "      <td>0.894427</td>\n",
              "      <td>12.703704</td>\n",
              "      <td>11.000000</td>\n",
              "      <td>9.000000</td>\n",
              "      <td>18.111110</td>\n",
              "      <td>-5.111111</td>\n",
              "      <td>-11.111111</td>\n",
              "      <td>16.222221</td>\n",
              "      <td>18.111110</td>\n",
              "      <td>0.500966</td>\n",
              "      <td>1.875362</td>\n",
              "    </tr>\n",
              "    <tr>\n",
              "      <th>GRASS</th>\n",
              "      <td>97.0</td>\n",
              "      <td>186.0</td>\n",
              "      <td>9</td>\n",
              "      <td>0.0</td>\n",
              "      <td>0.0</td>\n",
              "      <td>1.166667</td>\n",
              "      <td>0.691215</td>\n",
              "      <td>1.166667</td>\n",
              "      <td>1.005540</td>\n",
              "      <td>15.592592</td>\n",
              "      <td>13.888889</td>\n",
              "      <td>11.777778</td>\n",
              "      <td>21.111110</td>\n",
              "      <td>-5.111111</td>\n",
              "      <td>-11.444445</td>\n",
              "      <td>16.555555</td>\n",
              "      <td>21.111110</td>\n",
              "      <td>0.442661</td>\n",
              "      <td>1.863654</td>\n",
              "    </tr>\n",
              "  </tbody>\n",
              "</table>\n",
              "</div>\n",
              "    <div class=\"colab-df-buttons\">\n",
              "\n",
              "  <div class=\"colab-df-container\">\n",
              "    <button class=\"colab-df-convert\" onclick=\"convertToInteractive('df-04bc2263-2fb1-4866-9d19-238e67fb1389')\"\n",
              "            title=\"Convert this dataframe to an interactive table.\"\n",
              "            style=\"display:none;\">\n",
              "\n",
              "  <svg xmlns=\"http://www.w3.org/2000/svg\" height=\"24px\" viewBox=\"0 -960 960 960\">\n",
              "    <path d=\"M120-120v-720h720v720H120Zm60-500h600v-160H180v160Zm220 220h160v-160H400v160Zm0 220h160v-160H400v160ZM180-400h160v-160H180v160Zm440 0h160v-160H620v160ZM180-180h160v-160H180v160Zm440 0h160v-160H620v160Z\"/>\n",
              "  </svg>\n",
              "    </button>\n",
              "\n",
              "  <style>\n",
              "    .colab-df-container {\n",
              "      display:flex;\n",
              "      gap: 12px;\n",
              "    }\n",
              "\n",
              "    .colab-df-convert {\n",
              "      background-color: #E8F0FE;\n",
              "      border: none;\n",
              "      border-radius: 50%;\n",
              "      cursor: pointer;\n",
              "      display: none;\n",
              "      fill: #1967D2;\n",
              "      height: 32px;\n",
              "      padding: 0 0 0 0;\n",
              "      width: 32px;\n",
              "    }\n",
              "\n",
              "    .colab-df-convert:hover {\n",
              "      background-color: #E2EBFA;\n",
              "      box-shadow: 0px 1px 2px rgba(60, 64, 67, 0.3), 0px 1px 3px 1px rgba(60, 64, 67, 0.15);\n",
              "      fill: #174EA6;\n",
              "    }\n",
              "\n",
              "    .colab-df-buttons div {\n",
              "      margin-bottom: 4px;\n",
              "    }\n",
              "\n",
              "    [theme=dark] .colab-df-convert {\n",
              "      background-color: #3B4455;\n",
              "      fill: #D2E3FC;\n",
              "    }\n",
              "\n",
              "    [theme=dark] .colab-df-convert:hover {\n",
              "      background-color: #434B5C;\n",
              "      box-shadow: 0px 1px 3px 1px rgba(0, 0, 0, 0.15);\n",
              "      filter: drop-shadow(0px 1px 2px rgba(0, 0, 0, 0.3));\n",
              "      fill: #FFFFFF;\n",
              "    }\n",
              "  </style>\n",
              "\n",
              "    <script>\n",
              "      const buttonEl =\n",
              "        document.querySelector('#df-04bc2263-2fb1-4866-9d19-238e67fb1389 button.colab-df-convert');\n",
              "      buttonEl.style.display =\n",
              "        google.colab.kernel.accessAllowed ? 'block' : 'none';\n",
              "\n",
              "      async function convertToInteractive(key) {\n",
              "        const element = document.querySelector('#df-04bc2263-2fb1-4866-9d19-238e67fb1389');\n",
              "        const dataTable =\n",
              "          await google.colab.kernel.invokeFunction('convertToInteractive',\n",
              "                                                    [key], {});\n",
              "        if (!dataTable) return;\n",
              "\n",
              "        const docLinkHtml = 'Like what you see? Visit the ' +\n",
              "          '<a target=\"_blank\" href=https://colab.research.google.com/notebooks/data_table.ipynb>data table notebook</a>'\n",
              "          + ' to learn more about interactive tables.';\n",
              "        element.innerHTML = '';\n",
              "        dataTable['output_type'] = 'display_data';\n",
              "        await google.colab.output.renderOutput(dataTable, element);\n",
              "        const docLink = document.createElement('div');\n",
              "        docLink.innerHTML = docLinkHtml;\n",
              "        element.appendChild(docLink);\n",
              "      }\n",
              "    </script>\n",
              "  </div>\n",
              "\n",
              "\n",
              "<div id=\"df-3bc2209a-efea-4e0d-894f-8c5a771d3a49\">\n",
              "  <button class=\"colab-df-quickchart\" onclick=\"quickchart('df-3bc2209a-efea-4e0d-894f-8c5a771d3a49')\"\n",
              "            title=\"Suggest charts\"\n",
              "            style=\"display:none;\">\n",
              "\n",
              "<svg xmlns=\"http://www.w3.org/2000/svg\" height=\"24px\"viewBox=\"0 0 24 24\"\n",
              "     width=\"24px\">\n",
              "    <g>\n",
              "        <path d=\"M19 3H5c-1.1 0-2 .9-2 2v14c0 1.1.9 2 2 2h14c1.1 0 2-.9 2-2V5c0-1.1-.9-2-2-2zM9 17H7v-7h2v7zm4 0h-2V7h2v10zm4 0h-2v-4h2v4z\"/>\n",
              "    </g>\n",
              "</svg>\n",
              "  </button>\n",
              "\n",
              "<style>\n",
              "  .colab-df-quickchart {\n",
              "      --bg-color: #E8F0FE;\n",
              "      --fill-color: #1967D2;\n",
              "      --hover-bg-color: #E2EBFA;\n",
              "      --hover-fill-color: #174EA6;\n",
              "      --disabled-fill-color: #AAA;\n",
              "      --disabled-bg-color: #DDD;\n",
              "  }\n",
              "\n",
              "  [theme=dark] .colab-df-quickchart {\n",
              "      --bg-color: #3B4455;\n",
              "      --fill-color: #D2E3FC;\n",
              "      --hover-bg-color: #434B5C;\n",
              "      --hover-fill-color: #FFFFFF;\n",
              "      --disabled-bg-color: #3B4455;\n",
              "      --disabled-fill-color: #666;\n",
              "  }\n",
              "\n",
              "  .colab-df-quickchart {\n",
              "    background-color: var(--bg-color);\n",
              "    border: none;\n",
              "    border-radius: 50%;\n",
              "    cursor: pointer;\n",
              "    display: none;\n",
              "    fill: var(--fill-color);\n",
              "    height: 32px;\n",
              "    padding: 0;\n",
              "    width: 32px;\n",
              "  }\n",
              "\n",
              "  .colab-df-quickchart:hover {\n",
              "    background-color: var(--hover-bg-color);\n",
              "    box-shadow: 0 1px 2px rgba(60, 64, 67, 0.3), 0 1px 3px 1px rgba(60, 64, 67, 0.15);\n",
              "    fill: var(--button-hover-fill-color);\n",
              "  }\n",
              "\n",
              "  .colab-df-quickchart-complete:disabled,\n",
              "  .colab-df-quickchart-complete:disabled:hover {\n",
              "    background-color: var(--disabled-bg-color);\n",
              "    fill: var(--disabled-fill-color);\n",
              "    box-shadow: none;\n",
              "  }\n",
              "\n",
              "  .colab-df-spinner {\n",
              "    border: 2px solid var(--fill-color);\n",
              "    border-color: transparent;\n",
              "    border-bottom-color: var(--fill-color);\n",
              "    animation:\n",
              "      spin 1s steps(1) infinite;\n",
              "  }\n",
              "\n",
              "  @keyframes spin {\n",
              "    0% {\n",
              "      border-color: transparent;\n",
              "      border-bottom-color: var(--fill-color);\n",
              "      border-left-color: var(--fill-color);\n",
              "    }\n",
              "    20% {\n",
              "      border-color: transparent;\n",
              "      border-left-color: var(--fill-color);\n",
              "      border-top-color: var(--fill-color);\n",
              "    }\n",
              "    30% {\n",
              "      border-color: transparent;\n",
              "      border-left-color: var(--fill-color);\n",
              "      border-top-color: var(--fill-color);\n",
              "      border-right-color: var(--fill-color);\n",
              "    }\n",
              "    40% {\n",
              "      border-color: transparent;\n",
              "      border-right-color: var(--fill-color);\n",
              "      border-top-color: var(--fill-color);\n",
              "    }\n",
              "    60% {\n",
              "      border-color: transparent;\n",
              "      border-right-color: var(--fill-color);\n",
              "    }\n",
              "    80% {\n",
              "      border-color: transparent;\n",
              "      border-right-color: var(--fill-color);\n",
              "      border-bottom-color: var(--fill-color);\n",
              "    }\n",
              "    90% {\n",
              "      border-color: transparent;\n",
              "      border-bottom-color: var(--fill-color);\n",
              "    }\n",
              "  }\n",
              "</style>\n",
              "\n",
              "  <script>\n",
              "    async function quickchart(key) {\n",
              "      const quickchartButtonEl =\n",
              "        document.querySelector('#' + key + ' button');\n",
              "      quickchartButtonEl.disabled = true;  // To prevent multiple clicks.\n",
              "      quickchartButtonEl.classList.add('colab-df-spinner');\n",
              "      try {\n",
              "        const charts = await google.colab.kernel.invokeFunction(\n",
              "            'suggestCharts', [key], {});\n",
              "      } catch (error) {\n",
              "        console.error('Error during call to suggestCharts:', error);\n",
              "      }\n",
              "      quickchartButtonEl.classList.remove('colab-df-spinner');\n",
              "      quickchartButtonEl.classList.add('colab-df-quickchart-complete');\n",
              "    }\n",
              "    (() => {\n",
              "      let quickchartButtonEl =\n",
              "        document.querySelector('#df-3bc2209a-efea-4e0d-894f-8c5a771d3a49 button');\n",
              "      quickchartButtonEl.style.display =\n",
              "        google.colab.kernel.accessAllowed ? 'block' : 'none';\n",
              "    })();\n",
              "  </script>\n",
              "</div>\n",
              "\n",
              "    </div>\n",
              "  </div>\n"
            ],
            "application/vnd.google.colaboratory.intrinsic+json": {
              "type": "dataframe",
              "variable_name": "segment_train",
              "summary": "{\n  \"name\": \"segment_train\",\n  \"rows\": 2100,\n  \"fields\": [\n    {\n      \"column\": \"REGION-CENTROID-COL\",\n      \"properties\": {\n        \"dtype\": \"number\",\n        \"std\": 72.85863657812145,\n        \"min\": 1.0,\n        \"max\": 254.0,\n        \"num_unique_values\": 253,\n        \"samples\": [\n          3.0,\n          62.0,\n          181.0\n        ],\n        \"semantic_type\": \"\",\n        \"description\": \"\"\n      }\n    },\n    {\n      \"column\": \"REGION-CENTROID-ROW\",\n      \"properties\": {\n        \"dtype\": \"number\",\n        \"std\": 57.43142820381204,\n        \"min\": 11.0,\n        \"max\": 251.0,\n        \"num_unique_values\": 238,\n        \"samples\": [\n          102.0,\n          201.0,\n          59.0\n        ],\n        \"semantic_type\": \"\",\n        \"description\": \"\"\n      }\n    },\n    {\n      \"column\": \"REGION-PIXEL-COUNT\",\n      \"properties\": {\n        \"dtype\": \"number\",\n        \"std\": 0,\n        \"min\": 9,\n        \"max\": 9,\n        \"num_unique_values\": 1,\n        \"samples\": [\n          9\n        ],\n        \"semantic_type\": \"\",\n        \"description\": \"\"\n      }\n    },\n    {\n      \"column\": \"SHORT-LINE-DENSITY-5\",\n      \"properties\": {\n        \"dtype\": \"number\",\n        \"std\": 0.04102362644537332,\n        \"min\": 0.0,\n        \"max\": 0.33333334,\n        \"num_unique_values\": 4,\n        \"samples\": [\n          0.11111111\n        ],\n        \"semantic_type\": \"\",\n        \"description\": \"\"\n      }\n    },\n    {\n      \"column\": \"SHORT-LINE-DENSITY-2\",\n      \"properties\": {\n        \"dtype\": \"number\",\n        \"std\": 0.023573107211427188,\n        \"min\": 0.0,\n        \"max\": 0.22222222,\n        \"num_unique_values\": 3,\n        \"samples\": [\n          0.0\n        ],\n        \"semantic_type\": \"\",\n        \"description\": \"\"\n      }\n    },\n    {\n      \"column\": \"VEDGE-MEAN\",\n      \"properties\": {\n        \"dtype\": \"number\",\n        \"std\": 2.6494530325094483,\n        \"min\": 0.0,\n        \"max\": 29.222221,\n        \"num_unique_values\": 647,\n        \"samples\": [\n          1.4444437\n        ],\n        \"semantic_type\": \"\",\n        \"description\": \"\"\n      }\n    },\n    {\n      \"column\": \"VEDGE-SD\",\n      \"properties\": {\n        \"dtype\": \"number\",\n        \"std\": 44.989359186186924,\n        \"min\": 0.0,\n        \"max\": 991.7184,\n        \"num_unique_values\": 1794,\n        \"samples\": [\n          0.06296299\n        ],\n        \"semantic_type\": \"\",\n        \"description\": \"\"\n      }\n    },\n    {\n      \"column\": \"HEDGE-MEAN\",\n      \"properties\": {\n        \"dtype\": \"number\",\n        \"std\": 3.469954474069581,\n        \"min\": 0.0,\n        \"max\": 44.722225,\n        \"num_unique_values\": 702,\n        \"samples\": [\n          0.33333364\n        ],\n        \"semantic_type\": \"\",\n        \"description\": \"\"\n      }\n    },\n    {\n      \"column\": \"HEDGE-SD\",\n      \"properties\": {\n        \"dtype\": \"number\",\n        \"std\": 53.471074088334944,\n        \"min\": -1.5894573e-08,\n        \"max\": 1386.3292,\n        \"num_unique_values\": 1799,\n        \"samples\": [\n          1.3185184\n        ],\n        \"semantic_type\": \"\",\n        \"description\": \"\"\n      }\n    },\n    {\n      \"column\": \"INTENSITY-MEAN\",\n      \"properties\": {\n        \"dtype\": \"number\",\n        \"std\": 38.135291251144125,\n        \"min\": 0.0,\n        \"max\": 143.44444,\n        \"num_unique_values\": 1271,\n        \"samples\": [\n          33.333332\n        ],\n        \"semantic_type\": \"\",\n        \"description\": \"\"\n      }\n    },\n    {\n      \"column\": \"RAWRED-MEAN\",\n      \"properties\": {\n        \"dtype\": \"number\",\n        \"std\": 34.994537648521025,\n        \"min\": 0.0,\n        \"max\": 137.11111,\n        \"num_unique_values\": 681,\n        \"samples\": [\n          83.0\n        ],\n        \"semantic_type\": \"\",\n        \"description\": \"\"\n      }\n    },\n    {\n      \"column\": \"RAWBLUE-MEAN\",\n      \"properties\": {\n        \"dtype\": \"number\",\n        \"std\": 43.51011921688415,\n        \"min\": 0.0,\n        \"max\": 150.88889,\n        \"num_unique_values\": 781,\n        \"samples\": [\n          29.11111\n        ],\n        \"semantic_type\": \"\",\n        \"description\": \"\"\n      }\n    },\n    {\n      \"column\": \"RAWGREEN-MEAN\",\n      \"properties\": {\n        \"dtype\": \"number\",\n        \"std\": 36.30376811479441,\n        \"min\": 0.0,\n        \"max\": 142.55556,\n        \"num_unique_values\": 691,\n        \"samples\": [\n          120.44444\n        ],\n        \"semantic_type\": \"\",\n        \"description\": \"\"\n      }\n    },\n    {\n      \"column\": \"EXRED-MEAN\",\n      \"properties\": {\n        \"dtype\": \"number\",\n        \"std\": 11.588213926529571,\n        \"min\": -49.666668,\n        \"max\": 9.888889,\n        \"num_unique_values\": 430,\n        \"samples\": [\n          -28.222221\n        ],\n        \"semantic_type\": \"\",\n        \"description\": \"\"\n      }\n    },\n    {\n      \"column\": \"EXBLUE-MEAN\",\n      \"properties\": {\n        \"dtype\": \"number\",\n        \"std\": 19.65410749438449,\n        \"min\": -12.444445,\n        \"max\": 82.0,\n        \"num_unique_values\": 636,\n        \"samples\": [\n          2.4444444\n        ],\n        \"semantic_type\": \"\",\n        \"description\": \"\"\n      }\n    },\n    {\n      \"column\": \"EXGREEN-MEAN\",\n      \"properties\": {\n        \"dtype\": \"number\",\n        \"std\": 11.606996083847285,\n        \"min\": -33.88889,\n        \"max\": 24.666666,\n        \"num_unique_values\": 377,\n        \"samples\": [\n          -21.666666\n        ],\n        \"semantic_type\": \"\",\n        \"description\": \"\"\n      }\n    },\n    {\n      \"column\": \"VALUE-MEAN\",\n      \"properties\": {\n        \"dtype\": \"number\",\n        \"std\": 42.900581748332506,\n        \"min\": 0.0,\n        \"max\": 150.88889,\n        \"num_unique_values\": 785,\n        \"samples\": [\n          122.0\n        ],\n        \"semantic_type\": \"\",\n        \"description\": \"\"\n      }\n    },\n    {\n      \"column\": \"SATURATION-MEAN\",\n      \"properties\": {\n        \"dtype\": \"number\",\n        \"std\": 0.22845750588218885,\n        \"min\": 0.0,\n        \"max\": 1.0,\n        \"num_unique_values\": 1899,\n        \"samples\": [\n          0.12738518\n        ],\n        \"semantic_type\": \"\",\n        \"description\": \"\"\n      }\n    },\n    {\n      \"column\": \"HUE-MEAN\",\n      \"properties\": {\n        \"dtype\": \"number\",\n        \"std\": 1.5442778266375843,\n        \"min\": -3.0441751,\n        \"max\": 2.9124804,\n        \"num_unique_values\": 1937,\n        \"samples\": [\n          -2.1609125\n        ],\n        \"semantic_type\": \"\",\n        \"description\": \"\"\n      }\n    }\n  ]\n}"
            }
          },
          "metadata": {},
          "execution_count": 202
        }
      ]
    },
    {
      "cell_type": "code",
      "source": [
        "segment_train.index"
      ],
      "metadata": {
        "colab": {
          "base_uri": "https://localhost:8080/"
        },
        "id": "Zx3aa8BibXlY",
        "outputId": "8192fe97-9667-4290-a95f-909f008b0345"
      },
      "execution_count": 198,
      "outputs": [
        {
          "output_type": "execute_result",
          "data": {
            "text/plain": [
              "Index(['GRASS', 'GRASS', 'GRASS', 'GRASS', 'GRASS', 'GRASS', 'GRASS', 'GRASS',\n",
              "       'GRASS', 'GRASS',\n",
              "       ...\n",
              "       'WINDOW', 'WINDOW', 'WINDOW', 'CEMENT', 'CEMENT', 'CEMENT', 'CEMENT',\n",
              "       'CEMENT', 'CEMENT', 'CEMENT'],\n",
              "      dtype='object', length=2100)"
            ]
          },
          "metadata": {},
          "execution_count": 198
        }
      ]
    },
    {
      "cell_type": "code",
      "source": [
        "segment_train.info()"
      ],
      "metadata": {
        "colab": {
          "base_uri": "https://localhost:8080/"
        },
        "id": "eVg_K7cWcC0y",
        "outputId": "9ebb8131-0238-4bd1-9748-2bc16ebab54b"
      },
      "execution_count": 191,
      "outputs": [
        {
          "output_type": "stream",
          "name": "stdout",
          "text": [
            "<class 'pandas.core.frame.DataFrame'>\n",
            "Index: 2100 entries, GRASS to CEMENT\n",
            "Data columns (total 19 columns):\n",
            " #   Column                Non-Null Count  Dtype  \n",
            "---  ------                --------------  -----  \n",
            " 0   REGION-CENTROID-COL   2100 non-null   float64\n",
            " 1   REGION-CENTROID-ROW   2100 non-null   float64\n",
            " 2   REGION-PIXEL-COUNT    2100 non-null   int64  \n",
            " 3   SHORT-LINE-DENSITY-5  2100 non-null   float64\n",
            " 4   SHORT-LINE-DENSITY-2  2100 non-null   float64\n",
            " 5   VEDGE-MEAN            2100 non-null   float64\n",
            " 6   VEDGE-SD              2100 non-null   float64\n",
            " 7   HEDGE-MEAN            2100 non-null   float64\n",
            " 8   HEDGE-SD              2100 non-null   float64\n",
            " 9   INTENSITY-MEAN        2100 non-null   float64\n",
            " 10  RAWRED-MEAN           2100 non-null   float64\n",
            " 11  RAWBLUE-MEAN          2100 non-null   float64\n",
            " 12  RAWGREEN-MEAN         2100 non-null   float64\n",
            " 13  EXRED-MEAN            2100 non-null   float64\n",
            " 14  EXBLUE-MEAN           2100 non-null   float64\n",
            " 15  EXGREEN-MEAN          2100 non-null   float64\n",
            " 16  VALUE-MEAN            2100 non-null   float64\n",
            " 17  SATURATION-MEAN       2100 non-null   float64\n",
            " 18  HUE-MEAN              2100 non-null   float64\n",
            "dtypes: float64(18), int64(1)\n",
            "memory usage: 328.1+ KB\n"
          ]
        }
      ]
    },
    {
      "cell_type": "code",
      "source": [
        "segment_train['CLASS'] = segment_train.index\n",
        "segment_test['CLASS'] = segment_test.index"
      ],
      "metadata": {
        "id": "aLBtZ46NefFl"
      },
      "execution_count": 203,
      "outputs": []
    },
    {
      "cell_type": "code",
      "source": [
        "segment_train = segment_train.reset_index(drop=True)\n",
        "segment_test = segment_test.reset_index(drop=True)"
      ],
      "metadata": {
        "id": "XPfA4UFcjNqS"
      },
      "execution_count": 205,
      "outputs": []
    },
    {
      "cell_type": "code",
      "source": [
        "segment_test.head()"
      ],
      "metadata": {
        "colab": {
          "base_uri": "https://localhost:8080/",
          "height": 261
        },
        "id": "nXTUWKAufcmh",
        "outputId": "dd981184-5e4a-4fc9-8f6b-cd37ae9ebed7"
      },
      "execution_count": 206,
      "outputs": [
        {
          "output_type": "execute_result",
          "data": {
            "text/plain": [
              "   REGION-CENTROID-COL  REGION-CENTROID-ROW  REGION-PIXEL-COUNT  \\\n",
              "0                140.0                125.0                   9   \n",
              "1                188.0                133.0                   9   \n",
              "2                105.0                139.0                   9   \n",
              "3                 34.0                137.0                   9   \n",
              "4                 39.0                111.0                   9   \n",
              "\n",
              "   SHORT-LINE-DENSITY-5  SHORT-LINE-DENSITY-2  VEDGE-MEAN  VEDGE-SD  \\\n",
              "0                   0.0                   0.0    0.277778  0.062963   \n",
              "1                   0.0                   0.0    0.333333  0.266667   \n",
              "2                   0.0                   0.0    0.277778  0.107407   \n",
              "3                   0.0                   0.0    0.500000  0.166667   \n",
              "4                   0.0                   0.0    0.722222  0.374074   \n",
              "\n",
              "   HEDGE-MEAN  HEDGE-SD  INTENSITY-MEAN  RAWRED-MEAN  RAWBLUE-MEAN  \\\n",
              "0    0.666667  0.311111        6.185185     7.333334      7.666666   \n",
              "1    0.500000  0.077778        6.666666     8.333334      7.777778   \n",
              "2    0.833333  0.522222        6.111111     7.555555      7.222222   \n",
              "3    1.111111  0.474074        5.851852     7.777778      6.444445   \n",
              "4    0.888889  0.429629        6.037037     7.000000      7.666666   \n",
              "\n",
              "   RAWGREEN-MEAN  EXRED-MEAN  EXBLUE-MEAN  EXGREEN-MEAN  VALUE-MEAN  \\\n",
              "0       3.555556    3.444444     4.444445     -7.888889    7.777778   \n",
              "1       3.888889    5.000000     3.333333     -8.333333    8.444445   \n",
              "2       3.555556    4.333334     3.333333     -7.666666    7.555555   \n",
              "3       3.333333    5.777778     1.777778     -7.555555    7.777778   \n",
              "4       3.444444    2.888889     4.888889     -7.777778    7.888889   \n",
              "\n",
              "   SATURATION-MEAN  HUE-MEAN      CLASS  \n",
              "0         0.545635 -1.121818  BRICKFACE  \n",
              "1         0.538580 -0.924817  BRICKFACE  \n",
              "2         0.532628 -0.965946  BRICKFACE  \n",
              "3         0.573633 -0.744272  BRICKFACE  \n",
              "4         0.562919 -1.175773  BRICKFACE  "
            ],
            "text/html": [
              "\n",
              "  <div id=\"df-8b06a898-6260-4ff1-a8c1-77eefbc854a1\" class=\"colab-df-container\">\n",
              "    <div>\n",
              "<style scoped>\n",
              "    .dataframe tbody tr th:only-of-type {\n",
              "        vertical-align: middle;\n",
              "    }\n",
              "\n",
              "    .dataframe tbody tr th {\n",
              "        vertical-align: top;\n",
              "    }\n",
              "\n",
              "    .dataframe thead th {\n",
              "        text-align: right;\n",
              "    }\n",
              "</style>\n",
              "<table border=\"1\" class=\"dataframe\">\n",
              "  <thead>\n",
              "    <tr style=\"text-align: right;\">\n",
              "      <th></th>\n",
              "      <th>REGION-CENTROID-COL</th>\n",
              "      <th>REGION-CENTROID-ROW</th>\n",
              "      <th>REGION-PIXEL-COUNT</th>\n",
              "      <th>SHORT-LINE-DENSITY-5</th>\n",
              "      <th>SHORT-LINE-DENSITY-2</th>\n",
              "      <th>VEDGE-MEAN</th>\n",
              "      <th>VEDGE-SD</th>\n",
              "      <th>HEDGE-MEAN</th>\n",
              "      <th>HEDGE-SD</th>\n",
              "      <th>INTENSITY-MEAN</th>\n",
              "      <th>RAWRED-MEAN</th>\n",
              "      <th>RAWBLUE-MEAN</th>\n",
              "      <th>RAWGREEN-MEAN</th>\n",
              "      <th>EXRED-MEAN</th>\n",
              "      <th>EXBLUE-MEAN</th>\n",
              "      <th>EXGREEN-MEAN</th>\n",
              "      <th>VALUE-MEAN</th>\n",
              "      <th>SATURATION-MEAN</th>\n",
              "      <th>HUE-MEAN</th>\n",
              "      <th>CLASS</th>\n",
              "    </tr>\n",
              "  </thead>\n",
              "  <tbody>\n",
              "    <tr>\n",
              "      <th>0</th>\n",
              "      <td>140.0</td>\n",
              "      <td>125.0</td>\n",
              "      <td>9</td>\n",
              "      <td>0.0</td>\n",
              "      <td>0.0</td>\n",
              "      <td>0.277778</td>\n",
              "      <td>0.062963</td>\n",
              "      <td>0.666667</td>\n",
              "      <td>0.311111</td>\n",
              "      <td>6.185185</td>\n",
              "      <td>7.333334</td>\n",
              "      <td>7.666666</td>\n",
              "      <td>3.555556</td>\n",
              "      <td>3.444444</td>\n",
              "      <td>4.444445</td>\n",
              "      <td>-7.888889</td>\n",
              "      <td>7.777778</td>\n",
              "      <td>0.545635</td>\n",
              "      <td>-1.121818</td>\n",
              "      <td>BRICKFACE</td>\n",
              "    </tr>\n",
              "    <tr>\n",
              "      <th>1</th>\n",
              "      <td>188.0</td>\n",
              "      <td>133.0</td>\n",
              "      <td>9</td>\n",
              "      <td>0.0</td>\n",
              "      <td>0.0</td>\n",
              "      <td>0.333333</td>\n",
              "      <td>0.266667</td>\n",
              "      <td>0.500000</td>\n",
              "      <td>0.077778</td>\n",
              "      <td>6.666666</td>\n",
              "      <td>8.333334</td>\n",
              "      <td>7.777778</td>\n",
              "      <td>3.888889</td>\n",
              "      <td>5.000000</td>\n",
              "      <td>3.333333</td>\n",
              "      <td>-8.333333</td>\n",
              "      <td>8.444445</td>\n",
              "      <td>0.538580</td>\n",
              "      <td>-0.924817</td>\n",
              "      <td>BRICKFACE</td>\n",
              "    </tr>\n",
              "    <tr>\n",
              "      <th>2</th>\n",
              "      <td>105.0</td>\n",
              "      <td>139.0</td>\n",
              "      <td>9</td>\n",
              "      <td>0.0</td>\n",
              "      <td>0.0</td>\n",
              "      <td>0.277778</td>\n",
              "      <td>0.107407</td>\n",
              "      <td>0.833333</td>\n",
              "      <td>0.522222</td>\n",
              "      <td>6.111111</td>\n",
              "      <td>7.555555</td>\n",
              "      <td>7.222222</td>\n",
              "      <td>3.555556</td>\n",
              "      <td>4.333334</td>\n",
              "      <td>3.333333</td>\n",
              "      <td>-7.666666</td>\n",
              "      <td>7.555555</td>\n",
              "      <td>0.532628</td>\n",
              "      <td>-0.965946</td>\n",
              "      <td>BRICKFACE</td>\n",
              "    </tr>\n",
              "    <tr>\n",
              "      <th>3</th>\n",
              "      <td>34.0</td>\n",
              "      <td>137.0</td>\n",
              "      <td>9</td>\n",
              "      <td>0.0</td>\n",
              "      <td>0.0</td>\n",
              "      <td>0.500000</td>\n",
              "      <td>0.166667</td>\n",
              "      <td>1.111111</td>\n",
              "      <td>0.474074</td>\n",
              "      <td>5.851852</td>\n",
              "      <td>7.777778</td>\n",
              "      <td>6.444445</td>\n",
              "      <td>3.333333</td>\n",
              "      <td>5.777778</td>\n",
              "      <td>1.777778</td>\n",
              "      <td>-7.555555</td>\n",
              "      <td>7.777778</td>\n",
              "      <td>0.573633</td>\n",
              "      <td>-0.744272</td>\n",
              "      <td>BRICKFACE</td>\n",
              "    </tr>\n",
              "    <tr>\n",
              "      <th>4</th>\n",
              "      <td>39.0</td>\n",
              "      <td>111.0</td>\n",
              "      <td>9</td>\n",
              "      <td>0.0</td>\n",
              "      <td>0.0</td>\n",
              "      <td>0.722222</td>\n",
              "      <td>0.374074</td>\n",
              "      <td>0.888889</td>\n",
              "      <td>0.429629</td>\n",
              "      <td>6.037037</td>\n",
              "      <td>7.000000</td>\n",
              "      <td>7.666666</td>\n",
              "      <td>3.444444</td>\n",
              "      <td>2.888889</td>\n",
              "      <td>4.888889</td>\n",
              "      <td>-7.777778</td>\n",
              "      <td>7.888889</td>\n",
              "      <td>0.562919</td>\n",
              "      <td>-1.175773</td>\n",
              "      <td>BRICKFACE</td>\n",
              "    </tr>\n",
              "  </tbody>\n",
              "</table>\n",
              "</div>\n",
              "    <div class=\"colab-df-buttons\">\n",
              "\n",
              "  <div class=\"colab-df-container\">\n",
              "    <button class=\"colab-df-convert\" onclick=\"convertToInteractive('df-8b06a898-6260-4ff1-a8c1-77eefbc854a1')\"\n",
              "            title=\"Convert this dataframe to an interactive table.\"\n",
              "            style=\"display:none;\">\n",
              "\n",
              "  <svg xmlns=\"http://www.w3.org/2000/svg\" height=\"24px\" viewBox=\"0 -960 960 960\">\n",
              "    <path d=\"M120-120v-720h720v720H120Zm60-500h600v-160H180v160Zm220 220h160v-160H400v160Zm0 220h160v-160H400v160ZM180-400h160v-160H180v160Zm440 0h160v-160H620v160ZM180-180h160v-160H180v160Zm440 0h160v-160H620v160Z\"/>\n",
              "  </svg>\n",
              "    </button>\n",
              "\n",
              "  <style>\n",
              "    .colab-df-container {\n",
              "      display:flex;\n",
              "      gap: 12px;\n",
              "    }\n",
              "\n",
              "    .colab-df-convert {\n",
              "      background-color: #E8F0FE;\n",
              "      border: none;\n",
              "      border-radius: 50%;\n",
              "      cursor: pointer;\n",
              "      display: none;\n",
              "      fill: #1967D2;\n",
              "      height: 32px;\n",
              "      padding: 0 0 0 0;\n",
              "      width: 32px;\n",
              "    }\n",
              "\n",
              "    .colab-df-convert:hover {\n",
              "      background-color: #E2EBFA;\n",
              "      box-shadow: 0px 1px 2px rgba(60, 64, 67, 0.3), 0px 1px 3px 1px rgba(60, 64, 67, 0.15);\n",
              "      fill: #174EA6;\n",
              "    }\n",
              "\n",
              "    .colab-df-buttons div {\n",
              "      margin-bottom: 4px;\n",
              "    }\n",
              "\n",
              "    [theme=dark] .colab-df-convert {\n",
              "      background-color: #3B4455;\n",
              "      fill: #D2E3FC;\n",
              "    }\n",
              "\n",
              "    [theme=dark] .colab-df-convert:hover {\n",
              "      background-color: #434B5C;\n",
              "      box-shadow: 0px 1px 3px 1px rgba(0, 0, 0, 0.15);\n",
              "      filter: drop-shadow(0px 1px 2px rgba(0, 0, 0, 0.3));\n",
              "      fill: #FFFFFF;\n",
              "    }\n",
              "  </style>\n",
              "\n",
              "    <script>\n",
              "      const buttonEl =\n",
              "        document.querySelector('#df-8b06a898-6260-4ff1-a8c1-77eefbc854a1 button.colab-df-convert');\n",
              "      buttonEl.style.display =\n",
              "        google.colab.kernel.accessAllowed ? 'block' : 'none';\n",
              "\n",
              "      async function convertToInteractive(key) {\n",
              "        const element = document.querySelector('#df-8b06a898-6260-4ff1-a8c1-77eefbc854a1');\n",
              "        const dataTable =\n",
              "          await google.colab.kernel.invokeFunction('convertToInteractive',\n",
              "                                                    [key], {});\n",
              "        if (!dataTable) return;\n",
              "\n",
              "        const docLinkHtml = 'Like what you see? Visit the ' +\n",
              "          '<a target=\"_blank\" href=https://colab.research.google.com/notebooks/data_table.ipynb>data table notebook</a>'\n",
              "          + ' to learn more about interactive tables.';\n",
              "        element.innerHTML = '';\n",
              "        dataTable['output_type'] = 'display_data';\n",
              "        await google.colab.output.renderOutput(dataTable, element);\n",
              "        const docLink = document.createElement('div');\n",
              "        docLink.innerHTML = docLinkHtml;\n",
              "        element.appendChild(docLink);\n",
              "      }\n",
              "    </script>\n",
              "  </div>\n",
              "\n",
              "\n",
              "<div id=\"df-dd249960-f7e3-40f9-a5b5-e55ea8c880c7\">\n",
              "  <button class=\"colab-df-quickchart\" onclick=\"quickchart('df-dd249960-f7e3-40f9-a5b5-e55ea8c880c7')\"\n",
              "            title=\"Suggest charts\"\n",
              "            style=\"display:none;\">\n",
              "\n",
              "<svg xmlns=\"http://www.w3.org/2000/svg\" height=\"24px\"viewBox=\"0 0 24 24\"\n",
              "     width=\"24px\">\n",
              "    <g>\n",
              "        <path d=\"M19 3H5c-1.1 0-2 .9-2 2v14c0 1.1.9 2 2 2h14c1.1 0 2-.9 2-2V5c0-1.1-.9-2-2-2zM9 17H7v-7h2v7zm4 0h-2V7h2v10zm4 0h-2v-4h2v4z\"/>\n",
              "    </g>\n",
              "</svg>\n",
              "  </button>\n",
              "\n",
              "<style>\n",
              "  .colab-df-quickchart {\n",
              "      --bg-color: #E8F0FE;\n",
              "      --fill-color: #1967D2;\n",
              "      --hover-bg-color: #E2EBFA;\n",
              "      --hover-fill-color: #174EA6;\n",
              "      --disabled-fill-color: #AAA;\n",
              "      --disabled-bg-color: #DDD;\n",
              "  }\n",
              "\n",
              "  [theme=dark] .colab-df-quickchart {\n",
              "      --bg-color: #3B4455;\n",
              "      --fill-color: #D2E3FC;\n",
              "      --hover-bg-color: #434B5C;\n",
              "      --hover-fill-color: #FFFFFF;\n",
              "      --disabled-bg-color: #3B4455;\n",
              "      --disabled-fill-color: #666;\n",
              "  }\n",
              "\n",
              "  .colab-df-quickchart {\n",
              "    background-color: var(--bg-color);\n",
              "    border: none;\n",
              "    border-radius: 50%;\n",
              "    cursor: pointer;\n",
              "    display: none;\n",
              "    fill: var(--fill-color);\n",
              "    height: 32px;\n",
              "    padding: 0;\n",
              "    width: 32px;\n",
              "  }\n",
              "\n",
              "  .colab-df-quickchart:hover {\n",
              "    background-color: var(--hover-bg-color);\n",
              "    box-shadow: 0 1px 2px rgba(60, 64, 67, 0.3), 0 1px 3px 1px rgba(60, 64, 67, 0.15);\n",
              "    fill: var(--button-hover-fill-color);\n",
              "  }\n",
              "\n",
              "  .colab-df-quickchart-complete:disabled,\n",
              "  .colab-df-quickchart-complete:disabled:hover {\n",
              "    background-color: var(--disabled-bg-color);\n",
              "    fill: var(--disabled-fill-color);\n",
              "    box-shadow: none;\n",
              "  }\n",
              "\n",
              "  .colab-df-spinner {\n",
              "    border: 2px solid var(--fill-color);\n",
              "    border-color: transparent;\n",
              "    border-bottom-color: var(--fill-color);\n",
              "    animation:\n",
              "      spin 1s steps(1) infinite;\n",
              "  }\n",
              "\n",
              "  @keyframes spin {\n",
              "    0% {\n",
              "      border-color: transparent;\n",
              "      border-bottom-color: var(--fill-color);\n",
              "      border-left-color: var(--fill-color);\n",
              "    }\n",
              "    20% {\n",
              "      border-color: transparent;\n",
              "      border-left-color: var(--fill-color);\n",
              "      border-top-color: var(--fill-color);\n",
              "    }\n",
              "    30% {\n",
              "      border-color: transparent;\n",
              "      border-left-color: var(--fill-color);\n",
              "      border-top-color: var(--fill-color);\n",
              "      border-right-color: var(--fill-color);\n",
              "    }\n",
              "    40% {\n",
              "      border-color: transparent;\n",
              "      border-right-color: var(--fill-color);\n",
              "      border-top-color: var(--fill-color);\n",
              "    }\n",
              "    60% {\n",
              "      border-color: transparent;\n",
              "      border-right-color: var(--fill-color);\n",
              "    }\n",
              "    80% {\n",
              "      border-color: transparent;\n",
              "      border-right-color: var(--fill-color);\n",
              "      border-bottom-color: var(--fill-color);\n",
              "    }\n",
              "    90% {\n",
              "      border-color: transparent;\n",
              "      border-bottom-color: var(--fill-color);\n",
              "    }\n",
              "  }\n",
              "</style>\n",
              "\n",
              "  <script>\n",
              "    async function quickchart(key) {\n",
              "      const quickchartButtonEl =\n",
              "        document.querySelector('#' + key + ' button');\n",
              "      quickchartButtonEl.disabled = true;  // To prevent multiple clicks.\n",
              "      quickchartButtonEl.classList.add('colab-df-spinner');\n",
              "      try {\n",
              "        const charts = await google.colab.kernel.invokeFunction(\n",
              "            'suggestCharts', [key], {});\n",
              "      } catch (error) {\n",
              "        console.error('Error during call to suggestCharts:', error);\n",
              "      }\n",
              "      quickchartButtonEl.classList.remove('colab-df-spinner');\n",
              "      quickchartButtonEl.classList.add('colab-df-quickchart-complete');\n",
              "    }\n",
              "    (() => {\n",
              "      let quickchartButtonEl =\n",
              "        document.querySelector('#df-dd249960-f7e3-40f9-a5b5-e55ea8c880c7 button');\n",
              "      quickchartButtonEl.style.display =\n",
              "        google.colab.kernel.accessAllowed ? 'block' : 'none';\n",
              "    })();\n",
              "  </script>\n",
              "</div>\n",
              "\n",
              "    </div>\n",
              "  </div>\n"
            ],
            "application/vnd.google.colaboratory.intrinsic+json": {
              "type": "dataframe",
              "variable_name": "segment_test",
              "summary": "{\n  \"name\": \"segment_test\",\n  \"rows\": 210,\n  \"fields\": [\n    {\n      \"column\": \"REGION-CENTROID-COL\",\n      \"properties\": {\n        \"dtype\": \"number\",\n        \"std\": 74.10402373702024,\n        \"min\": 1.0,\n        \"max\": 252.0,\n        \"num_unique_values\": 139,\n        \"samples\": [\n          232.0,\n          58.0,\n          21.0\n        ],\n        \"semantic_type\": \"\",\n        \"description\": \"\"\n      }\n    },\n    {\n      \"column\": \"REGION-CENTROID-ROW\",\n      \"properties\": {\n        \"dtype\": \"number\",\n        \"std\": 58.1396855414602,\n        \"min\": 11.0,\n        \"max\": 250.0,\n        \"num_unique_values\": 139,\n        \"samples\": [\n          184.0,\n          45.0,\n          29.0\n        ],\n        \"semantic_type\": \"\",\n        \"description\": \"\"\n      }\n    },\n    {\n      \"column\": \"REGION-PIXEL-COUNT\",\n      \"properties\": {\n        \"dtype\": \"number\",\n        \"std\": 0,\n        \"min\": 9,\n        \"max\": 9,\n        \"num_unique_values\": 1,\n        \"samples\": [\n          9\n        ],\n        \"semantic_type\": \"\",\n        \"description\": \"\"\n      }\n    },\n    {\n      \"column\": \"SHORT-LINE-DENSITY-5\",\n      \"properties\": {\n        \"dtype\": \"number\",\n        \"std\": 0.029548507677113485,\n        \"min\": 0.0,\n        \"max\": 0.11111111,\n        \"num_unique_values\": 2,\n        \"samples\": [\n          0.11111111\n        ],\n        \"semantic_type\": \"\",\n        \"description\": \"\"\n      }\n    },\n    {\n      \"column\": \"SHORT-LINE-DENSITY-2\",\n      \"properties\": {\n        \"dtype\": \"number\",\n        \"std\": 0.03007687534278999,\n        \"min\": 0.0,\n        \"max\": 0.22222222,\n        \"num_unique_values\": 3,\n        \"samples\": [\n          0.0\n        ],\n        \"semantic_type\": \"\",\n        \"description\": \"\"\n      }\n    },\n    {\n      \"column\": \"VEDGE-MEAN\",\n      \"properties\": {\n        \"dtype\": \"number\",\n        \"std\": 3.158211423890182,\n        \"min\": 0.0,\n        \"max\": 25.5,\n        \"num_unique_values\": 160,\n        \"samples\": [\n          1.7222222\n        ],\n        \"semantic_type\": \"\",\n        \"description\": \"\"\n      }\n    },\n    {\n      \"column\": \"VEDGE-SD\",\n      \"properties\": {\n        \"dtype\": \"number\",\n        \"std\": 43.49594197730217,\n        \"min\": 0.0,\n        \"max\": 572.9964,\n        \"num_unique_values\": 202,\n        \"samples\": [\n          0.7793635\n        ],\n        \"semantic_type\": \"\",\n        \"description\": \"\"\n      }\n    },\n    {\n      \"column\": \"HEDGE-MEAN\",\n      \"properties\": {\n        \"dtype\": \"number\",\n        \"std\": 4.7982679462201085,\n        \"min\": 0.0,\n        \"max\": 44.722225,\n        \"num_unique_values\": 164,\n        \"samples\": [\n          5.2222214\n        ],\n        \"semantic_type\": \"\",\n        \"description\": \"\"\n      }\n    },\n    {\n      \"column\": \"HEDGE-SD\",\n      \"properties\": {\n        \"dtype\": \"number\",\n        \"std\": 97.39002304965264,\n        \"min\": 0.0,\n        \"max\": 1386.3292,\n        \"num_unique_values\": 202,\n        \"samples\": [\n          1.186342\n        ],\n        \"semantic_type\": \"\",\n        \"description\": \"\"\n      }\n    },\n    {\n      \"column\": \"INTENSITY-MEAN\",\n      \"properties\": {\n        \"dtype\": \"number\",\n        \"std\": 38.677167899526836,\n        \"min\": 0.0,\n        \"max\": 143.44444,\n        \"num_unique_values\": 196,\n        \"samples\": [\n          2.1111112\n        ],\n        \"semantic_type\": \"\",\n        \"description\": \"\"\n      }\n    },\n    {\n      \"column\": \"RAWRED-MEAN\",\n      \"properties\": {\n        \"dtype\": \"number\",\n        \"std\": 35.540563469991476,\n        \"min\": 0.0,\n        \"max\": 136.88889,\n        \"num_unique_values\": 160,\n        \"samples\": [\n          14.555555\n        ],\n        \"semantic_type\": \"\",\n        \"description\": \"\"\n      }\n    },\n    {\n      \"column\": \"RAWBLUE-MEAN\",\n      \"properties\": {\n        \"dtype\": \"number\",\n        \"std\": 43.8044469451816,\n        \"min\": 0.0,\n        \"max\": 150.88889,\n        \"num_unique_values\": 175,\n        \"samples\": [\n          17.88889\n        ],\n        \"semantic_type\": \"\",\n        \"description\": \"\"\n      }\n    },\n    {\n      \"column\": \"RAWGREEN-MEAN\",\n      \"properties\": {\n        \"dtype\": \"number\",\n        \"std\": 37.05700252549078,\n        \"min\": 0.0,\n        \"max\": 142.55556,\n        \"num_unique_values\": 154,\n        \"samples\": [\n          3.6666667\n        ],\n        \"semantic_type\": \"\",\n        \"description\": \"\"\n      }\n    },\n    {\n      \"column\": \"EXRED-MEAN\",\n      \"properties\": {\n        \"dtype\": \"number\",\n        \"std\": 11.559599057642876,\n        \"min\": -48.22222,\n        \"max\": 5.7777777,\n        \"num_unique_values\": 156,\n        \"samples\": [\n          -14.333333\n        ],\n        \"semantic_type\": \"\",\n        \"description\": \"\"\n      }\n    },\n    {\n      \"column\": \"EXBLUE-MEAN\",\n      \"properties\": {\n        \"dtype\": \"number\",\n        \"std\": 18.761842297569604,\n        \"min\": -9.666667,\n        \"max\": 78.77778,\n        \"num_unique_values\": 168,\n        \"samples\": [\n          45.11111\n        ],\n        \"semantic_type\": \"\",\n        \"description\": \"\"\n      }\n    },\n    {\n      \"column\": \"EXGREEN-MEAN\",\n      \"properties\": {\n        \"dtype\": \"number\",\n        \"std\": 11.003746151323178,\n        \"min\": -30.555555,\n        \"max\": 21.88889,\n        \"num_unique_values\": 151,\n        \"samples\": [\n          -18.11111\n        ],\n        \"semantic_type\": \"\",\n        \"description\": \"\"\n      }\n    },\n    {\n      \"column\": \"VALUE-MEAN\",\n      \"properties\": {\n        \"dtype\": \"number\",\n        \"std\": 43.23518235830037,\n        \"min\": 0.0,\n        \"max\": 150.88889,\n        \"num_unique_values\": 175,\n        \"samples\": [\n          19.88889\n        ],\n        \"semantic_type\": \"\",\n        \"description\": \"\"\n      }\n    },\n    {\n      \"column\": \"SATURATION-MEAN\",\n      \"properties\": {\n        \"dtype\": \"number\",\n        \"std\": 0.22733330772007826,\n        \"min\": 0.0,\n        \"max\": 1.0,\n        \"num_unique_values\": 202,\n        \"samples\": [\n          0.2453213\n        ],\n        \"semantic_type\": \"\",\n        \"description\": \"\"\n      }\n    },\n    {\n      \"column\": \"HUE-MEAN\",\n      \"properties\": {\n        \"dtype\": \"number\",\n        \"std\": 1.5594054046531285,\n        \"min\": -2.5309503,\n        \"max\": 2.8649306,\n        \"num_unique_values\": 202,\n        \"samples\": [\n          -1.9107349\n        ],\n        \"semantic_type\": \"\",\n        \"description\": \"\"\n      }\n    },\n    {\n      \"column\": \"CLASS\",\n      \"properties\": {\n        \"dtype\": \"category\",\n        \"num_unique_values\": 7,\n        \"samples\": [\n          \"BRICKFACE\"\n        ],\n        \"semantic_type\": \"\",\n        \"description\": \"\"\n      }\n    }\n  ]\n}"
            }
          },
          "metadata": {},
          "execution_count": 206
        }
      ]
    },
    {
      "cell_type": "code",
      "source": [
        "# Separar datos de entrenamiento\n",
        "target = 'CLASS'\n",
        "X_train = segment_train.drop(columns=target)\n",
        "y_train = segment_train[target]\n",
        "\n",
        "y_train = binarizer.fit_transform(y_train)\n",
        "\n",
        "# Seprar datos de test\n",
        "X_test = segment_test.drop(columns=target)\n",
        "y_test = segment_test[target]\n",
        "\n",
        "y_test = binarizer.fit_transform(y_test)"
      ],
      "metadata": {
        "id": "6wHFbz8hjZga"
      },
      "execution_count": 210,
      "outputs": []
    },
    {
      "cell_type": "code",
      "source": [
        "# normalizar\n",
        "X_train = normalizador.fit_transform(X_train)\n",
        "X_test = normalizador.transform(X_test)"
      ],
      "metadata": {
        "id": "s-W-XMiokaKA"
      },
      "execution_count": 211,
      "outputs": []
    },
    {
      "cell_type": "code",
      "source": [
        "# hiperparams y modelo\n",
        "alfa = 0.01\n",
        "iter = 5000\n",
        "cota = 1e-7\n",
        "activation_fun = 'tanh'\n",
        "solver = 'sgd'\n",
        "\n",
        "neuronas = [10,11,12,13]\n",
        "for n in neuronas:\n",
        "  print(f'Neuronas ocultas {n}')\n",
        "  total_train = 0\n",
        "  total_test = 0\n",
        "  for i in range(10):\n",
        "    modelo_6 = MLPClassifier(solver=solver,\n",
        "                            learning_rate_init=alfa,\n",
        "                            max_iter=iter,\n",
        "                            tol=cota,\n",
        "                            activation=activation_fun,\n",
        "                            hidden_layer_sizes=(n),\n",
        "                            verbose=False).fit(X_train,y_train)\n",
        "\n",
        "    modelo_6.out_activation= 'softmax'\n",
        "    train = modelo_6.score(X_train, y_train)\n",
        "    test = modelo_6.score(X_test, y_test)\n",
        "    total_train += train\n",
        "    total_test += test\n",
        "    print(f'iteración: {i} \\nScore train: {train} \\nScore test: {test}')\n",
        "    print('-'*30)\n",
        "  print(f'Promedio test: {total_test/10} \\nPromedio train: {total_train/10}')\n",
        "  print('*'*40)\n"
      ],
      "metadata": {
        "colab": {
          "base_uri": "https://localhost:8080/"
        },
        "id": "V-V5CEQhlDhl",
        "outputId": "07c6fced-de96-48f3-d5f8-b058a8332d4f"
      },
      "execution_count": 227,
      "outputs": [
        {
          "output_type": "stream",
          "name": "stdout",
          "text": [
            "Neuronas ocultas 10\n",
            "iteración: 0 \n",
            "Score train: 0.9561904761904761 \n",
            "Score test: 0.9380952380952381\n",
            "------------------------------\n",
            "iteración: 1 \n",
            "Score train: 0.9685714285714285 \n",
            "Score test: 0.9666666666666667\n",
            "------------------------------\n",
            "iteración: 2 \n",
            "Score train: 0.9657142857142857 \n",
            "Score test: 0.9571428571428572\n",
            "------------------------------\n",
            "iteración: 3 \n",
            "Score train: 0.9723809523809523 \n",
            "Score test: 0.9571428571428572\n",
            "------------------------------\n",
            "iteración: 4 \n",
            "Score train: 0.9661904761904762 \n",
            "Score test: 0.9571428571428572\n",
            "------------------------------\n",
            "iteración: 5 \n",
            "Score train: 0.9661904761904762 \n",
            "Score test: 0.9571428571428572\n",
            "------------------------------\n",
            "iteración: 6 \n",
            "Score train: 0.9709523809523809 \n",
            "Score test: 0.9523809523809523\n",
            "------------------------------\n",
            "iteración: 7 \n",
            "Score train: 0.9619047619047619 \n",
            "Score test: 0.9571428571428572\n",
            "------------------------------\n",
            "iteración: 8 \n",
            "Score train: 0.969047619047619 \n",
            "Score test: 0.9619047619047619\n",
            "------------------------------\n",
            "iteración: 9 \n",
            "Score train: 0.9728571428571429 \n",
            "Score test: 0.9619047619047619\n",
            "------------------------------\n",
            "Promedio test: 0.9566666666666667 \n",
            "Promedio train: 0.967\n",
            "****************************************\n",
            "Neuronas ocultas 11\n",
            "iteración: 0 \n",
            "Score train: 0.9671428571428572 \n",
            "Score test: 0.9571428571428572\n",
            "------------------------------\n",
            "iteración: 1 \n",
            "Score train: 0.9666666666666667 \n",
            "Score test: 0.9571428571428572\n",
            "------------------------------\n",
            "iteración: 2 \n",
            "Score train: 0.9642857142857143 \n",
            "Score test: 0.9428571428571428\n",
            "------------------------------\n",
            "iteración: 3 \n",
            "Score train: 0.9638095238095238 \n",
            "Score test: 0.9619047619047619\n",
            "------------------------------\n",
            "iteración: 4 \n",
            "Score train: 0.9709523809523809 \n",
            "Score test: 0.9666666666666667\n",
            "------------------------------\n",
            "iteración: 5 \n",
            "Score train: 0.9666666666666667 \n",
            "Score test: 0.9571428571428572\n",
            "------------------------------\n",
            "iteración: 6 \n",
            "Score train: 0.9695238095238096 \n",
            "Score test: 0.9619047619047619\n",
            "------------------------------\n",
            "iteración: 7 \n",
            "Score train: 0.9728571428571429 \n",
            "Score test: 0.9761904761904762\n",
            "------------------------------\n",
            "iteración: 8 \n",
            "Score train: 0.9695238095238096 \n",
            "Score test: 0.9571428571428572\n",
            "------------------------------\n",
            "iteración: 9 \n",
            "Score train: 0.9709523809523809 \n",
            "Score test: 0.9666666666666667\n",
            "------------------------------\n",
            "Promedio test: 0.9604761904761905 \n",
            "Promedio train: 0.9682380952380953\n",
            "****************************************\n",
            "Neuronas ocultas 12\n",
            "iteración: 0 \n",
            "Score train: 0.9685714285714285 \n",
            "Score test: 0.9619047619047619\n",
            "------------------------------\n",
            "iteración: 1 \n",
            "Score train: 0.969047619047619 \n",
            "Score test: 0.9571428571428572\n",
            "------------------------------\n",
            "iteración: 2 \n",
            "Score train: 0.9671428571428572 \n",
            "Score test: 0.9619047619047619\n",
            "------------------------------\n",
            "iteración: 3 \n",
            "Score train: 0.9657142857142857 \n",
            "Score test: 0.9523809523809523\n",
            "------------------------------\n",
            "iteración: 4 \n",
            "Score train: 0.9704761904761905 \n",
            "Score test: 0.9619047619047619\n",
            "------------------------------\n",
            "iteración: 5 \n",
            "Score train: 0.9733333333333334 \n",
            "Score test: 0.9714285714285714\n",
            "------------------------------\n",
            "iteración: 6 \n",
            "Score train: 0.9747619047619047 \n",
            "Score test: 0.9666666666666667\n",
            "------------------------------\n",
            "iteración: 7 \n",
            "Score train: 0.9652380952380952 \n",
            "Score test: 0.9523809523809523\n",
            "------------------------------\n",
            "iteración: 8 \n",
            "Score train: 0.9714285714285714 \n",
            "Score test: 0.9523809523809523\n",
            "------------------------------\n",
            "iteración: 9 \n",
            "Score train: 0.9633333333333334 \n",
            "Score test: 0.9523809523809523\n",
            "------------------------------\n",
            "Promedio test: 0.959047619047619 \n",
            "Promedio train: 0.9689047619047617\n",
            "****************************************\n",
            "Neuronas ocultas 13\n",
            "iteración: 0 \n",
            "Score train: 0.9695238095238096 \n",
            "Score test: 0.9476190476190476\n",
            "------------------------------\n",
            "iteración: 1 \n",
            "Score train: 0.9728571428571429 \n",
            "Score test: 0.9571428571428572\n",
            "------------------------------\n",
            "iteración: 2 \n",
            "Score train: 0.9685714285714285 \n",
            "Score test: 0.9619047619047619\n",
            "------------------------------\n",
            "iteración: 3 \n",
            "Score train: 0.9728571428571429 \n",
            "Score test: 0.9619047619047619\n",
            "------------------------------\n",
            "iteración: 4 \n",
            "Score train: 0.97 \n",
            "Score test: 0.9619047619047619\n",
            "------------------------------\n",
            "iteración: 5 \n",
            "Score train: 0.9719047619047619 \n",
            "Score test: 0.9714285714285714\n",
            "------------------------------\n",
            "iteración: 6 \n",
            "Score train: 0.9628571428571429 \n",
            "Score test: 0.9571428571428572\n",
            "------------------------------\n",
            "iteración: 7 \n",
            "Score train: 0.9742857142857143 \n",
            "Score test: 0.9619047619047619\n",
            "------------------------------\n",
            "iteración: 8 \n",
            "Score train: 0.9680952380952381 \n",
            "Score test: 0.9571428571428572\n",
            "------------------------------\n",
            "iteración: 9 \n",
            "Score train: 0.9747619047619047 \n",
            "Score test: 0.9666666666666667\n",
            "------------------------------\n",
            "Promedio test: 0.9604761904761905 \n",
            "Promedio train: 0.9705714285714286\n",
            "****************************************\n"
          ]
        }
      ]
    }
  ]
}