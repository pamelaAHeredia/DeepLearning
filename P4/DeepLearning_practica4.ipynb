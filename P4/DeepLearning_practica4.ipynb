{
  "nbformat": 4,
  "nbformat_minor": 0,
  "metadata": {
    "colab": {
      "provenance": []
    },
    "kernelspec": {
      "name": "python3",
      "display_name": "Python 3"
    },
    "language_info": {
      "name": "python"
    }
  },
  "cells": [
    {
      "cell_type": "markdown",
      "source": [
        "# Práctica 4 - Multiperceptrón\n",
        "\n",
        "##Objetivos\n",
        "El objetivo de esta práctica es comprender el funcionamiento del multiperceptrón.\n",
        "\n",
        "##Temas\n",
        "\n",
        "* Métricas: precision, recall, F1-Score\n",
        "* Multiperceptrón\n",
        "\n",
        "##Lectura\n",
        "Material de Lectura: Capítulos 2 y 3 del libro Neural Networks and Deep Learning."
      ],
      "metadata": {
        "id": "dGKbJPh5Q2VZ"
      }
    },
    {
      "cell_type": "markdown",
      "source": [
        "# Imports"
      ],
      "metadata": {
        "id": "i-1hWvn9SsoB"
      }
    },
    {
      "cell_type": "code",
      "execution_count": 2,
      "metadata": {
        "colab": {
          "base_uri": "https://localhost:8080/"
        },
        "id": "ibIfMsL9K2fj",
        "outputId": "d1a44ccb-9093-4ea9-e609-d474b4847964"
      },
      "outputs": [
        {
          "output_type": "stream",
          "name": "stdout",
          "text": [
            "Mounted at /content/drive/\n"
          ]
        }
      ],
      "source": [
        "from google.colab import drive\n",
        "drive.mount('/content/drive/')\n",
        "\n",
        "FUENTES_DIR = '/content/drive/MyDrive/DeepLearning-colab/Fuentes-20240901'\n",
        "DATOS_DIR = '/content/drive/MyDrive/DeepLearning-colab/Datos-20240901'\n",
        "\n",
        "import sys\n",
        "sys.path.append(FUENTES_DIR)"
      ]
    },
    {
      "cell_type": "code",
      "source": [
        "import pandas as pd\n",
        "import numpy as np"
      ],
      "metadata": {
        "id": "WdOjFdA4UEhu"
      },
      "execution_count": null,
      "outputs": []
    },
    {
      "cell_type": "markdown",
      "source": [
        "# Parte 1 - Multiperceptrón con SciKit-Learn"
      ],
      "metadata": {
        "id": "scyr6NC0Uetv"
      }
    },
    {
      "cell_type": "markdown",
      "source": [
        "## Ejercicio 1\n",
        "\n",
        "Se entrenó una red neuronal multiperceptrón para resolver un problema de clasificación y al medir su desempeño sobre el conjunto de datos de entrenamiento se obtuvo la siguiente matriz de confusión:\n",
        "\n",
        "|10|0|1|0|1|\n",
        "|--|-|-|-|-|\n",
        "|0|12|0|0|0|\n",
        "|0|0|12|0|0|\n",
        "|2|0|0|38|0|\n",
        "|0|8|0|0|61|\n",
        "\n",
        "<ol type='a'>\n",
        "  <li> En base a esta información, indique:</li>\n",
        "  <ul type='*'>\n",
        "  <li>Cuántos ejemplos se utilizaron en el entrenamiento.</li>\n",
        "  <li>Cuántas clases puede reconocer este multiperceptrón.</li>\n",
        "  <li>Cuál es la precisión (accuracy) de la red sobre el conjunto de ejemplos completo.</li>\n",
        "  <li>Cuáles son los valores de precisión de la red al responder por cada uno de los valores de clase\n",
        "(precision).</li>\n",
        "  <li>Cuáles son los valores de sensibilidad de la red al responder por cada uno de los valores de clase\n",
        "(recall).</li>\n",
        "  </ul>\n",
        "  <li>Identifique la clase con el mejor valor de F1-score</li>\n",
        "</ol>"
      ],
      "metadata": {
        "id": "YcBYfzIIUnU7"
      }
    },
    {
      "cell_type": "markdown",
      "source": [],
      "metadata": {
        "id": "GcW8HWo5WbIB"
      }
    }
  ]
}