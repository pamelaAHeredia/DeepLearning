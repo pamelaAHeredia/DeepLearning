{
  "nbformat": 4,
  "nbformat_minor": 0,
  "metadata": {
    "colab": {
      "provenance": [],
      "collapsed_sections": [
        "-rl9qIfGp4ZG",
        "aoAxRsfB6XB3",
        "O4RWqLeD6pzO"
      ]
    },
    "kernelspec": {
      "name": "python3",
      "display_name": "Python 3"
    },
    "language_info": {
      "name": "python"
    }
  },
  "cells": [
    {
      "cell_type": "markdown",
      "source": [
        "# Práctica 3 - Gradiente, Combinador Lineal y Regresión\n",
        "\n",
        "El objetivo de esta práctica es comprender el funcionamiento del descenso del gradiente y los combinadores lineales.\n",
        "\n",
        "**Temas**\n",
        "* Optimización con descenso del gradiente.\n",
        "* Regresión lineal simple y múltiple.\n",
        "* Regresión logística multiclase"
      ],
      "metadata": {
        "id": "8eC7vRdzxI98"
      }
    },
    {
      "cell_type": "markdown",
      "source": [
        "# Imports"
      ],
      "metadata": {
        "id": "-rl9qIfGp4ZG"
      }
    },
    {
      "cell_type": "code",
      "source": [
        "from google.colab import drive\n",
        "drive.mount('/content/drive/')\n"
      ],
      "metadata": {
        "id": "-yCNP_z-24Hm",
        "colab": {
          "base_uri": "https://localhost:8080/"
        },
        "outputId": "266c479e-7f20-4af7-9ce1-d87fca824dbc"
      },
      "execution_count": 2,
      "outputs": [
        {
          "output_type": "stream",
          "name": "stdout",
          "text": [
            "Drive already mounted at /content/drive/; to attempt to forcibly remount, call drive.mount(\"/content/drive/\", force_remount=True).\n"
          ]
        }
      ]
    },
    {
      "cell_type": "code",
      "source": [
        "FUENTES_DIR = '/content/drive/MyDrive/DeepLearning-colab/Fuentes-20240901'\n",
        "DATOS_DIR = '/content/drive/MyDrive/DeepLearning-colab/Datos-20240901'      # carpeta donde se encuentran los datasets\n",
        "# agrega ruta de busqueda donde tenemos archivos .py\n",
        "import sys\n",
        "sys.path.append(FUENTES_DIR)"
      ],
      "metadata": {
        "id": "H5ovEpxE3VJf"
      },
      "execution_count": 3,
      "outputs": []
    },
    {
      "cell_type": "code",
      "source": [
        "import pandas as pd\n",
        "import numpy as np\n",
        "import matplotlib.pyplot as plt\n",
        "import seaborn as sns\n",
        "from sklearn import preprocessing\n",
        "from sklearn.model_selection import train_test_split\n",
        "from ClassNeuronaLineal import NeuronaLineal\n",
        "from ClassNeuronaGral import NeuronaGradiente\n",
        "from ClassRNMulticlase import RNMulticlase\n",
        "from sklearn.preprocessing import OneHotEncoder"
      ],
      "metadata": {
        "id": "gS-n4iX5xB4z"
      },
      "execution_count": 4,
      "outputs": []
    },
    {
      "cell_type": "markdown",
      "source": [
        "# Optimización de funciones utilizando la técnica del descenso de gradiente"
      ],
      "metadata": {
        "id": "6Cxx9m_iI5uk"
      }
    },
    {
      "cell_type": "markdown",
      "source": [
        "## Ejercicio 2\n",
        "\n",
        "El precio de una vivienda está dado por dos factores, la proximidad a centros comerciales, financieros, vías y demás que se mide a través del factor j, y de la condición misma de la vivienda que se mide por el factor k.\n",
        "La relación entre estos factores y el precio de la vivienda en un barrio determinado está dada por:\n",
        "\n",
        "<p align= center>𝑃 (𝑗, 𝑘) = 𝑘 2 − 2𝑗𝑘 + 2𝑗 2 + 18𝑗 − 20𝑘 + 201 </p>\n",
        "\n",
        "donde el precio está dado en miles de dólares.\n",
        "Utilice la técnica de descenso de gradiente para determinar los valores de j y k que minimizan el precio de la vivienda."
      ],
      "metadata": {
        "id": "3p_vOlffH5w5"
      }
    },
    {
      "cell_type": "markdown",
      "source": [
        "Paso 1: Calcular las derivadas parciales\n",
        "\n",
        "  $\\mathrm P(j,k)={k² - 2jk + 2j² + 18j + 20k + 201}$\n",
        "\n",
        "<p> Derivada de P respecto de j</p>\n",
        "\n",
        "\n",
        "  $\\delta P \\mid \\delta j = 0 - 2*1k + 2*2j + 18*1 + 0+0$\n",
        "\n",
        "  $\\delta P \\mid \\delta j = -2k+4j+18 $\n",
        "\n",
        "\n",
        "<p> Derivada de P respecto de k</p>\n",
        "\n",
        "  $\\delta P \\mid \\delta j = 2k -2j*1 +0+0+20*1+0 $\n",
        "\n",
        "  $\\delta P \\mid \\delta j = 2k-2j+20 $\n"
      ],
      "metadata": {
        "id": "Qi3-uIheR-9Q"
      }
    },
    {
      "cell_type": "code",
      "source": [
        "def P(j, k):\n",
        "  return k**2 - 2*j*k + 2*j**2 + 18*j - 20*k + 201"
      ],
      "metadata": {
        "id": "d6smqPR35OTl"
      },
      "execution_count": null,
      "outputs": []
    },
    {
      "cell_type": "code",
      "source": [
        "# Calcular derivadas parciales\n",
        "def dP_dj(j,k):\n",
        "  return -2*k + 4*j +18\n",
        "\n",
        "def dP_dk(j,k):\n",
        "  return 2*k - 2*j - 20"
      ],
      "metadata": {
        "id": "VwHJXgLdIbxc"
      },
      "execution_count": null,
      "outputs": []
    },
    {
      "cell_type": "code",
      "source": [
        "alpha = 0.1\n",
        "max_iteraciones = 100\n",
        "cota = 10e-05\n",
        "\n",
        "(j,k,z,z_new) = (88,14, P(1,1), P(1,1)+1)\n",
        "\n",
        "iteraciones = 0\n",
        "\n",
        "while iteraciones < max_iteraciones and (abs(z_new -z) > cota):\n",
        "  z = z_new\n",
        "\n",
        "  gradiente_j = dP_dj(j,k)\n",
        "  gradiente_k = dP_dk(j,k)\n",
        "\n",
        "  j = j - alpha*gradiente_j\n",
        "  k = k - alpha*gradiente_k\n",
        "\n",
        "  z_new = P(j,k)\n",
        "  iteraciones +=1\n",
        "\n",
        "  # print(f\"{iteraciones:>4} {j:>10.5f} {k:>10.5f} {P(j,k):8.2f}\")\n",
        "\n",
        "print(f'Ite: {iteraciones} \\nValor óptimo de j:{j:8.5f} \\nValor óptimo de k: {k:8.5f} \\nPrecio mínimo: {(1000*P(j,k)):7.0f} dólares')\n"
      ],
      "metadata": {
        "colab": {
          "base_uri": "https://localhost:8080/"
        },
        "id": "_6Pf8OMsIxwO",
        "outputId": "f4713b09-f8fa-43dc-bbfa-0aa55f02b411"
      },
      "execution_count": null,
      "outputs": [
        {
          "output_type": "stream",
          "name": "stdout",
          "text": [
            "Ite: 90 \n",
            "Valor óptimo de j: 1.01988 \n",
            "Valor óptimo de k: 11.03217 \n",
            "Precio mínimo:  100001 dólares\n"
          ]
        }
      ]
    },
    {
      "cell_type": "code",
      "source": [
        "dP_dj(1.01167,11.01888)"
      ],
      "metadata": {
        "colab": {
          "base_uri": "https://localhost:8080/"
        },
        "id": "aB9ljxw5Pd5v",
        "outputId": "d5d10f21-83b3-49d8-cd93-8c16f853af12"
      },
      "execution_count": null,
      "outputs": [
        {
          "output_type": "execute_result",
          "data": {
            "text/plain": [
              "0.00892000000000337"
            ]
          },
          "metadata": {},
          "execution_count": 23
        }
      ]
    },
    {
      "cell_type": "code",
      "source": [
        "dP_dk(1.01167,11.01888)"
      ],
      "metadata": {
        "colab": {
          "base_uri": "https://localhost:8080/"
        },
        "id": "4JJEd47RPuEC",
        "outputId": "e6bc0e6f-20a1-47ff-d838-5f545a1018ea"
      },
      "execution_count": null,
      "outputs": [
        {
          "output_type": "execute_result",
          "data": {
            "text/plain": [
              "0.014419999999997657"
            ]
          },
          "metadata": {},
          "execution_count": 31
        }
      ]
    },
    {
      "cell_type": "code",
      "source": [
        "P(1.01988 ,11.03217)"
      ],
      "metadata": {
        "colab": {
          "base_uri": "https://localhost:8080/"
        },
        "id": "EAHhpwvUP2iq",
        "outputId": "fedae795-a65d-4900-ac0c-3a512b0054e6"
      },
      "execution_count": null,
      "outputs": [
        {
          "output_type": "execute_result",
          "data": {
            "text/plain": [
              "100.0005462585"
            ]
          },
          "metadata": {},
          "execution_count": 42
        }
      ]
    },
    {
      "cell_type": "markdown",
      "source": [
        "## Ejercicio 3\n",
        "\n",
        "A continuación, se presentan datos de entrenamiento y tiempo promedio de un recorrido de corredores para una distancia fija. Los datos están organizados en una tabla con las horas de entrenamiento semanales y el tiempo promedio en minutos para completar el recorrido:\n",
        "\n",
        "<br>\n",
        "\n",
        " |Horas de entrenamiento|Tiempo Promedio (mins)|\n",
        " |----------------------|----------------------|\n",
        " |2|30.5|\n",
        " |3|29.3|\n",
        " |4|26.7|\n",
        " |4|26.0|\n",
        " |5|25.5|\n",
        " |6|24.7|\n",
        " |6|23.5|\n",
        " |7|23.0|\n",
        " |7|22.5|\n",
        " |8|21.0|\n",
        " |10|21.0|\n",
        " |10|20.5|\n",
        "\n",
        "<br>\n",
        "A partir de los datos de entrenamiento y tiempos de recorrido de los corredores, se desea obtener la recta de regresión que permita predecir el tiempo promedio que un corredor tardará en recorrer la distancia fija a partir de las horas de entrenamiento semanales. Responder:"
      ],
      "metadata": {
        "id": "SXTnUvsXTtFi"
      }
    },
    {
      "cell_type": "markdown",
      "source": [
        "###3.a)\n",
        "\n",
        "Calcule la correlación lineal entre estas dos variables y dibuje el diagrama de dispersión correspondiente. ¿La recta de regresión será de utilidad?\n"
      ],
      "metadata": {
        "id": "NQnjXb3DYFCA"
      }
    },
    {
      "cell_type": "code",
      "source": [
        "horas_entrenamiento = np.array([2,3,4,4,5,6,6,7,7,8,10,10])\n",
        "tiempo_promedio_en_mins = np.array([30.5, 29.3, 26.7, 26.0, 25.5, 24.7, 23.5, 23.0, 22.5,21.0, 21.0, 20.5])"
      ],
      "metadata": {
        "id": "HEc76uGXWyqG"
      },
      "execution_count": 22,
      "outputs": []
    },
    {
      "cell_type": "code",
      "source": [
        "correlacion = np.corrcoef(horas_entrenamiento, tiempo_promedio_en_mins)[0,1]\n",
        "correlacion"
      ],
      "metadata": {
        "id": "5bsgcU9CYWGc",
        "colab": {
          "base_uri": "https://localhost:8080/"
        },
        "outputId": "29cb7469-784a-42c7-d87f-24963a65af6d"
      },
      "execution_count": 23,
      "outputs": [
        {
          "output_type": "execute_result",
          "data": {
            "text/plain": [
              "-0.959746386006859"
            ]
          },
          "metadata": {},
          "execution_count": 23
        }
      ]
    },
    {
      "cell_type": "code",
      "source": [
        "sns.scatterplot(x=horas_entrenamiento, y=tiempo_promedio_en_mins)\n",
        "plt.xlabel('Horas de entrenamiento')\n",
        "plt.ylabel('Tiempo primedio en minutos')\n",
        "plt.title('Título')\n",
        "plt.show()"
      ],
      "metadata": {
        "colab": {
          "base_uri": "https://localhost:8080/",
          "height": 472
        },
        "id": "cFTN56IEY_Xi",
        "outputId": "95a58d2b-8313-40b3-86d1-5a1bd6fc124b"
      },
      "execution_count": null,
      "outputs": [
        {
          "output_type": "display_data",
          "data": {
            "text/plain": [
              "<Figure size 640x480 with 1 Axes>"
            ],
            "image/png": "[encoded data removed]"
          },
          "metadata": {}
        }
      ]
    },
    {
      "cell_type": "markdown",
      "source": [
        "Hay una correlación negativa fuerte entre los atributos. Mirando el gráfico, podríamos decir que la recta sí será de utilidad."
      ],
      "metadata": {
        "id": "KFwmYYvNZVn0"
      }
    },
    {
      "cell_type": "markdown",
      "source": [
        "###3.b)\n",
        "\n",
        "Indique la ecuación del error cuadrático medio que se debería minimizar si se utilizara la técnica de descenso de gradiente.\n",
        "\n",
        "**Respuesta:**\n",
        "\n",
        "La ecuación de predicción es del tipo $ \\hat{y}=wx+b$, donde w es el coeficiente de la variable independiente x y b es el sesgo (intercepto).\n",
        "\n",
        "$$\n",
        "MSE = \\frac{1}{m} \\sum_{i=1}^{m} (y_i - \\hat{y}_i)^2 \\\\\n",
        "$$\n",
        "\n",
        "Tengo los puntos: (2, 30.5), (3, 29.3), (4, 26.7), (4, 26.0), (5, 25.5), (6, 24.7), (6, 23.5), (7, 23.0), (7, 22.5), (8, 21.0), (10, 21.0), (10, 20.5)\n",
        "\n",
        "$$\n",
        "MSE = \\frac{1}{12}[(2 - w_0 - 30.5w_1)² + (3-w_0-29.3w_1)² + (4-w_0-26.7w_1)² + (4-w_0- 26.0w_1)² + (5-w_0-25.5w_1)² + (6-w_0-24.7w_1)² + (6-w_0-23.5w_1)² + (7-w_0-23.0w_1)² + (7-w_0-22.5w_1)² + (8-w_0-21.0w_1)² + (10-w_0 - 21.0w_1)² + (10-w_0-20.5w_1)²]\\\\\n",
        "$$\n",
        "\n",
        "$$\n",
        "MSE = \\frac{1}{12}[(4 +w_0² +930.25w_1² -4w_0 -122w_1+60.1w_0w_1) + (9+w_0²+854,49w_1²-6w_0-178,5w_1+58,6w_0w_1)+(16+w_0²+650,25w_1²-8w_0-244w_1+534w_0w_1)+(16+w_0²+675w_1²-8w_0-208w_1+52w_0w_1)+(25+w0²+650,25w_1²-10w_0-255w_1+51w_0w_1)+(36+w_0²+610,09w_1²-12w_0-296,4w_1+494w_0w_1)+(36+w_0²+552,25w_1²-12w_0-28,2w_1+47w_0w_1)+(49+w_0²+529w_1²-14w_0-315w_1+45w_0w_1)+(49+w_0²+506,25w_1²-14w_0-315w_1+45w_0w_1)+(100+w_0²+441w_1²-100w_0-2100w_1+42w_0w_1)+(100+w_0²+420,25w_1²-100w_0-2050w_1+41w_0w_1)] \\\\\n",
        "$$\n",
        "\n",
        "$$\n",
        "MSE = \\frac{1}{12}[440+12w_0²+6823.08w_1²-288w_0-6119w_1+1470.6w_0w_1]\n",
        "$$\n",
        "\n",
        "Derivadas parciales:\n",
        "\n",
        "$$\n",
        "\\frac{df}{dw_0} = \\frac{24w_0-288+1470.6w_1}{12}\\\\\n",
        "$$\n",
        "\n",
        "$$\n",
        "\\frac{df}{dw_1} = \\frac{13646.16w_1-6119+1470.6w_0}{12}\\\\\n",
        "$$\n",
        "\n",
        "Calcular vector gradiente\n",
        "\n",
        "$$\n",
        "\\nabla\\xi = <\\frac{df}{dw_0} , \\frac{df}{dw_1}> = < \\frac{24w_0-288+1470.6w_1}{12} , \\frac{13646.16w_1-6119+1470.6w_0}{12}>\n",
        "$$\n",
        "\n",
        "Actualizar pesos:\n",
        "$$\n",
        "w(t+1) = w(t)- \\alpha * \\nabla\\xi w(t)\n",
        "$$"
      ],
      "metadata": {
        "id": "PJDX36QSYNQL"
      }
    },
    {
      "cell_type": "markdown",
      "source": [
        "###3.c)\n",
        "\n",
        "**Indique la ecuación de error que se minimiza al utilizar la técnica de descenso de gradiente estocástico. ¿Qué ventaja tiene su uso con respecto a la ecuación indicada en b)?**\n",
        "\n",
        "$$\n",
        "Error = (y_i - (wx_i +b))^2\n",
        "$$\n",
        "\n",
        "Calcula el error cuadŕatico medio para una sola muestra i en cada iteración.\n",
        "La ventaja es que realiza actualizaciones más rápido y con más frecuencia, lo que permite encontrar una solución óptima más rápido , por lo que es adecuado para conjuntos de datos grandes."
      ],
      "metadata": {
        "id": "aEs2VvLkYWpt"
      }
    },
    {
      "cell_type": "markdown",
      "source": [
        "###3.d)\n",
        "\n",
        "**Utilice la técnica de descenso de gradiente estocástico para obtener los coeficientes de la recta de regresión que permita predecir el tiempo promedio que un corredor tardará en recorrer la distancia fija a partir de las horas de entrenamiento semanales.**\n"
      ],
      "metadata": {
        "id": "UwIdj18OYdx2"
      }
    },
    {
      "cell_type": "code",
      "source": [
        "X_train =  horas_entrenamiento.reshape(-1,1)\n",
        "Y_train = tiempo_promedio_en_mins.reshape(-1,1)\n",
        "\n",
        "print(f'X_train shape: {X_train.shape} \\nY_train shape: {Y_train.shape}')\n",
        "\n",
        "modelo = NeuronaLineal(alpha=0.01, n_iter=500, cotaE=0.001, draw=1, title=['Entrenamiento', 'Tiempo'])\n",
        "modelo.fit(X_train, Y_train)\n"
      ],
      "metadata": {
        "colab": {
          "base_uri": "https://localhost:8080/",
          "height": 898
        },
        "id": "EaddHVOW31nz",
        "outputId": "18bef815-d03a-4b16-e39c-f5b8e10c4a67"
      },
      "execution_count": 27,
      "outputs": [
        {
          "output_type": "display_data",
          "data": {
            "text/plain": [
              "<Figure size 640x480 with 1 Axes>"
            ],
            "image/png": "[encoded data removed]"
          },
          "metadata": {}
        },
        {
          "output_type": "execute_result",
          "data": {
            "text/plain": [
              "<ClassNeuronaLineal.NeuronaLineal at 0x7b90d25f5990>"
            ]
          },
          "metadata": {},
          "execution_count": 27
        },
        {
          "output_type": "display_data",
          "data": {
            "text/plain": [
              "<Figure size 640x480 with 1 Axes>"
            ],
            "image/png": "[encoded data removed]"
          },
          "metadata": {}
        }
      ]
    },
    {
      "cell_type": "code",
      "source": [
        "print(f'Pesos: \\nW: {modelo.w_} \\nBias: {modelo.b_}')"
      ],
      "metadata": {
        "id": "Zists3qtDmsM",
        "colab": {
          "base_uri": "https://localhost:8080/"
        },
        "outputId": "e1e93e57-6556-413b-eb1d-2427b1f3afa6"
      },
      "execution_count": 29,
      "outputs": [
        {
          "output_type": "stream",
          "name": "stdout",
          "text": [
            "Pesos: \n",
            "W: [-1.07113815] \n",
            "Bias: [31.20615169]\n"
          ]
        }
      ]
    },
    {
      "cell_type": "code",
      "source": [
        "    # W=-0.9013    B=29.5201\n",
        "    # W=-1.1301    B=31.2102\n",
        "    # W=-0.7080    B=30.0401"
      ],
      "metadata": {
        "id": "D1wCwObJYikA"
      },
      "execution_count": 24,
      "outputs": []
    },
    {
      "cell_type": "code",
      "source": [
        "print(mse(-0.9013,29.5201, X_train, Y_train))\n",
        "print(mse(-1.1301,31.2102, X_train, Y_train))\n",
        "print(mse(-0.7080,30.0401, X_train, Y_train))"
      ],
      "metadata": {
        "colab": {
          "base_uri": "https://localhost:8080/"
        },
        "id": "AnYV1iMWaByD",
        "outputId": "90e60c05-0d18-4c47-8d18-314fbe52216a"
      },
      "execution_count": 28,
      "outputs": [
        {
          "output_type": "stream",
          "name": "stdout",
          "text": [
            "[1.50003643]\n",
            "[0.80377055]\n",
            "[3.90930308]\n"
          ]
        }
      ]
    },
    {
      "cell_type": "markdown",
      "source": [
        "###3.e)\n",
        "\n",
        "**Utilice la recta obtenida en d) para predecir el tiempo promedio que tardará en recorrer la distancia fija un corredor que entrena 9 horas semanales.**\n",
        "\n",
        "***Respuesta:***\n",
        "\n",
        "De acuerdo a los valores que obtuve en el punto anterior, el tiempo promedio está determinado por:\n",
        "\n",
        "$\\mathrm y = -1.07113146 * x + 31.20608475 $\n",
        "\n",
        "reemplanzado $\\mathrm x$ por las horas:\n",
        "\n",
        "$\\mathrm y = -1.07113146 * 9 + 31.20608475 $\n"
      ],
      "metadata": {
        "id": "djlsJ69LYqsk"
      }
    },
    {
      "cell_type": "code",
      "source": [
        "print(f'Tiempo promedio: {-1.07113146 * 9 + 31.20608475} minutos.')"
      ],
      "metadata": {
        "colab": {
          "base_uri": "https://localhost:8080/"
        },
        "id": "nGQRcnF4GheK",
        "outputId": "46af996f-b545-4fda-8c2e-aaaabed39c66"
      },
      "execution_count": null,
      "outputs": [
        {
          "output_type": "stream",
          "name": "stdout",
          "text": [
            "Tiempo promedio: 21.565901609999997 minutos.\n"
          ]
        }
      ]
    },
    {
      "cell_type": "code",
      "source": [
        "horas = 9\n",
        "mins = modelo.predict([horas])\n",
        "\n",
        "print(f'Tiempo promedio en minutos que predice el modelo: {mins[0]}')"
      ],
      "metadata": {
        "id": "4VeCK7ECHK3U"
      },
      "execution_count": null,
      "outputs": []
    },
    {
      "cell_type": "code",
      "source": [
        "sns.scatterplot(x=horas_entrenamiento, y=tiempo_promedio_en_mins)\n",
        "sns.scatterplot(x=[horas], y=mins, markers=True)\n",
        "plt.show()"
      ],
      "metadata": {
        "id": "_qFfgd6HJBtj"
      },
      "execution_count": null,
      "outputs": []
    },
    {
      "cell_type": "markdown",
      "source": [
        "## Ejercicio 4\n",
        "\n",
        "El archivo CCPP.csv contiene 9568 datos de una central de ciclo combinado recolectados entre 2006 y 2011.\n",
        "Usando la totalidad de los ejemplos se entrenaron 5 combinadores lineales con el objetivo de predecir el valor del atributo PE correspondiente a la cantidad de energía producida a partir del atributo AT (más detalles de este conjunto de datos aquí). Indique cuáles son los dos combinadores lineales con menor error cuadrático promedio a la hora de predecir el valor de PE en función de AT:\n",
        "\n",
        "a) W = -2.00 ; b= 500\n",
        "\n",
        "b) W = -2.21 ; b= 498\n",
        "\n",
        "c) W = -2.30 ; b= 497\n",
        "\n",
        "d) W = -2.22 ; b=496.5\n",
        "\n",
        "e) W = -2.16 ; b=496.91\n"
      ],
      "metadata": {
        "id": "t7Cj2wMHL_N9"
      }
    },
    {
      "cell_type": "code",
      "source": [
        "url_ccpp = '/content/drive/MyDrive/DeepLearning-colab/Datos-20240901/CCPP.csv'\n",
        "datos_ccpp = pd.read_csv(url_ccpp)"
      ],
      "metadata": {
        "id": "EXHDCyHTN-yQ"
      },
      "execution_count": null,
      "outputs": []
    },
    {
      "cell_type": "code",
      "source": [
        "datos_ccpp.head()"
      ],
      "metadata": {
        "id": "16_MPsUIOaHX"
      },
      "execution_count": null,
      "outputs": []
    },
    {
      "cell_type": "code",
      "source": [
        "sns.scatterplot(x='AT', y='PE', data=datos_ccpp)\n",
        "plt.show()"
      ],
      "metadata": {
        "id": "b2Ev26h0mUgR"
      },
      "execution_count": null,
      "outputs": []
    },
    {
      "cell_type": "markdown",
      "source": [
        "###Cálculo MSE"
      ],
      "metadata": {
        "id": "UAcdAwCspTdz"
      }
    },
    {
      "cell_type": "code",
      "source": [
        "def mse(w,b, X, Y):\n",
        "  sumaError = 0\n",
        "\n",
        "  for i in range(len(X)):\n",
        "    error = (Y[i] - (w*X[i] + b))**2\n",
        "    sumaError += error\n",
        "\n",
        "  return sumaError/len(X)"
      ],
      "metadata": {
        "id": "ALqa617lZxFs"
      },
      "execution_count": 25,
      "outputs": []
    },
    {
      "cell_type": "code",
      "source": [
        "X = datos_ccpp['AT'].values.reshape(-1,1)\n",
        "Y = datos_ccpp['PE'].values.reshape(-1,1)\n"
      ],
      "metadata": {
        "id": "1_IH_6TzYoy_"
      },
      "execution_count": null,
      "outputs": []
    },
    {
      "cell_type": "code",
      "source": [
        "print(f'Combinador lineal 1: W=-2.00, b=500 MSE= {mse(-2.00, 500, X, Y)}')\n",
        "\n",
        "print(f'Combinador lineal 2: W=-2.21, b=498 MSE= {mse(-2.21, 498, X, Y)}')\n",
        "\n",
        "print(f'Combinador lineal 3: W=-2.30, b=497 MSE= {mse(-2.30, 497, X, Y)}')\n",
        "\n",
        "print(f'Combinador lineal 4: W=-2.22, b=496.5 MSE= {mse(-2.22, 496.5, X, Y)}')\n",
        "\n",
        "print(f'Combinador lineal 5: W=-2.16, b=496.91 MSE= {mse(-2.16, 496.91, X, Y)}')"
      ],
      "metadata": {
        "id": "NF9WUcYWwXH-"
      },
      "execution_count": null,
      "outputs": []
    },
    {
      "cell_type": "markdown",
      "source": [
        "**Los combinadores lineales con menor error cuadrático medio son:**\n",
        "* **Combinador 4**: W=-2.22, b=496.5, MSE=31,7856\n",
        "* **Combinador 5**: W=-2.16, b=496.91, MSE=29,4485"
      ],
      "metadata": {
        "id": "pLb-qGjm2Es_"
      }
    },
    {
      "cell_type": "markdown",
      "source": [
        "## Ejercicio 5\n",
        "\n",
        "A partir de los ejemplos del archivo automobile-simple.csv, utilizado en la práctica anterior, se entrenará un combinador lineal para predecir el precio del auto (atributo “price”) en función del tamaño del motor (atributo “engine-size”):\n"
      ],
      "metadata": {
        "id": "vnLMctvF2wKD"
      }
    },
    {
      "cell_type": "code",
      "source": [
        "url = '/content/drive/MyDrive/DeepLearning-colab/Datos-20240901/automobile-simple.csv'\n",
        "autos_df = pd.read_csv(url)"
      ],
      "metadata": {
        "id": "2JDOVrVs4DNF"
      },
      "execution_count": 30,
      "outputs": []
    },
    {
      "cell_type": "code",
      "source": [
        "autos = autos_df.copy()"
      ],
      "metadata": {
        "id": "J11sC1W5L4u5"
      },
      "execution_count": 31,
      "outputs": []
    },
    {
      "cell_type": "code",
      "source": [
        "autos.head()"
      ],
      "metadata": {
        "colab": {
          "base_uri": "https://localhost:8080/",
          "height": 206
        },
        "id": "OixjxBnM4V4u",
        "outputId": "24d3d33d-dd4e-489f-c6ec-481681c2d697"
      },
      "execution_count": 32,
      "outputs": [
        {
          "output_type": "execute_result",
          "data": {
            "text/plain": [
              "          make fuel-type num-of-doors   body-style  curb-weight  engine-size  \\\n",
              "0  alfa-romero       gas          two  convertible         2548          130   \n",
              "1  alfa-romero       gas          two  convertible         2548          130   \n",
              "2  alfa-romero       gas          two    hatchback         2823          152   \n",
              "3         audi       gas         four        sedan         2337          109   \n",
              "4         audi       gas         four        sedan         2824          136   \n",
              "\n",
              "   horsepower  city-mpg  highway-mpg    price      volume  eco-rating  \n",
              "0       111.0        21           27  13495.0  528019.904   33.297462  \n",
              "1       111.0        21           27  16500.0  528019.904   33.297462  \n",
              "2       154.0        19           26  16500.0  587592.640   30.898272  \n",
              "3       102.0        24           30  13950.0  634816.956   42.697819  \n",
              "4       115.0        18           22  17450.0  636734.832   27.997459  "
            ],
            "text/html": [
              "\n",
              "  <div id=\"df-010a1ac1-6ae1-4754-8516-ee760098cbea\" class=\"colab-df-container\">\n",
              "    <div>\n",
              "<style scoped>\n",
              "    .dataframe tbody tr th:only-of-type {\n",
              "        vertical-align: middle;\n",
              "    }\n",
              "\n",
              "    .dataframe tbody tr th {\n",
              "        vertical-align: top;\n",
              "    }\n",
              "\n",
              "    .dataframe thead th {\n",
              "        text-align: right;\n",
              "    }\n",
              "</style>\n",
              "<table border=\"1\" class=\"dataframe\">\n",
              "  <thead>\n",
              "    <tr style=\"text-align: right;\">\n",
              "      <th></th>\n",
              "      <th>make</th>\n",
              "      <th>fuel-type</th>\n",
              "      <th>num-of-doors</th>\n",
              "      <th>body-style</th>\n",
              "      <th>curb-weight</th>\n",
              "      <th>engine-size</th>\n",
              "      <th>horsepower</th>\n",
              "      <th>city-mpg</th>\n",
              "      <th>highway-mpg</th>\n",
              "      <th>price</th>\n",
              "      <th>volume</th>\n",
              "      <th>eco-rating</th>\n",
              "    </tr>\n",
              "  </thead>\n",
              "  <tbody>\n",
              "    <tr>\n",
              "      <th>0</th>\n",
              "      <td>alfa-romero</td>\n",
              "      <td>gas</td>\n",
              "      <td>two</td>\n",
              "      <td>convertible</td>\n",
              "      <td>2548</td>\n",
              "      <td>130</td>\n",
              "      <td>111.0</td>\n",
              "      <td>21</td>\n",
              "      <td>27</td>\n",
              "      <td>13495.0</td>\n",
              "      <td>528019.904</td>\n",
              "      <td>33.297462</td>\n",
              "    </tr>\n",
              "    <tr>\n",
              "      <th>1</th>\n",
              "      <td>alfa-romero</td>\n",
              "      <td>gas</td>\n",
              "      <td>two</td>\n",
              "      <td>convertible</td>\n",
              "      <td>2548</td>\n",
              "      <td>130</td>\n",
              "      <td>111.0</td>\n",
              "      <td>21</td>\n",
              "      <td>27</td>\n",
              "      <td>16500.0</td>\n",
              "      <td>528019.904</td>\n",
              "      <td>33.297462</td>\n",
              "    </tr>\n",
              "    <tr>\n",
              "      <th>2</th>\n",
              "      <td>alfa-romero</td>\n",
              "      <td>gas</td>\n",
              "      <td>two</td>\n",
              "      <td>hatchback</td>\n",
              "      <td>2823</td>\n",
              "      <td>152</td>\n",
              "      <td>154.0</td>\n",
              "      <td>19</td>\n",
              "      <td>26</td>\n",
              "      <td>16500.0</td>\n",
              "      <td>587592.640</td>\n",
              "      <td>30.898272</td>\n",
              "    </tr>\n",
              "    <tr>\n",
              "      <th>3</th>\n",
              "      <td>audi</td>\n",
              "      <td>gas</td>\n",
              "      <td>four</td>\n",
              "      <td>sedan</td>\n",
              "      <td>2337</td>\n",
              "      <td>109</td>\n",
              "      <td>102.0</td>\n",
              "      <td>24</td>\n",
              "      <td>30</td>\n",
              "      <td>13950.0</td>\n",
              "      <td>634816.956</td>\n",
              "      <td>42.697819</td>\n",
              "    </tr>\n",
              "    <tr>\n",
              "      <th>4</th>\n",
              "      <td>audi</td>\n",
              "      <td>gas</td>\n",
              "      <td>four</td>\n",
              "      <td>sedan</td>\n",
              "      <td>2824</td>\n",
              "      <td>136</td>\n",
              "      <td>115.0</td>\n",
              "      <td>18</td>\n",
              "      <td>22</td>\n",
              "      <td>17450.0</td>\n",
              "      <td>636734.832</td>\n",
              "      <td>27.997459</td>\n",
              "    </tr>\n",
              "  </tbody>\n",
              "</table>\n",
              "</div>\n",
              "    <div class=\"colab-df-buttons\">\n",
              "\n",
              "  <div class=\"colab-df-container\">\n",
              "    <button class=\"colab-df-convert\" onclick=\"convertToInteractive('df-010a1ac1-6ae1-4754-8516-ee760098cbea')\"\n",
              "            title=\"Convert this dataframe to an interactive table.\"\n",
              "            style=\"display:none;\">\n",
              "\n",
              "  <svg xmlns=\"http://www.w3.org/2000/svg\" height=\"24px\" viewBox=\"0 -960 960 960\">\n",
              "    <path d=\"M120-120v-720h720v720H120Zm60-500h600v-160H180v160Zm220 220h160v-160H400v160Zm0 220h160v-160H400v160ZM180-400h160v-160H180v160Zm440 0h160v-160H620v160ZM180-180h160v-160H180v160Zm440 0h160v-160H620v160Z\"/>\n",
              "  </svg>\n",
              "    </button>\n",
              "\n",
              "  <style>\n",
              "    .colab-df-container {\n",
              "      display:flex;\n",
              "      gap: 12px;\n",
              "    }\n",
              "\n",
              "    .colab-df-convert {\n",
              "      background-color: #E8F0FE;\n",
              "      border: none;\n",
              "      border-radius: 50%;\n",
              "      cursor: pointer;\n",
              "      display: none;\n",
              "      fill: #1967D2;\n",
              "      height: 32px;\n",
              "      padding: 0 0 0 0;\n",
              "      width: 32px;\n",
              "    }\n",
              "\n",
              "    .colab-df-convert:hover {\n",
              "      background-color: #E2EBFA;\n",
              "      box-shadow: 0px 1px 2px rgba(60, 64, 67, 0.3), 0px 1px 3px 1px rgba(60, 64, 67, 0.15);\n",
              "      fill: #174EA6;\n",
              "    }\n",
              "\n",
              "    .colab-df-buttons div {\n",
              "      margin-bottom: 4px;\n",
              "    }\n",
              "\n",
              "    [theme=dark] .colab-df-convert {\n",
              "      background-color: #3B4455;\n",
              "      fill: #D2E3FC;\n",
              "    }\n",
              "\n",
              "    [theme=dark] .colab-df-convert:hover {\n",
              "      background-color: #434B5C;\n",
              "      box-shadow: 0px 1px 3px 1px rgba(0, 0, 0, 0.15);\n",
              "      filter: drop-shadow(0px 1px 2px rgba(0, 0, 0, 0.3));\n",
              "      fill: #FFFFFF;\n",
              "    }\n",
              "  </style>\n",
              "\n",
              "    <script>\n",
              "      const buttonEl =\n",
              "        document.querySelector('#df-010a1ac1-6ae1-4754-8516-ee760098cbea button.colab-df-convert');\n",
              "      buttonEl.style.display =\n",
              "        google.colab.kernel.accessAllowed ? 'block' : 'none';\n",
              "\n",
              "      async function convertToInteractive(key) {\n",
              "        const element = document.querySelector('#df-010a1ac1-6ae1-4754-8516-ee760098cbea');\n",
              "        const dataTable =\n",
              "          await google.colab.kernel.invokeFunction('convertToInteractive',\n",
              "                                                    [key], {});\n",
              "        if (!dataTable) return;\n",
              "\n",
              "        const docLinkHtml = 'Like what you see? Visit the ' +\n",
              "          '<a target=\"_blank\" href=https://colab.research.google.com/notebooks/data_table.ipynb>data table notebook</a>'\n",
              "          + ' to learn more about interactive tables.';\n",
              "        element.innerHTML = '';\n",
              "        dataTable['output_type'] = 'display_data';\n",
              "        await google.colab.output.renderOutput(dataTable, element);\n",
              "        const docLink = document.createElement('div');\n",
              "        docLink.innerHTML = docLinkHtml;\n",
              "        element.appendChild(docLink);\n",
              "      }\n",
              "    </script>\n",
              "  </div>\n",
              "\n",
              "\n",
              "<div id=\"df-0db25408-6bab-4e74-94ac-5b097c0fdb40\">\n",
              "  <button class=\"colab-df-quickchart\" onclick=\"quickchart('df-0db25408-6bab-4e74-94ac-5b097c0fdb40')\"\n",
              "            title=\"Suggest charts\"\n",
              "            style=\"display:none;\">\n",
              "\n",
              "<svg xmlns=\"http://www.w3.org/2000/svg\" height=\"24px\"viewBox=\"0 0 24 24\"\n",
              "     width=\"24px\">\n",
              "    <g>\n",
              "        <path d=\"M19 3H5c-1.1 0-2 .9-2 2v14c0 1.1.9 2 2 2h14c1.1 0 2-.9 2-2V5c0-1.1-.9-2-2-2zM9 17H7v-7h2v7zm4 0h-2V7h2v10zm4 0h-2v-4h2v4z\"/>\n",
              "    </g>\n",
              "</svg>\n",
              "  </button>\n",
              "\n",
              "<style>\n",
              "  .colab-df-quickchart {\n",
              "      --bg-color: #E8F0FE;\n",
              "      --fill-color: #1967D2;\n",
              "      --hover-bg-color: #E2EBFA;\n",
              "      --hover-fill-color: #174EA6;\n",
              "      --disabled-fill-color: #AAA;\n",
              "      --disabled-bg-color: #DDD;\n",
              "  }\n",
              "\n",
              "  [theme=dark] .colab-df-quickchart {\n",
              "      --bg-color: #3B4455;\n",
              "      --fill-color: #D2E3FC;\n",
              "      --hover-bg-color: #434B5C;\n",
              "      --hover-fill-color: #FFFFFF;\n",
              "      --disabled-bg-color: #3B4455;\n",
              "      --disabled-fill-color: #666;\n",
              "  }\n",
              "\n",
              "  .colab-df-quickchart {\n",
              "    background-color: var(--bg-color);\n",
              "    border: none;\n",
              "    border-radius: 50%;\n",
              "    cursor: pointer;\n",
              "    display: none;\n",
              "    fill: var(--fill-color);\n",
              "    height: 32px;\n",
              "    padding: 0;\n",
              "    width: 32px;\n",
              "  }\n",
              "\n",
              "  .colab-df-quickchart:hover {\n",
              "    background-color: var(--hover-bg-color);\n",
              "    box-shadow: 0 1px 2px rgba(60, 64, 67, 0.3), 0 1px 3px 1px rgba(60, 64, 67, 0.15);\n",
              "    fill: var(--button-hover-fill-color);\n",
              "  }\n",
              "\n",
              "  .colab-df-quickchart-complete:disabled,\n",
              "  .colab-df-quickchart-complete:disabled:hover {\n",
              "    background-color: var(--disabled-bg-color);\n",
              "    fill: var(--disabled-fill-color);\n",
              "    box-shadow: none;\n",
              "  }\n",
              "\n",
              "  .colab-df-spinner {\n",
              "    border: 2px solid var(--fill-color);\n",
              "    border-color: transparent;\n",
              "    border-bottom-color: var(--fill-color);\n",
              "    animation:\n",
              "      spin 1s steps(1) infinite;\n",
              "  }\n",
              "\n",
              "  @keyframes spin {\n",
              "    0% {\n",
              "      border-color: transparent;\n",
              "      border-bottom-color: var(--fill-color);\n",
              "      border-left-color: var(--fill-color);\n",
              "    }\n",
              "    20% {\n",
              "      border-color: transparent;\n",
              "      border-left-color: var(--fill-color);\n",
              "      border-top-color: var(--fill-color);\n",
              "    }\n",
              "    30% {\n",
              "      border-color: transparent;\n",
              "      border-left-color: var(--fill-color);\n",
              "      border-top-color: var(--fill-color);\n",
              "      border-right-color: var(--fill-color);\n",
              "    }\n",
              "    40% {\n",
              "      border-color: transparent;\n",
              "      border-right-color: var(--fill-color);\n",
              "      border-top-color: var(--fill-color);\n",
              "    }\n",
              "    60% {\n",
              "      border-color: transparent;\n",
              "      border-right-color: var(--fill-color);\n",
              "    }\n",
              "    80% {\n",
              "      border-color: transparent;\n",
              "      border-right-color: var(--fill-color);\n",
              "      border-bottom-color: var(--fill-color);\n",
              "    }\n",
              "    90% {\n",
              "      border-color: transparent;\n",
              "      border-bottom-color: var(--fill-color);\n",
              "    }\n",
              "  }\n",
              "</style>\n",
              "\n",
              "  <script>\n",
              "    async function quickchart(key) {\n",
              "      const quickchartButtonEl =\n",
              "        document.querySelector('#' + key + ' button');\n",
              "      quickchartButtonEl.disabled = true;  // To prevent multiple clicks.\n",
              "      quickchartButtonEl.classList.add('colab-df-spinner');\n",
              "      try {\n",
              "        const charts = await google.colab.kernel.invokeFunction(\n",
              "            'suggestCharts', [key], {});\n",
              "      } catch (error) {\n",
              "        console.error('Error during call to suggestCharts:', error);\n",
              "      }\n",
              "      quickchartButtonEl.classList.remove('colab-df-spinner');\n",
              "      quickchartButtonEl.classList.add('colab-df-quickchart-complete');\n",
              "    }\n",
              "    (() => {\n",
              "      let quickchartButtonEl =\n",
              "        document.querySelector('#df-0db25408-6bab-4e74-94ac-5b097c0fdb40 button');\n",
              "      quickchartButtonEl.style.display =\n",
              "        google.colab.kernel.accessAllowed ? 'block' : 'none';\n",
              "    })();\n",
              "  </script>\n",
              "</div>\n",
              "\n",
              "    </div>\n",
              "  </div>\n"
            ],
            "application/vnd.google.colaboratory.intrinsic+json": {
              "type": "dataframe",
              "variable_name": "autos",
              "summary": "{\n  \"name\": \"autos\",\n  \"rows\": 205,\n  \"fields\": [\n    {\n      \"column\": \"make\",\n      \"properties\": {\n        \"dtype\": \"category\",\n        \"num_unique_values\": 22,\n        \"samples\": [\n          \"alfa-romero\",\n          \"peugot\",\n          \"mazda\"\n        ],\n        \"semantic_type\": \"\",\n        \"description\": \"\"\n      }\n    },\n    {\n      \"column\": \"fuel-type\",\n      \"properties\": {\n        \"dtype\": \"category\",\n        \"num_unique_values\": 2,\n        \"samples\": [\n          \"diesel\",\n          \"gas\"\n        ],\n        \"semantic_type\": \"\",\n        \"description\": \"\"\n      }\n    },\n    {\n      \"column\": \"num-of-doors\",\n      \"properties\": {\n        \"dtype\": \"category\",\n        \"num_unique_values\": 2,\n        \"samples\": [\n          \"four\",\n          \"two\"\n        ],\n        \"semantic_type\": \"\",\n        \"description\": \"\"\n      }\n    },\n    {\n      \"column\": \"body-style\",\n      \"properties\": {\n        \"dtype\": \"category\",\n        \"num_unique_values\": 5,\n        \"samples\": [\n          \"hatchback\",\n          \"hardtop\"\n        ],\n        \"semantic_type\": \"\",\n        \"description\": \"\"\n      }\n    },\n    {\n      \"column\": \"curb-weight\",\n      \"properties\": {\n        \"dtype\": \"number\",\n        \"std\": 520,\n        \"min\": 1488,\n        \"max\": 4066,\n        \"num_unique_values\": 171,\n        \"samples\": [\n          2756,\n          3515\n        ],\n        \"semantic_type\": \"\",\n        \"description\": \"\"\n      }\n    },\n    {\n      \"column\": \"engine-size\",\n      \"properties\": {\n        \"dtype\": \"number\",\n        \"std\": 41,\n        \"min\": 61,\n        \"max\": 326,\n        \"num_unique_values\": 44,\n        \"samples\": [\n          121,\n          134\n        ],\n        \"semantic_type\": \"\",\n        \"description\": \"\"\n      }\n    },\n    {\n      \"column\": \"horsepower\",\n      \"properties\": {\n        \"dtype\": \"number\",\n        \"std\": 39.71436878679358,\n        \"min\": 48.0,\n        \"max\": 288.0,\n        \"num_unique_values\": 59,\n        \"samples\": [\n          111.0,\n          140.0\n        ],\n        \"semantic_type\": \"\",\n        \"description\": \"\"\n      }\n    },\n    {\n      \"column\": \"city-mpg\",\n      \"properties\": {\n        \"dtype\": \"number\",\n        \"std\": 6,\n        \"min\": 13,\n        \"max\": 49,\n        \"num_unique_values\": 29,\n        \"samples\": [\n          29,\n          25\n        ],\n        \"semantic_type\": \"\",\n        \"description\": \"\"\n      }\n    },\n    {\n      \"column\": \"highway-mpg\",\n      \"properties\": {\n        \"dtype\": \"number\",\n        \"std\": 6,\n        \"min\": 16,\n        \"max\": 54,\n        \"num_unique_values\": 30,\n        \"samples\": [\n          36,\n          34\n        ],\n        \"semantic_type\": \"\",\n        \"description\": \"\"\n      }\n    },\n    {\n      \"column\": \"price\",\n      \"properties\": {\n        \"dtype\": \"number\",\n        \"std\": 7947.066341939274,\n        \"min\": 5118.0,\n        \"max\": 45400.0,\n        \"num_unique_values\": 186,\n        \"samples\": [\n          34028.0,\n          15750.0\n        ],\n        \"semantic_type\": \"\",\n        \"description\": \"\"\n      }\n    },\n    {\n      \"column\": \"volume\",\n      \"properties\": {\n        \"dtype\": \"number\",\n        \"std\": 79463.19526191443,\n        \"min\": 452643.156,\n        \"max\": 846007.6590000001,\n        \"num_unique_values\": 97,\n        \"samples\": [\n          714090.1599999999,\n          817837.446\n        ],\n        \"semantic_type\": \"\",\n        \"description\": \"\"\n      }\n    },\n    {\n      \"column\": \"eco-rating\",\n      \"properties\": {\n        \"dtype\": \"number\",\n        \"std\": 12.299627626784092,\n        \"min\": 15.501957160750948,\n        \"max\": 83.08877400645349,\n        \"num_unique_values\": 190,\n        \"samples\": [\n          40.05570574712924,\n          38.0682231220649\n        ],\n        \"semantic_type\": \"\",\n        \"description\": \"\"\n      }\n    }\n  ]\n}"
            }
          },
          "metadata": {},
          "execution_count": 32
        }
      ]
    },
    {
      "cell_type": "code",
      "source": [
        "autos.info()"
      ],
      "metadata": {
        "colab": {
          "base_uri": "https://localhost:8080/"
        },
        "id": "fU0-g0I2Qosx",
        "outputId": "da42745c-86e5-47a1-ad43-04c567ec6396"
      },
      "execution_count": 33,
      "outputs": [
        {
          "output_type": "stream",
          "name": "stdout",
          "text": [
            "<class 'pandas.core.frame.DataFrame'>\n",
            "RangeIndex: 205 entries, 0 to 204\n",
            "Data columns (total 12 columns):\n",
            " #   Column        Non-Null Count  Dtype  \n",
            "---  ------        --------------  -----  \n",
            " 0   make          205 non-null    object \n",
            " 1   fuel-type     205 non-null    object \n",
            " 2   num-of-doors  203 non-null    object \n",
            " 3   body-style    205 non-null    object \n",
            " 4   curb-weight   205 non-null    int64  \n",
            " 5   engine-size   205 non-null    int64  \n",
            " 6   horsepower    203 non-null    float64\n",
            " 7   city-mpg      205 non-null    int64  \n",
            " 8   highway-mpg   205 non-null    int64  \n",
            " 9   price         201 non-null    float64\n",
            " 10  volume        205 non-null    float64\n",
            " 11  eco-rating    205 non-null    float64\n",
            "dtypes: float64(4), int64(4), object(4)\n",
            "memory usage: 19.3+ KB\n"
          ]
        }
      ]
    },
    {
      "cell_type": "markdown",
      "source": [
        "###a)  Completar datos faltantes.\n",
        "\n",
        "Antes de comenzar con el entrenamiento, complete los datos faltantes del\n",
        "atributo “price” utilizando el valor promedio.\n"
      ],
      "metadata": {
        "id": "KFsKyx6W3lAA"
      }
    },
    {
      "cell_type": "code",
      "source": [
        "autos.isnull().sum()"
      ],
      "metadata": {
        "colab": {
          "base_uri": "https://localhost:8080/",
          "height": 461
        },
        "id": "VOy69fHYJhIf",
        "outputId": "78a9c7b2-b5c9-48bf-863e-9625bba9ddae"
      },
      "execution_count": 34,
      "outputs": [
        {
          "output_type": "execute_result",
          "data": {
            "text/plain": [
              "make            0\n",
              "fuel-type       0\n",
              "num-of-doors    2\n",
              "body-style      0\n",
              "curb-weight     0\n",
              "engine-size     0\n",
              "horsepower      2\n",
              "city-mpg        0\n",
              "highway-mpg     0\n",
              "price           4\n",
              "volume          0\n",
              "eco-rating      0\n",
              "dtype: int64"
            ],
            "text/html": [
              "<div>\n",
              "<style scoped>\n",
              "    .dataframe tbody tr th:only-of-type {\n",
              "        vertical-align: middle;\n",
              "    }\n",
              "\n",
              "    .dataframe tbody tr th {\n",
              "        vertical-align: top;\n",
              "    }\n",
              "\n",
              "    .dataframe thead th {\n",
              "        text-align: right;\n",
              "    }\n",
              "</style>\n",
              "<table border=\"1\" class=\"dataframe\">\n",
              "  <thead>\n",
              "    <tr style=\"text-align: right;\">\n",
              "      <th></th>\n",
              "      <th>0</th>\n",
              "    </tr>\n",
              "  </thead>\n",
              "  <tbody>\n",
              "    <tr>\n",
              "      <th>make</th>\n",
              "      <td>0</td>\n",
              "    </tr>\n",
              "    <tr>\n",
              "      <th>fuel-type</th>\n",
              "      <td>0</td>\n",
              "    </tr>\n",
              "    <tr>\n",
              "      <th>num-of-doors</th>\n",
              "      <td>2</td>\n",
              "    </tr>\n",
              "    <tr>\n",
              "      <th>body-style</th>\n",
              "      <td>0</td>\n",
              "    </tr>\n",
              "    <tr>\n",
              "      <th>curb-weight</th>\n",
              "      <td>0</td>\n",
              "    </tr>\n",
              "    <tr>\n",
              "      <th>engine-size</th>\n",
              "      <td>0</td>\n",
              "    </tr>\n",
              "    <tr>\n",
              "      <th>horsepower</th>\n",
              "      <td>2</td>\n",
              "    </tr>\n",
              "    <tr>\n",
              "      <th>city-mpg</th>\n",
              "      <td>0</td>\n",
              "    </tr>\n",
              "    <tr>\n",
              "      <th>highway-mpg</th>\n",
              "      <td>0</td>\n",
              "    </tr>\n",
              "    <tr>\n",
              "      <th>price</th>\n",
              "      <td>4</td>\n",
              "    </tr>\n",
              "    <tr>\n",
              "      <th>volume</th>\n",
              "      <td>0</td>\n",
              "    </tr>\n",
              "    <tr>\n",
              "      <th>eco-rating</th>\n",
              "      <td>0</td>\n",
              "    </tr>\n",
              "  </tbody>\n",
              "</table>\n",
              "</div><br><label><b>dtype:</b> int64</label>"
            ]
          },
          "metadata": {},
          "execution_count": 34
        }
      ]
    },
    {
      "cell_type": "code",
      "source": [
        "media = float(int(autos['price'].mean()))"
      ],
      "metadata": {
        "id": "M08i05zIL0Bv"
      },
      "execution_count": 35,
      "outputs": []
    },
    {
      "cell_type": "code",
      "source": [
        "autos.loc[autos['price'].isnull()]"
      ],
      "metadata": {
        "colab": {
          "base_uri": "https://localhost:8080/",
          "height": 175
        },
        "id": "wGXGevKsJpPZ",
        "outputId": "7456e304-bc2e-4573-a3f8-6b65c0b21faa"
      },
      "execution_count": 36,
      "outputs": [
        {
          "output_type": "execute_result",
          "data": {
            "text/plain": [
              "        make fuel-type num-of-doors body-style  curb-weight  engine-size  \\\n",
              "9       audi       gas          two  hatchback         3053          131   \n",
              "44     isuzu       gas          two      sedan         1874           90   \n",
              "45     isuzu       gas         four      sedan         1909           90   \n",
              "129  porsche       gas          two  hatchback         3366          203   \n",
              "\n",
              "     horsepower  city-mpg  highway-mpg  price      volume  eco-rating  \n",
              "9         160.0        16           22    NaN  629188.560   25.008890  \n",
              "44         70.0        38           43    NaN  515592.480   65.105613  \n",
              "45         70.0        38           43    NaN  515592.480   64.755162  \n",
              "129       288.0        17           28    NaN  641507.055   29.678270  "
            ],
            "text/html": [
              "\n",
              "  <div id=\"df-a8a2c8e1-a7fb-444c-8d74-596d4004db26\" class=\"colab-df-container\">\n",
              "    <div>\n",
              "<style scoped>\n",
              "    .dataframe tbody tr th:only-of-type {\n",
              "        vertical-align: middle;\n",
              "    }\n",
              "\n",
              "    .dataframe tbody tr th {\n",
              "        vertical-align: top;\n",
              "    }\n",
              "\n",
              "    .dataframe thead th {\n",
              "        text-align: right;\n",
              "    }\n",
              "</style>\n",
              "<table border=\"1\" class=\"dataframe\">\n",
              "  <thead>\n",
              "    <tr style=\"text-align: right;\">\n",
              "      <th></th>\n",
              "      <th>make</th>\n",
              "      <th>fuel-type</th>\n",
              "      <th>num-of-doors</th>\n",
              "      <th>body-style</th>\n",
              "      <th>curb-weight</th>\n",
              "      <th>engine-size</th>\n",
              "      <th>horsepower</th>\n",
              "      <th>city-mpg</th>\n",
              "      <th>highway-mpg</th>\n",
              "      <th>price</th>\n",
              "      <th>volume</th>\n",
              "      <th>eco-rating</th>\n",
              "    </tr>\n",
              "  </thead>\n",
              "  <tbody>\n",
              "    <tr>\n",
              "      <th>9</th>\n",
              "      <td>audi</td>\n",
              "      <td>gas</td>\n",
              "      <td>two</td>\n",
              "      <td>hatchback</td>\n",
              "      <td>3053</td>\n",
              "      <td>131</td>\n",
              "      <td>160.0</td>\n",
              "      <td>16</td>\n",
              "      <td>22</td>\n",
              "      <td>NaN</td>\n",
              "      <td>629188.560</td>\n",
              "      <td>25.008890</td>\n",
              "    </tr>\n",
              "    <tr>\n",
              "      <th>44</th>\n",
              "      <td>isuzu</td>\n",
              "      <td>gas</td>\n",
              "      <td>two</td>\n",
              "      <td>sedan</td>\n",
              "      <td>1874</td>\n",
              "      <td>90</td>\n",
              "      <td>70.0</td>\n",
              "      <td>38</td>\n",
              "      <td>43</td>\n",
              "      <td>NaN</td>\n",
              "      <td>515592.480</td>\n",
              "      <td>65.105613</td>\n",
              "    </tr>\n",
              "    <tr>\n",
              "      <th>45</th>\n",
              "      <td>isuzu</td>\n",
              "      <td>gas</td>\n",
              "      <td>four</td>\n",
              "      <td>sedan</td>\n",
              "      <td>1909</td>\n",
              "      <td>90</td>\n",
              "      <td>70.0</td>\n",
              "      <td>38</td>\n",
              "      <td>43</td>\n",
              "      <td>NaN</td>\n",
              "      <td>515592.480</td>\n",
              "      <td>64.755162</td>\n",
              "    </tr>\n",
              "    <tr>\n",
              "      <th>129</th>\n",
              "      <td>porsche</td>\n",
              "      <td>gas</td>\n",
              "      <td>two</td>\n",
              "      <td>hatchback</td>\n",
              "      <td>3366</td>\n",
              "      <td>203</td>\n",
              "      <td>288.0</td>\n",
              "      <td>17</td>\n",
              "      <td>28</td>\n",
              "      <td>NaN</td>\n",
              "      <td>641507.055</td>\n",
              "      <td>29.678270</td>\n",
              "    </tr>\n",
              "  </tbody>\n",
              "</table>\n",
              "</div>\n",
              "    <div class=\"colab-df-buttons\">\n",
              "\n",
              "  <div class=\"colab-df-container\">\n",
              "    <button class=\"colab-df-convert\" onclick=\"convertToInteractive('df-a8a2c8e1-a7fb-444c-8d74-596d4004db26')\"\n",
              "            title=\"Convert this dataframe to an interactive table.\"\n",
              "            style=\"display:none;\">\n",
              "\n",
              "  <svg xmlns=\"http://www.w3.org/2000/svg\" height=\"24px\" viewBox=\"0 -960 960 960\">\n",
              "    <path d=\"M120-120v-720h720v720H120Zm60-500h600v-160H180v160Zm220 220h160v-160H400v160Zm0 220h160v-160H400v160ZM180-400h160v-160H180v160Zm440 0h160v-160H620v160ZM180-180h160v-160H180v160Zm440 0h160v-160H620v160Z\"/>\n",
              "  </svg>\n",
              "    </button>\n",
              "\n",
              "  <style>\n",
              "    .colab-df-container {\n",
              "      display:flex;\n",
              "      gap: 12px;\n",
              "    }\n",
              "\n",
              "    .colab-df-convert {\n",
              "      background-color: #E8F0FE;\n",
              "      border: none;\n",
              "      border-radius: 50%;\n",
              "      cursor: pointer;\n",
              "      display: none;\n",
              "      fill: #1967D2;\n",
              "      height: 32px;\n",
              "      padding: 0 0 0 0;\n",
              "      width: 32px;\n",
              "    }\n",
              "\n",
              "    .colab-df-convert:hover {\n",
              "      background-color: #E2EBFA;\n",
              "      box-shadow: 0px 1px 2px rgba(60, 64, 67, 0.3), 0px 1px 3px 1px rgba(60, 64, 67, 0.15);\n",
              "      fill: #174EA6;\n",
              "    }\n",
              "\n",
              "    .colab-df-buttons div {\n",
              "      margin-bottom: 4px;\n",
              "    }\n",
              "\n",
              "    [theme=dark] .colab-df-convert {\n",
              "      background-color: #3B4455;\n",
              "      fill: #D2E3FC;\n",
              "    }\n",
              "\n",
              "    [theme=dark] .colab-df-convert:hover {\n",
              "      background-color: #434B5C;\n",
              "      box-shadow: 0px 1px 3px 1px rgba(0, 0, 0, 0.15);\n",
              "      filter: drop-shadow(0px 1px 2px rgba(0, 0, 0, 0.3));\n",
              "      fill: #FFFFFF;\n",
              "    }\n",
              "  </style>\n",
              "\n",
              "    <script>\n",
              "      const buttonEl =\n",
              "        document.querySelector('#df-a8a2c8e1-a7fb-444c-8d74-596d4004db26 button.colab-df-convert');\n",
              "      buttonEl.style.display =\n",
              "        google.colab.kernel.accessAllowed ? 'block' : 'none';\n",
              "\n",
              "      async function convertToInteractive(key) {\n",
              "        const element = document.querySelector('#df-a8a2c8e1-a7fb-444c-8d74-596d4004db26');\n",
              "        const dataTable =\n",
              "          await google.colab.kernel.invokeFunction('convertToInteractive',\n",
              "                                                    [key], {});\n",
              "        if (!dataTable) return;\n",
              "\n",
              "        const docLinkHtml = 'Like what you see? Visit the ' +\n",
              "          '<a target=\"_blank\" href=https://colab.research.google.com/notebooks/data_table.ipynb>data table notebook</a>'\n",
              "          + ' to learn more about interactive tables.';\n",
              "        element.innerHTML = '';\n",
              "        dataTable['output_type'] = 'display_data';\n",
              "        await google.colab.output.renderOutput(dataTable, element);\n",
              "        const docLink = document.createElement('div');\n",
              "        docLink.innerHTML = docLinkHtml;\n",
              "        element.appendChild(docLink);\n",
              "      }\n",
              "    </script>\n",
              "  </div>\n",
              "\n",
              "\n",
              "<div id=\"df-f7983ba2-a80e-4361-8062-9fb8feab90d0\">\n",
              "  <button class=\"colab-df-quickchart\" onclick=\"quickchart('df-f7983ba2-a80e-4361-8062-9fb8feab90d0')\"\n",
              "            title=\"Suggest charts\"\n",
              "            style=\"display:none;\">\n",
              "\n",
              "<svg xmlns=\"http://www.w3.org/2000/svg\" height=\"24px\"viewBox=\"0 0 24 24\"\n",
              "     width=\"24px\">\n",
              "    <g>\n",
              "        <path d=\"M19 3H5c-1.1 0-2 .9-2 2v14c0 1.1.9 2 2 2h14c1.1 0 2-.9 2-2V5c0-1.1-.9-2-2-2zM9 17H7v-7h2v7zm4 0h-2V7h2v10zm4 0h-2v-4h2v4z\"/>\n",
              "    </g>\n",
              "</svg>\n",
              "  </button>\n",
              "\n",
              "<style>\n",
              "  .colab-df-quickchart {\n",
              "      --bg-color: #E8F0FE;\n",
              "      --fill-color: #1967D2;\n",
              "      --hover-bg-color: #E2EBFA;\n",
              "      --hover-fill-color: #174EA6;\n",
              "      --disabled-fill-color: #AAA;\n",
              "      --disabled-bg-color: #DDD;\n",
              "  }\n",
              "\n",
              "  [theme=dark] .colab-df-quickchart {\n",
              "      --bg-color: #3B4455;\n",
              "      --fill-color: #D2E3FC;\n",
              "      --hover-bg-color: #434B5C;\n",
              "      --hover-fill-color: #FFFFFF;\n",
              "      --disabled-bg-color: #3B4455;\n",
              "      --disabled-fill-color: #666;\n",
              "  }\n",
              "\n",
              "  .colab-df-quickchart {\n",
              "    background-color: var(--bg-color);\n",
              "    border: none;\n",
              "    border-radius: 50%;\n",
              "    cursor: pointer;\n",
              "    display: none;\n",
              "    fill: var(--fill-color);\n",
              "    height: 32px;\n",
              "    padding: 0;\n",
              "    width: 32px;\n",
              "  }\n",
              "\n",
              "  .colab-df-quickchart:hover {\n",
              "    background-color: var(--hover-bg-color);\n",
              "    box-shadow: 0 1px 2px rgba(60, 64, 67, 0.3), 0 1px 3px 1px rgba(60, 64, 67, 0.15);\n",
              "    fill: var(--button-hover-fill-color);\n",
              "  }\n",
              "\n",
              "  .colab-df-quickchart-complete:disabled,\n",
              "  .colab-df-quickchart-complete:disabled:hover {\n",
              "    background-color: var(--disabled-bg-color);\n",
              "    fill: var(--disabled-fill-color);\n",
              "    box-shadow: none;\n",
              "  }\n",
              "\n",
              "  .colab-df-spinner {\n",
              "    border: 2px solid var(--fill-color);\n",
              "    border-color: transparent;\n",
              "    border-bottom-color: var(--fill-color);\n",
              "    animation:\n",
              "      spin 1s steps(1) infinite;\n",
              "  }\n",
              "\n",
              "  @keyframes spin {\n",
              "    0% {\n",
              "      border-color: transparent;\n",
              "      border-bottom-color: var(--fill-color);\n",
              "      border-left-color: var(--fill-color);\n",
              "    }\n",
              "    20% {\n",
              "      border-color: transparent;\n",
              "      border-left-color: var(--fill-color);\n",
              "      border-top-color: var(--fill-color);\n",
              "    }\n",
              "    30% {\n",
              "      border-color: transparent;\n",
              "      border-left-color: var(--fill-color);\n",
              "      border-top-color: var(--fill-color);\n",
              "      border-right-color: var(--fill-color);\n",
              "    }\n",
              "    40% {\n",
              "      border-color: transparent;\n",
              "      border-right-color: var(--fill-color);\n",
              "      border-top-color: var(--fill-color);\n",
              "    }\n",
              "    60% {\n",
              "      border-color: transparent;\n",
              "      border-right-color: var(--fill-color);\n",
              "    }\n",
              "    80% {\n",
              "      border-color: transparent;\n",
              "      border-right-color: var(--fill-color);\n",
              "      border-bottom-color: var(--fill-color);\n",
              "    }\n",
              "    90% {\n",
              "      border-color: transparent;\n",
              "      border-bottom-color: var(--fill-color);\n",
              "    }\n",
              "  }\n",
              "</style>\n",
              "\n",
              "  <script>\n",
              "    async function quickchart(key) {\n",
              "      const quickchartButtonEl =\n",
              "        document.querySelector('#' + key + ' button');\n",
              "      quickchartButtonEl.disabled = true;  // To prevent multiple clicks.\n",
              "      quickchartButtonEl.classList.add('colab-df-spinner');\n",
              "      try {\n",
              "        const charts = await google.colab.kernel.invokeFunction(\n",
              "            'suggestCharts', [key], {});\n",
              "      } catch (error) {\n",
              "        console.error('Error during call to suggestCharts:', error);\n",
              "      }\n",
              "      quickchartButtonEl.classList.remove('colab-df-spinner');\n",
              "      quickchartButtonEl.classList.add('colab-df-quickchart-complete');\n",
              "    }\n",
              "    (() => {\n",
              "      let quickchartButtonEl =\n",
              "        document.querySelector('#df-f7983ba2-a80e-4361-8062-9fb8feab90d0 button');\n",
              "      quickchartButtonEl.style.display =\n",
              "        google.colab.kernel.accessAllowed ? 'block' : 'none';\n",
              "    })();\n",
              "  </script>\n",
              "</div>\n",
              "\n",
              "    </div>\n",
              "  </div>\n"
            ],
            "application/vnd.google.colaboratory.intrinsic+json": {
              "type": "dataframe",
              "summary": "{\n  \"name\": \"autos\",\n  \"rows\": 4,\n  \"fields\": [\n    {\n      \"column\": \"make\",\n      \"properties\": {\n        \"dtype\": \"string\",\n        \"num_unique_values\": 3,\n        \"samples\": [\n          \"audi\",\n          \"isuzu\",\n          \"porsche\"\n        ],\n        \"semantic_type\": \"\",\n        \"description\": \"\"\n      }\n    },\n    {\n      \"column\": \"fuel-type\",\n      \"properties\": {\n        \"dtype\": \"category\",\n        \"num_unique_values\": 1,\n        \"samples\": [\n          \"gas\"\n        ],\n        \"semantic_type\": \"\",\n        \"description\": \"\"\n      }\n    },\n    {\n      \"column\": \"num-of-doors\",\n      \"properties\": {\n        \"dtype\": \"string\",\n        \"num_unique_values\": 2,\n        \"samples\": [\n          \"four\"\n        ],\n        \"semantic_type\": \"\",\n        \"description\": \"\"\n      }\n    },\n    {\n      \"column\": \"body-style\",\n      \"properties\": {\n        \"dtype\": \"string\",\n        \"num_unique_values\": 2,\n        \"samples\": [\n          \"sedan\"\n        ],\n        \"semantic_type\": \"\",\n        \"description\": \"\"\n      }\n    },\n    {\n      \"column\": \"curb-weight\",\n      \"properties\": {\n        \"dtype\": \"number\",\n        \"std\": 771,\n        \"min\": 1874,\n        \"max\": 3366,\n        \"num_unique_values\": 4,\n        \"samples\": [\n          1874\n        ],\n        \"semantic_type\": \"\",\n        \"description\": \"\"\n      }\n    },\n    {\n      \"column\": \"engine-size\",\n      \"properties\": {\n        \"dtype\": \"number\",\n        \"std\": 53,\n        \"min\": 90,\n        \"max\": 203,\n        \"num_unique_values\": 3,\n        \"samples\": [\n          131\n        ],\n        \"semantic_type\": \"\",\n        \"description\": \"\"\n      }\n    },\n    {\n      \"column\": \"horsepower\",\n      \"properties\": {\n        \"dtype\": \"number\",\n        \"std\": 103.1309846748299,\n        \"min\": 70.0,\n        \"max\": 288.0,\n        \"num_unique_values\": 3,\n        \"samples\": [\n          160.0\n        ],\n        \"semantic_type\": \"\",\n        \"description\": \"\"\n      }\n    },\n    {\n      \"column\": \"city-mpg\",\n      \"properties\": {\n        \"dtype\": \"number\",\n        \"std\": 12,\n        \"min\": 16,\n        \"max\": 38,\n        \"num_unique_values\": 3,\n        \"samples\": [\n          16\n        ],\n        \"semantic_type\": \"\",\n        \"description\": \"\"\n      }\n    },\n    {\n      \"column\": \"highway-mpg\",\n      \"properties\": {\n        \"dtype\": \"number\",\n        \"std\": 10,\n        \"min\": 22,\n        \"max\": 43,\n        \"num_unique_values\": 3,\n        \"samples\": [\n          22\n        ],\n        \"semantic_type\": \"\",\n        \"description\": \"\"\n      }\n    },\n    {\n      \"column\": \"price\",\n      \"properties\": {\n        \"dtype\": \"number\",\n        \"std\": null,\n        \"min\": null,\n        \"max\": null,\n        \"num_unique_values\": 0,\n        \"samples\": [],\n        \"semantic_type\": \"\",\n        \"description\": \"\"\n      }\n    },\n    {\n      \"column\": \"volume\",\n      \"properties\": {\n        \"dtype\": \"number\",\n        \"std\": 69323.42346846596,\n        \"min\": 515592.48,\n        \"max\": 641507.0549999999,\n        \"num_unique_values\": 3,\n        \"samples\": [],\n        \"semantic_type\": \"\",\n        \"description\": \"\"\n      }\n    },\n    {\n      \"column\": \"eco-rating\",\n      \"properties\": {\n        \"dtype\": \"number\",\n        \"std\": 21.78478868319584,\n        \"min\": 25.008889883941137,\n        \"max\": 65.10561250103834,\n        \"num_unique_values\": 4,\n        \"samples\": [],\n        \"semantic_type\": \"\",\n        \"description\": \"\"\n      }\n    }\n  ]\n}"
            }
          },
          "metadata": {},
          "execution_count": 36
        }
      ]
    },
    {
      "cell_type": "code",
      "source": [
        "autos['price'].fillna(media, inplace=True)"
      ],
      "metadata": {
        "id": "YcHj7IXCLGZM"
      },
      "execution_count": 37,
      "outputs": []
    },
    {
      "cell_type": "code",
      "source": [
        "autos.loc[44]"
      ],
      "metadata": {
        "colab": {
          "base_uri": "https://localhost:8080/",
          "height": 461
        },
        "id": "1hnpRK9LNwVv",
        "outputId": "5714fe27-645f-46ee-cf56-735b0d9b94e0"
      },
      "execution_count": 38,
      "outputs": [
        {
          "output_type": "execute_result",
          "data": {
            "text/plain": [
              "make                isuzu\n",
              "fuel-type             gas\n",
              "num-of-doors          two\n",
              "body-style          sedan\n",
              "curb-weight          1874\n",
              "engine-size            90\n",
              "horsepower           70.0\n",
              "city-mpg               38\n",
              "highway-mpg            43\n",
              "price             13207.0\n",
              "volume          515592.48\n",
              "eco-rating      65.105613\n",
              "Name: 44, dtype: object"
            ],
            "text/html": [
              "<div>\n",
              "<style scoped>\n",
              "    .dataframe tbody tr th:only-of-type {\n",
              "        vertical-align: middle;\n",
              "    }\n",
              "\n",
              "    .dataframe tbody tr th {\n",
              "        vertical-align: top;\n",
              "    }\n",
              "\n",
              "    .dataframe thead th {\n",
              "        text-align: right;\n",
              "    }\n",
              "</style>\n",
              "<table border=\"1\" class=\"dataframe\">\n",
              "  <thead>\n",
              "    <tr style=\"text-align: right;\">\n",
              "      <th></th>\n",
              "      <th>44</th>\n",
              "    </tr>\n",
              "  </thead>\n",
              "  <tbody>\n",
              "    <tr>\n",
              "      <th>make</th>\n",
              "      <td>isuzu</td>\n",
              "    </tr>\n",
              "    <tr>\n",
              "      <th>fuel-type</th>\n",
              "      <td>gas</td>\n",
              "    </tr>\n",
              "    <tr>\n",
              "      <th>num-of-doors</th>\n",
              "      <td>two</td>\n",
              "    </tr>\n",
              "    <tr>\n",
              "      <th>body-style</th>\n",
              "      <td>sedan</td>\n",
              "    </tr>\n",
              "    <tr>\n",
              "      <th>curb-weight</th>\n",
              "      <td>1874</td>\n",
              "    </tr>\n",
              "    <tr>\n",
              "      <th>engine-size</th>\n",
              "      <td>90</td>\n",
              "    </tr>\n",
              "    <tr>\n",
              "      <th>horsepower</th>\n",
              "      <td>70.0</td>\n",
              "    </tr>\n",
              "    <tr>\n",
              "      <th>city-mpg</th>\n",
              "      <td>38</td>\n",
              "    </tr>\n",
              "    <tr>\n",
              "      <th>highway-mpg</th>\n",
              "      <td>43</td>\n",
              "    </tr>\n",
              "    <tr>\n",
              "      <th>price</th>\n",
              "      <td>13207.0</td>\n",
              "    </tr>\n",
              "    <tr>\n",
              "      <th>volume</th>\n",
              "      <td>515592.48</td>\n",
              "    </tr>\n",
              "    <tr>\n",
              "      <th>eco-rating</th>\n",
              "      <td>65.105613</td>\n",
              "    </tr>\n",
              "  </tbody>\n",
              "</table>\n",
              "</div><br><label><b>dtype:</b> object</label>"
            ]
          },
          "metadata": {},
          "execution_count": 38
        }
      ]
    },
    {
      "cell_type": "code",
      "source": [
        "autos = autos.dropna().copy()"
      ],
      "metadata": {
        "id": "_OmD3x6JRwch"
      },
      "execution_count": 39,
      "outputs": []
    },
    {
      "cell_type": "code",
      "source": [
        "autos.shape"
      ],
      "metadata": {
        "colab": {
          "base_uri": "https://localhost:8080/"
        },
        "id": "7Q_tADPISfSj",
        "outputId": "b572c134-0117-4a05-890a-865989ef5e1d"
      },
      "execution_count": 40,
      "outputs": [
        {
          "output_type": "execute_result",
          "data": {
            "text/plain": [
              "(201, 12)"
            ]
          },
          "metadata": {},
          "execution_count": 40
        }
      ]
    },
    {
      "cell_type": "markdown",
      "source": [
        "### b) Entrenar combinador\n",
        "\n",
        "Luego de completar según lo indicado en a), realice el entrenamiento del combinador lineal:\n",
        "\n",
        "i. Sin normalizar los atributos.\n",
        "\n",
        "ii. Normalizando ambos atributos linealmente.\n",
        "\n",
        "iii. Normalizando ambos atributos utilizando media y desvío.\n",
        "\n",
        "Analice el impacto de la normalización en el entrenamiento. ¿Qué resultados obtuvo sin normalizar los atributos? ¿Alguna de las normalizaciones es mejor? Explique."
      ],
      "metadata": {
        "id": "QgnLZ03Q3t3a"
      }
    },
    {
      "cell_type": "markdown",
      "source": [
        "#### i. Sin normalizar los atributos."
      ],
      "metadata": {
        "id": "F65u3KNNTUZ5"
      }
    },
    {
      "cell_type": "code",
      "source": [
        "modelo = NeuronaLineal(alpha=0.02, n_iter=50, cotaE=10e-05)"
      ],
      "metadata": {
        "id": "723jqf_GLEYP"
      },
      "execution_count": 41,
      "outputs": []
    },
    {
      "cell_type": "code",
      "source": [
        "# Y = price, x = engine_size\n",
        "\n",
        "Y = autos['price'].values.reshape(-1,1)\n",
        "X_original = autos['engine-size'].values.reshape(-1,1)"
      ],
      "metadata": {
        "id": "-a811pmBUvNo"
      },
      "execution_count": 42,
      "outputs": []
    },
    {
      "cell_type": "code",
      "source": [
        "modelo1 = modelo.fit(X_original,Y)\n",
        "\n",
        "print(f'Pesos: \\nW: {modelo1.w_} \\nBias: {modelo1.b_}')"
      ],
      "metadata": {
        "colab": {
          "base_uri": "https://localhost:8080/"
        },
        "id": "HAGSw0sdZxbo",
        "outputId": "d11eb3aa-893a-4e32-c180-964f067b8158"
      },
      "execution_count": 43,
      "outputs": [
        {
          "output_type": "stream",
          "name": "stdout",
          "text": [
            "Pesos: \n",
            "W: [nan] \n",
            "Bias: [nan]\n"
          ]
        },
        {
          "output_type": "stream",
          "name": "stderr",
          "text": [
            "/content/drive/MyDrive/DeepLearning-colab/Fuentes-20240901/ClassNeuronaLineal.py:84: RuntimeWarning: overflow encountered in square\n",
            "  ErrorAct += errorXi**2\n",
            "/content/drive/MyDrive/DeepLearning-colab/Fuentes-20240901/ClassNeuronaLineal.py:78: RuntimeWarning: invalid value encountered in add\n",
            "  self.w_ += update * xi\n",
            "/content/drive/MyDrive/DeepLearning-colab/Fuentes-20240901/ClassNeuronaLineal.py:80: RuntimeWarning: invalid value encountered in add\n",
            "  self.b_ += update\n"
          ]
        }
      ]
    },
    {
      "cell_type": "code",
      "source": [
        "print(f'MSE= {mse(modelo1.w_, modelo1.b_, X_original, Y)}')"
      ],
      "metadata": {
        "colab": {
          "base_uri": "https://localhost:8080/"
        },
        "id": "pQwri1tZJhG4",
        "outputId": "75a43871-548c-4d24-de0f-c0052b60564e"
      },
      "execution_count": 44,
      "outputs": [
        {
          "output_type": "stream",
          "name": "stdout",
          "text": [
            "MSE= [nan]\n"
          ]
        }
      ]
    },
    {
      "cell_type": "markdown",
      "source": [
        "####ii. Normalizando ambos atributos linealmente."
      ],
      "metadata": {
        "id": "attpZDCseIwW"
      }
    },
    {
      "cell_type": "code",
      "source": [
        "norm_lineal = preprocessing.MinMaxScaler()"
      ],
      "metadata": {
        "id": "Fn85Km9WLZjJ"
      },
      "execution_count": 45,
      "outputs": []
    },
    {
      "cell_type": "code",
      "source": [
        "X = norm_lineal.fit_transform(autos['engine-size'].values.reshape(-1,1))"
      ],
      "metadata": {
        "id": "nHSVM6qqaykl"
      },
      "execution_count": 46,
      "outputs": []
    },
    {
      "cell_type": "code",
      "source": [
        "modelo2 = modelo.fit(X,Y)\n",
        "\n",
        "print(f'Pesos: \\nW: {modelo2.w_} \\nBias: {modelo2.b_}')"
      ],
      "metadata": {
        "id": "hbF9qrXGf8Jb",
        "colab": {
          "base_uri": "https://localhost:8080/"
        },
        "outputId": "c7101d8f-c909-478a-d03f-6fabdab1277c"
      },
      "execution_count": 47,
      "outputs": [
        {
          "output_type": "stream",
          "name": "stdout",
          "text": [
            "Pesos: \n",
            "W: [42428.19434044] \n",
            "Bias: [2520.84240698]\n"
          ]
        }
      ]
    },
    {
      "cell_type": "code",
      "source": [
        "print(f'MSE con normalización lineal: {mse(modelo2.w_, modelo2.b_, X, Y)}')"
      ],
      "metadata": {
        "id": "04WrVSsCEKcY",
        "colab": {
          "base_uri": "https://localhost:8080/"
        },
        "outputId": "4261ec1c-3e64-4357-8d65-7ebfc1637ed0"
      },
      "execution_count": 48,
      "outputs": [
        {
          "output_type": "stream",
          "name": "stdout",
          "text": [
            "MSE con normalización lineal: [16010379.02438338]\n"
          ]
        }
      ]
    },
    {
      "cell_type": "markdown",
      "source": [
        "####iii. Normalizando ambos atributos utilizando media y desvío."
      ],
      "metadata": {
        "id": "ShQOa9e0BCcS"
      }
    },
    {
      "cell_type": "code",
      "source": [
        "avgstd_norm = preprocessing.StandardScaler()"
      ],
      "metadata": {
        "id": "HWSgU3YRMn0R"
      },
      "execution_count": 49,
      "outputs": []
    },
    {
      "cell_type": "code",
      "source": [
        "X = avgstd_norm.fit_transform(autos['engine-size'].values.reshape(-1,1))"
      ],
      "metadata": {
        "id": "M5e1ej6_gNOz"
      },
      "execution_count": 50,
      "outputs": []
    },
    {
      "cell_type": "code",
      "source": [
        "modelo3 = modelo.fit(X,Y)\n",
        "\n",
        "print(f'Pesos: \\nW: {modelo3.w_} \\nBias: {modelo3.b_}')"
      ],
      "metadata": {
        "id": "-JCR1VouCWVS",
        "colab": {
          "base_uri": "https://localhost:8080/"
        },
        "outputId": "33a36540-b906-4c7e-e6b8-3a7bd5de914a"
      },
      "execution_count": 51,
      "outputs": [
        {
          "output_type": "stream",
          "name": "stdout",
          "text": [
            "Pesos: \n",
            "W: [6578.09385503] \n",
            "Bias: [13127.80117797]\n"
          ]
        }
      ]
    },
    {
      "cell_type": "code",
      "source": [
        "print(f'MSE con normalización media y desvío: {mse(modelo3.w_, modelo3.b_, X,Y)}')"
      ],
      "metadata": {
        "id": "VCVFdd7iF0iF",
        "colab": {
          "base_uri": "https://localhost:8080/"
        },
        "outputId": "8cf42efa-1b54-43e2-fc27-f1147d82eefc"
      },
      "execution_count": 52,
      "outputs": [
        {
          "output_type": "stream",
          "name": "stdout",
          "text": [
            "MSE con normalización media y desvío: [16046098.65157177]\n"
          ]
        }
      ]
    },
    {
      "cell_type": "markdown",
      "source": [
        "# Regresión Lineal Múltiple (dos o más variables de entrada)"
      ],
      "metadata": {
        "id": "PTRW7WKgIgxm"
      }
    },
    {
      "cell_type": "markdown",
      "source": [
        "## Ejercicio 6\n",
        "\n",
        "Utilice los scripts disponibles en la teoría y práctica para entrenar un combinador lineal. El modelo debe recibir tres dígitos binarios y retornar la representación decimal del número que resulta de la combinación de dígitos (para las entradas 000, 010 y 101 debe obtener las salidas 0, 2 y 5, respectivamente)\n",
        "\n",
        "a) Utilizando el bias o peso W0 (comportamiento normal)\n",
        "\n",
        "b) Utilizando únicamente las tres entradas correspondientes a los dígitos binarios anulando el bias o W0 del cálculo.\n",
        "\n",
        "Compare la cantidad de iteraciones necesarias para obtener el vector de pesos correcto en ambos casos.\n",
        "Observe el valor del arco correspondiente al bias en a)."
      ],
      "metadata": {
        "id": "NaQi9x36N-C8"
      }
    },
    {
      "cell_type": "code",
      "source": [
        "ejemplos = pd.DataFrame({'X': [0,0,0,0,1,1,1,1],\n",
        "                         'Y': [0,0,1,1,0,0,1,1],\n",
        "                         'Z': [0,1,0,1,0,1,0,1]})\n",
        "\n",
        "label = pd.DataFrame({'label': [0,1,2,3,4,5,6,7]})\n",
        "\n",
        "label = label.values.reshape(-1,1)\n",
        "label.shape"
      ],
      "metadata": {
        "colab": {
          "base_uri": "https://localhost:8080/"
        },
        "id": "kfmNH7s4wdAq",
        "outputId": "6a27a6be-1afe-4564-bf51-e2b3c223bee9"
      },
      "execution_count": null,
      "outputs": [
        {
          "output_type": "execute_result",
          "data": {
            "text/plain": [
              "(8, 1)"
            ]
          },
          "metadata": {},
          "execution_count": 4
        }
      ]
    },
    {
      "cell_type": "code",
      "source": [
        "modelo = NeuronaLineal(alpha=0.05, n_iter=5000, cotaE=1e-6, draw=1)"
      ],
      "metadata": {
        "id": "Yqeoor8WzMOn"
      },
      "execution_count": null,
      "outputs": []
    },
    {
      "cell_type": "code",
      "source": [
        "modelo4 = modelo.fit(ejemplos.values, label)\n",
        "\n",
        "print(f'Pesos: \\nW: {modelo4.w_} \\nBias: {modelo4.b_} \\nIteraciones: {modelo4.total_iter_}')"
      ],
      "metadata": {
        "colab": {
          "base_uri": "https://localhost:8080/"
        },
        "id": "2NckkF0PzWp7",
        "outputId": "ecc84036-fe01-4fc9-deeb-839039fce301"
      },
      "execution_count": null,
      "outputs": [
        {
          "output_type": "stream",
          "name": "stdout",
          "text": [
            "Pesos: \n",
            "W: [3.99906933 1.99904438 0.99903922] \n",
            "Bias: [0.00183354] \n",
            "Iteraciones: 126\n"
          ]
        }
      ]
    },
    {
      "cell_type": "code",
      "source": [
        "print(modelo4.predict([0,1,0]))"
      ],
      "metadata": {
        "colab": {
          "base_uri": "https://localhost:8080/"
        },
        "id": "aOF__kZ_1GJI",
        "outputId": "548b4b73-7c6f-406c-9485-ec016e6b7edb"
      },
      "execution_count": null,
      "outputs": [
        {
          "output_type": "stream",
          "name": "stdout",
          "text": [
            "2.0000841801636464\n"
          ]
        }
      ]
    },
    {
      "cell_type": "code",
      "source": [
        "modelo5 = modelo.fit(ejemplos.values, label, False)\n",
        "\n",
        "print(f'Pesos: \\nW: {modelo5.w_} \\nBias: {modelo5.b_} \\nIteraciones: {modelo5.total_iter_}')"
      ],
      "metadata": {
        "colab": {
          "base_uri": "https://localhost:8080/"
        },
        "id": "illoexqstril",
        "outputId": "45cf8322-7238-481d-f7b1-94476ff805e7"
      },
      "execution_count": null,
      "outputs": [
        {
          "output_type": "stream",
          "name": "stdout",
          "text": [
            "Pesos: \n",
            "W: [3.99906517 2.00008418 1.00087948] \n",
            "Bias: 0 \n",
            "Iteraciones: 74\n"
          ]
        }
      ]
    },
    {
      "cell_type": "code",
      "source": [
        "print(modelo5.predict([0,1,0]))"
      ],
      "metadata": {
        "colab": {
          "base_uri": "https://localhost:8080/"
        },
        "id": "-UWqhpep51E-",
        "outputId": "bad49b23-0e5c-4a7e-d346-efb96d2bfd70"
      },
      "execution_count": null,
      "outputs": [
        {
          "output_type": "stream",
          "name": "stdout",
          "text": [
            "2.0000841801636464\n"
          ]
        }
      ]
    },
    {
      "cell_type": "markdown",
      "source": [
        "## Ejercicio 7\n",
        "\n",
        "Utilizando los atributos numéricos del archivo Autos.csv entrene un combinador lineal para predecir el precio del auto en función del resto de los atributos. Tenga en cuenta la existencia de valores faltantes.\n",
        "Realice varias ejecuciones y observe los vectores de pesos obtenidos. ¿Puede identificar cuáles son los atributos con mayor incidencia en la determinación del precio? Explique."
      ],
      "metadata": {
        "id": "F3j8bEvI5mjj"
      }
    },
    {
      "cell_type": "code",
      "source": [
        "autos_df['num-of-doors'].unique()"
      ],
      "metadata": {
        "colab": {
          "base_uri": "https://localhost:8080/"
        },
        "id": "6iST_g8XMZbI",
        "outputId": "a2f05d44-1b8c-4a8a-8095-5d633900206a"
      },
      "execution_count": 53,
      "outputs": [
        {
          "output_type": "execute_result",
          "data": {
            "text/plain": [
              "array(['two', 'four', nan], dtype=object)"
            ]
          },
          "metadata": {},
          "execution_count": 53
        }
      ]
    },
    {
      "cell_type": "code",
      "source": [
        "autos_df['fuel-type'].unique()"
      ],
      "metadata": {
        "colab": {
          "base_uri": "https://localhost:8080/"
        },
        "id": "2DEfCV3ANUzT",
        "outputId": "002b9a6e-17da-4ee0-eb9f-0e6437eaed0f"
      },
      "execution_count": 54,
      "outputs": [
        {
          "output_type": "execute_result",
          "data": {
            "text/plain": [
              "array(['gas', 'diesel'], dtype=object)"
            ]
          },
          "metadata": {},
          "execution_count": 54
        }
      ]
    },
    {
      "cell_type": "code",
      "source": [
        "autos_copy = autos_df.copy()"
      ],
      "metadata": {
        "id": "JozWPYD5Pwlz"
      },
      "execution_count": 55,
      "outputs": []
    },
    {
      "cell_type": "code",
      "source": [
        "# autos_copy['num_of_doors'] = autos_df['num-of-doors'].map({'two':2, 'four':4})\n",
        "# autos_copy['fuel_type'] = autos_df['fuel-type'].map({'gas':0, 'diesel':1})\n",
        "\n",
        "autos_copy"
      ],
      "metadata": {
        "colab": {
          "base_uri": "https://localhost:8080/",
          "height": 493
        },
        "id": "fjUzlQpOL90p",
        "outputId": "6d0f013f-af60-47a1-aeb4-18425a9ab90a"
      },
      "execution_count": 56,
      "outputs": [
        {
          "output_type": "execute_result",
          "data": {
            "text/plain": [
              "            make fuel-type num-of-doors   body-style  curb-weight  \\\n",
              "0    alfa-romero       gas          two  convertible         2548   \n",
              "1    alfa-romero       gas          two  convertible         2548   \n",
              "2    alfa-romero       gas          two    hatchback         2823   \n",
              "3           audi       gas         four        sedan         2337   \n",
              "4           audi       gas         four        sedan         2824   \n",
              "..           ...       ...          ...          ...          ...   \n",
              "200        volvo       gas         four        sedan         2952   \n",
              "201        volvo       gas         four        sedan         3049   \n",
              "202        volvo       gas         four        sedan         3012   \n",
              "203        volvo    diesel         four        sedan         3217   \n",
              "204        volvo       gas         four        sedan         3062   \n",
              "\n",
              "     engine-size  horsepower  city-mpg  highway-mpg    price      volume  \\\n",
              "0            130       111.0        21           27  13495.0  528019.904   \n",
              "1            130       111.0        21           27  16500.0  528019.904   \n",
              "2            152       154.0        19           26  16500.0  587592.640   \n",
              "3            109       102.0        24           30  13950.0  634816.956   \n",
              "4            136       115.0        18           22  17450.0  636734.832   \n",
              "..           ...         ...       ...          ...      ...         ...   \n",
              "200          141       114.0        23           28  16845.0  721961.760   \n",
              "201          141       160.0        19           25  19045.0  720913.920   \n",
              "202          173       134.0        18           23  21485.0  721961.760   \n",
              "203          145       106.0        26           27  22470.0  721961.760   \n",
              "204          141       114.0        19           25  22625.0  721961.760   \n",
              "\n",
              "     eco-rating  \n",
              "0     33.297462  \n",
              "1     33.297462  \n",
              "2     30.898272  \n",
              "3     42.697819  \n",
              "4     27.997459  \n",
              "..          ...  \n",
              "200   38.354298  \n",
              "201   32.043335  \n",
              "202   29.806494  \n",
              "203   35.073342  \n",
              "204   31.997368  \n",
              "\n",
              "[205 rows x 12 columns]"
            ],
            "text/html": [
              "\n",
              "  <div id=\"df-78c3c8ce-f70e-4188-a851-49403268380c\" class=\"colab-df-container\">\n",
              "    <div>\n",
              "<style scoped>\n",
              "    .dataframe tbody tr th:only-of-type {\n",
              "        vertical-align: middle;\n",
              "    }\n",
              "\n",
              "    .dataframe tbody tr th {\n",
              "        vertical-align: top;\n",
              "    }\n",
              "\n",
              "    .dataframe thead th {\n",
              "        text-align: right;\n",
              "    }\n",
              "</style>\n",
              "<table border=\"1\" class=\"dataframe\">\n",
              "  <thead>\n",
              "    <tr style=\"text-align: right;\">\n",
              "      <th></th>\n",
              "      <th>make</th>\n",
              "      <th>fuel-type</th>\n",
              "      <th>num-of-doors</th>\n",
              "      <th>body-style</th>\n",
              "      <th>curb-weight</th>\n",
              "      <th>engine-size</th>\n",
              "      <th>horsepower</th>\n",
              "      <th>city-mpg</th>\n",
              "      <th>highway-mpg</th>\n",
              "      <th>price</th>\n",
              "      <th>volume</th>\n",
              "      <th>eco-rating</th>\n",
              "    </tr>\n",
              "  </thead>\n",
              "  <tbody>\n",
              "    <tr>\n",
              "      <th>0</th>\n",
              "      <td>alfa-romero</td>\n",
              "      <td>gas</td>\n",
              "      <td>two</td>\n",
              "      <td>convertible</td>\n",
              "      <td>2548</td>\n",
              "      <td>130</td>\n",
              "      <td>111.0</td>\n",
              "      <td>21</td>\n",
              "      <td>27</td>\n",
              "      <td>13495.0</td>\n",
              "      <td>528019.904</td>\n",
              "      <td>33.297462</td>\n",
              "    </tr>\n",
              "    <tr>\n",
              "      <th>1</th>\n",
              "      <td>alfa-romero</td>\n",
              "      <td>gas</td>\n",
              "      <td>two</td>\n",
              "      <td>convertible</td>\n",
              "      <td>2548</td>\n",
              "      <td>130</td>\n",
              "      <td>111.0</td>\n",
              "      <td>21</td>\n",
              "      <td>27</td>\n",
              "      <td>16500.0</td>\n",
              "      <td>528019.904</td>\n",
              "      <td>33.297462</td>\n",
              "    </tr>\n",
              "    <tr>\n",
              "      <th>2</th>\n",
              "      <td>alfa-romero</td>\n",
              "      <td>gas</td>\n",
              "      <td>two</td>\n",
              "      <td>hatchback</td>\n",
              "      <td>2823</td>\n",
              "      <td>152</td>\n",
              "      <td>154.0</td>\n",
              "      <td>19</td>\n",
              "      <td>26</td>\n",
              "      <td>16500.0</td>\n",
              "      <td>587592.640</td>\n",
              "      <td>30.898272</td>\n",
              "    </tr>\n",
              "    <tr>\n",
              "      <th>3</th>\n",
              "      <td>audi</td>\n",
              "      <td>gas</td>\n",
              "      <td>four</td>\n",
              "      <td>sedan</td>\n",
              "      <td>2337</td>\n",
              "      <td>109</td>\n",
              "      <td>102.0</td>\n",
              "      <td>24</td>\n",
              "      <td>30</td>\n",
              "      <td>13950.0</td>\n",
              "      <td>634816.956</td>\n",
              "      <td>42.697819</td>\n",
              "    </tr>\n",
              "    <tr>\n",
              "      <th>4</th>\n",
              "      <td>audi</td>\n",
              "      <td>gas</td>\n",
              "      <td>four</td>\n",
              "      <td>sedan</td>\n",
              "      <td>2824</td>\n",
              "      <td>136</td>\n",
              "      <td>115.0</td>\n",
              "      <td>18</td>\n",
              "      <td>22</td>\n",
              "      <td>17450.0</td>\n",
              "      <td>636734.832</td>\n",
              "      <td>27.997459</td>\n",
              "    </tr>\n",
              "    <tr>\n",
              "      <th>...</th>\n",
              "      <td>...</td>\n",
              "      <td>...</td>\n",
              "      <td>...</td>\n",
              "      <td>...</td>\n",
              "      <td>...</td>\n",
              "      <td>...</td>\n",
              "      <td>...</td>\n",
              "      <td>...</td>\n",
              "      <td>...</td>\n",
              "      <td>...</td>\n",
              "      <td>...</td>\n",
              "      <td>...</td>\n",
              "    </tr>\n",
              "    <tr>\n",
              "      <th>200</th>\n",
              "      <td>volvo</td>\n",
              "      <td>gas</td>\n",
              "      <td>four</td>\n",
              "      <td>sedan</td>\n",
              "      <td>2952</td>\n",
              "      <td>141</td>\n",
              "      <td>114.0</td>\n",
              "      <td>23</td>\n",
              "      <td>28</td>\n",
              "      <td>16845.0</td>\n",
              "      <td>721961.760</td>\n",
              "      <td>38.354298</td>\n",
              "    </tr>\n",
              "    <tr>\n",
              "      <th>201</th>\n",
              "      <td>volvo</td>\n",
              "      <td>gas</td>\n",
              "      <td>four</td>\n",
              "      <td>sedan</td>\n",
              "      <td>3049</td>\n",
              "      <td>141</td>\n",
              "      <td>160.0</td>\n",
              "      <td>19</td>\n",
              "      <td>25</td>\n",
              "      <td>19045.0</td>\n",
              "      <td>720913.920</td>\n",
              "      <td>32.043335</td>\n",
              "    </tr>\n",
              "    <tr>\n",
              "      <th>202</th>\n",
              "      <td>volvo</td>\n",
              "      <td>gas</td>\n",
              "      <td>four</td>\n",
              "      <td>sedan</td>\n",
              "      <td>3012</td>\n",
              "      <td>173</td>\n",
              "      <td>134.0</td>\n",
              "      <td>18</td>\n",
              "      <td>23</td>\n",
              "      <td>21485.0</td>\n",
              "      <td>721961.760</td>\n",
              "      <td>29.806494</td>\n",
              "    </tr>\n",
              "    <tr>\n",
              "      <th>203</th>\n",
              "      <td>volvo</td>\n",
              "      <td>diesel</td>\n",
              "      <td>four</td>\n",
              "      <td>sedan</td>\n",
              "      <td>3217</td>\n",
              "      <td>145</td>\n",
              "      <td>106.0</td>\n",
              "      <td>26</td>\n",
              "      <td>27</td>\n",
              "      <td>22470.0</td>\n",
              "      <td>721961.760</td>\n",
              "      <td>35.073342</td>\n",
              "    </tr>\n",
              "    <tr>\n",
              "      <th>204</th>\n",
              "      <td>volvo</td>\n",
              "      <td>gas</td>\n",
              "      <td>four</td>\n",
              "      <td>sedan</td>\n",
              "      <td>3062</td>\n",
              "      <td>141</td>\n",
              "      <td>114.0</td>\n",
              "      <td>19</td>\n",
              "      <td>25</td>\n",
              "      <td>22625.0</td>\n",
              "      <td>721961.760</td>\n",
              "      <td>31.997368</td>\n",
              "    </tr>\n",
              "  </tbody>\n",
              "</table>\n",
              "<p>205 rows × 12 columns</p>\n",
              "</div>\n",
              "    <div class=\"colab-df-buttons\">\n",
              "\n",
              "  <div class=\"colab-df-container\">\n",
              "    <button class=\"colab-df-convert\" onclick=\"convertToInteractive('df-78c3c8ce-f70e-4188-a851-49403268380c')\"\n",
              "            title=\"Convert this dataframe to an interactive table.\"\n",
              "            style=\"display:none;\">\n",
              "\n",
              "  <svg xmlns=\"http://www.w3.org/2000/svg\" height=\"24px\" viewBox=\"0 -960 960 960\">\n",
              "    <path d=\"M120-120v-720h720v720H120Zm60-500h600v-160H180v160Zm220 220h160v-160H400v160Zm0 220h160v-160H400v160ZM180-400h160v-160H180v160Zm440 0h160v-160H620v160ZM180-180h160v-160H180v160Zm440 0h160v-160H620v160Z\"/>\n",
              "  </svg>\n",
              "    </button>\n",
              "\n",
              "  <style>\n",
              "    .colab-df-container {\n",
              "      display:flex;\n",
              "      gap: 12px;\n",
              "    }\n",
              "\n",
              "    .colab-df-convert {\n",
              "      background-color: #E8F0FE;\n",
              "      border: none;\n",
              "      border-radius: 50%;\n",
              "      cursor: pointer;\n",
              "      display: none;\n",
              "      fill: #1967D2;\n",
              "      height: 32px;\n",
              "      padding: 0 0 0 0;\n",
              "      width: 32px;\n",
              "    }\n",
              "\n",
              "    .colab-df-convert:hover {\n",
              "      background-color: #E2EBFA;\n",
              "      box-shadow: 0px 1px 2px rgba(60, 64, 67, 0.3), 0px 1px 3px 1px rgba(60, 64, 67, 0.15);\n",
              "      fill: #174EA6;\n",
              "    }\n",
              "\n",
              "    .colab-df-buttons div {\n",
              "      margin-bottom: 4px;\n",
              "    }\n",
              "\n",
              "    [theme=dark] .colab-df-convert {\n",
              "      background-color: #3B4455;\n",
              "      fill: #D2E3FC;\n",
              "    }\n",
              "\n",
              "    [theme=dark] .colab-df-convert:hover {\n",
              "      background-color: #434B5C;\n",
              "      box-shadow: 0px 1px 3px 1px rgba(0, 0, 0, 0.15);\n",
              "      filter: drop-shadow(0px 1px 2px rgba(0, 0, 0, 0.3));\n",
              "      fill: #FFFFFF;\n",
              "    }\n",
              "  </style>\n",
              "\n",
              "    <script>\n",
              "      const buttonEl =\n",
              "        document.querySelector('#df-78c3c8ce-f70e-4188-a851-49403268380c button.colab-df-convert');\n",
              "      buttonEl.style.display =\n",
              "        google.colab.kernel.accessAllowed ? 'block' : 'none';\n",
              "\n",
              "      async function convertToInteractive(key) {\n",
              "        const element = document.querySelector('#df-78c3c8ce-f70e-4188-a851-49403268380c');\n",
              "        const dataTable =\n",
              "          await google.colab.kernel.invokeFunction('convertToInteractive',\n",
              "                                                    [key], {});\n",
              "        if (!dataTable) return;\n",
              "\n",
              "        const docLinkHtml = 'Like what you see? Visit the ' +\n",
              "          '<a target=\"_blank\" href=https://colab.research.google.com/notebooks/data_table.ipynb>data table notebook</a>'\n",
              "          + ' to learn more about interactive tables.';\n",
              "        element.innerHTML = '';\n",
              "        dataTable['output_type'] = 'display_data';\n",
              "        await google.colab.output.renderOutput(dataTable, element);\n",
              "        const docLink = document.createElement('div');\n",
              "        docLink.innerHTML = docLinkHtml;\n",
              "        element.appendChild(docLink);\n",
              "      }\n",
              "    </script>\n",
              "  </div>\n",
              "\n",
              "\n",
              "<div id=\"df-350aaf0a-658e-4e36-a2a2-a1cb6ae2e520\">\n",
              "  <button class=\"colab-df-quickchart\" onclick=\"quickchart('df-350aaf0a-658e-4e36-a2a2-a1cb6ae2e520')\"\n",
              "            title=\"Suggest charts\"\n",
              "            style=\"display:none;\">\n",
              "\n",
              "<svg xmlns=\"http://www.w3.org/2000/svg\" height=\"24px\"viewBox=\"0 0 24 24\"\n",
              "     width=\"24px\">\n",
              "    <g>\n",
              "        <path d=\"M19 3H5c-1.1 0-2 .9-2 2v14c0 1.1.9 2 2 2h14c1.1 0 2-.9 2-2V5c0-1.1-.9-2-2-2zM9 17H7v-7h2v7zm4 0h-2V7h2v10zm4 0h-2v-4h2v4z\"/>\n",
              "    </g>\n",
              "</svg>\n",
              "  </button>\n",
              "\n",
              "<style>\n",
              "  .colab-df-quickchart {\n",
              "      --bg-color: #E8F0FE;\n",
              "      --fill-color: #1967D2;\n",
              "      --hover-bg-color: #E2EBFA;\n",
              "      --hover-fill-color: #174EA6;\n",
              "      --disabled-fill-color: #AAA;\n",
              "      --disabled-bg-color: #DDD;\n",
              "  }\n",
              "\n",
              "  [theme=dark] .colab-df-quickchart {\n",
              "      --bg-color: #3B4455;\n",
              "      --fill-color: #D2E3FC;\n",
              "      --hover-bg-color: #434B5C;\n",
              "      --hover-fill-color: #FFFFFF;\n",
              "      --disabled-bg-color: #3B4455;\n",
              "      --disabled-fill-color: #666;\n",
              "  }\n",
              "\n",
              "  .colab-df-quickchart {\n",
              "    background-color: var(--bg-color);\n",
              "    border: none;\n",
              "    border-radius: 50%;\n",
              "    cursor: pointer;\n",
              "    display: none;\n",
              "    fill: var(--fill-color);\n",
              "    height: 32px;\n",
              "    padding: 0;\n",
              "    width: 32px;\n",
              "  }\n",
              "\n",
              "  .colab-df-quickchart:hover {\n",
              "    background-color: var(--hover-bg-color);\n",
              "    box-shadow: 0 1px 2px rgba(60, 64, 67, 0.3), 0 1px 3px 1px rgba(60, 64, 67, 0.15);\n",
              "    fill: var(--button-hover-fill-color);\n",
              "  }\n",
              "\n",
              "  .colab-df-quickchart-complete:disabled,\n",
              "  .colab-df-quickchart-complete:disabled:hover {\n",
              "    background-color: var(--disabled-bg-color);\n",
              "    fill: var(--disabled-fill-color);\n",
              "    box-shadow: none;\n",
              "  }\n",
              "\n",
              "  .colab-df-spinner {\n",
              "    border: 2px solid var(--fill-color);\n",
              "    border-color: transparent;\n",
              "    border-bottom-color: var(--fill-color);\n",
              "    animation:\n",
              "      spin 1s steps(1) infinite;\n",
              "  }\n",
              "\n",
              "  @keyframes spin {\n",
              "    0% {\n",
              "      border-color: transparent;\n",
              "      border-bottom-color: var(--fill-color);\n",
              "      border-left-color: var(--fill-color);\n",
              "    }\n",
              "    20% {\n",
              "      border-color: transparent;\n",
              "      border-left-color: var(--fill-color);\n",
              "      border-top-color: var(--fill-color);\n",
              "    }\n",
              "    30% {\n",
              "      border-color: transparent;\n",
              "      border-left-color: var(--fill-color);\n",
              "      border-top-color: var(--fill-color);\n",
              "      border-right-color: var(--fill-color);\n",
              "    }\n",
              "    40% {\n",
              "      border-color: transparent;\n",
              "      border-right-color: var(--fill-color);\n",
              "      border-top-color: var(--fill-color);\n",
              "    }\n",
              "    60% {\n",
              "      border-color: transparent;\n",
              "      border-right-color: var(--fill-color);\n",
              "    }\n",
              "    80% {\n",
              "      border-color: transparent;\n",
              "      border-right-color: var(--fill-color);\n",
              "      border-bottom-color: var(--fill-color);\n",
              "    }\n",
              "    90% {\n",
              "      border-color: transparent;\n",
              "      border-bottom-color: var(--fill-color);\n",
              "    }\n",
              "  }\n",
              "</style>\n",
              "\n",
              "  <script>\n",
              "    async function quickchart(key) {\n",
              "      const quickchartButtonEl =\n",
              "        document.querySelector('#' + key + ' button');\n",
              "      quickchartButtonEl.disabled = true;  // To prevent multiple clicks.\n",
              "      quickchartButtonEl.classList.add('colab-df-spinner');\n",
              "      try {\n",
              "        const charts = await google.colab.kernel.invokeFunction(\n",
              "            'suggestCharts', [key], {});\n",
              "      } catch (error) {\n",
              "        console.error('Error during call to suggestCharts:', error);\n",
              "      }\n",
              "      quickchartButtonEl.classList.remove('colab-df-spinner');\n",
              "      quickchartButtonEl.classList.add('colab-df-quickchart-complete');\n",
              "    }\n",
              "    (() => {\n",
              "      let quickchartButtonEl =\n",
              "        document.querySelector('#df-350aaf0a-658e-4e36-a2a2-a1cb6ae2e520 button');\n",
              "      quickchartButtonEl.style.display =\n",
              "        google.colab.kernel.accessAllowed ? 'block' : 'none';\n",
              "    })();\n",
              "  </script>\n",
              "</div>\n",
              "\n",
              "  <div id=\"id_8dd513c6-5a39-42f5-98db-cee585855776\">\n",
              "    <style>\n",
              "      .colab-df-generate {\n",
              "        background-color: #E8F0FE;\n",
              "        border: none;\n",
              "        border-radius: 50%;\n",
              "        cursor: pointer;\n",
              "        display: none;\n",
              "        fill: #1967D2;\n",
              "        height: 32px;\n",
              "        padding: 0 0 0 0;\n",
              "        width: 32px;\n",
              "      }\n",
              "\n",
              "      .colab-df-generate:hover {\n",
              "        background-color: #E2EBFA;\n",
              "        box-shadow: 0px 1px 2px rgba(60, 64, 67, 0.3), 0px 1px 3px 1px rgba(60, 64, 67, 0.15);\n",
              "        fill: #174EA6;\n",
              "      }\n",
              "\n",
              "      [theme=dark] .colab-df-generate {\n",
              "        background-color: #3B4455;\n",
              "        fill: #D2E3FC;\n",
              "      }\n",
              "\n",
              "      [theme=dark] .colab-df-generate:hover {\n",
              "        background-color: #434B5C;\n",
              "        box-shadow: 0px 1px 3px 1px rgba(0, 0, 0, 0.15);\n",
              "        filter: drop-shadow(0px 1px 2px rgba(0, 0, 0, 0.3));\n",
              "        fill: #FFFFFF;\n",
              "      }\n",
              "    </style>\n",
              "    <button class=\"colab-df-generate\" onclick=\"generateWithVariable('autos_copy')\"\n",
              "            title=\"Generate code using this dataframe.\"\n",
              "            style=\"display:none;\">\n",
              "\n",
              "  <svg xmlns=\"http://www.w3.org/2000/svg\" height=\"24px\"viewBox=\"0 0 24 24\"\n",
              "       width=\"24px\">\n",
              "    <path d=\"M7,19H8.4L18.45,9,17,7.55,7,17.6ZM5,21V16.75L18.45,3.32a2,2,0,0,1,2.83,0l1.4,1.43a1.91,1.91,0,0,1,.58,1.4,1.91,1.91,0,0,1-.58,1.4L9.25,21ZM18.45,9,17,7.55Zm-12,3A5.31,5.31,0,0,0,4.9,8.1,5.31,5.31,0,0,0,1,6.5,5.31,5.31,0,0,0,4.9,4.9,5.31,5.31,0,0,0,6.5,1,5.31,5.31,0,0,0,8.1,4.9,5.31,5.31,0,0,0,12,6.5,5.46,5.46,0,0,0,6.5,12Z\"/>\n",
              "  </svg>\n",
              "    </button>\n",
              "    <script>\n",
              "      (() => {\n",
              "      const buttonEl =\n",
              "        document.querySelector('#id_8dd513c6-5a39-42f5-98db-cee585855776 button.colab-df-generate');\n",
              "      buttonEl.style.display =\n",
              "        google.colab.kernel.accessAllowed ? 'block' : 'none';\n",
              "\n",
              "      buttonEl.onclick = () => {\n",
              "        google.colab.notebook.generateWithVariable('autos_copy');\n",
              "      }\n",
              "      })();\n",
              "    </script>\n",
              "  </div>\n",
              "\n",
              "    </div>\n",
              "  </div>\n"
            ],
            "application/vnd.google.colaboratory.intrinsic+json": {
              "type": "dataframe",
              "variable_name": "autos_copy",
              "summary": "{\n  \"name\": \"autos_copy\",\n  \"rows\": 205,\n  \"fields\": [\n    {\n      \"column\": \"make\",\n      \"properties\": {\n        \"dtype\": \"category\",\n        \"num_unique_values\": 22,\n        \"samples\": [\n          \"alfa-romero\",\n          \"peugot\",\n          \"mazda\"\n        ],\n        \"semantic_type\": \"\",\n        \"description\": \"\"\n      }\n    },\n    {\n      \"column\": \"fuel-type\",\n      \"properties\": {\n        \"dtype\": \"category\",\n        \"num_unique_values\": 2,\n        \"samples\": [\n          \"diesel\",\n          \"gas\"\n        ],\n        \"semantic_type\": \"\",\n        \"description\": \"\"\n      }\n    },\n    {\n      \"column\": \"num-of-doors\",\n      \"properties\": {\n        \"dtype\": \"category\",\n        \"num_unique_values\": 2,\n        \"samples\": [\n          \"four\",\n          \"two\"\n        ],\n        \"semantic_type\": \"\",\n        \"description\": \"\"\n      }\n    },\n    {\n      \"column\": \"body-style\",\n      \"properties\": {\n        \"dtype\": \"category\",\n        \"num_unique_values\": 5,\n        \"samples\": [\n          \"hatchback\",\n          \"hardtop\"\n        ],\n        \"semantic_type\": \"\",\n        \"description\": \"\"\n      }\n    },\n    {\n      \"column\": \"curb-weight\",\n      \"properties\": {\n        \"dtype\": \"number\",\n        \"std\": 520,\n        \"min\": 1488,\n        \"max\": 4066,\n        \"num_unique_values\": 171,\n        \"samples\": [\n          2756,\n          3515\n        ],\n        \"semantic_type\": \"\",\n        \"description\": \"\"\n      }\n    },\n    {\n      \"column\": \"engine-size\",\n      \"properties\": {\n        \"dtype\": \"number\",\n        \"std\": 41,\n        \"min\": 61,\n        \"max\": 326,\n        \"num_unique_values\": 44,\n        \"samples\": [\n          121,\n          134\n        ],\n        \"semantic_type\": \"\",\n        \"description\": \"\"\n      }\n    },\n    {\n      \"column\": \"horsepower\",\n      \"properties\": {\n        \"dtype\": \"number\",\n        \"std\": 39.71436878679358,\n        \"min\": 48.0,\n        \"max\": 288.0,\n        \"num_unique_values\": 59,\n        \"samples\": [\n          111.0,\n          140.0\n        ],\n        \"semantic_type\": \"\",\n        \"description\": \"\"\n      }\n    },\n    {\n      \"column\": \"city-mpg\",\n      \"properties\": {\n        \"dtype\": \"number\",\n        \"std\": 6,\n        \"min\": 13,\n        \"max\": 49,\n        \"num_unique_values\": 29,\n        \"samples\": [\n          29,\n          25\n        ],\n        \"semantic_type\": \"\",\n        \"description\": \"\"\n      }\n    },\n    {\n      \"column\": \"highway-mpg\",\n      \"properties\": {\n        \"dtype\": \"number\",\n        \"std\": 6,\n        \"min\": 16,\n        \"max\": 54,\n        \"num_unique_values\": 30,\n        \"samples\": [\n          36,\n          34\n        ],\n        \"semantic_type\": \"\",\n        \"description\": \"\"\n      }\n    },\n    {\n      \"column\": \"price\",\n      \"properties\": {\n        \"dtype\": \"number\",\n        \"std\": 7947.066341939274,\n        \"min\": 5118.0,\n        \"max\": 45400.0,\n        \"num_unique_values\": 186,\n        \"samples\": [\n          34028.0,\n          15750.0\n        ],\n        \"semantic_type\": \"\",\n        \"description\": \"\"\n      }\n    },\n    {\n      \"column\": \"volume\",\n      \"properties\": {\n        \"dtype\": \"number\",\n        \"std\": 79463.19526191443,\n        \"min\": 452643.156,\n        \"max\": 846007.6590000001,\n        \"num_unique_values\": 97,\n        \"samples\": [\n          714090.1599999999,\n          817837.446\n        ],\n        \"semantic_type\": \"\",\n        \"description\": \"\"\n      }\n    },\n    {\n      \"column\": \"eco-rating\",\n      \"properties\": {\n        \"dtype\": \"number\",\n        \"std\": 12.299627626784092,\n        \"min\": 15.501957160750948,\n        \"max\": 83.08877400645349,\n        \"num_unique_values\": 190,\n        \"samples\": [\n          40.05570574712924,\n          38.0682231220649\n        ],\n        \"semantic_type\": \"\",\n        \"description\": \"\"\n      }\n    }\n  ]\n}"
            }
          },
          "metadata": {},
          "execution_count": 56
        }
      ]
    },
    {
      "cell_type": "code",
      "source": [
        "autos_num = autos_copy.select_dtypes(include= [np.number])"
      ],
      "metadata": {
        "id": "Uo6VzPLjIoLH"
      },
      "execution_count": 57,
      "outputs": []
    },
    {
      "cell_type": "code",
      "source": [
        "autos_num"
      ],
      "metadata": {
        "colab": {
          "base_uri": "https://localhost:8080/",
          "height": 424
        },
        "id": "-Cs2RgPuMx8e",
        "outputId": "44dbd2c6-4618-4f29-c5d7-45bb7c26097e"
      },
      "execution_count": 58,
      "outputs": [
        {
          "output_type": "execute_result",
          "data": {
            "text/plain": [
              "     curb-weight  engine-size  horsepower  city-mpg  highway-mpg    price  \\\n",
              "0           2548          130       111.0        21           27  13495.0   \n",
              "1           2548          130       111.0        21           27  16500.0   \n",
              "2           2823          152       154.0        19           26  16500.0   \n",
              "3           2337          109       102.0        24           30  13950.0   \n",
              "4           2824          136       115.0        18           22  17450.0   \n",
              "..           ...          ...         ...       ...          ...      ...   \n",
              "200         2952          141       114.0        23           28  16845.0   \n",
              "201         3049          141       160.0        19           25  19045.0   \n",
              "202         3012          173       134.0        18           23  21485.0   \n",
              "203         3217          145       106.0        26           27  22470.0   \n",
              "204         3062          141       114.0        19           25  22625.0   \n",
              "\n",
              "         volume  eco-rating  \n",
              "0    528019.904   33.297462  \n",
              "1    528019.904   33.297462  \n",
              "2    587592.640   30.898272  \n",
              "3    634816.956   42.697819  \n",
              "4    636734.832   27.997459  \n",
              "..          ...         ...  \n",
              "200  721961.760   38.354298  \n",
              "201  720913.920   32.043335  \n",
              "202  721961.760   29.806494  \n",
              "203  721961.760   35.073342  \n",
              "204  721961.760   31.997368  \n",
              "\n",
              "[205 rows x 8 columns]"
            ],
            "text/html": [
              "\n",
              "  <div id=\"df-878e372a-cb82-4c0d-8c0c-13aecb2e55cd\" class=\"colab-df-container\">\n",
              "    <div>\n",
              "<style scoped>\n",
              "    .dataframe tbody tr th:only-of-type {\n",
              "        vertical-align: middle;\n",
              "    }\n",
              "\n",
              "    .dataframe tbody tr th {\n",
              "        vertical-align: top;\n",
              "    }\n",
              "\n",
              "    .dataframe thead th {\n",
              "        text-align: right;\n",
              "    }\n",
              "</style>\n",
              "<table border=\"1\" class=\"dataframe\">\n",
              "  <thead>\n",
              "    <tr style=\"text-align: right;\">\n",
              "      <th></th>\n",
              "      <th>curb-weight</th>\n",
              "      <th>engine-size</th>\n",
              "      <th>horsepower</th>\n",
              "      <th>city-mpg</th>\n",
              "      <th>highway-mpg</th>\n",
              "      <th>price</th>\n",
              "      <th>volume</th>\n",
              "      <th>eco-rating</th>\n",
              "    </tr>\n",
              "  </thead>\n",
              "  <tbody>\n",
              "    <tr>\n",
              "      <th>0</th>\n",
              "      <td>2548</td>\n",
              "      <td>130</td>\n",
              "      <td>111.0</td>\n",
              "      <td>21</td>\n",
              "      <td>27</td>\n",
              "      <td>13495.0</td>\n",
              "      <td>528019.904</td>\n",
              "      <td>33.297462</td>\n",
              "    </tr>\n",
              "    <tr>\n",
              "      <th>1</th>\n",
              "      <td>2548</td>\n",
              "      <td>130</td>\n",
              "      <td>111.0</td>\n",
              "      <td>21</td>\n",
              "      <td>27</td>\n",
              "      <td>16500.0</td>\n",
              "      <td>528019.904</td>\n",
              "      <td>33.297462</td>\n",
              "    </tr>\n",
              "    <tr>\n",
              "      <th>2</th>\n",
              "      <td>2823</td>\n",
              "      <td>152</td>\n",
              "      <td>154.0</td>\n",
              "      <td>19</td>\n",
              "      <td>26</td>\n",
              "      <td>16500.0</td>\n",
              "      <td>587592.640</td>\n",
              "      <td>30.898272</td>\n",
              "    </tr>\n",
              "    <tr>\n",
              "      <th>3</th>\n",
              "      <td>2337</td>\n",
              "      <td>109</td>\n",
              "      <td>102.0</td>\n",
              "      <td>24</td>\n",
              "      <td>30</td>\n",
              "      <td>13950.0</td>\n",
              "      <td>634816.956</td>\n",
              "      <td>42.697819</td>\n",
              "    </tr>\n",
              "    <tr>\n",
              "      <th>4</th>\n",
              "      <td>2824</td>\n",
              "      <td>136</td>\n",
              "      <td>115.0</td>\n",
              "      <td>18</td>\n",
              "      <td>22</td>\n",
              "      <td>17450.0</td>\n",
              "      <td>636734.832</td>\n",
              "      <td>27.997459</td>\n",
              "    </tr>\n",
              "    <tr>\n",
              "      <th>...</th>\n",
              "      <td>...</td>\n",
              "      <td>...</td>\n",
              "      <td>...</td>\n",
              "      <td>...</td>\n",
              "      <td>...</td>\n",
              "      <td>...</td>\n",
              "      <td>...</td>\n",
              "      <td>...</td>\n",
              "    </tr>\n",
              "    <tr>\n",
              "      <th>200</th>\n",
              "      <td>2952</td>\n",
              "      <td>141</td>\n",
              "      <td>114.0</td>\n",
              "      <td>23</td>\n",
              "      <td>28</td>\n",
              "      <td>16845.0</td>\n",
              "      <td>721961.760</td>\n",
              "      <td>38.354298</td>\n",
              "    </tr>\n",
              "    <tr>\n",
              "      <th>201</th>\n",
              "      <td>3049</td>\n",
              "      <td>141</td>\n",
              "      <td>160.0</td>\n",
              "      <td>19</td>\n",
              "      <td>25</td>\n",
              "      <td>19045.0</td>\n",
              "      <td>720913.920</td>\n",
              "      <td>32.043335</td>\n",
              "    </tr>\n",
              "    <tr>\n",
              "      <th>202</th>\n",
              "      <td>3012</td>\n",
              "      <td>173</td>\n",
              "      <td>134.0</td>\n",
              "      <td>18</td>\n",
              "      <td>23</td>\n",
              "      <td>21485.0</td>\n",
              "      <td>721961.760</td>\n",
              "      <td>29.806494</td>\n",
              "    </tr>\n",
              "    <tr>\n",
              "      <th>203</th>\n",
              "      <td>3217</td>\n",
              "      <td>145</td>\n",
              "      <td>106.0</td>\n",
              "      <td>26</td>\n",
              "      <td>27</td>\n",
              "      <td>22470.0</td>\n",
              "      <td>721961.760</td>\n",
              "      <td>35.073342</td>\n",
              "    </tr>\n",
              "    <tr>\n",
              "      <th>204</th>\n",
              "      <td>3062</td>\n",
              "      <td>141</td>\n",
              "      <td>114.0</td>\n",
              "      <td>19</td>\n",
              "      <td>25</td>\n",
              "      <td>22625.0</td>\n",
              "      <td>721961.760</td>\n",
              "      <td>31.997368</td>\n",
              "    </tr>\n",
              "  </tbody>\n",
              "</table>\n",
              "<p>205 rows × 8 columns</p>\n",
              "</div>\n",
              "    <div class=\"colab-df-buttons\">\n",
              "\n",
              "  <div class=\"colab-df-container\">\n",
              "    <button class=\"colab-df-convert\" onclick=\"convertToInteractive('df-878e372a-cb82-4c0d-8c0c-13aecb2e55cd')\"\n",
              "            title=\"Convert this dataframe to an interactive table.\"\n",
              "            style=\"display:none;\">\n",
              "\n",
              "  <svg xmlns=\"http://www.w3.org/2000/svg\" height=\"24px\" viewBox=\"0 -960 960 960\">\n",
              "    <path d=\"M120-120v-720h720v720H120Zm60-500h600v-160H180v160Zm220 220h160v-160H400v160Zm0 220h160v-160H400v160ZM180-400h160v-160H180v160Zm440 0h160v-160H620v160ZM180-180h160v-160H180v160Zm440 0h160v-160H620v160Z\"/>\n",
              "  </svg>\n",
              "    </button>\n",
              "\n",
              "  <style>\n",
              "    .colab-df-container {\n",
              "      display:flex;\n",
              "      gap: 12px;\n",
              "    }\n",
              "\n",
              "    .colab-df-convert {\n",
              "      background-color: #E8F0FE;\n",
              "      border: none;\n",
              "      border-radius: 50%;\n",
              "      cursor: pointer;\n",
              "      display: none;\n",
              "      fill: #1967D2;\n",
              "      height: 32px;\n",
              "      padding: 0 0 0 0;\n",
              "      width: 32px;\n",
              "    }\n",
              "\n",
              "    .colab-df-convert:hover {\n",
              "      background-color: #E2EBFA;\n",
              "      box-shadow: 0px 1px 2px rgba(60, 64, 67, 0.3), 0px 1px 3px 1px rgba(60, 64, 67, 0.15);\n",
              "      fill: #174EA6;\n",
              "    }\n",
              "\n",
              "    .colab-df-buttons div {\n",
              "      margin-bottom: 4px;\n",
              "    }\n",
              "\n",
              "    [theme=dark] .colab-df-convert {\n",
              "      background-color: #3B4455;\n",
              "      fill: #D2E3FC;\n",
              "    }\n",
              "\n",
              "    [theme=dark] .colab-df-convert:hover {\n",
              "      background-color: #434B5C;\n",
              "      box-shadow: 0px 1px 3px 1px rgba(0, 0, 0, 0.15);\n",
              "      filter: drop-shadow(0px 1px 2px rgba(0, 0, 0, 0.3));\n",
              "      fill: #FFFFFF;\n",
              "    }\n",
              "  </style>\n",
              "\n",
              "    <script>\n",
              "      const buttonEl =\n",
              "        document.querySelector('#df-878e372a-cb82-4c0d-8c0c-13aecb2e55cd button.colab-df-convert');\n",
              "      buttonEl.style.display =\n",
              "        google.colab.kernel.accessAllowed ? 'block' : 'none';\n",
              "\n",
              "      async function convertToInteractive(key) {\n",
              "        const element = document.querySelector('#df-878e372a-cb82-4c0d-8c0c-13aecb2e55cd');\n",
              "        const dataTable =\n",
              "          await google.colab.kernel.invokeFunction('convertToInteractive',\n",
              "                                                    [key], {});\n",
              "        if (!dataTable) return;\n",
              "\n",
              "        const docLinkHtml = 'Like what you see? Visit the ' +\n",
              "          '<a target=\"_blank\" href=https://colab.research.google.com/notebooks/data_table.ipynb>data table notebook</a>'\n",
              "          + ' to learn more about interactive tables.';\n",
              "        element.innerHTML = '';\n",
              "        dataTable['output_type'] = 'display_data';\n",
              "        await google.colab.output.renderOutput(dataTable, element);\n",
              "        const docLink = document.createElement('div');\n",
              "        docLink.innerHTML = docLinkHtml;\n",
              "        element.appendChild(docLink);\n",
              "      }\n",
              "    </script>\n",
              "  </div>\n",
              "\n",
              "\n",
              "<div id=\"df-ea9efa20-7b30-40c7-9002-9cf635e69557\">\n",
              "  <button class=\"colab-df-quickchart\" onclick=\"quickchart('df-ea9efa20-7b30-40c7-9002-9cf635e69557')\"\n",
              "            title=\"Suggest charts\"\n",
              "            style=\"display:none;\">\n",
              "\n",
              "<svg xmlns=\"http://www.w3.org/2000/svg\" height=\"24px\"viewBox=\"0 0 24 24\"\n",
              "     width=\"24px\">\n",
              "    <g>\n",
              "        <path d=\"M19 3H5c-1.1 0-2 .9-2 2v14c0 1.1.9 2 2 2h14c1.1 0 2-.9 2-2V5c0-1.1-.9-2-2-2zM9 17H7v-7h2v7zm4 0h-2V7h2v10zm4 0h-2v-4h2v4z\"/>\n",
              "    </g>\n",
              "</svg>\n",
              "  </button>\n",
              "\n",
              "<style>\n",
              "  .colab-df-quickchart {\n",
              "      --bg-color: #E8F0FE;\n",
              "      --fill-color: #1967D2;\n",
              "      --hover-bg-color: #E2EBFA;\n",
              "      --hover-fill-color: #174EA6;\n",
              "      --disabled-fill-color: #AAA;\n",
              "      --disabled-bg-color: #DDD;\n",
              "  }\n",
              "\n",
              "  [theme=dark] .colab-df-quickchart {\n",
              "      --bg-color: #3B4455;\n",
              "      --fill-color: #D2E3FC;\n",
              "      --hover-bg-color: #434B5C;\n",
              "      --hover-fill-color: #FFFFFF;\n",
              "      --disabled-bg-color: #3B4455;\n",
              "      --disabled-fill-color: #666;\n",
              "  }\n",
              "\n",
              "  .colab-df-quickchart {\n",
              "    background-color: var(--bg-color);\n",
              "    border: none;\n",
              "    border-radius: 50%;\n",
              "    cursor: pointer;\n",
              "    display: none;\n",
              "    fill: var(--fill-color);\n",
              "    height: 32px;\n",
              "    padding: 0;\n",
              "    width: 32px;\n",
              "  }\n",
              "\n",
              "  .colab-df-quickchart:hover {\n",
              "    background-color: var(--hover-bg-color);\n",
              "    box-shadow: 0 1px 2px rgba(60, 64, 67, 0.3), 0 1px 3px 1px rgba(60, 64, 67, 0.15);\n",
              "    fill: var(--button-hover-fill-color);\n",
              "  }\n",
              "\n",
              "  .colab-df-quickchart-complete:disabled,\n",
              "  .colab-df-quickchart-complete:disabled:hover {\n",
              "    background-color: var(--disabled-bg-color);\n",
              "    fill: var(--disabled-fill-color);\n",
              "    box-shadow: none;\n",
              "  }\n",
              "\n",
              "  .colab-df-spinner {\n",
              "    border: 2px solid var(--fill-color);\n",
              "    border-color: transparent;\n",
              "    border-bottom-color: var(--fill-color);\n",
              "    animation:\n",
              "      spin 1s steps(1) infinite;\n",
              "  }\n",
              "\n",
              "  @keyframes spin {\n",
              "    0% {\n",
              "      border-color: transparent;\n",
              "      border-bottom-color: var(--fill-color);\n",
              "      border-left-color: var(--fill-color);\n",
              "    }\n",
              "    20% {\n",
              "      border-color: transparent;\n",
              "      border-left-color: var(--fill-color);\n",
              "      border-top-color: var(--fill-color);\n",
              "    }\n",
              "    30% {\n",
              "      border-color: transparent;\n",
              "      border-left-color: var(--fill-color);\n",
              "      border-top-color: var(--fill-color);\n",
              "      border-right-color: var(--fill-color);\n",
              "    }\n",
              "    40% {\n",
              "      border-color: transparent;\n",
              "      border-right-color: var(--fill-color);\n",
              "      border-top-color: var(--fill-color);\n",
              "    }\n",
              "    60% {\n",
              "      border-color: transparent;\n",
              "      border-right-color: var(--fill-color);\n",
              "    }\n",
              "    80% {\n",
              "      border-color: transparent;\n",
              "      border-right-color: var(--fill-color);\n",
              "      border-bottom-color: var(--fill-color);\n",
              "    }\n",
              "    90% {\n",
              "      border-color: transparent;\n",
              "      border-bottom-color: var(--fill-color);\n",
              "    }\n",
              "  }\n",
              "</style>\n",
              "\n",
              "  <script>\n",
              "    async function quickchart(key) {\n",
              "      const quickchartButtonEl =\n",
              "        document.querySelector('#' + key + ' button');\n",
              "      quickchartButtonEl.disabled = true;  // To prevent multiple clicks.\n",
              "      quickchartButtonEl.classList.add('colab-df-spinner');\n",
              "      try {\n",
              "        const charts = await google.colab.kernel.invokeFunction(\n",
              "            'suggestCharts', [key], {});\n",
              "      } catch (error) {\n",
              "        console.error('Error during call to suggestCharts:', error);\n",
              "      }\n",
              "      quickchartButtonEl.classList.remove('colab-df-spinner');\n",
              "      quickchartButtonEl.classList.add('colab-df-quickchart-complete');\n",
              "    }\n",
              "    (() => {\n",
              "      let quickchartButtonEl =\n",
              "        document.querySelector('#df-ea9efa20-7b30-40c7-9002-9cf635e69557 button');\n",
              "      quickchartButtonEl.style.display =\n",
              "        google.colab.kernel.accessAllowed ? 'block' : 'none';\n",
              "    })();\n",
              "  </script>\n",
              "</div>\n",
              "\n",
              "  <div id=\"id_dbea9569-7324-4dc1-91eb-85d15556d0c6\">\n",
              "    <style>\n",
              "      .colab-df-generate {\n",
              "        background-color: #E8F0FE;\n",
              "        border: none;\n",
              "        border-radius: 50%;\n",
              "        cursor: pointer;\n",
              "        display: none;\n",
              "        fill: #1967D2;\n",
              "        height: 32px;\n",
              "        padding: 0 0 0 0;\n",
              "        width: 32px;\n",
              "      }\n",
              "\n",
              "      .colab-df-generate:hover {\n",
              "        background-color: #E2EBFA;\n",
              "        box-shadow: 0px 1px 2px rgba(60, 64, 67, 0.3), 0px 1px 3px 1px rgba(60, 64, 67, 0.15);\n",
              "        fill: #174EA6;\n",
              "      }\n",
              "\n",
              "      [theme=dark] .colab-df-generate {\n",
              "        background-color: #3B4455;\n",
              "        fill: #D2E3FC;\n",
              "      }\n",
              "\n",
              "      [theme=dark] .colab-df-generate:hover {\n",
              "        background-color: #434B5C;\n",
              "        box-shadow: 0px 1px 3px 1px rgba(0, 0, 0, 0.15);\n",
              "        filter: drop-shadow(0px 1px 2px rgba(0, 0, 0, 0.3));\n",
              "        fill: #FFFFFF;\n",
              "      }\n",
              "    </style>\n",
              "    <button class=\"colab-df-generate\" onclick=\"generateWithVariable('autos_num')\"\n",
              "            title=\"Generate code using this dataframe.\"\n",
              "            style=\"display:none;\">\n",
              "\n",
              "  <svg xmlns=\"http://www.w3.org/2000/svg\" height=\"24px\"viewBox=\"0 0 24 24\"\n",
              "       width=\"24px\">\n",
              "    <path d=\"M7,19H8.4L18.45,9,17,7.55,7,17.6ZM5,21V16.75L18.45,3.32a2,2,0,0,1,2.83,0l1.4,1.43a1.91,1.91,0,0,1,.58,1.4,1.91,1.91,0,0,1-.58,1.4L9.25,21ZM18.45,9,17,7.55Zm-12,3A5.31,5.31,0,0,0,4.9,8.1,5.31,5.31,0,0,0,1,6.5,5.31,5.31,0,0,0,4.9,4.9,5.31,5.31,0,0,0,6.5,1,5.31,5.31,0,0,0,8.1,4.9,5.31,5.31,0,0,0,12,6.5,5.46,5.46,0,0,0,6.5,12Z\"/>\n",
              "  </svg>\n",
              "    </button>\n",
              "    <script>\n",
              "      (() => {\n",
              "      const buttonEl =\n",
              "        document.querySelector('#id_dbea9569-7324-4dc1-91eb-85d15556d0c6 button.colab-df-generate');\n",
              "      buttonEl.style.display =\n",
              "        google.colab.kernel.accessAllowed ? 'block' : 'none';\n",
              "\n",
              "      buttonEl.onclick = () => {\n",
              "        google.colab.notebook.generateWithVariable('autos_num');\n",
              "      }\n",
              "      })();\n",
              "    </script>\n",
              "  </div>\n",
              "\n",
              "    </div>\n",
              "  </div>\n"
            ],
            "application/vnd.google.colaboratory.intrinsic+json": {
              "type": "dataframe",
              "variable_name": "autos_num",
              "summary": "{\n  \"name\": \"autos_num\",\n  \"rows\": 205,\n  \"fields\": [\n    {\n      \"column\": \"curb-weight\",\n      \"properties\": {\n        \"dtype\": \"number\",\n        \"std\": 520,\n        \"min\": 1488,\n        \"max\": 4066,\n        \"num_unique_values\": 171,\n        \"samples\": [\n          2756,\n          3515,\n          3750\n        ],\n        \"semantic_type\": \"\",\n        \"description\": \"\"\n      }\n    },\n    {\n      \"column\": \"engine-size\",\n      \"properties\": {\n        \"dtype\": \"number\",\n        \"std\": 41,\n        \"min\": 61,\n        \"max\": 326,\n        \"num_unique_values\": 44,\n        \"samples\": [\n          121,\n          134,\n          183\n        ],\n        \"semantic_type\": \"\",\n        \"description\": \"\"\n      }\n    },\n    {\n      \"column\": \"horsepower\",\n      \"properties\": {\n        \"dtype\": \"number\",\n        \"std\": 39.71436878679358,\n        \"min\": 48.0,\n        \"max\": 288.0,\n        \"num_unique_values\": 59,\n        \"samples\": [\n          111.0,\n          140.0,\n          69.0\n        ],\n        \"semantic_type\": \"\",\n        \"description\": \"\"\n      }\n    },\n    {\n      \"column\": \"city-mpg\",\n      \"properties\": {\n        \"dtype\": \"number\",\n        \"std\": 6,\n        \"min\": 13,\n        \"max\": 49,\n        \"num_unique_values\": 29,\n        \"samples\": [\n          29,\n          25,\n          31\n        ],\n        \"semantic_type\": \"\",\n        \"description\": \"\"\n      }\n    },\n    {\n      \"column\": \"highway-mpg\",\n      \"properties\": {\n        \"dtype\": \"number\",\n        \"std\": 6,\n        \"min\": 16,\n        \"max\": 54,\n        \"num_unique_values\": 30,\n        \"samples\": [\n          36,\n          34,\n          18\n        ],\n        \"semantic_type\": \"\",\n        \"description\": \"\"\n      }\n    },\n    {\n      \"column\": \"price\",\n      \"properties\": {\n        \"dtype\": \"number\",\n        \"std\": 7947.066341939274,\n        \"min\": 5118.0,\n        \"max\": 45400.0,\n        \"num_unique_values\": 186,\n        \"samples\": [\n          34028.0,\n          15750.0,\n          9995.0\n        ],\n        \"semantic_type\": \"\",\n        \"description\": \"\"\n      }\n    },\n    {\n      \"column\": \"volume\",\n      \"properties\": {\n        \"dtype\": \"number\",\n        \"std\": 79463.19526191443,\n        \"min\": 452643.156,\n        \"max\": 846007.6590000001,\n        \"num_unique_values\": 97,\n        \"samples\": [\n          714090.1599999999,\n          817837.446,\n          713029.6320000001\n        ],\n        \"semantic_type\": \"\",\n        \"description\": \"\"\n      }\n    },\n    {\n      \"column\": \"eco-rating\",\n      \"properties\": {\n        \"dtype\": \"number\",\n        \"std\": 12.299627626784092,\n        \"min\": 15.501957160750948,\n        \"max\": 83.08877400645349,\n        \"num_unique_values\": 190,\n        \"samples\": [\n          40.05570574712924,\n          38.0682231220649,\n          31.741077103679554\n        ],\n        \"semantic_type\": \"\",\n        \"description\": \"\"\n      }\n    }\n  ]\n}"
            }
          },
          "metadata": {},
          "execution_count": 58
        }
      ]
    },
    {
      "cell_type": "code",
      "source": [
        "autos_num.shape"
      ],
      "metadata": {
        "colab": {
          "base_uri": "https://localhost:8080/"
        },
        "id": "Ug4bM9C2NZhi",
        "outputId": "fed8382f-bba4-4828-b3ce-68101491f205"
      },
      "execution_count": 59,
      "outputs": [
        {
          "output_type": "execute_result",
          "data": {
            "text/plain": [
              "(205, 8)"
            ]
          },
          "metadata": {},
          "execution_count": 59
        }
      ]
    },
    {
      "cell_type": "code",
      "source": [
        "target = 'price'\n",
        "\n",
        "autos_num.isnull().sum()"
      ],
      "metadata": {
        "colab": {
          "base_uri": "https://localhost:8080/",
          "height": 335
        },
        "id": "EF6beKN_M_n4",
        "outputId": "1fcb227d-17ba-4d2a-fd79-8e353222cff5"
      },
      "execution_count": 60,
      "outputs": [
        {
          "output_type": "execute_result",
          "data": {
            "text/plain": [
              "curb-weight    0\n",
              "engine-size    0\n",
              "horsepower     2\n",
              "city-mpg       0\n",
              "highway-mpg    0\n",
              "price          4\n",
              "volume         0\n",
              "eco-rating     0\n",
              "dtype: int64"
            ],
            "text/html": [
              "<div>\n",
              "<style scoped>\n",
              "    .dataframe tbody tr th:only-of-type {\n",
              "        vertical-align: middle;\n",
              "    }\n",
              "\n",
              "    .dataframe tbody tr th {\n",
              "        vertical-align: top;\n",
              "    }\n",
              "\n",
              "    .dataframe thead th {\n",
              "        text-align: right;\n",
              "    }\n",
              "</style>\n",
              "<table border=\"1\" class=\"dataframe\">\n",
              "  <thead>\n",
              "    <tr style=\"text-align: right;\">\n",
              "      <th></th>\n",
              "      <th>0</th>\n",
              "    </tr>\n",
              "  </thead>\n",
              "  <tbody>\n",
              "    <tr>\n",
              "      <th>curb-weight</th>\n",
              "      <td>0</td>\n",
              "    </tr>\n",
              "    <tr>\n",
              "      <th>engine-size</th>\n",
              "      <td>0</td>\n",
              "    </tr>\n",
              "    <tr>\n",
              "      <th>horsepower</th>\n",
              "      <td>2</td>\n",
              "    </tr>\n",
              "    <tr>\n",
              "      <th>city-mpg</th>\n",
              "      <td>0</td>\n",
              "    </tr>\n",
              "    <tr>\n",
              "      <th>highway-mpg</th>\n",
              "      <td>0</td>\n",
              "    </tr>\n",
              "    <tr>\n",
              "      <th>price</th>\n",
              "      <td>4</td>\n",
              "    </tr>\n",
              "    <tr>\n",
              "      <th>volume</th>\n",
              "      <td>0</td>\n",
              "    </tr>\n",
              "    <tr>\n",
              "      <th>eco-rating</th>\n",
              "      <td>0</td>\n",
              "    </tr>\n",
              "  </tbody>\n",
              "</table>\n",
              "</div><br><label><b>dtype:</b> int64</label>"
            ]
          },
          "metadata": {},
          "execution_count": 60
        }
      ]
    },
    {
      "cell_type": "code",
      "source": [
        "autos_num = autos_num.dropna().copy()\n",
        "\n",
        "print(f'Shape: {autos_num.shape}')\n",
        "autos_num.isnull().sum()"
      ],
      "metadata": {
        "colab": {
          "base_uri": "https://localhost:8080/",
          "height": 352
        },
        "id": "zAyJNoIONNmz",
        "outputId": "2cd605ea-8ac0-41c9-c83e-ea9f7b1d0f4f"
      },
      "execution_count": 61,
      "outputs": [
        {
          "output_type": "stream",
          "name": "stdout",
          "text": [
            "Shape: (199, 8)\n"
          ]
        },
        {
          "output_type": "execute_result",
          "data": {
            "text/plain": [
              "curb-weight    0\n",
              "engine-size    0\n",
              "horsepower     0\n",
              "city-mpg       0\n",
              "highway-mpg    0\n",
              "price          0\n",
              "volume         0\n",
              "eco-rating     0\n",
              "dtype: int64"
            ],
            "text/html": [
              "<div>\n",
              "<style scoped>\n",
              "    .dataframe tbody tr th:only-of-type {\n",
              "        vertical-align: middle;\n",
              "    }\n",
              "\n",
              "    .dataframe tbody tr th {\n",
              "        vertical-align: top;\n",
              "    }\n",
              "\n",
              "    .dataframe thead th {\n",
              "        text-align: right;\n",
              "    }\n",
              "</style>\n",
              "<table border=\"1\" class=\"dataframe\">\n",
              "  <thead>\n",
              "    <tr style=\"text-align: right;\">\n",
              "      <th></th>\n",
              "      <th>0</th>\n",
              "    </tr>\n",
              "  </thead>\n",
              "  <tbody>\n",
              "    <tr>\n",
              "      <th>curb-weight</th>\n",
              "      <td>0</td>\n",
              "    </tr>\n",
              "    <tr>\n",
              "      <th>engine-size</th>\n",
              "      <td>0</td>\n",
              "    </tr>\n",
              "    <tr>\n",
              "      <th>horsepower</th>\n",
              "      <td>0</td>\n",
              "    </tr>\n",
              "    <tr>\n",
              "      <th>city-mpg</th>\n",
              "      <td>0</td>\n",
              "    </tr>\n",
              "    <tr>\n",
              "      <th>highway-mpg</th>\n",
              "      <td>0</td>\n",
              "    </tr>\n",
              "    <tr>\n",
              "      <th>price</th>\n",
              "      <td>0</td>\n",
              "    </tr>\n",
              "    <tr>\n",
              "      <th>volume</th>\n",
              "      <td>0</td>\n",
              "    </tr>\n",
              "    <tr>\n",
              "      <th>eco-rating</th>\n",
              "      <td>0</td>\n",
              "    </tr>\n",
              "  </tbody>\n",
              "</table>\n",
              "</div><br><label><b>dtype:</b> int64</label>"
            ]
          },
          "metadata": {},
          "execution_count": 61
        }
      ]
    },
    {
      "cell_type": "markdown",
      "source": [
        "###Separación  datos de entrenamiento y test:"
      ],
      "metadata": {
        "id": "oOQIxkzTNy18"
      }
    },
    {
      "cell_type": "code",
      "source": [
        "X = autos_num.drop(target, axis=1)\n",
        "Y = autos_num[target].values.reshape(-1, 1)"
      ],
      "metadata": {
        "id": "Q19NZH6aOBXg"
      },
      "execution_count": 62,
      "outputs": []
    },
    {
      "cell_type": "code",
      "source": [
        "print(f'X shape: {X.shape} \\nY shape: {Y.shape}')"
      ],
      "metadata": {
        "colab": {
          "base_uri": "https://localhost:8080/"
        },
        "id": "_vFDkZQ1nf-l",
        "outputId": "85c056cf-d9de-4ccd-cc57-b108fe6575da"
      },
      "execution_count": 63,
      "outputs": [
        {
          "output_type": "stream",
          "name": "stdout",
          "text": [
            "X shape: (199, 7) \n",
            "Y shape: (199, 1)\n"
          ]
        }
      ]
    },
    {
      "cell_type": "code",
      "source": [
        "corr_matrix = autos_num.corr()\n",
        "\n",
        "sns.heatmap(corr_matrix, annot=True, cmap='coolwarm')\n",
        "plt.show()"
      ],
      "metadata": {
        "colab": {
          "base_uri": "https://localhost:8080/",
          "height": 516
        },
        "id": "4yeLyMkKPh4z",
        "outputId": "89898628-75d0-43c6-ebff-765f8ed0af06"
      },
      "execution_count": 64,
      "outputs": [
        {
          "output_type": "display_data",
          "data": {
            "text/plain": [
              "<Figure size 640x480 with 2 Axes>"
            ],
            "image/png": "[encoded data removed]"
          },
          "metadata": {}
        }
      ]
    },
    {
      "cell_type": "code",
      "source": [
        "X_norm = preprocessing.StandardScaler().fit_transform(X)"
      ],
      "metadata": {
        "id": "8mKYC4K8PxJ7"
      },
      "execution_count": 65,
      "outputs": []
    },
    {
      "cell_type": "code",
      "source": [
        "X_norm.shape"
      ],
      "metadata": {
        "colab": {
          "base_uri": "https://localhost:8080/"
        },
        "id": "0lqhRVBN4smg",
        "outputId": "696cc4f9-e86b-4e52-c6ce-f1805e2f32b0"
      },
      "execution_count": 66,
      "outputs": [
        {
          "output_type": "execute_result",
          "data": {
            "text/plain": [
              "(199, 7)"
            ]
          },
          "metadata": {},
          "execution_count": 66
        }
      ]
    },
    {
      "cell_type": "code",
      "source": [
        "alfa = 0.05\n",
        "iteraciones = 5000\n",
        "cota = 1e-6\n",
        "\n",
        "modelo = NeuronaLineal(alpha=alfa, n_iter=iteraciones, cotaE=cota)\n",
        "\n",
        "modelo_ej_7 = modelo.fit(X_norm, Y)\n",
        "\n",
        "print(f'Pesos: {modelo_ej_7.w_} \\nbias: {modelo_ej_7.b_} \\nIteraciones: {modelo_ej_7.total_iter_} \\nErrores: {modelo_ej_7.errors_}')"
      ],
      "metadata": {
        "colab": {
          "base_uri": "https://localhost:8080/"
        },
        "id": "qzDtxFedm0mA",
        "outputId": "cc321d2b-122e-46fe-f226-dea3baa76a33"
      },
      "execution_count": 67,
      "outputs": [
        {
          "output_type": "stream",
          "name": "stdout",
          "text": [
            "Pesos: [ 3991.52583284  2461.59773261  1825.59923424  -888.84714497\n",
            "  1575.33202374    63.35418415 -1914.25878049] \n",
            "bias: [13536.51148755] \n",
            "Iteraciones: 977 \n",
            "Errores: [array([8.74560009e+09]), array([2.84623615e+09]), array([2.73889084e+09]), array([2.68532725e+09]), array([2.65576615e+09]), array([2.63879131e+09]), array([2.62875736e+09]), array([2.62270126e+09]), array([2.61899668e+09]), array([2.61671765e+09]), array([2.61532086e+09]), array([2.61447965e+09]), array([2.61399371e+09]), array([2.61373812e+09]), array([2.61363382e+09]), array([2.61363008e+09]), array([2.61369386e+09]), array([2.61380336e+09]), array([2.61394395e+09]), array([2.61410567e+09]), array([2.61428161e+09]), array([2.61446691e+09]), array([2.61465809e+09]), array([2.61485264e+09]), array([2.61504868e+09]), array([2.61524484e+09]), array([2.6154401e+09]), array([2.61563367e+09]), array([2.61582497e+09]), array([2.61601356e+09]), array([2.61619911e+09]), array([2.61638139e+09]), array([2.61656021e+09]), array([2.61673547e+09]), array([2.61690709e+09]), array([2.61707501e+09]), array([2.61723923e+09]), array([2.61739975e+09]), array([2.61755657e+09]), array([2.61770975e+09]), array([2.61785931e+09]), array([2.61800531e+09]), array([2.61814781e+09]), array([2.61828686e+09]), array([2.61842252e+09]), array([2.61855487e+09]), array([2.61868397e+09]), array([2.61880989e+09]), array([2.61893269e+09]), array([2.61905245e+09]), array([2.61916924e+09]), array([2.61928311e+09]), array([2.61939415e+09]), array([2.61950241e+09]), array([2.61960797e+09]), array([2.61971088e+09]), array([2.61981121e+09]), array([2.61990902e+09]), array([2.62000438e+09]), array([2.62009734e+09]), array([2.62018796e+09]), array([2.62027629e+09]), array([2.62036241e+09]), array([2.62044635e+09]), array([2.62052817e+09]), array([2.62060793e+09]), array([2.62068568e+09]), array([2.62076146e+09]), array([2.62083533e+09]), array([2.62090733e+09]), array([2.62097751e+09]), array([2.62104591e+09]), array([2.62111258e+09]), array([2.62117757e+09]), array([2.6212409e+09]), array([2.62130264e+09]), array([2.62136281e+09]), array([2.62142145e+09]), array([2.6214786e+09]), array([2.62153431e+09]), array([2.6215886e+09]), array([2.62164152e+09]), array([2.62169309e+09]), array([2.62174335e+09]), array([2.62179233e+09]), array([2.62184007e+09]), array([2.6218866e+09]), array([2.62193195e+09]), array([2.62197614e+09]), array([2.6220192e+09]), array([2.62206118e+09]), array([2.62210208e+09]), array([2.62214194e+09]), array([2.62218079e+09]), array([2.62221865e+09]), array([2.62225555e+09]), array([2.62229151e+09]), array([2.62232655e+09]), array([2.62236069e+09]), array([2.62239397e+09]), array([2.6224264e+09]), array([2.62245801e+09]), array([2.6224888e+09]), array([2.62251882e+09]), array([2.62254806e+09]), array([2.62257657e+09]), array([2.62260434e+09]), array([2.62263141e+09]), array([2.62265778e+09]), array([2.62268349e+09]), array([2.62270853e+09]), array([2.62273294e+09]), array([2.62275672e+09]), array([2.6227799e+09]), array([2.62280249e+09]), array([2.6228245e+09]), array([2.62284594e+09]), array([2.62286684e+09]), array([2.62288721e+09]), array([2.62290706e+09]), array([2.62292639e+09]), array([2.62294524e+09]), array([2.6229636e+09]), array([2.6229815e+09]), array([2.62299893e+09]), array([2.62301592e+09]), array([2.62303248e+09]), array([2.62304861e+09]), array([2.62306434e+09]), array([2.62307965e+09]), array([2.62309458e+09]), array([2.62310913e+09]), array([2.6231233e+09]), array([2.62313711e+09]), array([2.62315057e+09]), array([2.62316369e+09]), array([2.62317647e+09]), array([2.62318892e+09]), array([2.62320105e+09]), array([2.62321287e+09]), array([2.62322439e+09]), array([2.62323562e+09]), array([2.62324656e+09]), array([2.62325722e+09]), array([2.6232676e+09]), array([2.62327772e+09]), array([2.62328759e+09]), array([2.62329719e+09]), array([2.62330656e+09]), array([2.62331568e+09]), array([2.62332457e+09]), array([2.62333323e+09]), array([2.62334167e+09]), array([2.6233499e+09]), array([2.62335791e+09]), array([2.62336572e+09]), array([2.62337333e+09]), array([2.62338074e+09]), array([2.62338797e+09]), array([2.62339501e+09]), array([2.62340187e+09]), array([2.62340855e+09]), array([2.62341506e+09]), array([2.62342141e+09]), array([2.62342759e+09]), array([2.62343362e+09]), array([2.62343949e+09]), array([2.62344521e+09]), array([2.62345078e+09]), array([2.62345621e+09]), array([2.6234615e+09]), array([2.62346666e+09]), array([2.62347168e+09]), array([2.62347658e+09]), array([2.62348135e+09]), array([2.623486e+09]), array([2.62349053e+09]), array([2.62349494e+09]), array([2.62349924e+09]), array([2.62350343e+09]), array([2.62350751e+09]), array([2.62351149e+09]), array([2.62351537e+09]), array([2.62351914e+09]), array([2.62352282e+09]), array([2.62352641e+09]), array([2.6235299e+09]), array([2.62353331e+09]), array([2.62353662e+09]), array([2.62353985e+09]), array([2.623543e+09]), array([2.62354607e+09]), array([2.62354906e+09]), array([2.62355197e+09]), array([2.62355481e+09]), array([2.62355758e+09]), array([2.62356027e+09]), array([2.6235629e+09]), array([2.62356546e+09]), array([2.62356795e+09]), array([2.62357038e+09]), array([2.62357275e+09]), array([2.62357505e+09]), array([2.6235773e+09]), array([2.62357949e+09]), array([2.62358162e+09]), array([2.6235837e+09]), array([2.62358573e+09]), array([2.6235877e+09]), array([2.62358963e+09]), array([2.6235915e+09]), array([2.62359333e+09]), array([2.6235951e+09]), array([2.62359684e+09]), array([2.62359853e+09]), array([2.62360017e+09]), array([2.62360178e+09]), array([2.62360334e+09]), array([2.62360486e+09]), array([2.62360634e+09]), array([2.62360779e+09]), array([2.6236092e+09]), array([2.62361057e+09]), array([2.62361191e+09]), array([2.62361321e+09]), array([2.62361448e+09]), array([2.62361572e+09]), array([2.62361692e+09]), array([2.6236181e+09]), array([2.62361924e+09]), array([2.62362035e+09]), array([2.62362144e+09]), array([2.6236225e+09]), array([2.62362353e+09]), array([2.62362453e+09]), array([2.62362551e+09]), array([2.62362647e+09]), array([2.6236274e+09]), array([2.6236283e+09]), array([2.62362919e+09]), array([2.62363005e+09]), array([2.62363088e+09]), array([2.6236317e+09]), array([2.62363249e+09]), array([2.62363327e+09]), array([2.62363403e+09]), array([2.62363476e+09]), array([2.62363548e+09]), array([2.62363618e+09]), array([2.62363686e+09]), array([2.62363752e+09]), array([2.62363817e+09]), array([2.6236388e+09]), array([2.62363941e+09]), array([2.62364001e+09]), array([2.62364059e+09]), array([2.62364116e+09]), array([2.62364171e+09]), array([2.62364225e+09]), array([2.62364277e+09]), array([2.62364329e+09]), array([2.62364378e+09]), array([2.62364427e+09]), array([2.62364474e+09]), array([2.6236452e+09]), array([2.62364565e+09]), array([2.62364609e+09]), array([2.62364652e+09]), array([2.62364693e+09]), array([2.62364734e+09]), array([2.62364773e+09]), array([2.62364812e+09]), array([2.62364849e+09]), array([2.62364886e+09]), array([2.62364921e+09]), array([2.62364956e+09]), array([2.6236499e+09]), array([2.62365023e+09]), array([2.62365055e+09]), array([2.62365086e+09]), array([2.62365116e+09]), array([2.62365146e+09]), array([2.62365175e+09]), array([2.62365203e+09]), array([2.6236523e+09]), array([2.62365257e+09]), array([2.62365283e+09]), array([2.62365309e+09]), array([2.62365333e+09]), array([2.62365357e+09]), array([2.62365381e+09]), array([2.62365404e+09]), array([2.62365426e+09]), array([2.62365448e+09]), array([2.62365469e+09]), array([2.62365489e+09]), array([2.6236551e+09]), array([2.62365529e+09]), array([2.62365548e+09]), array([2.62365567e+09]), array([2.62365585e+09]), array([2.62365602e+09]), array([2.6236562e+09]), array([2.62365636e+09]), array([2.62365653e+09]), array([2.62365669e+09]), array([2.62365684e+09]), array([2.62365699e+09]), array([2.62365714e+09]), array([2.62365728e+09]), array([2.62365742e+09]), array([2.62365756e+09]), array([2.62365769e+09]), array([2.62365782e+09]), array([2.62365795e+09]), array([2.62365807e+09]), array([2.62365819e+09]), array([2.6236583e+09]), array([2.62365842e+09]), array([2.62365853e+09]), array([2.62365864e+09]), array([2.62365874e+09]), array([2.62365884e+09]), array([2.62365894e+09]), array([2.62365904e+09]), array([2.62365913e+09]), array([2.62365923e+09]), array([2.62365932e+09]), array([2.6236594e+09]), array([2.62365949e+09]), array([2.62365957e+09]), array([2.62365965e+09]), array([2.62365973e+09]), array([2.62365981e+09]), array([2.62365988e+09]), array([2.62365996e+09]), array([2.62366003e+09]), array([2.6236601e+09]), array([2.62366016e+09]), array([2.62366023e+09]), array([2.62366029e+09]), array([2.62366036e+09]), array([2.62366042e+09]), array([2.62366048e+09]), array([2.62366053e+09]), array([2.62366059e+09]), array([2.62366065e+09]), array([2.6236607e+09]), array([2.62366075e+09]), array([2.6236608e+09]), array([2.62366085e+09]), array([2.6236609e+09]), array([2.62366095e+09]), array([2.62366099e+09]), array([2.62366104e+09]), array([2.62366108e+09]), array([2.62366112e+09]), array([2.62366116e+09]), array([2.6236612e+09]), array([2.62366124e+09]), array([2.62366128e+09]), array([2.62366132e+09]), array([2.62366135e+09]), array([2.62366139e+09]), array([2.62366142e+09]), array([2.62366146e+09]), array([2.62366149e+09]), array([2.62366152e+09]), array([2.62366155e+09]), array([2.62366158e+09]), array([2.62366161e+09]), array([2.62366164e+09]), array([2.62366167e+09]), array([2.6236617e+09]), array([2.62366172e+09]), array([2.62366175e+09]), array([2.62366177e+09]), array([2.6236618e+09]), array([2.62366182e+09]), array([2.62366184e+09]), array([2.62366187e+09]), array([2.62366189e+09]), array([2.62366191e+09]), array([2.62366193e+09]), array([2.62366195e+09]), array([2.62366197e+09]), array([2.62366199e+09]), array([2.62366201e+09]), array([2.62366203e+09]), array([2.62366205e+09]), array([2.62366206e+09]), array([2.62366208e+09]), array([2.6236621e+09]), array([2.62366211e+09]), array([2.62366213e+09]), array([2.62366215e+09]), array([2.62366216e+09]), array([2.62366217e+09]), array([2.62366219e+09]), array([2.6236622e+09]), array([2.62366222e+09]), array([2.62366223e+09]), array([2.62366224e+09]), array([2.62366225e+09]), array([2.62366227e+09]), array([2.62366228e+09]), array([2.62366229e+09]), array([2.6236623e+09]), array([2.62366231e+09]), array([2.62366232e+09]), array([2.62366233e+09]), array([2.62366234e+09]), array([2.62366235e+09]), array([2.62366236e+09]), array([2.62366237e+09]), array([2.62366238e+09]), array([2.62366239e+09]), array([2.6236624e+09]), array([2.62366241e+09]), array([2.62366242e+09]), array([2.62366242e+09]), array([2.62366243e+09]), array([2.62366244e+09]), array([2.62366245e+09]), array([2.62366245e+09]), array([2.62366246e+09]), array([2.62366247e+09]), array([2.62366247e+09]), array([2.62366248e+09]), array([2.62366249e+09]), array([2.62366249e+09]), array([2.6236625e+09]), array([2.62366251e+09]), array([2.62366251e+09]), array([2.62366252e+09]), array([2.62366252e+09]), array([2.62366253e+09]), array([2.62366253e+09]), array([2.62366254e+09]), array([2.62366254e+09]), array([2.62366255e+09]), array([2.62366255e+09]), array([2.62366256e+09]), array([2.62366256e+09]), array([2.62366257e+09]), array([2.62366257e+09]), array([2.62366257e+09]), array([2.62366258e+09]), array([2.62366258e+09]), array([2.62366259e+09]), array([2.62366259e+09]), array([2.62366259e+09]), array([2.6236626e+09]), array([2.6236626e+09]), array([2.6236626e+09]), array([2.62366261e+09]), array([2.62366261e+09]), array([2.62366261e+09]), array([2.62366262e+09]), array([2.62366262e+09]), array([2.62366262e+09]), array([2.62366262e+09]), array([2.62366263e+09]), array([2.62366263e+09]), array([2.62366263e+09]), array([2.62366263e+09]), array([2.62366264e+09]), array([2.62366264e+09]), array([2.62366264e+09]), array([2.62366264e+09]), array([2.62366265e+09]), array([2.62366265e+09]), array([2.62366265e+09]), array([2.62366265e+09]), array([2.62366265e+09]), array([2.62366266e+09]), array([2.62366266e+09]), array([2.62366266e+09]), array([2.62366266e+09]), array([2.62366266e+09]), array([2.62366266e+09]), array([2.62366267e+09]), array([2.62366267e+09]), array([2.62366267e+09]), array([2.62366267e+09]), array([2.62366267e+09]), array([2.62366267e+09]), array([2.62366268e+09]), array([2.62366268e+09]), array([2.62366268e+09]), array([2.62366268e+09]), array([2.62366268e+09]), array([2.62366268e+09]), array([2.62366268e+09]), array([2.62366268e+09]), array([2.62366269e+09]), array([2.62366269e+09]), array([2.62366269e+09]), array([2.62366269e+09]), array([2.62366269e+09]), array([2.62366269e+09]), array([2.62366269e+09]), array([2.62366269e+09]), array([2.62366269e+09]), array([2.62366269e+09]), array([2.6236627e+09]), array([2.6236627e+09]), array([2.6236627e+09]), array([2.6236627e+09]), array([2.6236627e+09]), array([2.6236627e+09]), array([2.6236627e+09]), array([2.6236627e+09]), array([2.6236627e+09]), array([2.6236627e+09]), array([2.6236627e+09]), array([2.6236627e+09]), array([2.6236627e+09]), array([2.62366271e+09]), array([2.62366271e+09]), array([2.62366271e+09]), array([2.62366271e+09]), array([2.62366271e+09]), array([2.62366271e+09]), array([2.62366271e+09]), array([2.62366271e+09]), array([2.62366271e+09]), array([2.62366271e+09]), array([2.62366271e+09]), array([2.62366271e+09]), array([2.62366271e+09]), array([2.62366271e+09]), array([2.62366271e+09]), array([2.62366271e+09]), array([2.62366271e+09]), array([2.62366271e+09]), array([2.62366271e+09]), array([2.62366271e+09]), array([2.62366271e+09]), array([2.62366272e+09]), array([2.62366272e+09]), array([2.62366272e+09]), array([2.62366272e+09]), array([2.62366272e+09]), array([2.62366272e+09]), array([2.62366272e+09]), array([2.62366272e+09]), array([2.62366272e+09]), array([2.62366272e+09]), array([2.62366272e+09]), array([2.62366272e+09]), array([2.62366272e+09]), array([2.62366272e+09]), array([2.62366272e+09]), array([2.62366272e+09]), array([2.62366272e+09]), array([2.62366272e+09]), array([2.62366272e+09]), array([2.62366272e+09]), array([2.62366272e+09]), array([2.62366272e+09]), array([2.62366272e+09]), array([2.62366272e+09]), array([2.62366272e+09]), array([2.62366272e+09]), array([2.62366272e+09]), array([2.62366272e+09]), array([2.62366272e+09]), array([2.62366272e+09]), array([2.62366272e+09]), array([2.62366272e+09]), array([2.62366272e+09]), array([2.62366272e+09]), array([2.62366272e+09]), array([2.62366272e+09]), array([2.62366272e+09]), array([2.62366272e+09]), array([2.62366272e+09]), array([2.62366272e+09]), array([2.62366272e+09]), array([2.62366272e+09]), array([2.62366272e+09]), array([2.62366272e+09]), array([2.62366272e+09]), array([2.62366272e+09]), array([2.62366272e+09]), array([2.62366272e+09]), array([2.62366272e+09]), array([2.62366273e+09]), array([2.62366273e+09]), array([2.62366273e+09]), array([2.62366273e+09]), array([2.62366273e+09]), array([2.62366273e+09]), array([2.62366273e+09]), array([2.62366273e+09]), array([2.62366273e+09]), array([2.62366273e+09]), array([2.62366273e+09]), array([2.62366273e+09]), array([2.62366273e+09]), array([2.62366273e+09]), array([2.62366273e+09]), array([2.62366273e+09]), array([2.62366273e+09]), array([2.62366273e+09]), array([2.62366273e+09]), array([2.62366273e+09]), array([2.62366273e+09]), array([2.62366273e+09]), array([2.62366273e+09]), array([2.62366273e+09]), array([2.62366273e+09]), array([2.62366273e+09]), array([2.62366273e+09]), array([2.62366273e+09]), array([2.62366273e+09]), array([2.62366273e+09]), array([2.62366273e+09]), array([2.62366273e+09]), array([2.62366273e+09]), array([2.62366273e+09]), array([2.62366273e+09]), array([2.62366273e+09]), array([2.62366273e+09]), array([2.62366273e+09]), array([2.62366273e+09]), array([2.62366273e+09]), array([2.62366273e+09]), array([2.62366273e+09]), array([2.62366273e+09]), array([2.62366273e+09]), array([2.62366273e+09]), array([2.62366273e+09]), array([2.62366273e+09]), array([2.62366273e+09]), array([2.62366273e+09]), array([2.62366273e+09]), array([2.62366273e+09]), array([2.62366273e+09]), array([2.62366273e+09]), array([2.62366273e+09]), array([2.62366273e+09]), array([2.62366273e+09]), array([2.62366273e+09]), array([2.62366273e+09]), array([2.62366273e+09]), array([2.62366273e+09]), array([2.62366273e+09]), array([2.62366273e+09]), array([2.62366273e+09]), array([2.62366273e+09]), array([2.62366273e+09]), array([2.62366273e+09]), array([2.62366273e+09]), array([2.62366273e+09]), array([2.62366273e+09]), array([2.62366273e+09]), array([2.62366273e+09]), array([2.62366273e+09]), array([2.62366273e+09]), array([2.62366273e+09]), array([2.62366273e+09]), array([2.62366273e+09]), array([2.62366273e+09]), array([2.62366273e+09]), array([2.62366273e+09]), array([2.62366273e+09]), array([2.62366273e+09]), array([2.62366273e+09]), array([2.62366273e+09]), array([2.62366273e+09]), array([2.62366273e+09]), array([2.62366273e+09]), array([2.62366273e+09]), array([2.62366273e+09]), array([2.62366273e+09]), array([2.62366273e+09]), array([2.62366273e+09]), array([2.62366273e+09]), array([2.62366273e+09]), array([2.62366273e+09]), array([2.62366273e+09]), array([2.62366273e+09]), array([2.62366273e+09]), array([2.62366273e+09]), array([2.62366273e+09]), array([2.62366273e+09]), array([2.62366273e+09]), array([2.62366273e+09]), array([2.62366273e+09]), array([2.62366273e+09]), array([2.62366273e+09]), array([2.62366273e+09]), array([2.62366273e+09]), array([2.62366273e+09]), array([2.62366273e+09]), array([2.62366273e+09]), array([2.62366273e+09]), array([2.62366273e+09]), array([2.62366273e+09]), array([2.62366273e+09]), array([2.62366273e+09]), array([2.62366273e+09]), array([2.62366273e+09]), array([2.62366273e+09]), array([2.62366273e+09]), array([2.62366273e+09]), array([2.62366273e+09]), array([2.62366273e+09]), array([2.62366273e+09]), array([2.62366273e+09]), array([2.62366273e+09]), array([2.62366273e+09]), array([2.62366273e+09]), array([2.62366273e+09]), array([2.62366273e+09]), array([2.62366273e+09]), array([2.62366273e+09]), array([2.62366273e+09]), array([2.62366273e+09]), array([2.62366273e+09]), array([2.62366273e+09]), array([2.62366273e+09]), array([2.62366273e+09]), array([2.62366273e+09]), array([2.62366273e+09]), array([2.62366273e+09]), array([2.62366273e+09]), array([2.62366273e+09]), array([2.62366273e+09]), array([2.62366273e+09]), array([2.62366273e+09]), array([2.62366273e+09]), array([2.62366273e+09]), array([2.62366273e+09]), array([2.62366273e+09]), array([2.62366273e+09]), array([2.62366273e+09]), array([2.62366273e+09]), array([2.62366273e+09]), array([2.62366273e+09]), array([2.62366273e+09]), array([2.62366273e+09]), array([2.62366273e+09]), array([2.62366273e+09]), array([2.62366273e+09]), array([2.62366273e+09]), array([2.62366273e+09]), array([2.62366273e+09]), array([2.62366273e+09]), array([2.62366273e+09]), array([2.62366273e+09]), array([2.62366273e+09]), array([2.62366273e+09]), array([2.62366273e+09]), array([2.62366273e+09]), array([2.62366273e+09]), array([2.62366273e+09]), array([2.62366273e+09]), array([2.62366273e+09]), array([2.62366273e+09]), array([2.62366273e+09]), array([2.62366273e+09]), array([2.62366273e+09]), array([2.62366273e+09]), array([2.62366273e+09]), array([2.62366273e+09]), array([2.62366273e+09]), array([2.62366273e+09]), array([2.62366273e+09]), array([2.62366273e+09]), array([2.62366273e+09]), array([2.62366273e+09]), array([2.62366273e+09]), array([2.62366273e+09]), array([2.62366273e+09]), array([2.62366273e+09]), array([2.62366273e+09]), array([2.62366273e+09]), array([2.62366273e+09]), array([2.62366273e+09]), array([2.62366273e+09]), array([2.62366273e+09]), array([2.62366273e+09]), array([2.62366273e+09]), array([2.62366273e+09]), array([2.62366273e+09]), array([2.62366273e+09]), array([2.62366273e+09]), array([2.62366273e+09]), array([2.62366273e+09]), array([2.62366273e+09]), array([2.62366273e+09]), array([2.62366273e+09]), array([2.62366273e+09]), array([2.62366273e+09]), array([2.62366273e+09]), array([2.62366273e+09]), array([2.62366273e+09]), array([2.62366273e+09]), array([2.62366273e+09]), array([2.62366273e+09]), array([2.62366273e+09]), array([2.62366273e+09]), array([2.62366273e+09]), array([2.62366273e+09]), array([2.62366273e+09]), array([2.62366273e+09]), array([2.62366273e+09]), array([2.62366273e+09]), array([2.62366273e+09]), array([2.62366273e+09]), array([2.62366273e+09]), array([2.62366273e+09]), array([2.62366273e+09]), array([2.62366273e+09]), array([2.62366273e+09]), array([2.62366273e+09]), array([2.62366273e+09]), array([2.62366273e+09]), array([2.62366273e+09]), array([2.62366273e+09]), array([2.62366273e+09]), array([2.62366273e+09]), array([2.62366273e+09]), array([2.62366273e+09]), array([2.62366273e+09]), array([2.62366273e+09]), array([2.62366273e+09]), array([2.62366273e+09]), array([2.62366273e+09]), array([2.62366273e+09]), array([2.62366273e+09]), array([2.62366273e+09]), array([2.62366273e+09]), array([2.62366273e+09]), array([2.62366273e+09]), array([2.62366273e+09]), array([2.62366273e+09]), array([2.62366273e+09]), array([2.62366273e+09]), array([2.62366273e+09]), array([2.62366273e+09]), array([2.62366273e+09]), array([2.62366273e+09]), array([2.62366273e+09]), array([2.62366273e+09]), array([2.62366273e+09]), array([2.62366273e+09]), array([2.62366273e+09]), array([2.62366273e+09]), array([2.62366273e+09]), array([2.62366273e+09]), array([2.62366273e+09]), array([2.62366273e+09]), array([2.62366273e+09]), array([2.62366273e+09]), array([2.62366273e+09]), array([2.62366273e+09]), array([2.62366273e+09]), array([2.62366273e+09]), array([2.62366273e+09]), array([2.62366273e+09]), array([2.62366273e+09]), array([2.62366273e+09]), array([2.62366273e+09]), array([2.62366273e+09]), array([2.62366273e+09]), array([2.62366273e+09]), array([2.62366273e+09]), array([2.62366273e+09]), array([2.62366273e+09]), array([2.62366273e+09]), array([2.62366273e+09]), array([2.62366273e+09]), array([2.62366273e+09]), array([2.62366273e+09]), array([2.62366273e+09]), array([2.62366273e+09]), array([2.62366273e+09]), array([2.62366273e+09]), array([2.62366273e+09]), array([2.62366273e+09]), array([2.62366273e+09]), array([2.62366273e+09]), array([2.62366273e+09]), array([2.62366273e+09]), array([2.62366273e+09]), array([2.62366273e+09]), array([2.62366273e+09]), array([2.62366273e+09]), array([2.62366273e+09]), array([2.62366273e+09]), array([2.62366273e+09]), array([2.62366273e+09]), array([2.62366273e+09]), array([2.62366273e+09]), array([2.62366273e+09]), array([2.62366273e+09]), array([2.62366273e+09]), array([2.62366273e+09]), array([2.62366273e+09]), array([2.62366273e+09]), array([2.62366273e+09]), array([2.62366273e+09]), array([2.62366273e+09]), array([2.62366273e+09]), array([2.62366273e+09]), array([2.62366273e+09]), array([2.62366273e+09]), array([2.62366273e+09]), array([2.62366273e+09]), array([2.62366273e+09]), array([2.62366273e+09]), array([2.62366273e+09]), array([2.62366273e+09]), array([2.62366273e+09]), array([2.62366273e+09]), array([2.62366273e+09]), array([2.62366273e+09]), array([2.62366273e+09]), array([2.62366273e+09]), array([2.62366273e+09]), array([2.62366273e+09]), array([2.62366273e+09]), array([2.62366273e+09]), array([2.62366273e+09]), array([2.62366273e+09]), array([2.62366273e+09]), array([2.62366273e+09]), array([2.62366273e+09]), array([2.62366273e+09]), array([2.62366273e+09]), array([2.62366273e+09]), array([2.62366273e+09]), array([2.62366273e+09]), array([2.62366273e+09]), array([2.62366273e+09]), array([2.62366273e+09]), array([2.62366273e+09]), array([2.62366273e+09]), array([2.62366273e+09]), array([2.62366273e+09]), array([2.62366273e+09]), array([2.62366273e+09]), array([2.62366273e+09]), array([2.62366273e+09]), array([2.62366273e+09]), array([2.62366273e+09]), array([2.62366273e+09]), array([2.62366273e+09]), array([2.62366273e+09]), array([2.62366273e+09]), array([2.62366273e+09]), array([2.62366273e+09]), array([2.62366273e+09]), array([2.62366273e+09]), array([2.62366273e+09]), array([2.62366273e+09]), array([2.62366273e+09]), array([2.62366273e+09]), array([2.62366273e+09]), array([2.62366273e+09]), array([2.62366273e+09]), array([2.62366273e+09]), array([2.62366273e+09]), array([2.62366273e+09]), array([2.62366273e+09]), array([2.62366273e+09]), array([2.62366273e+09]), array([2.62366273e+09]), array([2.62366273e+09]), array([2.62366273e+09]), array([2.62366273e+09]), array([2.62366273e+09]), array([2.62366273e+09])]\n"
          ]
        }
      ]
    },
    {
      "cell_type": "markdown",
      "source": [
        "# Regresión Logística Múltiple (varias variables de entrada y salida sigmoide en (0,1) o (-1,1) )"
      ],
      "metadata": {
        "id": "fYYxgePiIThe"
      }
    },
    {
      "cell_type": "markdown",
      "source": [
        "## Ejercicio 8\n",
        "\n",
        "A partir de los ejemplos del archivo automobile-simple.csv, utilice todos los ejemplos para generar un modelo de 1 neurona para clasificar si un auto es ecológico:\n",
        "\n",
        "<ol type=\"a\">\n",
        "<li>Elimine los registros que presenten valores faltantes y utilice el atributo eco-rating para generar un nuevo atributo binario que determine si un auto es ecológico o no. Considere que un auto es ecológico si el valor de \"eco-rating\" supera la media de dicho atributo.</li>\n",
        "\n",
        "<li>Luego de completar según lo indicado en a), aplique normalización y realice el entrenamiento utilizando los atributos numéricos:</li>\n",
        "  <ol type=\"i\">\n",
        "      <li>Utilizando salida sigmoide (sigmoid) para la neurona.</li>\n",
        "      <li>Utilizando salida tangente hiperbólico (tanh) para la neurona.</li>\n",
        "  </ol>\n",
        "</ol>\n"
      ],
      "metadata": {
        "id": "aoAxRsfB6XB3"
      }
    },
    {
      "cell_type": "code",
      "source": [
        "autos_ej8 = autos_df.select_dtypes(include=np.number)"
      ],
      "metadata": {
        "id": "iGtl2h9Hz-x5"
      },
      "execution_count": null,
      "outputs": []
    },
    {
      "cell_type": "code",
      "source": [
        "autos_ej8 = autos_ej8.dropna().copy()\n",
        "\n",
        "autos_ej8.isnull().sum()"
      ],
      "metadata": {
        "colab": {
          "base_uri": "https://localhost:8080/",
          "height": 335
        },
        "id": "s2tQ9dnp0K-q",
        "outputId": "8a4ccb2f-e8c9-492e-b277-635d68ae32a7"
      },
      "execution_count": null,
      "outputs": [
        {
          "output_type": "execute_result",
          "data": {
            "text/plain": [
              "curb-weight    0\n",
              "engine-size    0\n",
              "horsepower     0\n",
              "city-mpg       0\n",
              "highway-mpg    0\n",
              "price          0\n",
              "volume         0\n",
              "eco-rating     0\n",
              "dtype: int64"
            ],
            "text/html": [
              "<div>\n",
              "<style scoped>\n",
              "    .dataframe tbody tr th:only-of-type {\n",
              "        vertical-align: middle;\n",
              "    }\n",
              "\n",
              "    .dataframe tbody tr th {\n",
              "        vertical-align: top;\n",
              "    }\n",
              "\n",
              "    .dataframe thead th {\n",
              "        text-align: right;\n",
              "    }\n",
              "</style>\n",
              "<table border=\"1\" class=\"dataframe\">\n",
              "  <thead>\n",
              "    <tr style=\"text-align: right;\">\n",
              "      <th></th>\n",
              "      <th>0</th>\n",
              "    </tr>\n",
              "  </thead>\n",
              "  <tbody>\n",
              "    <tr>\n",
              "      <th>curb-weight</th>\n",
              "      <td>0</td>\n",
              "    </tr>\n",
              "    <tr>\n",
              "      <th>engine-size</th>\n",
              "      <td>0</td>\n",
              "    </tr>\n",
              "    <tr>\n",
              "      <th>horsepower</th>\n",
              "      <td>0</td>\n",
              "    </tr>\n",
              "    <tr>\n",
              "      <th>city-mpg</th>\n",
              "      <td>0</td>\n",
              "    </tr>\n",
              "    <tr>\n",
              "      <th>highway-mpg</th>\n",
              "      <td>0</td>\n",
              "    </tr>\n",
              "    <tr>\n",
              "      <th>price</th>\n",
              "      <td>0</td>\n",
              "    </tr>\n",
              "    <tr>\n",
              "      <th>volume</th>\n",
              "      <td>0</td>\n",
              "    </tr>\n",
              "    <tr>\n",
              "      <th>eco-rating</th>\n",
              "      <td>0</td>\n",
              "    </tr>\n",
              "  </tbody>\n",
              "</table>\n",
              "</div><br><label><b>dtype:</b> int64</label>"
            ]
          },
          "metadata": {},
          "execution_count": 6
        }
      ]
    },
    {
      "cell_type": "code",
      "source": [
        "mean = autos_ej8['eco-rating'].mean()\n",
        "\n",
        "autos_ej8['is-eco'] = autos_ej8['eco-rating'].apply(lambda x: 1 if x > mean else 0)\n",
        "\n",
        "autos_ej8"
      ],
      "metadata": {
        "colab": {
          "base_uri": "https://localhost:8080/",
          "height": 424
        },
        "id": "18fHhILZ0rwG",
        "outputId": "0aab92c6-2289-45d1-e221-3c2cf466312d"
      },
      "execution_count": null,
      "outputs": [
        {
          "output_type": "execute_result",
          "data": {
            "text/plain": [
              "     curb-weight  engine-size  horsepower  city-mpg  highway-mpg    price  \\\n",
              "0           2548          130       111.0        21           27  13495.0   \n",
              "1           2548          130       111.0        21           27  16500.0   \n",
              "2           2823          152       154.0        19           26  16500.0   \n",
              "3           2337          109       102.0        24           30  13950.0   \n",
              "4           2824          136       115.0        18           22  17450.0   \n",
              "..           ...          ...         ...       ...          ...      ...   \n",
              "200         2952          141       114.0        23           28  16845.0   \n",
              "201         3049          141       160.0        19           25  19045.0   \n",
              "202         3012          173       134.0        18           23  21485.0   \n",
              "203         3217          145       106.0        26           27  22470.0   \n",
              "204         3062          141       114.0        19           25  22625.0   \n",
              "\n",
              "         volume  eco-rating  is-eco  \n",
              "0    528019.904   33.297462       0  \n",
              "1    528019.904   33.297462       0  \n",
              "2    587592.640   30.898272       0  \n",
              "3    634816.956   42.697819       1  \n",
              "4    636734.832   27.997459       0  \n",
              "..          ...         ...     ...  \n",
              "200  721961.760   38.354298       0  \n",
              "201  720913.920   32.043335       0  \n",
              "202  721961.760   29.806494       0  \n",
              "203  721961.760   35.073342       0  \n",
              "204  721961.760   31.997368       0  \n",
              "\n",
              "[199 rows x 9 columns]"
            ],
            "text/html": [
              "\n",
              "  <div id=\"df-8e775e6f-2822-4aae-8d3f-f5318fb8ecde\" class=\"colab-df-container\">\n",
              "    <div>\n",
              "<style scoped>\n",
              "    .dataframe tbody tr th:only-of-type {\n",
              "        vertical-align: middle;\n",
              "    }\n",
              "\n",
              "    .dataframe tbody tr th {\n",
              "        vertical-align: top;\n",
              "    }\n",
              "\n",
              "    .dataframe thead th {\n",
              "        text-align: right;\n",
              "    }\n",
              "</style>\n",
              "<table border=\"1\" class=\"dataframe\">\n",
              "  <thead>\n",
              "    <tr style=\"text-align: right;\">\n",
              "      <th></th>\n",
              "      <th>curb-weight</th>\n",
              "      <th>engine-size</th>\n",
              "      <th>horsepower</th>\n",
              "      <th>city-mpg</th>\n",
              "      <th>highway-mpg</th>\n",
              "      <th>price</th>\n",
              "      <th>volume</th>\n",
              "      <th>eco-rating</th>\n",
              "      <th>is-eco</th>\n",
              "    </tr>\n",
              "  </thead>\n",
              "  <tbody>\n",
              "    <tr>\n",
              "      <th>0</th>\n",
              "      <td>2548</td>\n",
              "      <td>130</td>\n",
              "      <td>111.0</td>\n",
              "      <td>21</td>\n",
              "      <td>27</td>\n",
              "      <td>13495.0</td>\n",
              "      <td>528019.904</td>\n",
              "      <td>33.297462</td>\n",
              "      <td>0</td>\n",
              "    </tr>\n",
              "    <tr>\n",
              "      <th>1</th>\n",
              "      <td>2548</td>\n",
              "      <td>130</td>\n",
              "      <td>111.0</td>\n",
              "      <td>21</td>\n",
              "      <td>27</td>\n",
              "      <td>16500.0</td>\n",
              "      <td>528019.904</td>\n",
              "      <td>33.297462</td>\n",
              "      <td>0</td>\n",
              "    </tr>\n",
              "    <tr>\n",
              "      <th>2</th>\n",
              "      <td>2823</td>\n",
              "      <td>152</td>\n",
              "      <td>154.0</td>\n",
              "      <td>19</td>\n",
              "      <td>26</td>\n",
              "      <td>16500.0</td>\n",
              "      <td>587592.640</td>\n",
              "      <td>30.898272</td>\n",
              "      <td>0</td>\n",
              "    </tr>\n",
              "    <tr>\n",
              "      <th>3</th>\n",
              "      <td>2337</td>\n",
              "      <td>109</td>\n",
              "      <td>102.0</td>\n",
              "      <td>24</td>\n",
              "      <td>30</td>\n",
              "      <td>13950.0</td>\n",
              "      <td>634816.956</td>\n",
              "      <td>42.697819</td>\n",
              "      <td>1</td>\n",
              "    </tr>\n",
              "    <tr>\n",
              "      <th>4</th>\n",
              "      <td>2824</td>\n",
              "      <td>136</td>\n",
              "      <td>115.0</td>\n",
              "      <td>18</td>\n",
              "      <td>22</td>\n",
              "      <td>17450.0</td>\n",
              "      <td>636734.832</td>\n",
              "      <td>27.997459</td>\n",
              "      <td>0</td>\n",
              "    </tr>\n",
              "    <tr>\n",
              "      <th>...</th>\n",
              "      <td>...</td>\n",
              "      <td>...</td>\n",
              "      <td>...</td>\n",
              "      <td>...</td>\n",
              "      <td>...</td>\n",
              "      <td>...</td>\n",
              "      <td>...</td>\n",
              "      <td>...</td>\n",
              "      <td>...</td>\n",
              "    </tr>\n",
              "    <tr>\n",
              "      <th>200</th>\n",
              "      <td>2952</td>\n",
              "      <td>141</td>\n",
              "      <td>114.0</td>\n",
              "      <td>23</td>\n",
              "      <td>28</td>\n",
              "      <td>16845.0</td>\n",
              "      <td>721961.760</td>\n",
              "      <td>38.354298</td>\n",
              "      <td>0</td>\n",
              "    </tr>\n",
              "    <tr>\n",
              "      <th>201</th>\n",
              "      <td>3049</td>\n",
              "      <td>141</td>\n",
              "      <td>160.0</td>\n",
              "      <td>19</td>\n",
              "      <td>25</td>\n",
              "      <td>19045.0</td>\n",
              "      <td>720913.920</td>\n",
              "      <td>32.043335</td>\n",
              "      <td>0</td>\n",
              "    </tr>\n",
              "    <tr>\n",
              "      <th>202</th>\n",
              "      <td>3012</td>\n",
              "      <td>173</td>\n",
              "      <td>134.0</td>\n",
              "      <td>18</td>\n",
              "      <td>23</td>\n",
              "      <td>21485.0</td>\n",
              "      <td>721961.760</td>\n",
              "      <td>29.806494</td>\n",
              "      <td>0</td>\n",
              "    </tr>\n",
              "    <tr>\n",
              "      <th>203</th>\n",
              "      <td>3217</td>\n",
              "      <td>145</td>\n",
              "      <td>106.0</td>\n",
              "      <td>26</td>\n",
              "      <td>27</td>\n",
              "      <td>22470.0</td>\n",
              "      <td>721961.760</td>\n",
              "      <td>35.073342</td>\n",
              "      <td>0</td>\n",
              "    </tr>\n",
              "    <tr>\n",
              "      <th>204</th>\n",
              "      <td>3062</td>\n",
              "      <td>141</td>\n",
              "      <td>114.0</td>\n",
              "      <td>19</td>\n",
              "      <td>25</td>\n",
              "      <td>22625.0</td>\n",
              "      <td>721961.760</td>\n",
              "      <td>31.997368</td>\n",
              "      <td>0</td>\n",
              "    </tr>\n",
              "  </tbody>\n",
              "</table>\n",
              "<p>199 rows × 9 columns</p>\n",
              "</div>\n",
              "    <div class=\"colab-df-buttons\">\n",
              "\n",
              "  <div class=\"colab-df-container\">\n",
              "    <button class=\"colab-df-convert\" onclick=\"convertToInteractive('df-8e775e6f-2822-4aae-8d3f-f5318fb8ecde')\"\n",
              "            title=\"Convert this dataframe to an interactive table.\"\n",
              "            style=\"display:none;\">\n",
              "\n",
              "  <svg xmlns=\"http://www.w3.org/2000/svg\" height=\"24px\" viewBox=\"0 -960 960 960\">\n",
              "    <path d=\"M120-120v-720h720v720H120Zm60-500h600v-160H180v160Zm220 220h160v-160H400v160Zm0 220h160v-160H400v160ZM180-400h160v-160H180v160Zm440 0h160v-160H620v160ZM180-180h160v-160H180v160Zm440 0h160v-160H620v160Z\"/>\n",
              "  </svg>\n",
              "    </button>\n",
              "\n",
              "  <style>\n",
              "    .colab-df-container {\n",
              "      display:flex;\n",
              "      gap: 12px;\n",
              "    }\n",
              "\n",
              "    .colab-df-convert {\n",
              "      background-color: #E8F0FE;\n",
              "      border: none;\n",
              "      border-radius: 50%;\n",
              "      cursor: pointer;\n",
              "      display: none;\n",
              "      fill: #1967D2;\n",
              "      height: 32px;\n",
              "      padding: 0 0 0 0;\n",
              "      width: 32px;\n",
              "    }\n",
              "\n",
              "    .colab-df-convert:hover {\n",
              "      background-color: #E2EBFA;\n",
              "      box-shadow: 0px 1px 2px rgba(60, 64, 67, 0.3), 0px 1px 3px 1px rgba(60, 64, 67, 0.15);\n",
              "      fill: #174EA6;\n",
              "    }\n",
              "\n",
              "    .colab-df-buttons div {\n",
              "      margin-bottom: 4px;\n",
              "    }\n",
              "\n",
              "    [theme=dark] .colab-df-convert {\n",
              "      background-color: #3B4455;\n",
              "      fill: #D2E3FC;\n",
              "    }\n",
              "\n",
              "    [theme=dark] .colab-df-convert:hover {\n",
              "      background-color: #434B5C;\n",
              "      box-shadow: 0px 1px 3px 1px rgba(0, 0, 0, 0.15);\n",
              "      filter: drop-shadow(0px 1px 2px rgba(0, 0, 0, 0.3));\n",
              "      fill: #FFFFFF;\n",
              "    }\n",
              "  </style>\n",
              "\n",
              "    <script>\n",
              "      const buttonEl =\n",
              "        document.querySelector('#df-8e775e6f-2822-4aae-8d3f-f5318fb8ecde button.colab-df-convert');\n",
              "      buttonEl.style.display =\n",
              "        google.colab.kernel.accessAllowed ? 'block' : 'none';\n",
              "\n",
              "      async function convertToInteractive(key) {\n",
              "        const element = document.querySelector('#df-8e775e6f-2822-4aae-8d3f-f5318fb8ecde');\n",
              "        const dataTable =\n",
              "          await google.colab.kernel.invokeFunction('convertToInteractive',\n",
              "                                                    [key], {});\n",
              "        if (!dataTable) return;\n",
              "\n",
              "        const docLinkHtml = 'Like what you see? Visit the ' +\n",
              "          '<a target=\"_blank\" href=https://colab.research.google.com/notebooks/data_table.ipynb>data table notebook</a>'\n",
              "          + ' to learn more about interactive tables.';\n",
              "        element.innerHTML = '';\n",
              "        dataTable['output_type'] = 'display_data';\n",
              "        await google.colab.output.renderOutput(dataTable, element);\n",
              "        const docLink = document.createElement('div');\n",
              "        docLink.innerHTML = docLinkHtml;\n",
              "        element.appendChild(docLink);\n",
              "      }\n",
              "    </script>\n",
              "  </div>\n",
              "\n",
              "\n",
              "<div id=\"df-5a6052d9-fa5a-401a-ab0a-7f6a0d3f6906\">\n",
              "  <button class=\"colab-df-quickchart\" onclick=\"quickchart('df-5a6052d9-fa5a-401a-ab0a-7f6a0d3f6906')\"\n",
              "            title=\"Suggest charts\"\n",
              "            style=\"display:none;\">\n",
              "\n",
              "<svg xmlns=\"http://www.w3.org/2000/svg\" height=\"24px\"viewBox=\"0 0 24 24\"\n",
              "     width=\"24px\">\n",
              "    <g>\n",
              "        <path d=\"M19 3H5c-1.1 0-2 .9-2 2v14c0 1.1.9 2 2 2h14c1.1 0 2-.9 2-2V5c0-1.1-.9-2-2-2zM9 17H7v-7h2v7zm4 0h-2V7h2v10zm4 0h-2v-4h2v4z\"/>\n",
              "    </g>\n",
              "</svg>\n",
              "  </button>\n",
              "\n",
              "<style>\n",
              "  .colab-df-quickchart {\n",
              "      --bg-color: #E8F0FE;\n",
              "      --fill-color: #1967D2;\n",
              "      --hover-bg-color: #E2EBFA;\n",
              "      --hover-fill-color: #174EA6;\n",
              "      --disabled-fill-color: #AAA;\n",
              "      --disabled-bg-color: #DDD;\n",
              "  }\n",
              "\n",
              "  [theme=dark] .colab-df-quickchart {\n",
              "      --bg-color: #3B4455;\n",
              "      --fill-color: #D2E3FC;\n",
              "      --hover-bg-color: #434B5C;\n",
              "      --hover-fill-color: #FFFFFF;\n",
              "      --disabled-bg-color: #3B4455;\n",
              "      --disabled-fill-color: #666;\n",
              "  }\n",
              "\n",
              "  .colab-df-quickchart {\n",
              "    background-color: var(--bg-color);\n",
              "    border: none;\n",
              "    border-radius: 50%;\n",
              "    cursor: pointer;\n",
              "    display: none;\n",
              "    fill: var(--fill-color);\n",
              "    height: 32px;\n",
              "    padding: 0;\n",
              "    width: 32px;\n",
              "  }\n",
              "\n",
              "  .colab-df-quickchart:hover {\n",
              "    background-color: var(--hover-bg-color);\n",
              "    box-shadow: 0 1px 2px rgba(60, 64, 67, 0.3), 0 1px 3px 1px rgba(60, 64, 67, 0.15);\n",
              "    fill: var(--button-hover-fill-color);\n",
              "  }\n",
              "\n",
              "  .colab-df-quickchart-complete:disabled,\n",
              "  .colab-df-quickchart-complete:disabled:hover {\n",
              "    background-color: var(--disabled-bg-color);\n",
              "    fill: var(--disabled-fill-color);\n",
              "    box-shadow: none;\n",
              "  }\n",
              "\n",
              "  .colab-df-spinner {\n",
              "    border: 2px solid var(--fill-color);\n",
              "    border-color: transparent;\n",
              "    border-bottom-color: var(--fill-color);\n",
              "    animation:\n",
              "      spin 1s steps(1) infinite;\n",
              "  }\n",
              "\n",
              "  @keyframes spin {\n",
              "    0% {\n",
              "      border-color: transparent;\n",
              "      border-bottom-color: var(--fill-color);\n",
              "      border-left-color: var(--fill-color);\n",
              "    }\n",
              "    20% {\n",
              "      border-color: transparent;\n",
              "      border-left-color: var(--fill-color);\n",
              "      border-top-color: var(--fill-color);\n",
              "    }\n",
              "    30% {\n",
              "      border-color: transparent;\n",
              "      border-left-color: var(--fill-color);\n",
              "      border-top-color: var(--fill-color);\n",
              "      border-right-color: var(--fill-color);\n",
              "    }\n",
              "    40% {\n",
              "      border-color: transparent;\n",
              "      border-right-color: var(--fill-color);\n",
              "      border-top-color: var(--fill-color);\n",
              "    }\n",
              "    60% {\n",
              "      border-color: transparent;\n",
              "      border-right-color: var(--fill-color);\n",
              "    }\n",
              "    80% {\n",
              "      border-color: transparent;\n",
              "      border-right-color: var(--fill-color);\n",
              "      border-bottom-color: var(--fill-color);\n",
              "    }\n",
              "    90% {\n",
              "      border-color: transparent;\n",
              "      border-bottom-color: var(--fill-color);\n",
              "    }\n",
              "  }\n",
              "</style>\n",
              "\n",
              "  <script>\n",
              "    async function quickchart(key) {\n",
              "      const quickchartButtonEl =\n",
              "        document.querySelector('#' + key + ' button');\n",
              "      quickchartButtonEl.disabled = true;  // To prevent multiple clicks.\n",
              "      quickchartButtonEl.classList.add('colab-df-spinner');\n",
              "      try {\n",
              "        const charts = await google.colab.kernel.invokeFunction(\n",
              "            'suggestCharts', [key], {});\n",
              "      } catch (error) {\n",
              "        console.error('Error during call to suggestCharts:', error);\n",
              "      }\n",
              "      quickchartButtonEl.classList.remove('colab-df-spinner');\n",
              "      quickchartButtonEl.classList.add('colab-df-quickchart-complete');\n",
              "    }\n",
              "    (() => {\n",
              "      let quickchartButtonEl =\n",
              "        document.querySelector('#df-5a6052d9-fa5a-401a-ab0a-7f6a0d3f6906 button');\n",
              "      quickchartButtonEl.style.display =\n",
              "        google.colab.kernel.accessAllowed ? 'block' : 'none';\n",
              "    })();\n",
              "  </script>\n",
              "</div>\n",
              "\n",
              "  <div id=\"id_d266e350-5c4b-4a91-b18f-7e67f9e906d7\">\n",
              "    <style>\n",
              "      .colab-df-generate {\n",
              "        background-color: #E8F0FE;\n",
              "        border: none;\n",
              "        border-radius: 50%;\n",
              "        cursor: pointer;\n",
              "        display: none;\n",
              "        fill: #1967D2;\n",
              "        height: 32px;\n",
              "        padding: 0 0 0 0;\n",
              "        width: 32px;\n",
              "      }\n",
              "\n",
              "      .colab-df-generate:hover {\n",
              "        background-color: #E2EBFA;\n",
              "        box-shadow: 0px 1px 2px rgba(60, 64, 67, 0.3), 0px 1px 3px 1px rgba(60, 64, 67, 0.15);\n",
              "        fill: #174EA6;\n",
              "      }\n",
              "\n",
              "      [theme=dark] .colab-df-generate {\n",
              "        background-color: #3B4455;\n",
              "        fill: #D2E3FC;\n",
              "      }\n",
              "\n",
              "      [theme=dark] .colab-df-generate:hover {\n",
              "        background-color: #434B5C;\n",
              "        box-shadow: 0px 1px 3px 1px rgba(0, 0, 0, 0.15);\n",
              "        filter: drop-shadow(0px 1px 2px rgba(0, 0, 0, 0.3));\n",
              "        fill: #FFFFFF;\n",
              "      }\n",
              "    </style>\n",
              "    <button class=\"colab-df-generate\" onclick=\"generateWithVariable('autos_ej8')\"\n",
              "            title=\"Generate code using this dataframe.\"\n",
              "            style=\"display:none;\">\n",
              "\n",
              "  <svg xmlns=\"http://www.w3.org/2000/svg\" height=\"24px\"viewBox=\"0 0 24 24\"\n",
              "       width=\"24px\">\n",
              "    <path d=\"M7,19H8.4L18.45,9,17,7.55,7,17.6ZM5,21V16.75L18.45,3.32a2,2,0,0,1,2.83,0l1.4,1.43a1.91,1.91,0,0,1,.58,1.4,1.91,1.91,0,0,1-.58,1.4L9.25,21ZM18.45,9,17,7.55Zm-12,3A5.31,5.31,0,0,0,4.9,8.1,5.31,5.31,0,0,0,1,6.5,5.31,5.31,0,0,0,4.9,4.9,5.31,5.31,0,0,0,6.5,1,5.31,5.31,0,0,0,8.1,4.9,5.31,5.31,0,0,0,12,6.5,5.46,5.46,0,0,0,6.5,12Z\"/>\n",
              "  </svg>\n",
              "    </button>\n",
              "    <script>\n",
              "      (() => {\n",
              "      const buttonEl =\n",
              "        document.querySelector('#id_d266e350-5c4b-4a91-b18f-7e67f9e906d7 button.colab-df-generate');\n",
              "      buttonEl.style.display =\n",
              "        google.colab.kernel.accessAllowed ? 'block' : 'none';\n",
              "\n",
              "      buttonEl.onclick = () => {\n",
              "        google.colab.notebook.generateWithVariable('autos_ej8');\n",
              "      }\n",
              "      })();\n",
              "    </script>\n",
              "  </div>\n",
              "\n",
              "    </div>\n",
              "  </div>\n"
            ],
            "application/vnd.google.colaboratory.intrinsic+json": {
              "type": "dataframe",
              "variable_name": "autos_ej8",
              "summary": "{\n  \"name\": \"autos_ej8\",\n  \"rows\": 199,\n  \"fields\": [\n    {\n      \"column\": \"curb-weight\",\n      \"properties\": {\n        \"dtype\": \"number\",\n        \"std\": 519,\n        \"min\": 1488,\n        \"max\": 4066,\n        \"num_unique_values\": 168,\n        \"samples\": [\n          2714,\n          2010,\n          2040\n        ],\n        \"semantic_type\": \"\",\n        \"description\": \"\"\n      }\n    },\n    {\n      \"column\": \"engine-size\",\n      \"properties\": {\n        \"dtype\": \"number\",\n        \"std\": 41,\n        \"min\": 61,\n        \"max\": 326,\n        \"num_unique_values\": 42,\n        \"samples\": [\n          183,\n          92,\n          61\n        ],\n        \"semantic_type\": \"\",\n        \"description\": \"\"\n      }\n    },\n    {\n      \"column\": \"horsepower\",\n      \"properties\": {\n        \"dtype\": \"number\",\n        \"std\": 37.553842705833965,\n        \"min\": 48.0,\n        \"max\": 262.0,\n        \"num_unique_values\": 58,\n        \"samples\": [\n          111.0,\n          140.0,\n          55.0\n        ],\n        \"semantic_type\": \"\",\n        \"description\": \"\"\n      }\n    },\n    {\n      \"column\": \"city-mpg\",\n      \"properties\": {\n        \"dtype\": \"number\",\n        \"std\": 6,\n        \"min\": 13,\n        \"max\": 49,\n        \"num_unique_values\": 29,\n        \"samples\": [\n          29,\n          25,\n          31\n        ],\n        \"semantic_type\": \"\",\n        \"description\": \"\"\n      }\n    },\n    {\n      \"column\": \"highway-mpg\",\n      \"properties\": {\n        \"dtype\": \"number\",\n        \"std\": 6,\n        \"min\": 16,\n        \"max\": 54,\n        \"num_unique_values\": 30,\n        \"samples\": [\n          36,\n          34,\n          18\n        ],\n        \"semantic_type\": \"\",\n        \"description\": \"\"\n      }\n    },\n    {\n      \"column\": \"price\",\n      \"properties\": {\n        \"dtype\": \"number\",\n        \"std\": 7978.707608706005,\n        \"min\": 5118.0,\n        \"max\": 45400.0,\n        \"num_unique_values\": 184,\n        \"samples\": [\n          5572.0,\n          32250.0,\n          9988.0\n        ],\n        \"semantic_type\": \"\",\n        \"description\": \"\"\n      }\n    },\n    {\n      \"column\": \"volume\",\n      \"properties\": {\n        \"dtype\": \"number\",\n        \"std\": 79876.37250984629,\n        \"min\": 452643.156,\n        \"max\": 846007.6590000001,\n        \"num_unique_values\": 93,\n        \"samples\": [\n          820742.73,\n          582089.2999999999,\n          676402.09\n        ],\n        \"semantic_type\": \"\",\n        \"description\": \"\"\n      }\n    },\n    {\n      \"column\": \"eco-rating\",\n      \"properties\": {\n        \"dtype\": \"number\",\n        \"std\": 12.179823493554702,\n        \"min\": 15.501957160750948,\n        \"max\": 83.08877400645349,\n        \"num_unique_values\": 185,\n        \"samples\": [\n          55.02009680657708,\n          15.501957160750948,\n          46.381037881402186\n        ],\n        \"semantic_type\": \"\",\n        \"description\": \"\"\n      }\n    },\n    {\n      \"column\": \"is-eco\",\n      \"properties\": {\n        \"dtype\": \"number\",\n        \"std\": 0,\n        \"min\": 0,\n        \"max\": 1,\n        \"num_unique_values\": 2,\n        \"samples\": [\n          1,\n          0\n        ],\n        \"semantic_type\": \"\",\n        \"description\": \"\"\n      }\n    }\n  ]\n}"
            }
          },
          "metadata": {},
          "execution_count": 7
        }
      ]
    },
    {
      "cell_type": "code",
      "source": [
        "target = 'is-eco'\n",
        "ejemplos = autos_ej8.drop(target, axis=1)\n",
        "label = autos_ej8[target]\n",
        "\n",
        "X_train, X_test, y_train, y_test = train_test_split(ejemplos, label, test_size=0.2)\n",
        "\n",
        "ejemplos_norm = preprocessing.StandardScaler().fit_transform(X_train)\n",
        "label = preprocessing.StandardScaler().fit_transform(y_train.values.reshape(-1,1))\n",
        "\n",
        "X_test = preprocessing.StandardScaler().fit_transform(X_test)\n",
        "\n",
        "ejemplos_norm.shape, label.shape"
      ],
      "metadata": {
        "id": "ZTFdaMEZ16Q2",
        "colab": {
          "base_uri": "https://localhost:8080/"
        },
        "outputId": "e3d3331d-3ae3-468b-9b4f-344e2fbb60cd"
      },
      "execution_count": null,
      "outputs": [
        {
          "output_type": "execute_result",
          "data": {
            "text/plain": [
              "((159, 8), (159, 1))"
            ]
          },
          "metadata": {},
          "execution_count": 8
        }
      ]
    },
    {
      "cell_type": "code",
      "source": [
        "alfa = 0.01\n",
        "iteraciones = 5000\n",
        "cota = 0.001\n",
        "\n",
        "modelo_sigmoide = NeuronaGradiente(alpha=alfa, n_iter=iteraciones, cotaE=cota, FUN='sigmoid', draw=1)\n",
        "modelo_tan = NeuronaGradiente(alpha=alfa, n_iter=iteraciones, cotaE=cota, FUN='tanh', draw=1)"
      ],
      "metadata": {
        "id": "zQKXFjgl54sG"
      },
      "execution_count": null,
      "outputs": []
    },
    {
      "cell_type": "code",
      "source": [
        "modelo_sigmoide.fit(ejemplos_norm, label)\n",
        "print(f'Iteraciones: {modelo_sigmoide.i_}')"
      ],
      "metadata": {
        "colab": {
          "base_uri": "https://localhost:8080/"
        },
        "id": "ehQEG1TGt7pq",
        "outputId": "4ac0bee1-5752-4ee7-e036-eda8ec4928b8"
      },
      "execution_count": null,
      "outputs": [
        {
          "output_type": "stream",
          "name": "stdout",
          "text": [
            "Iteraciones: 1483\n"
          ]
        }
      ]
    },
    {
      "cell_type": "code",
      "source": [
        "modelo_sigmoide.accuracy(X_test, y_test)"
      ],
      "metadata": {
        "colab": {
          "base_uri": "https://localhost:8080/"
        },
        "id": "D2MstgjN0HyA",
        "outputId": "33e3582f-6141-4415-c616-247475470775"
      },
      "execution_count": null,
      "outputs": [
        {
          "output_type": "execute_result",
          "data": {
            "text/plain": [
              "0.9"
            ]
          },
          "metadata": {},
          "execution_count": 83
        }
      ]
    },
    {
      "cell_type": "code",
      "source": [
        "modelo_tan.fit(ejemplos_norm, label)\n",
        "\n",
        "print(f'Iteraciones: {modelo_tan.i_}')"
      ],
      "metadata": {
        "colab": {
          "base_uri": "https://localhost:8080/"
        },
        "id": "gdo-6un9xXX3",
        "outputId": "e877df4b-bf42-4684-dd51-5df434f4e821"
      },
      "execution_count": null,
      "outputs": [
        {
          "output_type": "stream",
          "name": "stdout",
          "text": [
            "Iteraciones: 1112\n"
          ]
        }
      ]
    },
    {
      "cell_type": "code",
      "source": [
        "y_test_tan = y_test.apply(lambda x: 1 if x == 1 else -1)\n",
        "\n",
        "y_test_tan.values.reshape(1,-1)"
      ],
      "metadata": {
        "colab": {
          "base_uri": "https://localhost:8080/"
        },
        "id": "mg-VXH4p2qvP",
        "outputId": "b12489c1-3a4f-4208-d065-1813d946360b"
      },
      "execution_count": null,
      "outputs": [
        {
          "output_type": "execute_result",
          "data": {
            "text/plain": [
              "array([[ 1, -1, -1,  1, -1, -1, -1, -1,  1, -1,  1,  1, -1,  1,  1, -1,\n",
              "        -1,  1,  1, -1, -1, -1,  1, -1, -1, -1,  1, -1,  1, -1, -1, -1,\n",
              "        -1, -1, -1, -1, -1, -1,  1,  1]])"
            ]
          },
          "metadata": {},
          "execution_count": 14
        }
      ]
    },
    {
      "cell_type": "code",
      "source": [
        "modelo_tan.accuracy(X_test, y_test_tan)"
      ],
      "metadata": {
        "colab": {
          "base_uri": "https://localhost:8080/"
        },
        "id": "GOimfue10PJt",
        "outputId": "d258d161-f30b-4760-b698-7775fa33eec3"
      },
      "execution_count": null,
      "outputs": [
        {
          "output_type": "execute_result",
          "data": {
            "text/plain": [
              "0.775"
            ]
          },
          "metadata": {},
          "execution_count": 15
        }
      ]
    },
    {
      "cell_type": "markdown",
      "source": [
        "## Ejercicio 10\n",
        "\n",
        "Se ha realizado un análisis químico a tres tipos distintos de vinos producidos en una misma región de Italia.\n",
        "El número de muestras considerado es el siguiente:\n",
        "\n",
        "<p align=\"center\">\n",
        "Tipo 1 ➔ 59 muestras, Tipo 2 ➔ 71 muestras, Tipo 3 ➔48 muestras\n",
        "</p>\n",
        "\n",
        "El archivo **Vinos.csv** permite observar los resultados de este análisis. Cada fila representa una muestra distinta y está formada, en primer lugar, por el número del tipo al cual pertenece el vino analizado seguido por los 13 atributos que lo caracterizan.\n",
        "Por ejemplo, la siguiente fila:\n",
        "<p align=\"center\">\n",
        "<strong> 2, 12.29, 3.17, 2.21, 18, 88, 2.85, 2.99, 0.45, 2.81, 2.3, 1.42, 2.83, 406 </strong>\n",
        "</p>\n",
        "\n",
        "es el resultado del análisis de un vino correspondiente al tipo 2 (1er. valor de la fila) seguido por 13 valores\n",
        "separados por comas que indican los niveles de las mediciones realizadas a dicho vino.\n",
        "\n",
        "<ol type=\"a\">\n",
        "  <li>Entrene una red neuronal formada por una única neurona para clasificar los vinos de Tipo 1</li>\n",
        "</ol>\n",
        "\n",
        "Realice 30 ejecuciones independientes utilizando el 50%, 60%, 70%, 80% y 90% de los ejemplos como entrenamiento y el resto como testeo. Para cada porcentaje, indique la cantidad promedio de ejemplos correctamente clasificados en entrenamiento y en testeo. Calcule también el promedio y el desvío de la cantidad de iteraciones realizadas.\n",
        "\n",
        "Utilice un máximo de 400 iteraciones y velocidades de aprendizaje 0.1, 0.2 y 0.3.\n",
        "Analice los resultados obtenidos utilizando:\n",
        "\n",
        "<ol type=\"i\">\n",
        "<li>Función de activación ‘sigmoid’ y función de costo ‘ECM’ (error cuadrático medio)</li>\n",
        "<li>Función de activación ‘sigmoid’ y función de costo ‘EC_binaria’ (entropía cruzada binaria)</li>\n",
        "<li>Función de activación ‘tanh’ y función de costo ‘ECM’ (error cuadrático medio)</li>\n",
        "</ol>"
      ],
      "metadata": {
        "id": "TpjTIX9D61lF"
      }
    },
    {
      "cell_type": "code",
      "source": [
        "vinos = pd.read_csv('/content/drive/MyDrive/DeepLearning-colab/Datos-20240901/Vinos.csv', delimiter= ';')"
      ],
      "metadata": {
        "id": "Jy_WypS4NeG1"
      },
      "execution_count": null,
      "outputs": []
    },
    {
      "cell_type": "code",
      "source": [
        "vinos.head()"
      ],
      "metadata": {
        "colab": {
          "base_uri": "https://localhost:8080/",
          "height": 224
        },
        "id": "YpTjp1aQNcgn",
        "outputId": "8f3ecab6-87a7-4101-ac17-e42125222df5"
      },
      "execution_count": null,
      "outputs": [
        {
          "output_type": "execute_result",
          "data": {
            "text/plain": [
              "   Class  Alcohol  Malic acid   Ash  Alcalinity of ash  Magnesium  \\\n",
              "0      1    14.23        1.71  2.43               15.6        127   \n",
              "1      1    13.20        1.78  2.14               11.2        100   \n",
              "2      1    13.16        2.36  2.67               18.6        101   \n",
              "3      1    14.37        1.95  2.50               16.8        113   \n",
              "4      1    13.24        2.59  2.87               21.0        118   \n",
              "\n",
              "   Total phenols  Flavanoids  Nonflavanoid phenols  Proanthocyanins  \\\n",
              "0           2.80        3.06                  0.28             2.29   \n",
              "1           2.65        2.76                  0.26             1.28   \n",
              "2           2.80        3.24                  0.30             2.81   \n",
              "3           3.85        3.49                  0.24             2.18   \n",
              "4           2.80        2.69                  0.39             1.82   \n",
              "\n",
              "   Color intensity   Hue  OD280/OD315  Proline  \n",
              "0             5.64  1.04         3.92     1065  \n",
              "1             4.38  1.05         3.40     1050  \n",
              "2             5.68  1.03         3.17     1185  \n",
              "3             7.80  0.86         3.45     1480  \n",
              "4             4.32  1.04         2.93      735  "
            ],
            "text/html": [
              "\n",
              "  <div id=\"df-a072cd9d-8876-4095-8879-4a0550efa0f6\" class=\"colab-df-container\">\n",
              "    <div>\n",
              "<style scoped>\n",
              "    .dataframe tbody tr th:only-of-type {\n",
              "        vertical-align: middle;\n",
              "    }\n",
              "\n",
              "    .dataframe tbody tr th {\n",
              "        vertical-align: top;\n",
              "    }\n",
              "\n",
              "    .dataframe thead th {\n",
              "        text-align: right;\n",
              "    }\n",
              "</style>\n",
              "<table border=\"1\" class=\"dataframe\">\n",
              "  <thead>\n",
              "    <tr style=\"text-align: right;\">\n",
              "      <th></th>\n",
              "      <th>Class</th>\n",
              "      <th>Alcohol</th>\n",
              "      <th>Malic acid</th>\n",
              "      <th>Ash</th>\n",
              "      <th>Alcalinity of ash</th>\n",
              "      <th>Magnesium</th>\n",
              "      <th>Total phenols</th>\n",
              "      <th>Flavanoids</th>\n",
              "      <th>Nonflavanoid phenols</th>\n",
              "      <th>Proanthocyanins</th>\n",
              "      <th>Color intensity</th>\n",
              "      <th>Hue</th>\n",
              "      <th>OD280/OD315</th>\n",
              "      <th>Proline</th>\n",
              "    </tr>\n",
              "  </thead>\n",
              "  <tbody>\n",
              "    <tr>\n",
              "      <th>0</th>\n",
              "      <td>1</td>\n",
              "      <td>14.23</td>\n",
              "      <td>1.71</td>\n",
              "      <td>2.43</td>\n",
              "      <td>15.6</td>\n",
              "      <td>127</td>\n",
              "      <td>2.80</td>\n",
              "      <td>3.06</td>\n",
              "      <td>0.28</td>\n",
              "      <td>2.29</td>\n",
              "      <td>5.64</td>\n",
              "      <td>1.04</td>\n",
              "      <td>3.92</td>\n",
              "      <td>1065</td>\n",
              "    </tr>\n",
              "    <tr>\n",
              "      <th>1</th>\n",
              "      <td>1</td>\n",
              "      <td>13.20</td>\n",
              "      <td>1.78</td>\n",
              "      <td>2.14</td>\n",
              "      <td>11.2</td>\n",
              "      <td>100</td>\n",
              "      <td>2.65</td>\n",
              "      <td>2.76</td>\n",
              "      <td>0.26</td>\n",
              "      <td>1.28</td>\n",
              "      <td>4.38</td>\n",
              "      <td>1.05</td>\n",
              "      <td>3.40</td>\n",
              "      <td>1050</td>\n",
              "    </tr>\n",
              "    <tr>\n",
              "      <th>2</th>\n",
              "      <td>1</td>\n",
              "      <td>13.16</td>\n",
              "      <td>2.36</td>\n",
              "      <td>2.67</td>\n",
              "      <td>18.6</td>\n",
              "      <td>101</td>\n",
              "      <td>2.80</td>\n",
              "      <td>3.24</td>\n",
              "      <td>0.30</td>\n",
              "      <td>2.81</td>\n",
              "      <td>5.68</td>\n",
              "      <td>1.03</td>\n",
              "      <td>3.17</td>\n",
              "      <td>1185</td>\n",
              "    </tr>\n",
              "    <tr>\n",
              "      <th>3</th>\n",
              "      <td>1</td>\n",
              "      <td>14.37</td>\n",
              "      <td>1.95</td>\n",
              "      <td>2.50</td>\n",
              "      <td>16.8</td>\n",
              "      <td>113</td>\n",
              "      <td>3.85</td>\n",
              "      <td>3.49</td>\n",
              "      <td>0.24</td>\n",
              "      <td>2.18</td>\n",
              "      <td>7.80</td>\n",
              "      <td>0.86</td>\n",
              "      <td>3.45</td>\n",
              "      <td>1480</td>\n",
              "    </tr>\n",
              "    <tr>\n",
              "      <th>4</th>\n",
              "      <td>1</td>\n",
              "      <td>13.24</td>\n",
              "      <td>2.59</td>\n",
              "      <td>2.87</td>\n",
              "      <td>21.0</td>\n",
              "      <td>118</td>\n",
              "      <td>2.80</td>\n",
              "      <td>2.69</td>\n",
              "      <td>0.39</td>\n",
              "      <td>1.82</td>\n",
              "      <td>4.32</td>\n",
              "      <td>1.04</td>\n",
              "      <td>2.93</td>\n",
              "      <td>735</td>\n",
              "    </tr>\n",
              "  </tbody>\n",
              "</table>\n",
              "</div>\n",
              "    <div class=\"colab-df-buttons\">\n",
              "\n",
              "  <div class=\"colab-df-container\">\n",
              "    <button class=\"colab-df-convert\" onclick=\"convertToInteractive('df-a072cd9d-8876-4095-8879-4a0550efa0f6')\"\n",
              "            title=\"Convert this dataframe to an interactive table.\"\n",
              "            style=\"display:none;\">\n",
              "\n",
              "  <svg xmlns=\"http://www.w3.org/2000/svg\" height=\"24px\" viewBox=\"0 -960 960 960\">\n",
              "    <path d=\"M120-120v-720h720v720H120Zm60-500h600v-160H180v160Zm220 220h160v-160H400v160Zm0 220h160v-160H400v160ZM180-400h160v-160H180v160Zm440 0h160v-160H620v160ZM180-180h160v-160H180v160Zm440 0h160v-160H620v160Z\"/>\n",
              "  </svg>\n",
              "    </button>\n",
              "\n",
              "  <style>\n",
              "    .colab-df-container {\n",
              "      display:flex;\n",
              "      gap: 12px;\n",
              "    }\n",
              "\n",
              "    .colab-df-convert {\n",
              "      background-color: #E8F0FE;\n",
              "      border: none;\n",
              "      border-radius: 50%;\n",
              "      cursor: pointer;\n",
              "      display: none;\n",
              "      fill: #1967D2;\n",
              "      height: 32px;\n",
              "      padding: 0 0 0 0;\n",
              "      width: 32px;\n",
              "    }\n",
              "\n",
              "    .colab-df-convert:hover {\n",
              "      background-color: #E2EBFA;\n",
              "      box-shadow: 0px 1px 2px rgba(60, 64, 67, 0.3), 0px 1px 3px 1px rgba(60, 64, 67, 0.15);\n",
              "      fill: #174EA6;\n",
              "    }\n",
              "\n",
              "    .colab-df-buttons div {\n",
              "      margin-bottom: 4px;\n",
              "    }\n",
              "\n",
              "    [theme=dark] .colab-df-convert {\n",
              "      background-color: #3B4455;\n",
              "      fill: #D2E3FC;\n",
              "    }\n",
              "\n",
              "    [theme=dark] .colab-df-convert:hover {\n",
              "      background-color: #434B5C;\n",
              "      box-shadow: 0px 1px 3px 1px rgba(0, 0, 0, 0.15);\n",
              "      filter: drop-shadow(0px 1px 2px rgba(0, 0, 0, 0.3));\n",
              "      fill: #FFFFFF;\n",
              "    }\n",
              "  </style>\n",
              "\n",
              "    <script>\n",
              "      const buttonEl =\n",
              "        document.querySelector('#df-a072cd9d-8876-4095-8879-4a0550efa0f6 button.colab-df-convert');\n",
              "      buttonEl.style.display =\n",
              "        google.colab.kernel.accessAllowed ? 'block' : 'none';\n",
              "\n",
              "      async function convertToInteractive(key) {\n",
              "        const element = document.querySelector('#df-a072cd9d-8876-4095-8879-4a0550efa0f6');\n",
              "        const dataTable =\n",
              "          await google.colab.kernel.invokeFunction('convertToInteractive',\n",
              "                                                    [key], {});\n",
              "        if (!dataTable) return;\n",
              "\n",
              "        const docLinkHtml = 'Like what you see? Visit the ' +\n",
              "          '<a target=\"_blank\" href=https://colab.research.google.com/notebooks/data_table.ipynb>data table notebook</a>'\n",
              "          + ' to learn more about interactive tables.';\n",
              "        element.innerHTML = '';\n",
              "        dataTable['output_type'] = 'display_data';\n",
              "        await google.colab.output.renderOutput(dataTable, element);\n",
              "        const docLink = document.createElement('div');\n",
              "        docLink.innerHTML = docLinkHtml;\n",
              "        element.appendChild(docLink);\n",
              "      }\n",
              "    </script>\n",
              "  </div>\n",
              "\n",
              "\n",
              "<div id=\"df-411f5718-0f9f-4edb-9733-ee80882808cd\">\n",
              "  <button class=\"colab-df-quickchart\" onclick=\"quickchart('df-411f5718-0f9f-4edb-9733-ee80882808cd')\"\n",
              "            title=\"Suggest charts\"\n",
              "            style=\"display:none;\">\n",
              "\n",
              "<svg xmlns=\"http://www.w3.org/2000/svg\" height=\"24px\"viewBox=\"0 0 24 24\"\n",
              "     width=\"24px\">\n",
              "    <g>\n",
              "        <path d=\"M19 3H5c-1.1 0-2 .9-2 2v14c0 1.1.9 2 2 2h14c1.1 0 2-.9 2-2V5c0-1.1-.9-2-2-2zM9 17H7v-7h2v7zm4 0h-2V7h2v10zm4 0h-2v-4h2v4z\"/>\n",
              "    </g>\n",
              "</svg>\n",
              "  </button>\n",
              "\n",
              "<style>\n",
              "  .colab-df-quickchart {\n",
              "      --bg-color: #E8F0FE;\n",
              "      --fill-color: #1967D2;\n",
              "      --hover-bg-color: #E2EBFA;\n",
              "      --hover-fill-color: #174EA6;\n",
              "      --disabled-fill-color: #AAA;\n",
              "      --disabled-bg-color: #DDD;\n",
              "  }\n",
              "\n",
              "  [theme=dark] .colab-df-quickchart {\n",
              "      --bg-color: #3B4455;\n",
              "      --fill-color: #D2E3FC;\n",
              "      --hover-bg-color: #434B5C;\n",
              "      --hover-fill-color: #FFFFFF;\n",
              "      --disabled-bg-color: #3B4455;\n",
              "      --disabled-fill-color: #666;\n",
              "  }\n",
              "\n",
              "  .colab-df-quickchart {\n",
              "    background-color: var(--bg-color);\n",
              "    border: none;\n",
              "    border-radius: 50%;\n",
              "    cursor: pointer;\n",
              "    display: none;\n",
              "    fill: var(--fill-color);\n",
              "    height: 32px;\n",
              "    padding: 0;\n",
              "    width: 32px;\n",
              "  }\n",
              "\n",
              "  .colab-df-quickchart:hover {\n",
              "    background-color: var(--hover-bg-color);\n",
              "    box-shadow: 0 1px 2px rgba(60, 64, 67, 0.3), 0 1px 3px 1px rgba(60, 64, 67, 0.15);\n",
              "    fill: var(--button-hover-fill-color);\n",
              "  }\n",
              "\n",
              "  .colab-df-quickchart-complete:disabled,\n",
              "  .colab-df-quickchart-complete:disabled:hover {\n",
              "    background-color: var(--disabled-bg-color);\n",
              "    fill: var(--disabled-fill-color);\n",
              "    box-shadow: none;\n",
              "  }\n",
              "\n",
              "  .colab-df-spinner {\n",
              "    border: 2px solid var(--fill-color);\n",
              "    border-color: transparent;\n",
              "    border-bottom-color: var(--fill-color);\n",
              "    animation:\n",
              "      spin 1s steps(1) infinite;\n",
              "  }\n",
              "\n",
              "  @keyframes spin {\n",
              "    0% {\n",
              "      border-color: transparent;\n",
              "      border-bottom-color: var(--fill-color);\n",
              "      border-left-color: var(--fill-color);\n",
              "    }\n",
              "    20% {\n",
              "      border-color: transparent;\n",
              "      border-left-color: var(--fill-color);\n",
              "      border-top-color: var(--fill-color);\n",
              "    }\n",
              "    30% {\n",
              "      border-color: transparent;\n",
              "      border-left-color: var(--fill-color);\n",
              "      border-top-color: var(--fill-color);\n",
              "      border-right-color: var(--fill-color);\n",
              "    }\n",
              "    40% {\n",
              "      border-color: transparent;\n",
              "      border-right-color: var(--fill-color);\n",
              "      border-top-color: var(--fill-color);\n",
              "    }\n",
              "    60% {\n",
              "      border-color: transparent;\n",
              "      border-right-color: var(--fill-color);\n",
              "    }\n",
              "    80% {\n",
              "      border-color: transparent;\n",
              "      border-right-color: var(--fill-color);\n",
              "      border-bottom-color: var(--fill-color);\n",
              "    }\n",
              "    90% {\n",
              "      border-color: transparent;\n",
              "      border-bottom-color: var(--fill-color);\n",
              "    }\n",
              "  }\n",
              "</style>\n",
              "\n",
              "  <script>\n",
              "    async function quickchart(key) {\n",
              "      const quickchartButtonEl =\n",
              "        document.querySelector('#' + key + ' button');\n",
              "      quickchartButtonEl.disabled = true;  // To prevent multiple clicks.\n",
              "      quickchartButtonEl.classList.add('colab-df-spinner');\n",
              "      try {\n",
              "        const charts = await google.colab.kernel.invokeFunction(\n",
              "            'suggestCharts', [key], {});\n",
              "      } catch (error) {\n",
              "        console.error('Error during call to suggestCharts:', error);\n",
              "      }\n",
              "      quickchartButtonEl.classList.remove('colab-df-spinner');\n",
              "      quickchartButtonEl.classList.add('colab-df-quickchart-complete');\n",
              "    }\n",
              "    (() => {\n",
              "      let quickchartButtonEl =\n",
              "        document.querySelector('#df-411f5718-0f9f-4edb-9733-ee80882808cd button');\n",
              "      quickchartButtonEl.style.display =\n",
              "        google.colab.kernel.accessAllowed ? 'block' : 'none';\n",
              "    })();\n",
              "  </script>\n",
              "</div>\n",
              "\n",
              "    </div>\n",
              "  </div>\n"
            ],
            "application/vnd.google.colaboratory.intrinsic+json": {
              "type": "dataframe",
              "variable_name": "vinos",
              "summary": "{\n  \"name\": \"vinos\",\n  \"rows\": 178,\n  \"fields\": [\n    {\n      \"column\": \"Class\",\n      \"properties\": {\n        \"dtype\": \"number\",\n        \"std\": 0,\n        \"min\": 1,\n        \"max\": 3,\n        \"num_unique_values\": 3,\n        \"samples\": [\n          1,\n          2,\n          3\n        ],\n        \"semantic_type\": \"\",\n        \"description\": \"\"\n      }\n    },\n    {\n      \"column\": \"Alcohol\",\n      \"properties\": {\n        \"dtype\": \"number\",\n        \"std\": 0.8118265380058575,\n        \"min\": 11.03,\n        \"max\": 14.83,\n        \"num_unique_values\": 126,\n        \"samples\": [\n          11.62,\n          13.64,\n          13.69\n        ],\n        \"semantic_type\": \"\",\n        \"description\": \"\"\n      }\n    },\n    {\n      \"column\": \"Malic acid\",\n      \"properties\": {\n        \"dtype\": \"number\",\n        \"std\": 1.1171460976144627,\n        \"min\": 0.74,\n        \"max\": 5.8,\n        \"num_unique_values\": 133,\n        \"samples\": [\n          1.21,\n          2.83,\n          1.8\n        ],\n        \"semantic_type\": \"\",\n        \"description\": \"\"\n      }\n    },\n    {\n      \"column\": \"Ash\",\n      \"properties\": {\n        \"dtype\": \"number\",\n        \"std\": 0.27434400906081485,\n        \"min\": 1.36,\n        \"max\": 3.23,\n        \"num_unique_values\": 79,\n        \"samples\": [\n          2.31,\n          2.43,\n          2.52\n        ],\n        \"semantic_type\": \"\",\n        \"description\": \"\"\n      }\n    },\n    {\n      \"column\": \"Alcalinity of ash\",\n      \"properties\": {\n        \"dtype\": \"number\",\n        \"std\": 3.339563767173505,\n        \"min\": 10.6,\n        \"max\": 30.0,\n        \"num_unique_values\": 63,\n        \"samples\": [\n          25.5,\n          28.5,\n          15.6\n        ],\n        \"semantic_type\": \"\",\n        \"description\": \"\"\n      }\n    },\n    {\n      \"column\": \"Magnesium\",\n      \"properties\": {\n        \"dtype\": \"number\",\n        \"std\": 14,\n        \"min\": 70,\n        \"max\": 162,\n        \"num_unique_values\": 53,\n        \"samples\": [\n          126,\n          85,\n          162\n        ],\n        \"semantic_type\": \"\",\n        \"description\": \"\"\n      }\n    },\n    {\n      \"column\": \"Total phenols\",\n      \"properties\": {\n        \"dtype\": \"number\",\n        \"std\": 0.6258510488339893,\n        \"min\": 0.98,\n        \"max\": 3.88,\n        \"num_unique_values\": 97,\n        \"samples\": [\n          1.68,\n          2.11,\n          1.35\n        ],\n        \"semantic_type\": \"\",\n        \"description\": \"\"\n      }\n    },\n    {\n      \"column\": \"Flavanoids\",\n      \"properties\": {\n        \"dtype\": \"number\",\n        \"std\": 0.9988586850169466,\n        \"min\": 0.34,\n        \"max\": 5.08,\n        \"num_unique_values\": 132,\n        \"samples\": [\n          3.18,\n          2.5,\n          3.17\n        ],\n        \"semantic_type\": \"\",\n        \"description\": \"\"\n      }\n    },\n    {\n      \"column\": \"Nonflavanoid phenols\",\n      \"properties\": {\n        \"dtype\": \"number\",\n        \"std\": 0.12445334029667937,\n        \"min\": 0.13,\n        \"max\": 0.66,\n        \"num_unique_values\": 39,\n        \"samples\": [\n          0.58,\n          0.41,\n          0.39\n        ],\n        \"semantic_type\": \"\",\n        \"description\": \"\"\n      }\n    },\n    {\n      \"column\": \"Proanthocyanins\",\n      \"properties\": {\n        \"dtype\": \"number\",\n        \"std\": 0.5723588626747613,\n        \"min\": 0.41,\n        \"max\": 3.58,\n        \"num_unique_values\": 101,\n        \"samples\": [\n          0.64,\n          1.77,\n          1.42\n        ],\n        \"semantic_type\": \"\",\n        \"description\": \"\"\n      }\n    },\n    {\n      \"column\": \"Color intensity\",\n      \"properties\": {\n        \"dtype\": \"number\",\n        \"std\": 2.3181680032975884,\n        \"min\": 1.28,\n        \"max\": 13.0,\n        \"num_unique_values\": 132,\n        \"samples\": [\n          2.95,\n          3.3,\n          5.1\n        ],\n        \"semantic_type\": \"\",\n        \"description\": \"\"\n      }\n    },\n    {\n      \"column\": \"Hue\",\n      \"properties\": {\n        \"dtype\": \"number\",\n        \"std\": 0.2285715658298234,\n        \"min\": 0.48,\n        \"max\": 1.71,\n        \"num_unique_values\": 78,\n        \"samples\": [\n          1.22,\n          1.04,\n          1.45\n        ],\n        \"semantic_type\": \"\",\n        \"description\": \"\"\n      }\n    },\n    {\n      \"column\": \"OD280/OD315\",\n      \"properties\": {\n        \"dtype\": \"number\",\n        \"std\": 0.7099904287650504,\n        \"min\": 1.27,\n        \"max\": 4.0,\n        \"num_unique_values\": 122,\n        \"samples\": [\n          4.0,\n          1.82,\n          1.59\n        ],\n        \"semantic_type\": \"\",\n        \"description\": \"\"\n      }\n    },\n    {\n      \"column\": \"Proline\",\n      \"properties\": {\n        \"dtype\": \"number\",\n        \"std\": 314,\n        \"min\": 278,\n        \"max\": 1680,\n        \"num_unique_values\": 121,\n        \"samples\": [\n          1375,\n          1270,\n          735\n        ],\n        \"semantic_type\": \"\",\n        \"description\": \"\"\n      }\n    }\n  ]\n}"
            }
          },
          "metadata": {},
          "execution_count": 11
        }
      ]
    },
    {
      "cell_type": "code",
      "source": [
        "vinos.isnull().sum()"
      ],
      "metadata": {
        "colab": {
          "base_uri": "https://localhost:8080/",
          "height": 523
        },
        "id": "3EnxaEdQPUuy",
        "outputId": "f5776032-4c30-4074-bf28-bcc93ad61b4a"
      },
      "execution_count": null,
      "outputs": [
        {
          "output_type": "execute_result",
          "data": {
            "text/plain": [
              "Class                   0\n",
              "Alcohol                 0\n",
              "Malic acid              0\n",
              "Ash                     0\n",
              "Alcalinity of ash       0\n",
              "Magnesium               0\n",
              "Total phenols           0\n",
              "Flavanoids              0\n",
              "Nonflavanoid phenols    0\n",
              "Proanthocyanins         0\n",
              "Color intensity         0\n",
              "Hue                     0\n",
              "OD280/OD315             0\n",
              "Proline                 0\n",
              "dtype: int64"
            ],
            "text/html": [
              "<div>\n",
              "<style scoped>\n",
              "    .dataframe tbody tr th:only-of-type {\n",
              "        vertical-align: middle;\n",
              "    }\n",
              "\n",
              "    .dataframe tbody tr th {\n",
              "        vertical-align: top;\n",
              "    }\n",
              "\n",
              "    .dataframe thead th {\n",
              "        text-align: right;\n",
              "    }\n",
              "</style>\n",
              "<table border=\"1\" class=\"dataframe\">\n",
              "  <thead>\n",
              "    <tr style=\"text-align: right;\">\n",
              "      <th></th>\n",
              "      <th>0</th>\n",
              "    </tr>\n",
              "  </thead>\n",
              "  <tbody>\n",
              "    <tr>\n",
              "      <th>Class</th>\n",
              "      <td>0</td>\n",
              "    </tr>\n",
              "    <tr>\n",
              "      <th>Alcohol</th>\n",
              "      <td>0</td>\n",
              "    </tr>\n",
              "    <tr>\n",
              "      <th>Malic acid</th>\n",
              "      <td>0</td>\n",
              "    </tr>\n",
              "    <tr>\n",
              "      <th>Ash</th>\n",
              "      <td>0</td>\n",
              "    </tr>\n",
              "    <tr>\n",
              "      <th>Alcalinity of ash</th>\n",
              "      <td>0</td>\n",
              "    </tr>\n",
              "    <tr>\n",
              "      <th>Magnesium</th>\n",
              "      <td>0</td>\n",
              "    </tr>\n",
              "    <tr>\n",
              "      <th>Total phenols</th>\n",
              "      <td>0</td>\n",
              "    </tr>\n",
              "    <tr>\n",
              "      <th>Flavanoids</th>\n",
              "      <td>0</td>\n",
              "    </tr>\n",
              "    <tr>\n",
              "      <th>Nonflavanoid phenols</th>\n",
              "      <td>0</td>\n",
              "    </tr>\n",
              "    <tr>\n",
              "      <th>Proanthocyanins</th>\n",
              "      <td>0</td>\n",
              "    </tr>\n",
              "    <tr>\n",
              "      <th>Color intensity</th>\n",
              "      <td>0</td>\n",
              "    </tr>\n",
              "    <tr>\n",
              "      <th>Hue</th>\n",
              "      <td>0</td>\n",
              "    </tr>\n",
              "    <tr>\n",
              "      <th>OD280/OD315</th>\n",
              "      <td>0</td>\n",
              "    </tr>\n",
              "    <tr>\n",
              "      <th>Proline</th>\n",
              "      <td>0</td>\n",
              "    </tr>\n",
              "  </tbody>\n",
              "</table>\n",
              "</div><br><label><b>dtype:</b> int64</label>"
            ]
          },
          "metadata": {},
          "execution_count": 28
        }
      ]
    },
    {
      "cell_type": "code",
      "source": [
        "vinos.shape"
      ],
      "metadata": {
        "colab": {
          "base_uri": "https://localhost:8080/"
        },
        "id": "d9c7HfhRY_kB",
        "outputId": "9fbb3fd1-2de0-4ae1-80b2-4c7adb4b6601"
      },
      "execution_count": null,
      "outputs": [
        {
          "output_type": "execute_result",
          "data": {
            "text/plain": [
              "(178, 14)"
            ]
          },
          "metadata": {},
          "execution_count": 29
        }
      ]
    },
    {
      "cell_type": "markdown",
      "source": [
        "### Función"
      ],
      "metadata": {
        "id": "JcfpSit0Pxu_"
      }
    },
    {
      "cell_type": "code",
      "source": [
        "def ejercicio_10(X, Y, fun_activacion, fun_costo):\n",
        "  porcentajes_test = [0.5, 0.6, 0.7, 0.8, 0.9]\n",
        "  alfas = [0.1, 0.2, 0.3]\n",
        "  iteraciones = 400\n",
        "  cota = 1e-03\n",
        "\n",
        "  for a in alfas:\n",
        "    print(f'*********** Alfa: {a} ***********')\n",
        "    for porcentaje in porcentajes_test:\n",
        "      print(f'Porcentaje test: {porcentaje}')\n",
        "      # cálculos\n",
        "      iter = []\n",
        "      accuracy_test = 0\n",
        "      accuracy_train = 0\n",
        "\n",
        "      for i in range(30):\n",
        "        X_train, X_test, y_train, y_test = train_test_split(X, Y, test_size=porcentaje)\n",
        "\n",
        "        # normalizar\n",
        "        X_train = preprocessing.StandardScaler().fit_transform(X_train)\n",
        "        X_test = preprocessing.StandardScaler().fit_transform(X_test)\n",
        "\n",
        "        if (fun_activacion == 'tanh'):\n",
        "          y_test = y_test.apply(lambda x: 1 if x == 1 else -1)\n",
        "          y_train = y_train.apply(lambda x: 1 if x == 1 else -1)\n",
        "\n",
        "        modelo = NeuronaGradiente(alpha=a, n_iter=iteraciones, cotaE=cota, FUN=fun_activacion, COSTO=fun_costo)\n",
        "\n",
        "        modelo.fit(X_train, y_train)\n",
        "\n",
        "        iter.append(modelo.i_)\n",
        "        accuracy_test += modelo.accuracy(X_test, y_test)\n",
        "        accuracy_train += modelo.accuracy(X_train, y_train)\n",
        "\n",
        "      print(f'Iteraciones: \\n promedio: {np.mean(iter)} \\n desvío: {np.std(iter)}')\n",
        "      print(f'Cantidad promedio de ejemplos correctamente clasificados: \\n Train: {accuracy_train/30} \\n Test: {accuracy_test/30}')\n",
        "      print('-----------------------------------------------------')\n"
      ],
      "metadata": {
        "id": "--zlNLZJP1fa"
      },
      "execution_count": null,
      "outputs": []
    },
    {
      "cell_type": "markdown",
      "source": [],
      "metadata": {
        "id": "W_IvwAV4Xfoy"
      }
    },
    {
      "cell_type": "code",
      "source": [
        "vinos.Class.unique()"
      ],
      "metadata": {
        "colab": {
          "base_uri": "https://localhost:8080/"
        },
        "id": "Sh-QYnGpYGBa",
        "outputId": "102f804f-5a8c-48be-b977-518fb9e24403"
      },
      "execution_count": null,
      "outputs": [
        {
          "output_type": "execute_result",
          "data": {
            "text/plain": [
              "array([1, 2, 3])"
            ]
          },
          "metadata": {},
          "execution_count": 30
        }
      ]
    },
    {
      "cell_type": "code",
      "source": [
        "target = 'Class'\n",
        "X = vinos.drop(target, axis=1)\n",
        "Y = (vinos[target] == 1)*1\n",
        "\n",
        "print(f'X shape: {X.shape} \\nY shape: {Y.shape}')"
      ],
      "metadata": {
        "colab": {
          "base_uri": "https://localhost:8080/"
        },
        "id": "otBWdb8jXeYk",
        "outputId": "214a0609-95ac-45b5-efbd-26733dde994c"
      },
      "execution_count": null,
      "outputs": [
        {
          "output_type": "stream",
          "name": "stdout",
          "text": [
            "X shape: (178, 13) \n",
            "Y shape: (178,)\n"
          ]
        }
      ]
    },
    {
      "cell_type": "markdown",
      "source": [
        "### Sigmoide + ECM"
      ],
      "metadata": {
        "id": "VwyX8bdePd4E"
      }
    },
    {
      "cell_type": "code",
      "source": [
        "ejercicio_10(X, Y,'sigmoid', 'ECM')"
      ],
      "metadata": {
        "colab": {
          "base_uri": "https://localhost:8080/"
        },
        "id": "rQ3UF7DQPc8A",
        "outputId": "68efa77f-ac4f-47dd-8aaa-f585111908f6"
      },
      "execution_count": null,
      "outputs": [
        {
          "output_type": "stream",
          "name": "stdout",
          "text": [
            "*********** Alfa: 0.1 ***********\n",
            "Porcentaje test: 0.5\n",
            "Iteraciones: \n",
            " promedio: 128.06666666666666 \n",
            " desvío: 11.800941582018877\n",
            "Cantidad promedio de ejemplos correctamente clasificados: \n",
            " Train: 1.0 \n",
            " Test: 0.9887640449438205\n",
            "-----------------------------------------------------\n",
            "Porcentaje test: 0.6\n",
            "Iteraciones: \n",
            " promedio: 122.1 \n",
            " desvío: 15.415035949790495\n",
            "Cantidad promedio de ejemplos correctamente clasificados: \n",
            " Train: 1.0 \n",
            " Test: 0.9825545171339568\n",
            "-----------------------------------------------------\n",
            "Porcentaje test: 0.7\n",
            "Iteraciones: \n",
            " promedio: 105.46666666666667 \n",
            " desvío: 14.407713983218235\n",
            "Cantidad promedio de ejemplos correctamente clasificados: \n",
            " Train: 1.0 \n",
            " Test: 0.9736\n",
            "-----------------------------------------------------\n",
            "Porcentaje test: 0.8\n",
            "Iteraciones: \n",
            " promedio: 98.7 \n",
            " desvío: 18.917628463067636\n",
            "Cantidad promedio de ejemplos correctamente clasificados: \n",
            " Train: 1.0 \n",
            " Test: 0.9668997668997668\n",
            "-----------------------------------------------------\n",
            "Porcentaje test: 0.9\n",
            "Iteraciones: \n",
            " promedio: 78.43333333333334 \n",
            " desvío: 16.437119239358484\n",
            "Cantidad promedio de ejemplos correctamente clasificados: \n",
            " Train: 1.0 \n",
            " Test: 0.9428571428571428\n",
            "-----------------------------------------------------\n",
            "*********** Alfa: 0.2 ***********\n",
            "Porcentaje test: 0.5\n",
            "Iteraciones: \n",
            " promedio: 90.83333333333333 \n",
            " desvío: 10.427794056697174\n",
            "Cantidad promedio de ejemplos correctamente clasificados: \n",
            " Train: 1.0 \n",
            " Test: 0.9816479400749066\n",
            "-----------------------------------------------------\n",
            "Porcentaje test: 0.6\n",
            "Iteraciones: \n",
            " promedio: 80.53333333333333 \n",
            " desvío: 7.957107235393749\n",
            "Cantidad promedio de ejemplos correctamente clasificados: \n",
            " Train: 1.0 \n",
            " Test: 0.9725856697819317\n",
            "-----------------------------------------------------\n",
            "Porcentaje test: 0.7\n",
            "Iteraciones: \n",
            " promedio: 76.36666666666666 \n",
            " desvío: 10.79655294784199\n",
            "Cantidad promedio de ejemplos correctamente clasificados: \n",
            " Train: 1.0 \n",
            " Test: 0.9741333333333331\n",
            "-----------------------------------------------------\n",
            "Porcentaje test: 0.8\n",
            "Iteraciones: \n",
            " promedio: 66.06666666666666 \n",
            " desvío: 9.394797614755849\n",
            "Cantidad promedio de ejemplos correctamente clasificados: \n",
            " Train: 1.0 \n",
            " Test: 0.967832167832168\n",
            "-----------------------------------------------------\n",
            "Porcentaje test: 0.9\n",
            "Iteraciones: \n",
            " promedio: 52.06666666666667 \n",
            " desvío: 10.29865147590801\n",
            "Cantidad promedio de ejemplos correctamente clasificados: \n",
            " Train: 1.0 \n",
            " Test: 0.9430641821946169\n",
            "-----------------------------------------------------\n",
            "*********** Alfa: 0.3 ***********\n",
            "Porcentaje test: 0.5\n",
            "Iteraciones: \n",
            " promedio: 73.86666666666666 \n",
            " desvío: 8.196476207628631\n",
            "Cantidad promedio de ejemplos correctamente clasificados: \n",
            " Train: 1.0 \n",
            " Test: 0.9816479400749066\n",
            "-----------------------------------------------------\n",
            "Porcentaje test: 0.6\n",
            "Iteraciones: \n",
            " promedio: 66.6 \n",
            " desvío: 8.565823564219226\n",
            "Cantidad promedio de ejemplos correctamente clasificados: \n",
            " Train: 1.0 \n",
            " Test: 0.9766355140186918\n",
            "-----------------------------------------------------\n",
            "Porcentaje test: 0.7\n",
            "Iteraciones: \n",
            " promedio: 63.4 \n",
            " desvío: 9.562426470305537\n",
            "Cantidad promedio de ejemplos correctamente clasificados: \n",
            " Train: 1.0 \n",
            " Test: 0.9749333333333333\n",
            "-----------------------------------------------------\n",
            "Porcentaje test: 0.8\n",
            "Iteraciones: \n",
            " promedio: 54.06666666666667 \n",
            " desvío: 11.61301951355556\n",
            "Cantidad promedio de ejemplos correctamente clasificados: \n",
            " Train: 1.0 \n",
            " Test: 0.963636363636364\n",
            "-----------------------------------------------------\n",
            "Porcentaje test: 0.9\n",
            "Iteraciones: \n",
            " promedio: 46.63333333333333 \n",
            " desvío: 7.88874021769143\n",
            "Cantidad promedio de ejemplos correctamente clasificados: \n",
            " Train: 1.0 \n",
            " Test: 0.9443064182194617\n",
            "-----------------------------------------------------\n"
          ]
        }
      ]
    },
    {
      "cell_type": "markdown",
      "source": [
        "###Sigmoide + EC_Binaria"
      ],
      "metadata": {
        "id": "h9JCOlIReMPM"
      }
    },
    {
      "cell_type": "code",
      "source": [
        "ejercicio_10(X,Y,'sigmoid','EC_binaria')"
      ],
      "metadata": {
        "colab": {
          "base_uri": "https://localhost:8080/"
        },
        "id": "zfN52U7SeTAB",
        "outputId": "5872e650-36ee-4eba-8b04-60cf8a7c6463"
      },
      "execution_count": null,
      "outputs": [
        {
          "output_type": "stream",
          "name": "stdout",
          "text": [
            "*********** Alfa: 0.1 ***********\n",
            "Porcentaje test: 0.5\n",
            "Iteraciones: \n",
            " promedio: 399.8333333333333 \n",
            " desvío: 0.8975274678557509\n",
            "Cantidad promedio de ejemplos correctamente clasificados: \n",
            " Train: 1.0 \n",
            " Test: 0.9790262172284645\n",
            "-----------------------------------------------------\n",
            "Porcentaje test: 0.6\n",
            "Iteraciones: \n",
            " promedio: 399.8 \n",
            " desvío: 0.9092121131323904\n",
            "Cantidad promedio de ejemplos correctamente clasificados: \n",
            " Train: 1.0 \n",
            " Test: 0.984735202492212\n",
            "-----------------------------------------------------\n",
            "Porcentaje test: 0.7\n",
            "Iteraciones: \n",
            " promedio: 389.06666666666666 \n",
            " desvío: 15.983185609327768\n",
            "Cantidad promedio de ejemplos correctamente clasificados: \n",
            " Train: 1.0 \n",
            " Test: 0.9736\n",
            "-----------------------------------------------------\n",
            "Porcentaje test: 0.8\n",
            "Iteraciones: \n",
            " promedio: 345.9 \n",
            " desvío: 31.753582475053108\n",
            "Cantidad promedio de ejemplos correctamente clasificados: \n",
            " Train: 1.0 \n",
            " Test: 0.9694638694638698\n",
            "-----------------------------------------------------\n",
            "Porcentaje test: 0.9\n",
            "Iteraciones: \n",
            " promedio: 250.3 \n",
            " desvío: 42.00884827430209\n",
            "Cantidad promedio de ejemplos correctamente clasificados: \n",
            " Train: 1.0 \n",
            " Test: 0.9118012422360248\n",
            "-----------------------------------------------------\n",
            "*********** Alfa: 0.2 ***********\n",
            "Porcentaje test: 0.5\n",
            "Iteraciones: \n",
            " promedio: 375.1333333333333 \n",
            " desvío: 18.752303562199735\n",
            "Cantidad promedio de ejemplos correctamente clasificados: \n",
            " Train: 1.0 \n",
            " Test: 0.9891385767790264\n",
            "-----------------------------------------------------\n",
            "Porcentaje test: 0.6\n",
            "Iteraciones: \n",
            " promedio: 347.03333333333336 \n",
            " desvío: 24.34266944185776\n",
            "Cantidad promedio de ejemplos correctamente clasificados: \n",
            " Train: 1.0 \n",
            " Test: 0.980373831775701\n",
            "-----------------------------------------------------\n",
            "Porcentaje test: 0.7\n",
            "Iteraciones: \n",
            " promedio: 314.8333333333333 \n",
            " desvío: 29.76248570861573\n",
            "Cantidad promedio de ejemplos correctamente clasificados: \n",
            " Train: 1.0 \n",
            " Test: 0.9688000000000001\n",
            "-----------------------------------------------------\n",
            "Porcentaje test: 0.8\n",
            "Iteraciones: \n",
            " promedio: 252.66666666666666 \n",
            " desvío: 23.23837821841753\n",
            "Cantidad promedio de ejemplos correctamente clasificados: \n",
            " Train: 1.0 \n",
            " Test: 0.9610722610722614\n",
            "-----------------------------------------------------\n",
            "Porcentaje test: 0.9\n",
            "Iteraciones: \n",
            " promedio: 195.2 \n",
            " desvío: 27.43161193465184\n",
            "Cantidad promedio de ejemplos correctamente clasificados: \n",
            " Train: 1.0 \n",
            " Test: 0.93416149068323\n",
            "-----------------------------------------------------\n",
            "*********** Alfa: 0.3 ***********\n",
            "Porcentaje test: 0.5\n",
            "Iteraciones: \n",
            " promedio: 320.7 \n",
            " desvío: 15.552384597439282\n",
            "Cantidad promedio de ejemplos correctamente clasificados: \n",
            " Train: 1.0 \n",
            " Test: 0.9872659176029964\n",
            "-----------------------------------------------------\n",
            "Porcentaje test: 0.6\n",
            "Iteraciones: \n",
            " promedio: 296.2 \n",
            " desvío: 21.70007680477959\n",
            "Cantidad promedio de ejemplos correctamente clasificados: \n",
            " Train: 1.0 \n",
            " Test: 0.9753894080996887\n",
            "-----------------------------------------------------\n",
            "Porcentaje test: 0.7\n",
            "Iteraciones: \n",
            " promedio: 268.1 \n",
            " desvío: 28.448022778393582\n",
            "Cantidad promedio de ejemplos correctamente clasificados: \n",
            " Train: 1.0 \n",
            " Test: 0.9789333333333333\n",
            "-----------------------------------------------------\n",
            "Porcentaje test: 0.8\n",
            "Iteraciones: \n",
            " promedio: 230.6 \n",
            " desvío: 22.221011078106535\n",
            "Cantidad promedio de ejemplos correctamente clasificados: \n",
            " Train: 1.0 \n",
            " Test: 0.9722610722610726\n",
            "-----------------------------------------------------\n",
            "Porcentaje test: 0.9\n",
            "Iteraciones: \n",
            " promedio: 177.13333333333333 \n",
            " desvío: 26.37768417094689\n",
            "Cantidad promedio de ejemplos correctamente clasificados: \n",
            " Train: 1.0 \n",
            " Test: 0.9354037267080746\n",
            "-----------------------------------------------------\n"
          ]
        }
      ]
    },
    {
      "cell_type": "markdown",
      "source": [
        "###Tanh + ECM"
      ],
      "metadata": {
        "id": "VFH3n5xAfHtq"
      }
    },
    {
      "cell_type": "code",
      "source": [
        "ejercicio_10(X,Y,'tanh','ECM')"
      ],
      "metadata": {
        "colab": {
          "base_uri": "https://localhost:8080/"
        },
        "id": "1tasJBKxfMQt",
        "outputId": "4a13a8b7-490d-4f70-b3b3-1637403ac06c"
      },
      "execution_count": null,
      "outputs": [
        {
          "output_type": "stream",
          "name": "stdout",
          "text": [
            "*********** Alfa: 0.1 ***********\n",
            "Porcentaje test: 0.5\n",
            "Iteraciones: \n",
            " promedio: 58.4 \n",
            " desvío: 7.24154679609267\n",
            "Cantidad promedio de ejemplos correctamente clasificados: \n",
            " Train: 1.0 \n",
            " Test: 0.9760299625468165\n",
            "-----------------------------------------------------\n",
            "Porcentaje test: 0.6\n",
            "Iteraciones: \n",
            " promedio: 55.233333333333334 \n",
            " desvío: 7.614386967372283\n",
            "Cantidad promedio de ejemplos correctamente clasificados: \n",
            " Train: 0.9995305164319249 \n",
            " Test: 0.9828660436137074\n",
            "-----------------------------------------------------\n",
            "Porcentaje test: 0.7\n",
            "Iteraciones: \n",
            " promedio: 50.5 \n",
            " desvío: 8.180260794538684\n",
            "Cantidad promedio de ejemplos correctamente clasificados: \n",
            " Train: 0.9993710691823899 \n",
            " Test: 0.9738666666666667\n",
            "-----------------------------------------------------\n",
            "Porcentaje test: 0.8\n",
            "Iteraciones: \n",
            " promedio: 42.06666666666667 \n",
            " desvío: 8.22570496809983\n",
            "Cantidad promedio de ejemplos correctamente clasificados: \n",
            " Train: 1.0 \n",
            " Test: 0.9706293706293707\n",
            "-----------------------------------------------------\n",
            "Porcentaje test: 0.9\n",
            "Iteraciones: \n",
            " promedio: 32.86666666666667 \n",
            " desvío: 7.508809640830044\n",
            "Cantidad promedio de ejemplos correctamente clasificados: \n",
            " Train: 0.9980392156862745 \n",
            " Test: 0.9403726708074537\n",
            "-----------------------------------------------------\n",
            "*********** Alfa: 0.2 ***********\n",
            "Porcentaje test: 0.5\n",
            "Iteraciones: \n",
            " promedio: 27.7 \n",
            " desvío: 6.314797436709009\n",
            "Cantidad promedio de ejemplos correctamente clasificados: \n",
            " Train: 1.0 \n",
            " Test: 0.9857677902621725\n",
            "-----------------------------------------------------\n",
            "Porcentaje test: 0.6\n",
            "Iteraciones: \n",
            " promedio: 27.233333333333334 \n",
            " desvío: 6.322886120189804\n",
            "Cantidad promedio de ejemplos correctamente clasificados: \n",
            " Train: 0.9995305164319249 \n",
            " Test: 0.9794392523364487\n",
            "-----------------------------------------------------\n",
            "Porcentaje test: 0.7\n",
            "Iteraciones: \n",
            " promedio: 27.233333333333334 \n",
            " desvío: 8.175913132828379\n",
            "Cantidad promedio de ejemplos correctamente clasificados: \n",
            " Train: 1.0 \n",
            " Test: 0.9669333333333332\n",
            "-----------------------------------------------------\n",
            "Porcentaje test: 0.8\n",
            "Iteraciones: \n",
            " promedio: 20.1 \n",
            " desvío: 5.412023651093923\n",
            "Cantidad promedio de ejemplos correctamente clasificados: \n",
            " Train: 1.0 \n",
            " Test: 0.9571095571095571\n",
            "-----------------------------------------------------\n",
            "Porcentaje test: 0.9\n",
            "Iteraciones: \n",
            " promedio: 16.566666666666666 \n",
            " desvío: 4.386975673007037\n",
            "Cantidad promedio de ejemplos correctamente clasificados: \n",
            " Train: 0.9980392156862745 \n",
            " Test: 0.931262939958592\n",
            "-----------------------------------------------------\n",
            "*********** Alfa: 0.3 ***********\n",
            "Porcentaje test: 0.5\n",
            "Iteraciones: \n",
            " promedio: 18.466666666666665 \n",
            " desvío: 4.48503685108111\n",
            "Cantidad promedio de ejemplos correctamente clasificados: \n",
            " Train: 1.0 \n",
            " Test: 0.9797752808988764\n",
            "-----------------------------------------------------\n",
            "Porcentaje test: 0.6\n",
            "Iteraciones: \n",
            " promedio: 17.433333333333334 \n",
            " desvío: 5.339683719306063\n",
            "Cantidad promedio de ejemplos correctamente clasificados: \n",
            " Train: 0.9995305164319249 \n",
            " Test: 0.9757009345794394\n",
            "-----------------------------------------------------\n",
            "Porcentaje test: 0.7\n",
            "Iteraciones: \n",
            " promedio: 14.966666666666667 \n",
            " desvío: 4.520201568760205\n",
            "Cantidad promedio de ejemplos correctamente clasificados: \n",
            " Train: 1.0 \n",
            " Test: 0.9690666666666667\n",
            "-----------------------------------------------------\n",
            "Porcentaje test: 0.8\n",
            "Iteraciones: \n",
            " promedio: 12.333333333333334 \n",
            " desvío: 3.952495695408437\n",
            "Cantidad promedio de ejemplos correctamente clasificados: \n",
            " Train: 0.9990476190476191 \n",
            " Test: 0.9657342657342658\n",
            "-----------------------------------------------------\n",
            "Porcentaje test: 0.9\n",
            "Iteraciones: \n",
            " promedio: 12.766666666666667 \n",
            " desvío: 7.209638610144679\n",
            "Cantidad promedio de ejemplos correctamente clasificados: \n",
            " Train: 0.9980392156862745 \n",
            " Test: 0.9341614906832297\n",
            "-----------------------------------------------------\n"
          ]
        }
      ]
    },
    {
      "cell_type": "markdown",
      "source": [
        "# Regresión Logística multiclase"
      ],
      "metadata": {
        "id": "a4NiuPVwH1tR"
      }
    },
    {
      "cell_type": "markdown",
      "source": [
        "## Ejercicio 11\n",
        "\n",
        "Se busca predecir si el tipo de fármaco que se debe administrar a un paciente afectado de rinitis alérgica es el habitual o no. Se dispone de información correspondiente a las historias clínicas de pacientes atendidos previamente\n",
        "\n",
        "<ol type=\"a\">\n",
        "<li> Numerice los atributos nominales y utilice el archivo <strong>Drug_train.csv</strong> para entrenar un modelo con 5 neuronas que sea capaz de predecir el tipo de fármaco que se debe administrar a un paciente afectado de rinitis alérgica.\n",
        "</li>\n",
        "<li>Luego utilice el archivo <strong>Drug_test.csv</strong> para medir la calidad del modelo.\n",
        "</li>\n",
        "</ol>"
      ],
      "metadata": {
        "id": "jo48z5nQGkxB"
      }
    },
    {
      "cell_type": "code",
      "source": [
        "drug_train= pd.read_csv('')\n",
        "drug_test= pd.read_csv('')"
      ],
      "metadata": {
        "id": "qRBa4jSAMrkT"
      },
      "execution_count": null,
      "outputs": []
    },
    {
      "cell_type": "code",
      "source": [],
      "metadata": {
        "id": "9H7PedV7M3j4"
      },
      "execution_count": null,
      "outputs": []
    },
    {
      "cell_type": "markdown",
      "source": [
        "## Ejercicio 12\n",
        "\n",
        "Utilice una red neuronal formada por una única capa de salida de 3 neuronas para clasificar las muestras de vino del archivo Vinos.csv descripto en el ejercicio anterior.\n",
        "\n",
        "Realice 30 ejecuciones independientes utilizando el 60% y 80% de los ejemplos como entrenamiento y el resto como testeo.\n",
        "\n",
        "Utilice un máximo de 400 iteraciones y velocidades de aprendizaje 0.1, 0.2 y 0.3.\n",
        "Complete la siguiente tabla con los resultados de las siguientes configuraciones:\n",
        "<ol type=\"a\">\n",
        "<li>Función de activación ‘sigmoid’ y función de costo ‘ECM’ (error cuadrático medio)</li>\n",
        "<li>Función de activación ‘sigmoid’ y función de costo ‘EC_binaria’ (entropía cruzada binaria)</li>\n",
        "<li>Función de activación ‘tanh’ y función de costo ‘ECM’ (error cuadrático medio)</li>\n",
        "<li>Capa ‘Softmax’ y función de costo ‘EC’ (entropía cruzada)</li>\n",
        "</ol>"
      ],
      "metadata": {
        "id": "D16HLQLJHIBd"
      }
    },
    {
      "cell_type": "code",
      "source": [
        "def ejercicio_12(X, Y, fun_activacion, fun_costo):\n",
        "  porcentajes_test = [0.4, 0.2]\n",
        "  alfas = [0.1, 0.2, 0.3]\n",
        "  iteraciones= 400\n",
        "  cota= 1e-03\n",
        "\n",
        "  for a in alfas:\n",
        "    print(f'******** Alfa: {a} *********')\n",
        "    for porcentaje in porcentajes_test:\n",
        "      print(f'- Procentaje: {porcentaje}')\n",
        "      accuracy_test = 0\n",
        "      accuracy_train = 0\n",
        "      for i in range(30):\n",
        "        modelo = RNMulticlase(alpha=a, n_iter=iteraciones, cotaE=cota, FUN=fun_activacion, COSTO=fun_costo)\n",
        "\n",
        "        X_train, X_test, y_train, y_test = train_test_split(X, Y, test_size=porcentaje)\n",
        "\n",
        "        # normalizar por media y desvío\n",
        "        X_train = preprocessing.StandardScaler().fit_transform(X_train)\n",
        "        X_test = preprocessing.StandardScaler().fit_transform(X_test)\n",
        "\n",
        "        if (fun_activacion == 'tanh'):\n",
        "          y_test= y_test.apply(lambda x: 1 if x ==1 else -1)\n",
        "          y_train= y_train.apply(lambda x: 1 if x ==1 else -1)\n",
        "\n",
        "        modelo.fit(X_train, y_train)\n",
        "        # modelo.predict(X_test)\n",
        "\n",
        "        accuracy_test += modelo.accuracy(X_test, y_test)\n",
        "        accuracy_train += modelo.accuracy(X_train, y_train)\n",
        "\n",
        "      print(f'Cantidad promedio de ejemplos correctamente clasificados: \\n Train: {accuracy_train/30} \\n Test: {accuracy_test/30}')\n",
        "      print('-----------------------------------------------------')"
      ],
      "metadata": {
        "id": "TJaKvfEvNQkG"
      },
      "execution_count": null,
      "outputs": []
    },
    {
      "cell_type": "code",
      "source": [
        "Y = vinos[target]\n",
        "encoder = OneHotEncoder(sparse=False)\n",
        "y_onehot = encoder.fit_transform(Y.values.reshape(-1, 1))"
      ],
      "metadata": {
        "colab": {
          "base_uri": "https://localhost:8080/"
        },
        "id": "0vMfUG_PvMvy",
        "outputId": "58158632-e592-4505-8c33-5451f9c55b76"
      },
      "execution_count": null,
      "outputs": [
        {
          "output_type": "stream",
          "name": "stderr",
          "text": [
            "/usr/local/lib/python3.10/dist-packages/sklearn/preprocessing/_encoders.py:975: FutureWarning: `sparse` was renamed to `sparse_output` in version 1.2 and will be removed in 1.4. `sparse_output` is ignored unless you leave `sparse` to its default value.\n",
            "  warnings.warn(\n"
          ]
        }
      ]
    },
    {
      "cell_type": "markdown",
      "source": [
        "###Sigmoid + ECM"
      ],
      "metadata": {
        "id": "IlxbquAGueAQ"
      }
    },
    {
      "cell_type": "code",
      "source": [
        "ejercicio_12(X, y_onehot, 'sigmoid', 'ECM')"
      ],
      "metadata": {
        "colab": {
          "base_uri": "https://localhost:8080/"
        },
        "id": "PJU7YfBCFnK9",
        "outputId": "0b3909f2-0851-4508-c566-bacd7718695b"
      },
      "execution_count": null,
      "outputs": [
        {
          "output_type": "stream",
          "name": "stdout",
          "text": [
            "******** Alfa: 0.1 *********\n",
            "- Procentaje: 0.4\n",
            "Cantidad promedio de ejemplos correctamente clasificados: \n",
            " Train: 0.9779874213836482 \n",
            " Test: 0.9388888888888887\n",
            "-----------------------------------------------------\n",
            "- Procentaje: 0.2\n",
            "Cantidad promedio de ejemplos correctamente clasificados: \n",
            " Train: 0.9774647887323943 \n",
            " Test: 0.9527777777777773\n",
            "-----------------------------------------------------\n",
            "******** Alfa: 0.2 *********\n",
            "- Procentaje: 0.4\n",
            "Cantidad promedio de ejemplos correctamente clasificados: \n",
            " Train: 0.9861635220125788 \n",
            " Test: 0.9351851851851851\n",
            "-----------------------------------------------------\n",
            "- Procentaje: 0.2\n",
            "Cantidad promedio de ejemplos correctamente clasificados: \n",
            " Train: 0.9788732394366199 \n",
            " Test: 0.9296296296296298\n",
            "-----------------------------------------------------\n",
            "******** Alfa: 0.3 *********\n",
            "- Procentaje: 0.4\n",
            "Cantidad promedio de ejemplos correctamente clasificados: \n",
            " Train: 0.9833333333333337 \n",
            " Test: 0.9486111111111107\n",
            "-----------------------------------------------------\n",
            "- Procentaje: 0.2\n",
            "Cantidad promedio de ejemplos correctamente clasificados: \n",
            " Train: 0.9816901408450707 \n",
            " Test: 0.9342592592592589\n",
            "-----------------------------------------------------\n"
          ]
        }
      ]
    },
    {
      "cell_type": "markdown",
      "source": [
        "### Sigmoid + EC_binaria"
      ],
      "metadata": {
        "id": "FKr3AP-iujmP"
      }
    },
    {
      "cell_type": "code",
      "source": [
        "ejercicio_12(X, y_onehot, 'sigmoid', 'EC_binaria')"
      ],
      "metadata": {
        "colab": {
          "base_uri": "https://localhost:8080/"
        },
        "id": "b4uqUhUourJG",
        "outputId": "87ac3039-c41a-402b-cb9a-e6d6967d8160"
      },
      "execution_count": null,
      "outputs": [
        {
          "output_type": "stream",
          "name": "stdout",
          "text": [
            "******** Alfa: 0.1 *********\n",
            "- Procentaje: 0.4\n",
            "Cantidad promedio de ejemplos correctamente clasificados: \n",
            " Train: 0.9858490566037739 \n",
            " Test: 0.9356481481481481\n",
            "-----------------------------------------------------\n",
            "- Procentaje: 0.2\n",
            "Cantidad promedio de ejemplos correctamente clasificados: \n",
            " Train: 0.9821596244131456 \n",
            " Test: 0.9398148148148144\n",
            "-----------------------------------------------------\n",
            "******** Alfa: 0.2 *********\n",
            "- Procentaje: 0.4\n",
            "Cantidad promedio de ejemplos correctamente clasificados: \n",
            " Train: 0.9896226415094342 \n",
            " Test: 0.9351851851851851\n",
            "-----------------------------------------------------\n",
            "- Procentaje: 0.2\n",
            "Cantidad promedio de ejemplos correctamente clasificados: \n",
            " Train: 0.9849765258215961 \n",
            " Test: 0.9175925925925925\n",
            "-----------------------------------------------------\n",
            "******** Alfa: 0.3 *********\n",
            "- Procentaje: 0.4\n",
            "Cantidad promedio de ejemplos correctamente clasificados: \n",
            " Train: 0.9874213836477991 \n",
            " Test: 0.9300925925925924\n",
            "-----------------------------------------------------\n",
            "- Procentaje: 0.2\n",
            "Cantidad promedio de ejemplos correctamente clasificados: \n",
            " Train: 0.9870892018779346 \n",
            " Test: 0.9277777777777776\n",
            "-----------------------------------------------------\n"
          ]
        }
      ]
    },
    {
      "cell_type": "markdown",
      "source": [
        "### Tanh + ECM"
      ],
      "metadata": {
        "id": "or5Wu_2NutE9"
      }
    },
    {
      "cell_type": "markdown",
      "source": [
        "### Softmax + EC"
      ],
      "metadata": {
        "id": "G79tf4rbu0I2"
      }
    },
    {
      "cell_type": "markdown",
      "source": [
        "# Ejercicio cuestionario\n",
        "\n",
        "Se entrenó una neurona no lineal con función de transferencia sigmoide entre -1 y 1 (tanh) para clasificar los 16 ejemplos del archivo Frutas_train.csv. Los ejemplos de entrenamiento fueron normalizados utilizando sklearn.preprocessing.StandardScaler() con sus parámetros por defecto.\n",
        "\n",
        "Al finalizar el entrenamiento, se obtuvo una neurona no lineal con los siguientes pesos:\n",
        "\n",
        "W(diámetro) = 2.65, W(color) = -2.5 y b = 0.03.\n",
        "\n",
        "Cabe aclarar que la neurona obtenida clasifica correctamente los 16 ejemplos de entrenamiento si se considera a las salidas mayor que cero como 1 y a las menores o iguales a cero como -1."
      ],
      "metadata": {
        "id": "SI_gz_6DBxQC"
      }
    },
    {
      "cell_type": "code",
      "source": [
        "frutas_test = pd.read_csv('/content/drive/MyDrive/DeepLearning-colab/Datos-20240901/FrutasTest.csv')\n",
        "frutas_train = pd.read_csv('/content/drive/MyDrive/DeepLearning-colab/Datos-20240901/FrutasTrain.csv')"
      ],
      "metadata": {
        "id": "cFitk_40hNNX"
      },
      "execution_count": 15,
      "outputs": []
    },
    {
      "cell_type": "code",
      "source": [
        "\n",
        "frutas_train"
      ],
      "metadata": {
        "colab": {
          "base_uri": "https://localhost:8080/",
          "height": 551
        },
        "id": "aywY7b0Uh2IX",
        "outputId": "c5a0fbc6-87a0-4205-cda6-adb4306d916a"
      },
      "execution_count": 6,
      "outputs": [
        {
          "output_type": "execute_result",
          "data": {
            "text/plain": [
              "    Diametro  Color    Clase\n",
              "0         10    200  Naranja\n",
              "1         20     30    Melon\n",
              "2          8    150  Naranja\n",
              "3         26     30    Melon\n",
              "4          7    170  Naranja\n",
              "5         24     32    Melon\n",
              "6         20    170  Naranja\n",
              "7         21    160    Melon\n",
              "8         21    180  Naranja\n",
              "9         23    160    Melon\n",
              "10        22    190  Naranja\n",
              "11        23    190    Melon\n",
              "12        24    250  Naranja\n",
              "13        15     31    Melon\n",
              "14        15    250  Naranja\n",
              "15        19     31    Melon"
            ],
            "text/html": [
              "\n",
              "  <div id=\"df-b77e2cc8-5e34-4608-b1d9-0a94133b90d0\" class=\"colab-df-container\">\n",
              "    <div>\n",
              "<style scoped>\n",
              "    .dataframe tbody tr th:only-of-type {\n",
              "        vertical-align: middle;\n",
              "    }\n",
              "\n",
              "    .dataframe tbody tr th {\n",
              "        vertical-align: top;\n",
              "    }\n",
              "\n",
              "    .dataframe thead th {\n",
              "        text-align: right;\n",
              "    }\n",
              "</style>\n",
              "<table border=\"1\" class=\"dataframe\">\n",
              "  <thead>\n",
              "    <tr style=\"text-align: right;\">\n",
              "      <th></th>\n",
              "      <th>Diametro</th>\n",
              "      <th>Color</th>\n",
              "      <th>Clase</th>\n",
              "    </tr>\n",
              "  </thead>\n",
              "  <tbody>\n",
              "    <tr>\n",
              "      <th>0</th>\n",
              "      <td>10</td>\n",
              "      <td>200</td>\n",
              "      <td>Naranja</td>\n",
              "    </tr>\n",
              "    <tr>\n",
              "      <th>1</th>\n",
              "      <td>20</td>\n",
              "      <td>30</td>\n",
              "      <td>Melon</td>\n",
              "    </tr>\n",
              "    <tr>\n",
              "      <th>2</th>\n",
              "      <td>8</td>\n",
              "      <td>150</td>\n",
              "      <td>Naranja</td>\n",
              "    </tr>\n",
              "    <tr>\n",
              "      <th>3</th>\n",
              "      <td>26</td>\n",
              "      <td>30</td>\n",
              "      <td>Melon</td>\n",
              "    </tr>\n",
              "    <tr>\n",
              "      <th>4</th>\n",
              "      <td>7</td>\n",
              "      <td>170</td>\n",
              "      <td>Naranja</td>\n",
              "    </tr>\n",
              "    <tr>\n",
              "      <th>5</th>\n",
              "      <td>24</td>\n",
              "      <td>32</td>\n",
              "      <td>Melon</td>\n",
              "    </tr>\n",
              "    <tr>\n",
              "      <th>6</th>\n",
              "      <td>20</td>\n",
              "      <td>170</td>\n",
              "      <td>Naranja</td>\n",
              "    </tr>\n",
              "    <tr>\n",
              "      <th>7</th>\n",
              "      <td>21</td>\n",
              "      <td>160</td>\n",
              "      <td>Melon</td>\n",
              "    </tr>\n",
              "    <tr>\n",
              "      <th>8</th>\n",
              "      <td>21</td>\n",
              "      <td>180</td>\n",
              "      <td>Naranja</td>\n",
              "    </tr>\n",
              "    <tr>\n",
              "      <th>9</th>\n",
              "      <td>23</td>\n",
              "      <td>160</td>\n",
              "      <td>Melon</td>\n",
              "    </tr>\n",
              "    <tr>\n",
              "      <th>10</th>\n",
              "      <td>22</td>\n",
              "      <td>190</td>\n",
              "      <td>Naranja</td>\n",
              "    </tr>\n",
              "    <tr>\n",
              "      <th>11</th>\n",
              "      <td>23</td>\n",
              "      <td>190</td>\n",
              "      <td>Melon</td>\n",
              "    </tr>\n",
              "    <tr>\n",
              "      <th>12</th>\n",
              "      <td>24</td>\n",
              "      <td>250</td>\n",
              "      <td>Naranja</td>\n",
              "    </tr>\n",
              "    <tr>\n",
              "      <th>13</th>\n",
              "      <td>15</td>\n",
              "      <td>31</td>\n",
              "      <td>Melon</td>\n",
              "    </tr>\n",
              "    <tr>\n",
              "      <th>14</th>\n",
              "      <td>15</td>\n",
              "      <td>250</td>\n",
              "      <td>Naranja</td>\n",
              "    </tr>\n",
              "    <tr>\n",
              "      <th>15</th>\n",
              "      <td>19</td>\n",
              "      <td>31</td>\n",
              "      <td>Melon</td>\n",
              "    </tr>\n",
              "  </tbody>\n",
              "</table>\n",
              "</div>\n",
              "    <div class=\"colab-df-buttons\">\n",
              "\n",
              "  <div class=\"colab-df-container\">\n",
              "    <button class=\"colab-df-convert\" onclick=\"convertToInteractive('df-b77e2cc8-5e34-4608-b1d9-0a94133b90d0')\"\n",
              "            title=\"Convert this dataframe to an interactive table.\"\n",
              "            style=\"display:none;\">\n",
              "\n",
              "  <svg xmlns=\"http://www.w3.org/2000/svg\" height=\"24px\" viewBox=\"0 -960 960 960\">\n",
              "    <path d=\"M120-120v-720h720v720H120Zm60-500h600v-160H180v160Zm220 220h160v-160H400v160Zm0 220h160v-160H400v160ZM180-400h160v-160H180v160Zm440 0h160v-160H620v160ZM180-180h160v-160H180v160Zm440 0h160v-160H620v160Z\"/>\n",
              "  </svg>\n",
              "    </button>\n",
              "\n",
              "  <style>\n",
              "    .colab-df-container {\n",
              "      display:flex;\n",
              "      gap: 12px;\n",
              "    }\n",
              "\n",
              "    .colab-df-convert {\n",
              "      background-color: #E8F0FE;\n",
              "      border: none;\n",
              "      border-radius: 50%;\n",
              "      cursor: pointer;\n",
              "      display: none;\n",
              "      fill: #1967D2;\n",
              "      height: 32px;\n",
              "      padding: 0 0 0 0;\n",
              "      width: 32px;\n",
              "    }\n",
              "\n",
              "    .colab-df-convert:hover {\n",
              "      background-color: #E2EBFA;\n",
              "      box-shadow: 0px 1px 2px rgba(60, 64, 67, 0.3), 0px 1px 3px 1px rgba(60, 64, 67, 0.15);\n",
              "      fill: #174EA6;\n",
              "    }\n",
              "\n",
              "    .colab-df-buttons div {\n",
              "      margin-bottom: 4px;\n",
              "    }\n",
              "\n",
              "    [theme=dark] .colab-df-convert {\n",
              "      background-color: #3B4455;\n",
              "      fill: #D2E3FC;\n",
              "    }\n",
              "\n",
              "    [theme=dark] .colab-df-convert:hover {\n",
              "      background-color: #434B5C;\n",
              "      box-shadow: 0px 1px 3px 1px rgba(0, 0, 0, 0.15);\n",
              "      filter: drop-shadow(0px 1px 2px rgba(0, 0, 0, 0.3));\n",
              "      fill: #FFFFFF;\n",
              "    }\n",
              "  </style>\n",
              "\n",
              "    <script>\n",
              "      const buttonEl =\n",
              "        document.querySelector('#df-b77e2cc8-5e34-4608-b1d9-0a94133b90d0 button.colab-df-convert');\n",
              "      buttonEl.style.display =\n",
              "        google.colab.kernel.accessAllowed ? 'block' : 'none';\n",
              "\n",
              "      async function convertToInteractive(key) {\n",
              "        const element = document.querySelector('#df-b77e2cc8-5e34-4608-b1d9-0a94133b90d0');\n",
              "        const dataTable =\n",
              "          await google.colab.kernel.invokeFunction('convertToInteractive',\n",
              "                                                    [key], {});\n",
              "        if (!dataTable) return;\n",
              "\n",
              "        const docLinkHtml = 'Like what you see? Visit the ' +\n",
              "          '<a target=\"_blank\" href=https://colab.research.google.com/notebooks/data_table.ipynb>data table notebook</a>'\n",
              "          + ' to learn more about interactive tables.';\n",
              "        element.innerHTML = '';\n",
              "        dataTable['output_type'] = 'display_data';\n",
              "        await google.colab.output.renderOutput(dataTable, element);\n",
              "        const docLink = document.createElement('div');\n",
              "        docLink.innerHTML = docLinkHtml;\n",
              "        element.appendChild(docLink);\n",
              "      }\n",
              "    </script>\n",
              "  </div>\n",
              "\n",
              "\n",
              "<div id=\"df-3e562c8f-fd09-42e2-a8fa-8133e4e21cbb\">\n",
              "  <button class=\"colab-df-quickchart\" onclick=\"quickchart('df-3e562c8f-fd09-42e2-a8fa-8133e4e21cbb')\"\n",
              "            title=\"Suggest charts\"\n",
              "            style=\"display:none;\">\n",
              "\n",
              "<svg xmlns=\"http://www.w3.org/2000/svg\" height=\"24px\"viewBox=\"0 0 24 24\"\n",
              "     width=\"24px\">\n",
              "    <g>\n",
              "        <path d=\"M19 3H5c-1.1 0-2 .9-2 2v14c0 1.1.9 2 2 2h14c1.1 0 2-.9 2-2V5c0-1.1-.9-2-2-2zM9 17H7v-7h2v7zm4 0h-2V7h2v10zm4 0h-2v-4h2v4z\"/>\n",
              "    </g>\n",
              "</svg>\n",
              "  </button>\n",
              "\n",
              "<style>\n",
              "  .colab-df-quickchart {\n",
              "      --bg-color: #E8F0FE;\n",
              "      --fill-color: #1967D2;\n",
              "      --hover-bg-color: #E2EBFA;\n",
              "      --hover-fill-color: #174EA6;\n",
              "      --disabled-fill-color: #AAA;\n",
              "      --disabled-bg-color: #DDD;\n",
              "  }\n",
              "\n",
              "  [theme=dark] .colab-df-quickchart {\n",
              "      --bg-color: #3B4455;\n",
              "      --fill-color: #D2E3FC;\n",
              "      --hover-bg-color: #434B5C;\n",
              "      --hover-fill-color: #FFFFFF;\n",
              "      --disabled-bg-color: #3B4455;\n",
              "      --disabled-fill-color: #666;\n",
              "  }\n",
              "\n",
              "  .colab-df-quickchart {\n",
              "    background-color: var(--bg-color);\n",
              "    border: none;\n",
              "    border-radius: 50%;\n",
              "    cursor: pointer;\n",
              "    display: none;\n",
              "    fill: var(--fill-color);\n",
              "    height: 32px;\n",
              "    padding: 0;\n",
              "    width: 32px;\n",
              "  }\n",
              "\n",
              "  .colab-df-quickchart:hover {\n",
              "    background-color: var(--hover-bg-color);\n",
              "    box-shadow: 0 1px 2px rgba(60, 64, 67, 0.3), 0 1px 3px 1px rgba(60, 64, 67, 0.15);\n",
              "    fill: var(--button-hover-fill-color);\n",
              "  }\n",
              "\n",
              "  .colab-df-quickchart-complete:disabled,\n",
              "  .colab-df-quickchart-complete:disabled:hover {\n",
              "    background-color: var(--disabled-bg-color);\n",
              "    fill: var(--disabled-fill-color);\n",
              "    box-shadow: none;\n",
              "  }\n",
              "\n",
              "  .colab-df-spinner {\n",
              "    border: 2px solid var(--fill-color);\n",
              "    border-color: transparent;\n",
              "    border-bottom-color: var(--fill-color);\n",
              "    animation:\n",
              "      spin 1s steps(1) infinite;\n",
              "  }\n",
              "\n",
              "  @keyframes spin {\n",
              "    0% {\n",
              "      border-color: transparent;\n",
              "      border-bottom-color: var(--fill-color);\n",
              "      border-left-color: var(--fill-color);\n",
              "    }\n",
              "    20% {\n",
              "      border-color: transparent;\n",
              "      border-left-color: var(--fill-color);\n",
              "      border-top-color: var(--fill-color);\n",
              "    }\n",
              "    30% {\n",
              "      border-color: transparent;\n",
              "      border-left-color: var(--fill-color);\n",
              "      border-top-color: var(--fill-color);\n",
              "      border-right-color: var(--fill-color);\n",
              "    }\n",
              "    40% {\n",
              "      border-color: transparent;\n",
              "      border-right-color: var(--fill-color);\n",
              "      border-top-color: var(--fill-color);\n",
              "    }\n",
              "    60% {\n",
              "      border-color: transparent;\n",
              "      border-right-color: var(--fill-color);\n",
              "    }\n",
              "    80% {\n",
              "      border-color: transparent;\n",
              "      border-right-color: var(--fill-color);\n",
              "      border-bottom-color: var(--fill-color);\n",
              "    }\n",
              "    90% {\n",
              "      border-color: transparent;\n",
              "      border-bottom-color: var(--fill-color);\n",
              "    }\n",
              "  }\n",
              "</style>\n",
              "\n",
              "  <script>\n",
              "    async function quickchart(key) {\n",
              "      const quickchartButtonEl =\n",
              "        document.querySelector('#' + key + ' button');\n",
              "      quickchartButtonEl.disabled = true;  // To prevent multiple clicks.\n",
              "      quickchartButtonEl.classList.add('colab-df-spinner');\n",
              "      try {\n",
              "        const charts = await google.colab.kernel.invokeFunction(\n",
              "            'suggestCharts', [key], {});\n",
              "      } catch (error) {\n",
              "        console.error('Error during call to suggestCharts:', error);\n",
              "      }\n",
              "      quickchartButtonEl.classList.remove('colab-df-spinner');\n",
              "      quickchartButtonEl.classList.add('colab-df-quickchart-complete');\n",
              "    }\n",
              "    (() => {\n",
              "      let quickchartButtonEl =\n",
              "        document.querySelector('#df-3e562c8f-fd09-42e2-a8fa-8133e4e21cbb button');\n",
              "      quickchartButtonEl.style.display =\n",
              "        google.colab.kernel.accessAllowed ? 'block' : 'none';\n",
              "    })();\n",
              "  </script>\n",
              "</div>\n",
              "\n",
              "  <div id=\"id_3c3fd6f6-d282-4aee-bcec-050547153d11\">\n",
              "    <style>\n",
              "      .colab-df-generate {\n",
              "        background-color: #E8F0FE;\n",
              "        border: none;\n",
              "        border-radius: 50%;\n",
              "        cursor: pointer;\n",
              "        display: none;\n",
              "        fill: #1967D2;\n",
              "        height: 32px;\n",
              "        padding: 0 0 0 0;\n",
              "        width: 32px;\n",
              "      }\n",
              "\n",
              "      .colab-df-generate:hover {\n",
              "        background-color: #E2EBFA;\n",
              "        box-shadow: 0px 1px 2px rgba(60, 64, 67, 0.3), 0px 1px 3px 1px rgba(60, 64, 67, 0.15);\n",
              "        fill: #174EA6;\n",
              "      }\n",
              "\n",
              "      [theme=dark] .colab-df-generate {\n",
              "        background-color: #3B4455;\n",
              "        fill: #D2E3FC;\n",
              "      }\n",
              "\n",
              "      [theme=dark] .colab-df-generate:hover {\n",
              "        background-color: #434B5C;\n",
              "        box-shadow: 0px 1px 3px 1px rgba(0, 0, 0, 0.15);\n",
              "        filter: drop-shadow(0px 1px 2px rgba(0, 0, 0, 0.3));\n",
              "        fill: #FFFFFF;\n",
              "      }\n",
              "    </style>\n",
              "    <button class=\"colab-df-generate\" onclick=\"generateWithVariable('frutas_train')\"\n",
              "            title=\"Generate code using this dataframe.\"\n",
              "            style=\"display:none;\">\n",
              "\n",
              "  <svg xmlns=\"http://www.w3.org/2000/svg\" height=\"24px\"viewBox=\"0 0 24 24\"\n",
              "       width=\"24px\">\n",
              "    <path d=\"M7,19H8.4L18.45,9,17,7.55,7,17.6ZM5,21V16.75L18.45,3.32a2,2,0,0,1,2.83,0l1.4,1.43a1.91,1.91,0,0,1,.58,1.4,1.91,1.91,0,0,1-.58,1.4L9.25,21ZM18.45,9,17,7.55Zm-12,3A5.31,5.31,0,0,0,4.9,8.1,5.31,5.31,0,0,0,1,6.5,5.31,5.31,0,0,0,4.9,4.9,5.31,5.31,0,0,0,6.5,1,5.31,5.31,0,0,0,8.1,4.9,5.31,5.31,0,0,0,12,6.5,5.46,5.46,0,0,0,6.5,12Z\"/>\n",
              "  </svg>\n",
              "    </button>\n",
              "    <script>\n",
              "      (() => {\n",
              "      const buttonEl =\n",
              "        document.querySelector('#id_3c3fd6f6-d282-4aee-bcec-050547153d11 button.colab-df-generate');\n",
              "      buttonEl.style.display =\n",
              "        google.colab.kernel.accessAllowed ? 'block' : 'none';\n",
              "\n",
              "      buttonEl.onclick = () => {\n",
              "        google.colab.notebook.generateWithVariable('frutas_train');\n",
              "      }\n",
              "      })();\n",
              "    </script>\n",
              "  </div>\n",
              "\n",
              "    </div>\n",
              "  </div>\n"
            ],
            "application/vnd.google.colaboratory.intrinsic+json": {
              "type": "dataframe",
              "variable_name": "frutas_train",
              "summary": "{\n  \"name\": \"frutas_train\",\n  \"rows\": 16,\n  \"fields\": [\n    {\n      \"column\": \"Diametro\",\n      \"properties\": {\n        \"dtype\": \"number\",\n        \"std\": 5,\n        \"min\": 7,\n        \"max\": 26,\n        \"num_unique_values\": 11,\n        \"samples\": [\n          24,\n          10,\n          15\n        ],\n        \"semantic_type\": \"\",\n        \"description\": \"\"\n      }\n    },\n    {\n      \"column\": \"Color\",\n      \"properties\": {\n        \"dtype\": \"number\",\n        \"std\": 80,\n        \"min\": 30,\n        \"max\": 250,\n        \"num_unique_values\": 10,\n        \"samples\": [\n          250,\n          30,\n          160\n        ],\n        \"semantic_type\": \"\",\n        \"description\": \"\"\n      }\n    },\n    {\n      \"column\": \"Clase\",\n      \"properties\": {\n        \"dtype\": \"category\",\n        \"num_unique_values\": 2,\n        \"samples\": [\n          \"Melon\",\n          \"Naranja\"\n        ],\n        \"semantic_type\": \"\",\n        \"description\": \"\"\n      }\n    }\n  ]\n}"
            }
          },
          "metadata": {},
          "execution_count": 6
        }
      ]
    },
    {
      "cell_type": "code",
      "source": [
        "mean_color = frutas_train.Color.mean()\n",
        "std_color = frutas_train.Color.std()\n",
        "mean_diametro = frutas_train.Diametro.mean()\n",
        "std_diametro = frutas_train.Diametro.std()"
      ],
      "metadata": {
        "id": "Q0q5IYKToXoU"
      },
      "execution_count": 16,
      "outputs": []
    },
    {
      "cell_type": "code",
      "source": [
        "target = 'Clase'\n",
        "X = frutas_train.drop(target, axis=1)\n",
        "Y = frutas_train[target]"
      ],
      "metadata": {
        "id": "K73bEd7yiyQ8"
      },
      "execution_count": 8,
      "outputs": []
    },
    {
      "cell_type": "code",
      "source": [
        "X = preprocessing.StandardScaler().fit_transform(X)"
      ],
      "metadata": {
        "id": "js8jWwNejQmP"
      },
      "execution_count": 9,
      "outputs": []
    },
    {
      "cell_type": "code",
      "source": [
        "X"
      ],
      "metadata": {
        "colab": {
          "base_uri": "https://localhost:8080/"
        },
        "id": "fk38XJDbjdT5",
        "outputId": "25693c01-b361-4819-de87-66e3c3092008"
      },
      "execution_count": 10,
      "outputs": [
        {
          "output_type": "execute_result",
          "data": {
            "text/plain": [
              "array([[-1.50462909,  0.78461053],\n",
              "       [ 0.23986841, -1.40200899],\n",
              "       [-1.85352859,  0.14148715],\n",
              "       [ 1.2865669 , -1.40200899],\n",
              "       [-2.02797834,  0.3987365 ],\n",
              "       [ 0.9376674 , -1.37628405],\n",
              "       [ 0.23986841,  0.3987365 ],\n",
              "       [ 0.41431816,  0.27011182],\n",
              "       [ 0.41431816,  0.52736118],\n",
              "       [ 0.76321765,  0.27011182],\n",
              "       [ 0.58876791,  0.65598586],\n",
              "       [ 0.76321765,  0.65598586],\n",
              "       [ 0.9376674 ,  1.42773392],\n",
              "       [-0.63238034, -1.38914652],\n",
              "       [-0.63238034,  1.42773392],\n",
              "       [ 0.06541866, -1.38914652]])"
            ]
          },
          "metadata": {},
          "execution_count": 10
        }
      ]
    },
    {
      "cell_type": "code",
      "source": [
        "W_diametro = 2.65\n",
        "W_color = -2.5\n",
        "b = 0.03\n",
        "\n",
        "# Calcular el output para cada entrada\n",
        "\n",
        "outputs = []\n",
        "for x1, x2 in X:\n",
        "    z = (W_diametro * x1) + (W_color * x2) + b\n",
        "    output = np.tanh(z)\n",
        "    outputs.append(output)\n",
        "\n",
        "outputs"
      ],
      "metadata": {
        "colab": {
          "base_uri": "https://localhost:8080/"
        },
        "id": "9h6Kv5fOnSke",
        "outputId": "a0798b4d-04b7-4c4d-9ea4-56f046938a99"
      },
      "execution_count": 11,
      "outputs": [
        {
          "output_type": "execute_result",
          "data": {
            "text/plain": [
              "[-0.999985544663465,\n",
              " 0.999523212056899,\n",
              " -0.9999433159912223,\n",
              " 0.9999981414301742,\n",
              " -0.9999937867325078,\n",
              " 0.9999865686232382,\n",
              " -0.31958961861843693,\n",
              " 0.4240859871201031,\n",
              " -0.18818979369947963,\n",
              " 0.8803333569062916,\n",
              " -0.049688738333984364,\n",
              " 0.39064600080878153,\n",
              " -0.7835559653419968,\n",
              " 0.9495374913555276,\n",
              " -0.9999409524658176,\n",
              " 0.9987187833038063]"
            ]
          },
          "metadata": {},
          "execution_count": 11
        }
      ]
    },
    {
      "cell_type": "markdown",
      "source": [
        "Indique cuántos ejemplos de entrenamiento resultarían clasificados como “indefinido” si se considera a las salidas mayores o iguales que 0.8 como 1, a las menores o iguales que -0.8 como -1 y a las comprendidas en (-0.8, 0.8) como indefinidas."
      ],
      "metadata": {
        "id": "S9fSCwmI_n0a"
      }
    },
    {
      "cell_type": "code",
      "source": [
        "indefinidos = [x for x in outputs if x <= 0.8 and x >= -0.8]\n",
        "\n",
        "len(indefinidos)"
      ],
      "metadata": {
        "colab": {
          "base_uri": "https://localhost:8080/"
        },
        "id": "8Iso_ux3_RtZ",
        "outputId": "8abce8e3-be08-4be4-ce95-b06db609f708"
      },
      "execution_count": 14,
      "outputs": [
        {
          "output_type": "execute_result",
          "data": {
            "text/plain": [
              "6"
            ]
          },
          "metadata": {},
          "execution_count": 14
        }
      ]
    },
    {
      "cell_type": "markdown",
      "source": [
        "Considerando a las salidas mayores o iguales que 0.8 como 1, a las menores o iguales que -0.8 como -1 y a las comprendidas en (-0.8, 0.8) como indefinidas, ¿cuál sería la respuesta de la neurona no lineal si se la usa para clasificar una fruta con 14 cm de diámetro y una intensidad de color de 140?"
      ],
      "metadata": {
        "id": "mmnxNRX0CEaV"
      }
    },
    {
      "cell_type": "code",
      "source": [
        "# W(diámetro) = 2.65, W(color) = -2.5 y b = 0.03.\n",
        "\n",
        "def salida(x_diam, x_color):\n",
        "  neta = np.tanh(x_diam * 2.65 + x_color * -2.5 + 0.03)\n",
        "  if neta >= 0.8:\n",
        "    return 1\n",
        "  elif neta <= -0.8:\n",
        "    return -1\n",
        "  else:\n",
        "    return 'indefinido'"
      ],
      "metadata": {
        "id": "_Mj4Yer3CKvg"
      },
      "execution_count": 17,
      "outputs": []
    },
    {
      "cell_type": "markdown",
      "source": [],
      "metadata": {
        "id": "E2o4uIY1_kmG"
      }
    },
    {
      "cell_type": "code",
      "source": [
        "# Los datos ingresados corresponden a una naranja\n",
        "\n",
        "salida(-1.50462909, 0.78461053)"
      ],
      "metadata": {
        "colab": {
          "base_uri": "https://localhost:8080/"
        },
        "id": "mSvvSn5KEEvn",
        "outputId": "b72209e7-bac5-4c44-a2a1-57daba812f98"
      },
      "execution_count": 19,
      "outputs": [
        {
          "output_type": "execute_result",
          "data": {
            "text/plain": [
              "-1"
            ]
          },
          "metadata": {},
          "execution_count": 19
        }
      ]
    },
    {
      "cell_type": "code",
      "source": [
        "# 14 cm de diámetro y una intensidad de color de 140\n",
        "x_color = (140 - mean_color) / std_color\n",
        "x_diam = (14 - mean_diametro) / std_diametro\n",
        "\n",
        "salida(x_diam, x_color)"
      ],
      "metadata": {
        "colab": {
          "base_uri": "https://localhost:8080/"
        },
        "id": "Ze4G0A7VpvqD",
        "outputId": "2f6b11b3-dab7-45e6-90dd-44e81c302144"
      },
      "execution_count": 20,
      "outputs": [
        {
          "output_type": "execute_result",
          "data": {
            "text/plain": [
              "-1"
            ]
          },
          "metadata": {},
          "execution_count": 20
        }
      ]
    },
    {
      "cell_type": "markdown",
      "source": [
        "Considerando a las salidas mayores o iguales que 0.8 como 1, a las menores o iguales que -0.8 como -1 y a las comprendidas en (-0.8, 0.8) como indefinidas, ¿cuál sería la respuesta de la neurona no lineal si se la usa para clasificar una fruta con 16 cm de diámetro y una intensidad de color de 79?"
      ],
      "metadata": {
        "id": "oJAADviSETD9"
      }
    },
    {
      "cell_type": "code",
      "source": [
        "x_color = (79 - mean_color) / std_color\n",
        "x_diam = (16 - mean_diametro) / std_diametro\n",
        "\n",
        "salida(x_diam, x_color)"
      ],
      "metadata": {
        "id": "TTiGB09DrUEU",
        "colab": {
          "base_uri": "https://localhost:8080/",
          "height": 35
        },
        "outputId": "702dabc7-7aef-4527-bdef-f8391cc50e8a"
      },
      "execution_count": 21,
      "outputs": [
        {
          "output_type": "execute_result",
          "data": {
            "text/plain": [
              "'indefinido'"
            ],
            "application/vnd.google.colaboratory.intrinsic+json": {
              "type": "string"
            }
          },
          "metadata": {},
          "execution_count": 21
        }
      ]
    }
  ]
}